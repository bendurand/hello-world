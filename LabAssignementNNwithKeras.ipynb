{
  "cells": [
    {
      "cell_type": "markdown",
      "metadata": {
        "colab_type": "text",
        "id": "view-in-github"
      },
      "source": [
        "<a href=\"https://colab.research.google.com/github/bendurand/hello-world/blob/main/LabAssignementNNwithKeras.ipynb\" target=\"_parent\"><img src=\"https://colab.research.google.com/assets/colab-badge.svg\" alt=\"Open In Colab\"/></a>"
      ]
    },
    {
      "cell_type": "markdown",
      "id": "4731bb59-074b-450c-9ee0-f851f550fc01",
      "metadata": {
        "id": "4731bb59-074b-450c-9ee0-f851f550fc01"
      },
      "source": [
        "# Lab: NN with Keras\n",
        "\n",
        "This Notebook is adapted from A. Géron's \"Hands-on ML\" book and from Tensorflow official tutorials."
      ]
    },
    {
      "cell_type": "markdown",
      "id": "633fc7d2-7a34-4214-9801-fe71f2ed131e",
      "metadata": {
        "id": "633fc7d2-7a34-4214-9801-fe71f2ed131e"
      },
      "source": [
        "# Classifying images with a neural network"
      ]
    },
    {
      "cell_type": "code",
      "execution_count": 1,
      "id": "cd6d1578-487c-4d9d-83d8-9a5a25c128a8",
      "metadata": {
        "id": "cd6d1578-487c-4d9d-83d8-9a5a25c128a8"
      },
      "outputs": [],
      "source": [
        "# import the necessary libraries\n",
        "import numpy as np\n",
        "import pandas as pd\n",
        "\n",
        "%matplotlib inline\n",
        "import matplotlib as mpl\n",
        "import matplotlib.cm as cm\n",
        "import matplotlib.pyplot as plt\n",
        "\n",
        "import seaborn as sns\n",
        "import os"
      ]
    },
    {
      "cell_type": "markdown",
      "id": "96c76678-80c3-41fc-8562-96132089c354",
      "metadata": {
        "id": "96c76678-80c3-41fc-8562-96132089c354"
      },
      "source": [
        "## Importing tensorflow and keras"
      ]
    },
    {
      "cell_type": "markdown",
      "id": "21646372-5e74-461b-b909-3b03102f2325",
      "metadata": {
        "id": "21646372-5e74-461b-b909-3b03102f2325",
        "tags": []
      },
      "source": [
        "First let's import TensorFlow and Keras."
      ]
    },
    {
      "cell_type": "code",
      "execution_count": 2,
      "id": "d8ef415b-4077-484b-ab38-6162a0098020",
      "metadata": {
        "id": "d8ef415b-4077-484b-ab38-6162a0098020"
      },
      "outputs": [
        {
          "name": "stderr",
          "output_type": "stream",
          "text": [
            "2022-10-18 20:31:02.207000: I tensorflow/core/platform/cpu_feature_guard.cc:193] This TensorFlow binary is optimized with oneAPI Deep Neural Network Library (oneDNN) to use the following CPU instructions in performance-critical operations:  AVX2 AVX512F AVX512_VNNI FMA\n",
            "To enable them in other operations, rebuild TensorFlow with the appropriate compiler flags.\n",
            "2022-10-18 20:31:02.559648: I tensorflow/core/util/util.cc:169] oneDNN custom operations are on. You may see slightly different numerical results due to floating-point round-off errors from different computation orders. To turn them off, set the environment variable `TF_ENABLE_ONEDNN_OPTS=0`.\n",
            "2022-10-18 20:31:02.654307: W tensorflow/stream_executor/platform/default/dso_loader.cc:64] Could not load dynamic library 'libcudart.so.11.0'; dlerror: libcudart.so.11.0: cannot open shared object file: No such file or directory\n",
            "2022-10-18 20:31:02.654339: I tensorflow/stream_executor/cuda/cudart_stub.cc:29] Ignore above cudart dlerror if you do not have a GPU set up on your machine.\n",
            "2022-10-18 20:31:02.716518: E tensorflow/stream_executor/cuda/cuda_blas.cc:2981] Unable to register cuBLAS factory: Attempting to register factory for plugin cuBLAS when one has already been registered\n",
            "2022-10-18 20:31:03.551819: W tensorflow/stream_executor/platform/default/dso_loader.cc:64] Could not load dynamic library 'libnvinfer.so.7'; dlerror: libnvinfer.so.7: cannot open shared object file: No such file or directory\n",
            "2022-10-18 20:31:03.551975: W tensorflow/stream_executor/platform/default/dso_loader.cc:64] Could not load dynamic library 'libnvinfer_plugin.so.7'; dlerror: libnvinfer_plugin.so.7: cannot open shared object file: No such file or directory\n",
            "2022-10-18 20:31:03.551983: W tensorflow/compiler/tf2tensorrt/utils/py_utils.cc:38] TF-TRT Warning: Cannot dlopen some TensorRT libraries. If you would like to use Nvidia GPU with TensorRT, please make sure the missing libraries mentioned above are installed properly.\n"
          ]
        }
      ],
      "source": [
        "import tensorflow as tf\n",
        "from tensorflow import keras"
      ]
    },
    {
      "cell_type": "code",
      "execution_count": 3,
      "id": "143c9bd5-06aa-4c5c-b0ba-8a0cad7fc7e2",
      "metadata": {
        "id": "143c9bd5-06aa-4c5c-b0ba-8a0cad7fc7e2"
      },
      "outputs": [
        {
          "data": {
            "text/plain": [
              "'2.10.0'"
            ]
          },
          "execution_count": 3,
          "metadata": {},
          "output_type": "execute_result"
        }
      ],
      "source": [
        "tf.__version__"
      ]
    },
    {
      "cell_type": "code",
      "execution_count": 4,
      "id": "c2ce41a0-d841-41e3-a953-24579e10e80d",
      "metadata": {
        "id": "c2ce41a0-d841-41e3-a953-24579e10e80d"
      },
      "outputs": [
        {
          "data": {
            "text/plain": [
              "'2.10.0'"
            ]
          },
          "execution_count": 4,
          "metadata": {},
          "output_type": "execute_result"
        }
      ],
      "source": [
        "keras.__version__"
      ]
    },
    {
      "cell_type": "markdown",
      "id": "0cee40a2-c753-4508-bf6c-d990394416d5",
      "metadata": {
        "id": "0cee40a2-c753-4508-bf6c-d990394416d5"
      },
      "source": [
        "## Tensors and Variables in Tensorflow"
      ]
    },
    {
      "cell_type": "markdown",
      "id": "d8e163b0-f0a0-47c1-ba5d-8edab6c4bedf",
      "metadata": {
        "id": "d8e163b0-f0a0-47c1-ba5d-8edab6c4bedf"
      },
      "source": [
        "Tensors are the analogous of Numpy's `ndarrays` and represent multi-dimensional arrays of arbitrary shape."
      ]
    },
    {
      "cell_type": "code",
      "execution_count": 5,
      "id": "260ec06a-3a8c-46fb-9842-87a8a71a0827",
      "metadata": {
        "id": "260ec06a-3a8c-46fb-9842-87a8a71a0827"
      },
      "outputs": [
        {
          "name": "stderr",
          "output_type": "stream",
          "text": [
            "2022-10-18 20:31:08.698094: E tensorflow/stream_executor/cuda/cuda_driver.cc:265] failed call to cuInit: CUDA_ERROR_NO_DEVICE: no CUDA-capable device is detected\n",
            "2022-10-18 20:31:08.698151: I tensorflow/stream_executor/cuda/cuda_diagnostics.cc:156] kernel driver does not appear to be running on this host (bdurand-Swift-SF314-57G): /proc/driver/nvidia/version does not exist\n"
          ]
        },
        {
          "data": {
            "text/plain": [
              "<tf.Tensor: shape=(3,), dtype=int32, numpy=array([1, 2, 3], dtype=int32)>"
            ]
          },
          "execution_count": 5,
          "metadata": {},
          "output_type": "execute_result"
        },
        {
          "name": "stderr",
          "output_type": "stream",
          "text": [
            "2022-10-18 20:31:08.700837: I tensorflow/core/platform/cpu_feature_guard.cc:193] This TensorFlow binary is optimized with oneAPI Deep Neural Network Library (oneDNN) to use the following CPU instructions in performance-critical operations:  AVX2 AVX512F AVX512_VNNI FMA\n",
            "To enable them in other operations, rebuild TensorFlow with the appropriate compiler flags.\n"
          ]
        }
      ],
      "source": [
        "t = tf.constant([1,2,3])\n",
        "t"
      ]
    },
    {
      "cell_type": "markdown",
      "id": "4ce0cd83-a519-4e9c-bc34-cbe3f1f448e3",
      "metadata": {
        "id": "4ce0cd83-a519-4e9c-bc34-cbe3f1f448e3"
      },
      "source": [
        "They can be exported to numpy using the dedicated method:"
      ]
    },
    {
      "cell_type": "code",
      "execution_count": 6,
      "id": "a05475d5-c407-430f-a8af-70372b65fbdd",
      "metadata": {
        "id": "a05475d5-c407-430f-a8af-70372b65fbdd"
      },
      "outputs": [
        {
          "data": {
            "text/plain": [
              "array([1, 2, 3], dtype=int32)"
            ]
          },
          "execution_count": 6,
          "metadata": {},
          "output_type": "execute_result"
        }
      ],
      "source": [
        "t.numpy()"
      ]
    },
    {
      "cell_type": "markdown",
      "id": "47c7dd84-e01a-497e-a512-4074ebd56138",
      "metadata": {
        "id": "47c7dd84-e01a-497e-a512-4074ebd56138"
      },
      "source": [
        "Tensorflow variables are a special type of tensor. They are used to represent values that are changed by your program (like the parameters of a network)."
      ]
    },
    {
      "cell_type": "code",
      "execution_count": 7,
      "id": "d16dcf7c-3f38-46ae-a042-b79061128808",
      "metadata": {
        "id": "d16dcf7c-3f38-46ae-a042-b79061128808",
        "tags": []
      },
      "outputs": [],
      "source": [
        "my_tensor = tf.constant([[1.0, 2.0], [3.0, 4.0]])\n",
        "my_variable = tf.Variable(my_tensor)"
      ]
    },
    {
      "cell_type": "markdown",
      "id": "waYNRzPPcKS-",
      "metadata": {
        "id": "waYNRzPPcKS-"
      },
      "source": [
        "Normally you won't need to explicitly create tensors and variables, but they are the underlying data structures used within keras layers."
      ]
    },
    {
      "cell_type": "markdown",
      "id": "9d961644-2521-459e-8d98-f31f710acc5f",
      "metadata": {
        "id": "9d961644-2521-459e-8d98-f31f710acc5f"
      },
      "source": [
        "## The data: Fashion MNIST"
      ]
    },
    {
      "cell_type": "markdown",
      "id": "6d54f5e7-491d-47fa-997d-496cb9a768e1",
      "metadata": {
        "id": "6d54f5e7-491d-47fa-997d-496cb9a768e1"
      },
      "source": [
        "We will use [Fashion MNIST](https://github.com/zalandoresearch/fashion-mnist) dataset which contains 70,000 grayscale images in 10 categories. The images show individual articles of clothing at low resolution (28 by 28 pixels), as seen here:\n",
        "\n",
        "<table>\n",
        "  <tr><td>\n",
        "    <img src=\"https://tensorflow.org/images/fashion-mnist-sprite.png\"\n",
        "         alt=\"Fashion MNIST sprite\"  width=\"600\">\n",
        "  </td></tr>\n",
        "  <tr><td align=\"center\">\n",
        "    <b>Figure 1.</b> <a href=\"https://github.com/zalandoresearch/fashion-mnist\">Fashion-MNIST samples</a> (by Zalando, MIT License).<br/>&nbsp;\n",
        "  </td></tr>\n",
        "</table>\n",
        "\n",
        "Fashion MNIST is intended as a drop-in replacement for the classic [MNIST](http://yann.lecun.com/exdb/mnist/) dataset—often used as the \"Hello, World\" of machine learning programs for computer vision. The MNIST dataset contains images of handwritten digits (0, 1, 2, etc.) in a format identical to that of the articles of clothing you'll use here.\n",
        "\n",
        "This guide uses Fashion MNIST for variety, and because it's a slightly more challenging problem than regular MNIST. Both datasets are relatively small and are used to verify that an algorithm works as expected. They're good starting points to test and debug code.\n",
        "\n",
        "Here, 60,000 images are used to train the network and 10,000 images to evaluate how accurately the network learned to classify images. You can access the Fashion MNIST directly from TensorFlow. "
      ]
    },
    {
      "cell_type": "markdown",
      "id": "d41488ec-9ab7-4062-8efc-ce35608dd689",
      "metadata": {
        "id": "d41488ec-9ab7-4062-8efc-ce35608dd689"
      },
      "source": [
        "### Import and load the dataset"
      ]
    },
    {
      "cell_type": "markdown",
      "id": "36d74ddf-0066-490c-bc20-068dd5810812",
      "metadata": {
        "id": "36d74ddf-0066-490c-bc20-068dd5810812"
      },
      "source": [
        "Keras has a number of functions to load popular datasets in `keras.datasets`. \n",
        "We can use this module to import and [load the Fashion MNIST data](https://www.tensorflow.org/api_docs/python/tf/keras/datasets/fashion_mnist/load_data).\n"
      ]
    },
    {
      "cell_type": "code",
      "execution_count": 8,
      "id": "73b3126f-0a6b-433e-8cb3-5c9b320e9b70",
      "metadata": {
        "id": "73b3126f-0a6b-433e-8cb3-5c9b320e9b70"
      },
      "outputs": [],
      "source": [
        "fashion_mnist = keras.datasets.fashion_mnist  # type: ignore\n",
        "(X_train_full, y_train_full), (X_test, y_test) = fashion_mnist.load_data()"
      ]
    },
    {
      "cell_type": "markdown",
      "id": "af5b724c-3ed9-4431-acd4-669713cbfb60",
      "metadata": {
        "id": "af5b724c-3ed9-4431-acd4-669713cbfb60"
      },
      "source": [
        "Loading the dataset returns four NumPy arrays:\n",
        "\n",
        "* The first pair `X_train_full` and `y_train_full` arrays are the *training set*\n",
        "* The second pair  the `X_test` and `y_test` are the *test set*"
      ]
    },
    {
      "cell_type": "markdown",
      "id": "47c050d3-c86e-4947-922e-ba9f242d5637",
      "metadata": {
        "id": "47c050d3-c86e-4947-922e-ba9f242d5637"
      },
      "source": [
        "### TODO: check the quantity of images in each set and their shape"
      ]
    },
    {
      "cell_type": "markdown",
      "id": "f115bdd0-b77a-4a50-9604-5e69f3d213c1",
      "metadata": {
        "id": "f115bdd0-b77a-4a50-9604-5e69f3d213c1"
      },
      "source": [
        "The training set contains 60,000 grayscale images, each 28x28 pixels:"
      ]
    },
    {
      "cell_type": "code",
      "execution_count": 9,
      "id": "085b51b3-17db-4c91-91c3-f23e388702e5",
      "metadata": {
        "id": "085b51b3-17db-4c91-91c3-f23e388702e5",
        "tags": []
      },
      "outputs": [
        {
          "data": {
            "text/plain": [
              "(60000, 28, 28)"
            ]
          },
          "execution_count": 9,
          "metadata": {},
          "output_type": "execute_result"
        }
      ],
      "source": [
        "# TODO your code here\n",
        "X_train_full.shape"
      ]
    },
    {
      "cell_type": "code",
      "execution_count": 10,
      "id": "4b7194b2-2193-4a5e-a47d-cb3dc0da1ad5",
      "metadata": {
        "id": "4b7194b2-2193-4a5e-a47d-cb3dc0da1ad5",
        "tags": []
      },
      "outputs": [
        {
          "data": {
            "text/plain": [
              "(60000,)"
            ]
          },
          "execution_count": 10,
          "metadata": {},
          "output_type": "execute_result"
        }
      ],
      "source": [
        "y_train_full.shape"
      ]
    },
    {
      "cell_type": "markdown",
      "id": "9a784f04-fd07-4f43-ad03-c071d83a43bd",
      "metadata": {
        "id": "9a784f04-fd07-4f43-ad03-c071d83a43bd",
        "tags": []
      },
      "source": [
        "### Preprocess the data"
      ]
    },
    {
      "cell_type": "markdown",
      "id": "b840559c-b006-4f10-a319-df2e8c3c8b27",
      "metadata": {
        "id": "b840559c-b006-4f10-a319-df2e8c3c8b27"
      },
      "source": [
        "Images are in grayscale. Each pixel intensity is represented as a byte (0 to 255):"
      ]
    },
    {
      "cell_type": "code",
      "execution_count": 11,
      "id": "87377ac1-a84e-4512-9a48-6d4661c706eb",
      "metadata": {
        "id": "87377ac1-a84e-4512-9a48-6d4661c706eb",
        "tags": []
      },
      "outputs": [
        {
          "data": {
            "text/plain": [
              "dtype('uint8')"
            ]
          },
          "execution_count": 11,
          "metadata": {},
          "output_type": "execute_result"
        }
      ],
      "source": [
        "X_train_full.dtype"
      ]
    },
    {
      "cell_type": "markdown",
      "id": "2ce96a63-7824-4f43-93e4-29fc43403ccd",
      "metadata": {
        "id": "2ce96a63-7824-4f43-93e4-29fc43403ccd"
      },
      "source": [
        "You can visualize it by plotting one of the training images:"
      ]
    },
    {
      "cell_type": "code",
      "execution_count": 12,
      "id": "0fbeb31a-9cfc-4e23-9ff7-5880a2504a47",
      "metadata": {
        "id": "0fbeb31a-9cfc-4e23-9ff7-5880a2504a47"
      },
      "outputs": [
        {
          "data": {
            "image/png": "[encoded data removed]",
            "text/plain": [
              "<Figure size 432x288 with 2 Axes>"
            ]
          },
          "metadata": {
            "needs_background": "light"
          },
          "output_type": "display_data"
        }
      ],
      "source": [
        "plt.figure()\n",
        "plt.imshow(X_train_full[0])\n",
        "plt.colorbar()\n",
        "plt.grid(False)\n",
        "plt.show()"
      ]
    },
    {
      "cell_type": "markdown",
      "id": "a9daf8bf-3ec5-4c8f-a51b-4b6af35f3dd2",
      "metadata": {
        "id": "a9daf8bf-3ec5-4c8f-a51b-4b6af35f3dd2"
      },
      "source": [
        "#### TODO: rescaling pixel values"
      ]
    },
    {
      "cell_type": "markdown",
      "id": "261b18b2-0e22-4ba2-8ac8-0badcf19326c",
      "metadata": {
        "id": "261b18b2-0e22-4ba2-8ac8-0badcf19326c"
      },
      "source": [
        "As seen in class, gradient terms for weights in the first layer include a product with the network inputs. This means the scaling of the inputs can influence the optimization convergence:\n",
        "- large inputs will incurr in large gradients which incurr in large steps during optimization. Too large steps can bring instability.\n",
        "- Features with un-even variation range lead to a poorly conditioned loss function (analogous to a very elongated quadratic form).\n",
        "\n",
        "Therefore it is good practice to rescale neural network features. It is common to use MinMax scaling, so that features range between 0 and 1. Standardization is also a valid possibility (if you can assume your features have a Gaussian distribution)\n",
        "\n",
        "In the case of image pixels, MinMax scaling can be done with a simple division, which you are going to do just bellow.\n",
        "\n",
        "**Important**: *training set* and the *testing set* should be preprocessed in the same way."
      ]
    },
    {
      "cell_type": "code",
      "execution_count": 13,
      "id": "edb9a4a3-a37a-48eb-b93e-28d0a0a206e0",
      "metadata": {
        "id": "edb9a4a3-a37a-48eb-b93e-28d0a0a206e0",
        "tags": []
      },
      "outputs": [],
      "source": [
        "# TODO your code here\n",
        "X_train_full = X_train_full/255"
      ]
    },
    {
      "cell_type": "code",
      "execution_count": 14,
      "id": "0ad1846e",
      "metadata": {},
      "outputs": [
        {
          "data": {
            "image/png": "[encoded data removed]",
            "text/plain": [
              "<Figure size 432x288 with 2 Axes>"
            ]
          },
          "metadata": {
            "needs_background": "light"
          },
          "output_type": "display_data"
        }
      ],
      "source": [
        "plt.figure()\n",
        "plt.imshow(X_train_full[0])\n",
        "plt.colorbar()\n",
        "plt.grid(False)\n",
        "plt.show()"
      ]
    },
    {
      "cell_type": "code",
      "execution_count": 15,
      "id": "1c5eeeed",
      "metadata": {},
      "outputs": [],
      "source": [
        "X_test = X_test/255"
      ]
    },
    {
      "cell_type": "markdown",
      "id": "a43ab19c-4be6-4854-a647-30ffbee1a7de",
      "metadata": {
        "id": "a43ab19c-4be6-4854-a647-30ffbee1a7de"
      },
      "source": [
        "### TODO: Creating a validation set\n",
        "The dataset is already split for you between a training set and a test set, but it can be useful to split the training set further to have a validation set.\n",
        "For this we'll split the full training set into a validation set and a (smaller) training set.\n",
        "Separate 5000 images for the validation set."
      ]
    },
    {
      "cell_type": "code",
      "execution_count": 16,
      "id": "f174593c-fcf6-46a5-ac02-fa3176d0f6b3",
      "metadata": {
        "id": "f174593c-fcf6-46a5-ac02-fa3176d0f6b3"
      },
      "outputs": [],
      "source": [
        "# TODO your code here\n",
        "X_train, X_valid = X_train_full[:55000], X_train_full[55000:]\n",
        "y_train, y_valid = y_train_full[:55000], y_train_full[55000:]\n"
      ]
    },
    {
      "cell_type": "code",
      "execution_count": 17,
      "id": "b7fc516f",
      "metadata": {},
      "outputs": [
        {
          "data": {
            "text/plain": [
              "(55000, 28, 28)"
            ]
          },
          "execution_count": 17,
          "metadata": {},
          "output_type": "execute_result"
        }
      ],
      "source": [
        "X_train.shape"
      ]
    },
    {
      "cell_type": "code",
      "execution_count": 18,
      "id": "5e391b2d",
      "metadata": {},
      "outputs": [
        {
          "data": {
            "text/plain": [
              "(5000, 28, 28)"
            ]
          },
          "execution_count": 18,
          "metadata": {},
          "output_type": "execute_result"
        }
      ],
      "source": [
        "X_valid.shape"
      ]
    },
    {
      "cell_type": "markdown",
      "id": "8805389b-6f0d-4962-bca8-1c00a8d94159",
      "metadata": {
        "id": "8805389b-6f0d-4962-bca8-1c00a8d94159"
      },
      "source": [
        "### Visualizing images and labels"
      ]
    },
    {
      "cell_type": "markdown",
      "id": "c752a740-b9b0-42ea-9547-647b09aef994",
      "metadata": {
        "id": "c752a740-b9b0-42ea-9547-647b09aef994"
      },
      "source": [
        "You can plot an image using Matplotlib's `imshow()` function, with a `'binary'`\n",
        " color map:"
      ]
    },
    {
      "cell_type": "code",
      "execution_count": 19,
      "id": "4fc8d75c-58ff-428d-9e61-458aa97a3d94",
      "metadata": {
        "id": "4fc8d75c-58ff-428d-9e61-458aa97a3d94"
      },
      "outputs": [
        {
          "data": {
            "image/png": "[encoded data removed]",
            "text/plain": [
              "<Figure size 432x288 with 1 Axes>"
            ]
          },
          "metadata": {
            "needs_background": "light"
          },
          "output_type": "display_data"
        }
      ],
      "source": [
        "plt.imshow(X_train[0], cmap=\"binary\")\n",
        "plt.axis('off')\n",
        "plt.show()"
      ]
    },
    {
      "cell_type": "markdown",
      "id": "3a4bb31b-30e3-4340-9db0-9090ee3545ca",
      "metadata": {
        "id": "3a4bb31b-30e3-4340-9db0-9090ee3545ca",
        "tags": []
      },
      "source": [
        "The labels are the class IDs, stored in an array of integers (represented as uint8), ranging from 0 to 9:"
      ]
    },
    {
      "cell_type": "code",
      "execution_count": 20,
      "id": "bfb805dc-7ab8-4f4d-9061-5a0fb29b43ea",
      "metadata": {
        "id": "bfb805dc-7ab8-4f4d-9061-5a0fb29b43ea"
      },
      "outputs": [
        {
          "data": {
            "text/plain": [
              "array([9, 0, 0, ..., 9, 0, 2], dtype=uint8)"
            ]
          },
          "execution_count": 20,
          "metadata": {},
          "output_type": "execute_result"
        }
      ],
      "source": [
        "y_train"
      ]
    },
    {
      "cell_type": "markdown",
      "id": "7287a910-bcd7-4144-8cb6-bc520c27b5ff",
      "metadata": {
        "id": "7287a910-bcd7-4144-8cb6-bc520c27b5ff"
      },
      "source": [
        "These correspond to the *class* of clothing the image represents:\n",
        "\n",
        "<table>\n",
        "  <tr>\n",
        "    <th>Label</th>\n",
        "    <th>Class</th>\n",
        "  </tr>\n",
        "  <tr>\n",
        "    <td>0</td>\n",
        "    <td>T-shirt/top</td>\n",
        "  </tr>\n",
        "  <tr>\n",
        "    <td>1</td>\n",
        "    <td>Trouser</td>\n",
        "  </tr>\n",
        "    <tr>\n",
        "    <td>2</td>\n",
        "    <td>Pullover</td>\n",
        "  </tr>\n",
        "    <tr>\n",
        "    <td>3</td>\n",
        "    <td>Dress</td>\n",
        "  </tr>\n",
        "    <tr>\n",
        "    <td>4</td>\n",
        "    <td>Coat</td>\n",
        "  </tr>\n",
        "    <tr>\n",
        "    <td>5</td>\n",
        "    <td>Sandal</td>\n",
        "  </tr>\n",
        "    <tr>\n",
        "    <td>6</td>\n",
        "    <td>Shirt</td>\n",
        "  </tr>\n",
        "    <tr>\n",
        "    <td>7</td>\n",
        "    <td>Sneaker</td>\n",
        "  </tr>\n",
        "    <tr>\n",
        "    <td>8</td>\n",
        "    <td>Bag</td>\n",
        "  </tr>\n",
        "    <tr>\n",
        "    <td>9</td>\n",
        "    <td>Ankle boot</td>\n",
        "  </tr>\n",
        "</table>\n",
        "\n",
        "Each image is mapped to a single label. Since the *class names* are not included with the dataset, store them here to use later when plotting the images:"
      ]
    },
    {
      "cell_type": "code",
      "execution_count": 21,
      "id": "2a95a5c3-14d9-403b-aefd-cb8293e68a48",
      "metadata": {
        "id": "2a95a5c3-14d9-403b-aefd-cb8293e68a48",
        "tags": []
      },
      "outputs": [],
      "source": [
        "class_names = [\"T-shirt/top\", \"Trouser\", \"Pullover\", \"Dress\", \"Coat\",\n",
        "               \"Sandal\", \"Shirt\", \"Sneaker\", \"Bag\", \"Ankle boot\"]"
      ]
    },
    {
      "cell_type": "markdown",
      "id": "ebe09d7a-381a-4dce-bf07-e26a9c3018d5",
      "metadata": {
        "id": "ebe09d7a-381a-4dce-bf07-e26a9c3018d5"
      },
      "source": [
        "So the first image in the training set is a coat:"
      ]
    },
    {
      "cell_type": "code",
      "execution_count": 22,
      "id": "b8350875-7cae-4f6d-bff5-db8c80e0c610",
      "metadata": {
        "id": "b8350875-7cae-4f6d-bff5-db8c80e0c610"
      },
      "outputs": [
        {
          "data": {
            "text/plain": [
              "'Ankle boot'"
            ]
          },
          "execution_count": 22,
          "metadata": {},
          "output_type": "execute_result"
        }
      ],
      "source": [
        "class_names[y_train[0]]"
      ]
    },
    {
      "cell_type": "markdown",
      "id": "43e2af01-d379-4baf-8ee1-069745e5b7a5",
      "metadata": {
        "id": "43e2af01-d379-4baf-8ee1-069745e5b7a5"
      },
      "source": [
        "Let's take a look at a sample of the images in the dataset:"
      ]
    },
    {
      "cell_type": "code",
      "execution_count": 23,
      "id": "5e865a15-7347-47a6-9c84-9c3f3914d849",
      "metadata": {
        "id": "5e865a15-7347-47a6-9c84-9c3f3914d849"
      },
      "outputs": [
        {
          "data": {
            "image/png": "[encoded data removed]",
            "text/plain": [
              "<Figure size 864x345.6 with 40 Axes>"
            ]
          },
          "metadata": {
            "needs_background": "light"
          },
          "output_type": "display_data"
        }
      ],
      "source": [
        "n_rows = 4\n",
        "n_cols = 10\n",
        "plt.figure(figsize=(n_cols * 1.2, n_rows * 1.2))\n",
        "for row in range(n_rows):\n",
        "    for col in range(n_cols):\n",
        "        index = n_cols * row + col\n",
        "        plt.subplot(n_rows, n_cols, index + 1)\n",
        "        plt.imshow(X_train[index], cmap=\"binary\", interpolation=\"nearest\")\n",
        "        plt.axis('off')\n",
        "        plt.title(class_names[y_train[index]], fontsize=12)\n",
        "plt.subplots_adjust(wspace=0.2, hspace=0.5)"
      ]
    },
    {
      "cell_type": "markdown",
      "id": "bcb2b0f5-c717-4082-8e78-b3c4e1b9ae5b",
      "metadata": {
        "id": "bcb2b0f5-c717-4082-8e78-b3c4e1b9ae5b"
      },
      "source": [
        "## Building models with tf.keras.Sequential"
      ]
    },
    {
      "cell_type": "markdown",
      "id": "bac0885b-9909-4ce5-9a1e-de1c0c7960c1",
      "metadata": {
        "id": "bac0885b-9909-4ce5-9a1e-de1c0c7960c1"
      },
      "source": [
        "`tf.keras` offers you a high level API to implement neural networks easily.\n",
        "Most models can be represented using the `tf.keras.Sequential` API.\n",
        "For more complex models, we can use `tf.keras.functional` and/or sub-class `tf.keras.Model`."
      ]
    },
    {
      "cell_type": "markdown",
      "id": "bfc7ab08-b31f-486b-96d2-67f0c1afc2da",
      "metadata": {
        "id": "bfc7ab08-b31f-486b-96d2-67f0c1afc2da"
      },
      "source": [
        "Before creating our model, let's set our random states to control random initialization."
      ]
    },
    {
      "cell_type": "code",
      "execution_count": 24,
      "id": "e65f93dc-d15e-4caf-ac91-c639851fd611",
      "metadata": {
        "id": "e65f93dc-d15e-4caf-ac91-c639851fd611"
      },
      "outputs": [],
      "source": [
        "keras.backend.clear_session()  # type: ignore\n",
        "np.random.seed(42)\n",
        "tf.random.set_seed(42)"
      ]
    },
    {
      "cell_type": "markdown",
      "id": "3eef6c5d-b17c-4b54-bed9-e4be81fcfded",
      "metadata": {
        "id": "3eef6c5d-b17c-4b54-bed9-e4be81fcfded"
      },
      "source": [
        "Let's start with an empty sequential model:"
      ]
    },
    {
      "cell_type": "code",
      "execution_count": 25,
      "id": "41e7c7be-d8d3-4c11-a4f7-51099b987775",
      "metadata": {
        "id": "41e7c7be-d8d3-4c11-a4f7-51099b987775"
      },
      "outputs": [
        {
          "data": {
            "text/plain": [
              "<keras.engine.sequential.Sequential at 0x7f90502c09d0>"
            ]
          },
          "execution_count": 25,
          "metadata": {},
          "output_type": "execute_result"
        }
      ],
      "source": [
        "model = keras.models.Sequential()  # type: ignore\n",
        "model"
      ]
    },
    {
      "cell_type": "markdown",
      "id": "e248cbf0-e209-418e-b4af-9b3d57164f4b",
      "metadata": {
        "id": "e248cbf0-e209-418e-b4af-9b3d57164f4b"
      },
      "source": [
        "We can add the layers we wish to add to our model one by one using `model.add`.\n",
        "First let us add a layer to vectorize the image inputs (2D into 1D):"
      ]
    },
    {
      "cell_type": "code",
      "execution_count": 26,
      "id": "ece24f05-f1c8-45cb-8f3a-2f7be5db0f32",
      "metadata": {
        "id": "ece24f05-f1c8-45cb-8f3a-2f7be5db0f32"
      },
      "outputs": [],
      "source": [
        "model.add(keras.layers.Flatten(input_shape=[28, 28]))"
      ]
    },
    {
      "cell_type": "markdown",
      "id": "8b75e942-6482-4f3e-ad92-e8ad5fa5b55a",
      "metadata": {
        "id": "8b75e942-6482-4f3e-ad92-e8ad5fa5b55a"
      },
      "source": [
        "Layers of the type `tf.keras.layers.Flatten` transform the format of the images from a two-dimensional array (of 28 by 28 pixels) to a one-dimensional array (of 28 * 28 = 784 pixels). Think of this layer as unstacking rows of pixels in the image and lining them up. This layer has no parameters to learn; it only reformats the data."
      ]
    },
    {
      "cell_type": "markdown",
      "id": "22274380-965a-4cb4-99f2-923fb19867b5",
      "metadata": {
        "id": "22274380-965a-4cb4-99f2-923fb19867b5"
      },
      "source": [
        "### Hidden layers\n",
        "We can add typical MLP layers using `keras.layers.Dense`."
      ]
    },
    {
      "cell_type": "code",
      "execution_count": 27,
      "id": "16cc2593-1b9b-4a56-8a3b-0c22f4c99d03",
      "metadata": {
        "id": "16cc2593-1b9b-4a56-8a3b-0c22f4c99d03"
      },
      "outputs": [],
      "source": [
        "model.add(keras.layers.Dense(300, activation=\"relu\"))"
      ]
    },
    {
      "cell_type": "markdown",
      "id": "a44dff9a-14dd-4927-99a2-affe528838d9",
      "metadata": {
        "id": "a44dff9a-14dd-4927-99a2-affe528838d9"
      },
      "source": [
        "The first argument defines the number of neurons in the layer. The activation parameter needs to be set to the desired activation function, otherwise you will simply have a linear layer."
      ]
    },
    {
      "cell_type": "markdown",
      "id": "mw6ATSHs9Owv",
      "metadata": {
        "id": "mw6ATSHs9Owv"
      },
      "source": [
        "#### TODO: Add another hidden layer\n",
        "Add a second hidden layer with 100 units"
      ]
    },
    {
      "cell_type": "code",
      "execution_count": 28,
      "id": "Gp4lGa9g9PQd",
      "metadata": {
        "id": "Gp4lGa9g9PQd"
      },
      "outputs": [],
      "source": [
        "# TODO your code here\n",
        "model.add(keras.layers.Dense(100, activation=\"relu\"))  # type: ignore"
      ]
    },
    {
      "cell_type": "markdown",
      "id": "1b389489-d9ff-4eb3-8508-fcb26b9799cb",
      "metadata": {
        "id": "1b389489-d9ff-4eb3-8508-fcb26b9799cb"
      },
      "source": [
        "### Output layer\n",
        "For the output layer, the number of units is determined by the number of classes. Each unit computes a score that indicates the current image belongs to one of the 10 classes. \n",
        "By usiing softmax as the activation function, we obtain normalized probabilities as scores (as in the multinomial logistic regression)."
      ]
    },
    {
      "cell_type": "code",
      "execution_count": 29,
      "id": "a7f646d1-307f-4ab1-a313-f5945f6f86df",
      "metadata": {
        "id": "a7f646d1-307f-4ab1-a313-f5945f6f86df",
        "tags": []
      },
      "outputs": [],
      "source": [
        "model.add(keras.layers.Dense(10, activation=\"softmax\"))"
      ]
    },
    {
      "cell_type": "markdown",
      "id": "d584173c-8630-4d5e-9602-418a3c41cca8",
      "metadata": {
        "id": "d584173c-8630-4d5e-9602-418a3c41cca8"
      },
      "source": [
        "You can also create the same model by giving a list of these layers as argument to `keras.Sequential`:\n",
        "``` python\n",
        "keras.models.Sequential([\n",
        "    keras.layers.Flatten(input_shape=[28, 28]),\n",
        "    keras.layers.Dense(300, activation=\"relu\"),\n",
        "    keras.layers.Dense(100, activation=\"relu\"),\n",
        "    keras.layers.Dense(10, activation=\"softmax\")\n",
        "])\n",
        "```"
      ]
    },
    {
      "cell_type": "markdown",
      "id": "81892ffb-8209-49f4-8c4d-0dcfd18b8e65",
      "metadata": {
        "id": "81892ffb-8209-49f4-8c4d-0dcfd18b8e65",
        "tags": []
      },
      "source": [
        "### Layers and weights\n",
        "In any case, `model.layers` will contain a list of `keras.layers` at the end:"
      ]
    },
    {
      "cell_type": "code",
      "execution_count": 30,
      "id": "7889a98a-b91a-4813-9799-a04facac9d58",
      "metadata": {
        "id": "7889a98a-b91a-4813-9799-a04facac9d58",
        "tags": []
      },
      "outputs": [
        {
          "data": {
            "text/plain": [
              "[<keras.layers.reshaping.flatten.Flatten at 0x7f90502c18a0>,\n",
              " <keras.layers.core.dense.Dense at 0x7f90502c17e0>,\n",
              " <keras.layers.core.dense.Dense at 0x7f90502c1840>,\n",
              " <keras.layers.core.dense.Dense at 0x7f90502c3e20>]"
            ]
          },
          "execution_count": 30,
          "metadata": {},
          "output_type": "execute_result"
        }
      ],
      "source": [
        "model.layers"
      ]
    },
    {
      "cell_type": "markdown",
      "id": "2f2245dc-b693-4e8e-a0e2-ce07617af899",
      "metadata": {
        "id": "2f2245dc-b693-4e8e-a0e2-ce07617af899"
      },
      "source": [
        "Each layer has a name. You can attribute one during its creation. If you don't, a standard one will be created for you:"
      ]
    },
    {
      "cell_type": "code",
      "execution_count": 31,
      "id": "6652bcf9-11dc-47ab-b2bc-b18d128ca83a",
      "metadata": {
        "id": "6652bcf9-11dc-47ab-b2bc-b18d128ca83a"
      },
      "outputs": [
        {
          "name": "stdout",
          "output_type": "stream",
          "text": [
            "flatten\n",
            "dense\n",
            "dense_1\n",
            "dense_2\n"
          ]
        }
      ],
      "source": [
        "for layer in model.layers:\n",
        "    print(layer.name)"
      ]
    },
    {
      "cell_type": "markdown",
      "id": "f4da3021-ed10-4bb8-94f3-7188d91f964e",
      "metadata": {
        "id": "f4da3021-ed10-4bb8-94f3-7188d91f964e"
      },
      "source": [
        "You can access your model's layers by indexing `model.layers` or by their name (using `model.get_layer`)"
      ]
    },
    {
      "cell_type": "code",
      "execution_count": 32,
      "id": "52d141d4-2ed8-4036-9ee0-39a55d5cfd32",
      "metadata": {
        "id": "52d141d4-2ed8-4036-9ee0-39a55d5cfd32"
      },
      "outputs": [
        {
          "data": {
            "text/plain": [
              "'dense'"
            ]
          },
          "execution_count": 32,
          "metadata": {},
          "output_type": "execute_result"
        }
      ],
      "source": [
        "hidden1 = model.layers[1]\n",
        "hidden1.name"
      ]
    },
    {
      "cell_type": "code",
      "execution_count": 33,
      "id": "820f0e22-547f-44d0-9fd4-e293dc6a1b6e",
      "metadata": {
        "id": "820f0e22-547f-44d0-9fd4-e293dc6a1b6e"
      },
      "outputs": [
        {
          "data": {
            "text/plain": [
              "True"
            ]
          },
          "execution_count": 33,
          "metadata": {},
          "output_type": "execute_result"
        }
      ],
      "source": [
        "model.get_layer(hidden1.name) is hidden1"
      ]
    },
    {
      "cell_type": "markdown",
      "id": "3d228f42-1009-42d0-8f28-0fd41944cd03",
      "metadata": {
        "id": "3d228f42-1009-42d0-8f28-0fd41944cd03"
      },
      "source": [
        "All the parameters of a layer can be accessed using its get_weights() and set_weights() methods. For a Dense layer, this includes both the connection weights and the bias terms:"
      ]
    },
    {
      "cell_type": "code",
      "execution_count": 34,
      "id": "b98d1145-10d4-41f2-9c32-3f8f69e1dfba",
      "metadata": {
        "id": "b98d1145-10d4-41f2-9c32-3f8f69e1dfba"
      },
      "outputs": [],
      "source": [
        "weights, biases = hidden1.get_weights()"
      ]
    },
    {
      "cell_type": "markdown",
      "id": "7MPtfKdOXtLz",
      "metadata": {
        "id": "7MPtfKdOXtLz"
      },
      "source": [
        "We can save this initial weights for later using `model.save_weights`, in case we want to reset our model to its initial state:"
      ]
    },
    {
      "cell_type": "code",
      "execution_count": 35,
      "id": "NNxOyFgPYMPs",
      "metadata": {
        "id": "NNxOyFgPYMPs"
      },
      "outputs": [],
      "source": [
        "model.save_weights('init.h5')"
      ]
    },
    {
      "cell_type": "markdown",
      "id": "AjV1xvr3YdNs",
      "metadata": {
        "id": "AjV1xvr3YdNs"
      },
      "source": [
        "`h5` is the extension corresponding to the default keras format, HDF5. To load back the weights, just call \n",
        "```python \n",
        "model.load_weights('init.h5')\n",
        "```\n"
      ]
    },
    {
      "cell_type": "markdown",
      "id": "yhN0mjUuMKwW",
      "metadata": {
        "id": "yhN0mjUuMKwW"
      },
      "source": [
        "### TODO: Check weights and biases values and shape"
      ]
    },
    {
      "cell_type": "code",
      "execution_count": 36,
      "id": "ea7c4733-600a-440f-bd12-7cf440e2e504",
      "metadata": {
        "id": "ea7c4733-600a-440f-bd12-7cf440e2e504"
      },
      "outputs": [
        {
          "data": {
            "text/plain": [
              "[<tf.Variable 'dense/kernel:0' shape=(784, 300) dtype=float32, numpy=\n",
              " array([[ 0.02323033, -0.07412303,  0.0472168 , ..., -0.06459977,\n",
              "          0.0019099 , -0.05197005],\n",
              "        [ 0.04183804,  0.03991615,  0.03089672, ...,  0.00764741,\n",
              "          0.0104841 ,  0.00222585],\n",
              "        [ 0.06154025, -0.05463816, -0.02688865, ..., -0.0329644 ,\n",
              "         -0.0047875 , -0.03426005],\n",
              "        ...,\n",
              "        [ 0.02988236, -0.00904687, -0.06226079, ..., -0.07199403,\n",
              "         -0.07350038,  0.01640805],\n",
              "        [ 0.0542367 , -0.05667817, -0.06710232, ..., -0.05364919,\n",
              "         -0.06418316,  0.07288243],\n",
              "        [-0.0039013 ,  0.03482281,  0.01735409, ...,  0.04639946,\n",
              "         -0.05322259, -0.04676129]], dtype=float32)>,\n",
              " <tf.Variable 'dense/bias:0' shape=(300,) dtype=float32, numpy=\n",
              " array([0., 0., 0., 0., 0., 0., 0., 0., 0., 0., 0., 0., 0., 0., 0., 0., 0.,\n",
              "        0., 0., 0., 0., 0., 0., 0., 0., 0., 0., 0., 0., 0., 0., 0., 0., 0.,\n",
              "        0., 0., 0., 0., 0., 0., 0., 0., 0., 0., 0., 0., 0., 0., 0., 0., 0.,\n",
              "        0., 0., 0., 0., 0., 0., 0., 0., 0., 0., 0., 0., 0., 0., 0., 0., 0.,\n",
              "        0., 0., 0., 0., 0., 0., 0., 0., 0., 0., 0., 0., 0., 0., 0., 0., 0.,\n",
              "        0., 0., 0., 0., 0., 0., 0., 0., 0., 0., 0., 0., 0., 0., 0., 0., 0.,\n",
              "        0., 0., 0., 0., 0., 0., 0., 0., 0., 0., 0., 0., 0., 0., 0., 0., 0.,\n",
              "        0., 0., 0., 0., 0., 0., 0., 0., 0., 0., 0., 0., 0., 0., 0., 0., 0.,\n",
              "        0., 0., 0., 0., 0., 0., 0., 0., 0., 0., 0., 0., 0., 0., 0., 0., 0.,\n",
              "        0., 0., 0., 0., 0., 0., 0., 0., 0., 0., 0., 0., 0., 0., 0., 0., 0.,\n",
              "        0., 0., 0., 0., 0., 0., 0., 0., 0., 0., 0., 0., 0., 0., 0., 0., 0.,\n",
              "        0., 0., 0., 0., 0., 0., 0., 0., 0., 0., 0., 0., 0., 0., 0., 0., 0.,\n",
              "        0., 0., 0., 0., 0., 0., 0., 0., 0., 0., 0., 0., 0., 0., 0., 0., 0.,\n",
              "        0., 0., 0., 0., 0., 0., 0., 0., 0., 0., 0., 0., 0., 0., 0., 0., 0.,\n",
              "        0., 0., 0., 0., 0., 0., 0., 0., 0., 0., 0., 0., 0., 0., 0., 0., 0.,\n",
              "        0., 0., 0., 0., 0., 0., 0., 0., 0., 0., 0., 0., 0., 0., 0., 0., 0.,\n",
              "        0., 0., 0., 0., 0., 0., 0., 0., 0., 0., 0., 0., 0., 0., 0., 0., 0.,\n",
              "        0., 0., 0., 0., 0., 0., 0., 0., 0., 0., 0.], dtype=float32)>,\n",
              " <tf.Variable 'dense_1/kernel:0' shape=(300, 100) dtype=float32, numpy=\n",
              " array([[ 0.0708644 ,  0.08387034, -0.11428144, ...,  0.0246317 ,\n",
              "          0.11832718, -0.045678  ],\n",
              "        [-0.11661407,  0.06926087, -0.10673821, ..., -0.03618073,\n",
              "          0.10774971, -0.01222466],\n",
              "        [-0.09100783, -0.11449468,  0.07114451, ...,  0.05495345,\n",
              "          0.04697006,  0.07466153],\n",
              "        ...,\n",
              "        [ 0.01664533, -0.04640842, -0.06722282, ..., -0.05664431,\n",
              "         -0.1072159 ,  0.06990933],\n",
              "        [-0.06570505, -0.09979735, -0.05192924, ...,  0.02184606,\n",
              "         -0.06172816,  0.11001813],\n",
              "        [-0.09183566, -0.0791044 ,  0.05948187, ..., -0.04098796,\n",
              "          0.03545634, -0.06396151]], dtype=float32)>,\n",
              " <tf.Variable 'dense_1/bias:0' shape=(100,) dtype=float32, numpy=\n",
              " array([0., 0., 0., 0., 0., 0., 0., 0., 0., 0., 0., 0., 0., 0., 0., 0., 0.,\n",
              "        0., 0., 0., 0., 0., 0., 0., 0., 0., 0., 0., 0., 0., 0., 0., 0., 0.,\n",
              "        0., 0., 0., 0., 0., 0., 0., 0., 0., 0., 0., 0., 0., 0., 0., 0., 0.,\n",
              "        0., 0., 0., 0., 0., 0., 0., 0., 0., 0., 0., 0., 0., 0., 0., 0., 0.,\n",
              "        0., 0., 0., 0., 0., 0., 0., 0., 0., 0., 0., 0., 0., 0., 0., 0., 0.,\n",
              "        0., 0., 0., 0., 0., 0., 0., 0., 0., 0., 0., 0., 0., 0., 0.],\n",
              "       dtype=float32)>,\n",
              " <tf.Variable 'dense_2/kernel:0' shape=(100, 10) dtype=float32, numpy=\n",
              " array([[-5.71436435e-02, -7.03824013e-02,  4.16099727e-02,\n",
              "         -1.98635533e-01,  1.11395627e-01,  1.54974222e-01,\n",
              "          7.82937109e-02, -1.70902044e-01, -2.18734890e-01,\n",
              "         -1.00456730e-01],\n",
              "        [-1.16573773e-01, -1.52868181e-02,  1.31813496e-01,\n",
              "          1.27288282e-01,  6.61941767e-02, -9.36893374e-02,\n",
              "          4.10411954e-02, -1.35095194e-01,  2.22762197e-01,\n",
              "          1.26719683e-01],\n",
              "        [ 9.03769433e-02,  1.62002355e-01,  1.28288984e-01,\n",
              "          5.35550714e-02,  2.23382533e-01,  7.45576024e-02,\n",
              "         -8.53450894e-02,  1.35595322e-01,  6.28569424e-02,\n",
              "          1.61559075e-01],\n",
              "        [-4.30129617e-02, -3.75532806e-02,  1.56825036e-01,\n",
              "          1.83078647e-02,  1.69840962e-01, -7.34567642e-04,\n",
              "          7.99922049e-02,  2.14169413e-01,  1.79437697e-01,\n",
              "         -3.97289097e-02],\n",
              "        [-1.89288542e-01, -7.89622962e-03,  1.62179768e-01,\n",
              "          2.16378838e-01, -1.13477044e-01, -9.35719162e-02,\n",
              "         -1.01956084e-01,  1.33040100e-01, -1.83736384e-02,\n",
              "         -1.02722004e-01],\n",
              "        [-1.17195077e-01, -1.82895452e-01, -3.36750448e-02,\n",
              "         -1.22538827e-01, -1.51973635e-01, -1.42751828e-01,\n",
              "         -9.63732451e-02, -2.03876719e-01, -1.28058076e-01,\n",
              "          8.90147984e-02],\n",
              "        [ 1.99302107e-01,  1.45777047e-01,  1.41363382e-01,\n",
              "          6.27840161e-02,  8.65611434e-02, -9.10437554e-02,\n",
              "          9.14040208e-02, -5.21111637e-02,  8.94462764e-02,\n",
              "         -5.91982156e-02],\n",
              "        [-8.60883892e-02,  1.48640245e-01, -1.02735475e-01,\n",
              "          1.21520221e-01,  1.33640140e-01, -1.19119078e-01,\n",
              "         -2.65221149e-02, -3.56808305e-04, -2.62868553e-02,\n",
              "         -1.86261535e-02],\n",
              "        [-2.12560862e-01,  8.35873485e-02, -1.57357812e-01,\n",
              "          2.24970102e-01,  5.72627485e-02, -1.36205226e-01,\n",
              "         -1.44879282e-01,  8.61182809e-02,  2.18299001e-01,\n",
              "         -3.03648412e-03],\n",
              "        [ 6.27043843e-02, -2.16854423e-01, -1.82936728e-01,\n",
              "          1.14802510e-01,  7.15340674e-02, -2.30434015e-01,\n",
              "         -6.19379580e-02,  1.12434447e-01, -1.94974959e-01,\n",
              "         -1.56510547e-01],\n",
              "        [ 6.08116388e-04,  1.46954685e-01, -2.23752841e-01,\n",
              "         -6.79700077e-02,  1.20357126e-01, -1.70365319e-01,\n",
              "         -9.74939167e-02, -1.52683824e-01,  3.52683365e-02,\n",
              "          1.34750307e-01],\n",
              "        [-1.71729773e-01, -2.23018885e-01, -1.12369657e-04,\n",
              "          1.09803230e-02,  9.13486183e-02,  1.42339617e-01,\n",
              "         -4.68161404e-02,  1.47554100e-01, -3.94437015e-02,\n",
              "         -9.96217132e-02],\n",
              "        [-2.18521118e-01, -6.26920164e-02, -6.51720613e-02,\n",
              "          1.21407956e-01, -1.23147883e-01,  2.69166827e-02,\n",
              "         -2.12501884e-01, -1.86231285e-01, -1.07774705e-01,\n",
              "         -1.68637037e-01],\n",
              "        [ 6.60212338e-03, -1.11625791e-02, -4.99528646e-03,\n",
              "         -7.59716332e-03,  1.33838058e-02,  8.58673751e-02,\n",
              "          6.62123263e-02, -1.26569018e-01,  1.68593884e-01,\n",
              "         -1.20905429e-01],\n",
              "        [ 1.78841382e-01, -1.04706094e-01, -9.14002359e-02,\n",
              "          1.62809581e-01,  6.19836152e-02,  9.35175121e-02,\n",
              "          1.34565860e-01,  8.63669217e-02,  1.38387650e-01,\n",
              "         -1.26554757e-01],\n",
              "        [ 1.79893821e-01, -1.47957087e-01, -1.22236244e-01,\n",
              "          1.23905271e-01, -2.92050093e-02,  2.19651520e-01,\n",
              "          1.09876931e-01, -2.24393860e-01, -1.52830213e-01,\n",
              "         -1.04253560e-01],\n",
              "        [-1.46225527e-01,  1.64535075e-01,  1.62845165e-01,\n",
              "          7.60487616e-02, -1.96722671e-01,  1.40813947e-01,\n",
              "          1.87096894e-02,  8.08368623e-02, -5.23376763e-02,\n",
              "         -1.34247258e-01],\n",
              "        [ 2.29961604e-01, -2.27550104e-01,  1.93062723e-01,\n",
              "         -2.84365416e-02, -1.58912420e-01,  8.00427794e-02,\n",
              "         -2.85507441e-02,  1.30649000e-01, -2.69384533e-02,\n",
              "          1.31282330e-01],\n",
              "        [-2.59524286e-02, -4.72128391e-04, -7.34326839e-02,\n",
              "         -1.50198877e-01,  2.91858613e-02, -1.91823721e-01,\n",
              "         -1.22332186e-01, -9.57350433e-03, -6.05136007e-02,\n",
              "          1.43318951e-01],\n",
              "        [ 4.57410514e-03, -9.67017710e-02, -6.67282939e-03,\n",
              "          9.62484479e-02, -1.23442829e-01, -2.05410212e-01,\n",
              "         -2.30453014e-02,  3.82641852e-02, -1.21854097e-01,\n",
              "         -2.07343683e-01],\n",
              "        [ 1.48136824e-01, -1.65071636e-02, -5.97445667e-02,\n",
              "         -5.25431335e-03,  2.29636043e-01, -1.37192905e-02,\n",
              "         -5.37654907e-02,  8.04710090e-02, -1.70452416e-01,\n",
              "          1.19953752e-01],\n",
              "        [ 8.01144242e-02,  1.42879128e-01,  8.60726833e-02,\n",
              "          5.56430519e-02, -2.00766623e-01,  4.50298190e-04,\n",
              "          2.05631822e-01,  1.24164373e-02,  1.52842581e-01,\n",
              "         -1.15933865e-02],\n",
              "        [ 1.50956929e-01, -7.59780556e-02, -1.63658187e-01,\n",
              "         -2.09754899e-01, -1.88062802e-01, -6.60243928e-02,\n",
              "         -1.20128267e-01, -4.84747589e-02, -2.55099684e-02,\n",
              "         -1.16169572e-01],\n",
              "        [ 1.21975273e-01,  1.09261930e-01, -7.59461969e-02,\n",
              "          1.01229042e-01,  9.18778777e-02, -4.05018032e-03,\n",
              "          5.04721403e-02, -1.34412855e-01, -1.10745311e-01,\n",
              "         -7.02298284e-02],\n",
              "        [-1.24870986e-02,  1.32335961e-01, -4.27274704e-02,\n",
              "         -2.37163305e-02, -6.96885884e-02,  9.13262367e-02,\n",
              "         -7.60487169e-02, -1.51575118e-01, -2.21543968e-01,\n",
              "         -9.02336836e-02],\n",
              "        [-3.32911164e-02,  9.01688635e-02, -1.85588107e-01,\n",
              "         -6.01910949e-02,  2.24809021e-01,  6.79118633e-02,\n",
              "          1.93529934e-01, -1.97396487e-01, -1.24026828e-01,\n",
              "          1.94865704e-01],\n",
              "        [ 6.16755188e-02,  4.17092144e-02, -1.83133006e-01,\n",
              "         -5.53523898e-02, -1.06924877e-01, -1.48828238e-01,\n",
              "          6.18972480e-02, -1.04174599e-01, -1.02805257e-01,\n",
              "         -1.80268973e-01],\n",
              "        [ 2.19028175e-01, -1.04237244e-01, -2.14395821e-01,\n",
              "          1.31500036e-01,  9.25213993e-02, -1.66450888e-01,\n",
              "         -4.32874113e-02,  4.88217175e-02, -1.49303436e-01,\n",
              "         -4.61903811e-02],\n",
              "        [-6.28194809e-02,  6.94392025e-02, -2.64949948e-02,\n",
              "          5.28416634e-02, -1.96119696e-02,  4.45403457e-02,\n",
              "         -9.54358280e-02, -2.05301344e-01, -2.11490244e-01,\n",
              "         -8.78270268e-02],\n",
              "        [-4.57145125e-02,  8.04879963e-02, -1.91216722e-01,\n",
              "          1.40776038e-01, -1.45778388e-01,  2.05201954e-01,\n",
              "         -6.43629432e-02,  1.57712907e-01, -1.25369117e-01,\n",
              "          1.92358494e-01],\n",
              "        [ 9.34155583e-02, -1.10470012e-01,  2.30013549e-01,\n",
              "         -3.40373665e-02,  1.74156129e-02,  3.57074142e-02,\n",
              "          2.12615579e-01, -8.37818533e-02, -3.67105305e-02,\n",
              "         -2.29360968e-01],\n",
              "        [ 6.24059737e-02, -1.09991312e-01, -7.03872889e-02,\n",
              "          3.84055078e-02,  1.20437920e-01, -6.46428019e-02,\n",
              "          6.59775734e-02, -1.56987309e-01,  9.86409187e-02,\n",
              "          1.82441980e-01],\n",
              "        [ 2.09769875e-01,  1.51071370e-01, -2.58710682e-02,\n",
              "         -7.78523237e-02,  1.75922096e-01, -1.04372993e-01,\n",
              "          6.30571842e-02,  2.03092366e-01, -1.79477155e-01,\n",
              "         -2.74212211e-02],\n",
              "        [-6.10308349e-02,  8.12462270e-02,  8.64753425e-02,\n",
              "         -2.06030071e-01, -1.69163972e-01,  1.47343814e-01,\n",
              "          2.38971412e-02, -9.72967893e-02,  1.52466655e-01,\n",
              "         -7.61382431e-02],\n",
              "        [ 5.43140173e-02,  3.21989655e-02, -1.14377320e-01,\n",
              "         -1.96449488e-01,  2.02143818e-01,  5.83547950e-02,\n",
              "          5.20293117e-02, -1.28100783e-01,  2.04196006e-01,\n",
              "          1.49786919e-01],\n",
              "        [ 4.45773602e-02,  2.15450287e-01,  7.13784993e-02,\n",
              "         -1.10057130e-01,  9.40809548e-02, -1.47002414e-01,\n",
              "         -1.70770526e-01, -1.81204155e-01,  7.86989331e-02,\n",
              "         -1.56786352e-01],\n",
              "        [ 2.04036474e-01,  3.30735147e-02, -9.98787433e-02,\n",
              "          1.99077308e-01,  1.03459507e-01,  9.30585265e-02,\n",
              "         -3.28106880e-02, -2.29970351e-01,  2.28502601e-01,\n",
              "         -1.00977972e-01],\n",
              "        [-1.41011581e-01, -9.45991278e-03, -1.77868485e-01,\n",
              "         -4.85219657e-02,  8.78254771e-02,  2.28621095e-01,\n",
              "          1.21989459e-01, -1.77889168e-02, -2.19733387e-01,\n",
              "         -1.40529990e-01],\n",
              "        [ 1.62555903e-01,  1.34673893e-01,  4.05603051e-02,\n",
              "         -1.57649085e-01,  9.52257514e-02,  1.67047977e-03,\n",
              "          1.72281355e-01, -1.02480784e-01,  2.17863232e-01,\n",
              "          1.69403553e-02],\n",
              "        [ 7.86384046e-02, -4.44818139e-02, -1.80979252e-01,\n",
              "          1.25155449e-01,  1.37526631e-01, -1.43804699e-02,\n",
              "         -9.03006643e-02, -3.18613499e-02, -9.17443484e-02,\n",
              "          1.89433545e-01],\n",
              "        [-2.77530849e-02,  1.37720257e-02, -1.93673715e-01,\n",
              "         -2.11120293e-01,  7.79248178e-02, -2.00763777e-01,\n",
              "         -1.53799295e-01,  1.69250876e-01,  2.32247591e-01,\n",
              "         -1.68862671e-01],\n",
              "        [ 2.09336728e-01,  2.01913118e-01,  7.81911612e-02,\n",
              "         -2.59877294e-02, -1.36897236e-01, -9.29316133e-02,\n",
              "          1.99745357e-01,  1.15698218e-01, -1.10686064e-01,\n",
              "          7.76353180e-02],\n",
              "        [ 9.09124613e-02,  1.16844654e-01, -3.10488939e-02,\n",
              "         -1.31146625e-01, -1.52930886e-01, -1.78921163e-01,\n",
              "          1.11427933e-01,  7.17308521e-02, -5.16276658e-02,\n",
              "          3.40047479e-02],\n",
              "        [ 1.04342490e-01,  1.91219181e-01,  2.16416329e-01,\n",
              "         -2.03215092e-01, -5.58886677e-02, -1.80011883e-01,\n",
              "         -7.78860152e-02, -1.60332024e-03,  2.14496821e-01,\n",
              "         -1.16444200e-01],\n",
              "        [-5.10881096e-02,  1.81847334e-01, -2.18750313e-01,\n",
              "          3.31709981e-02,  8.75940621e-02, -1.42128855e-01,\n",
              "          1.51311517e-01, -2.01374277e-01, -3.73680294e-02,\n",
              "          2.22259104e-01],\n",
              "        [ 2.20076829e-01,  9.19377506e-02,  4.08104956e-02,\n",
              "          1.79921061e-01,  4.83542681e-04, -2.13417873e-01,\n",
              "         -1.90897167e-01,  1.99591368e-01,  1.15888864e-01,\n",
              "          8.00324082e-02],\n",
              "        [ 2.12747574e-01,  2.24827230e-02, -4.47821617e-03,\n",
              "         -9.48363543e-03,  2.11765468e-02, -8.85469466e-02,\n",
              "         -6.04471266e-02,  2.01122761e-02, -1.53972417e-01,\n",
              "          5.82236648e-02],\n",
              "        [-1.62125021e-01, -7.98901469e-02,  1.27644241e-01,\n",
              "         -2.13850856e-01,  7.03600049e-02,  2.11500049e-01,\n",
              "         -9.99342054e-02, -2.28852183e-01, -4.94374484e-02,\n",
              "         -1.91182926e-01],\n",
              "        [-1.59459710e-01, -6.54753745e-02, -2.20025107e-01,\n",
              "         -9.94265378e-02,  7.10918009e-02, -7.26591945e-02,\n",
              "          5.10220230e-03,  1.93828344e-01,  1.81082368e-01,\n",
              "          7.88651407e-02],\n",
              "        [-2.17391044e-01,  2.09526926e-01,  7.09758699e-02,\n",
              "          9.69722867e-02,  8.62851739e-02, -2.10035712e-01,\n",
              "         -2.00245872e-01,  2.49964595e-02, -3.76853645e-02,\n",
              "         -5.77626675e-02],\n",
              "        [-1.94836199e-01,  4.14012671e-02,  1.37431234e-01,\n",
              "          1.16720706e-01,  1.08461827e-02, -7.57067055e-02,\n",
              "         -1.51424378e-01, -5.20414412e-02, -4.56855595e-02,\n",
              "         -1.38125047e-01],\n",
              "        [-6.55313879e-02, -8.15953612e-02, -1.34597108e-01,\n",
              "         -1.69855490e-01,  4.60716486e-02, -8.56243372e-02,\n",
              "          1.04862779e-01, -1.78617865e-01,  3.87842655e-02,\n",
              "          2.01525003e-01],\n",
              "        [-4.13204879e-02,  2.14900374e-02,  1.61552042e-01,\n",
              "          1.42826945e-01,  2.31420100e-02, -1.52752370e-01,\n",
              "          2.60825157e-02, -1.30800396e-01, -2.32493833e-01,\n",
              "          3.71163487e-02],\n",
              "        [-1.39077842e-01,  4.38895822e-03,  1.78297579e-01,\n",
              "          1.53249204e-01, -8.63431394e-03,  8.52980316e-02,\n",
              "         -2.58923471e-02,  1.98364258e-01,  1.87389225e-01,\n",
              "          8.04392695e-02],\n",
              "        [-1.21414147e-01,  6.09056652e-02, -7.47622252e-02,\n",
              "          1.15938544e-01,  4.71058488e-02, -1.82800248e-01,\n",
              "         -1.89341217e-01, -1.70879990e-01,  1.58242285e-01,\n",
              "          2.28696734e-01],\n",
              "        [-7.65976906e-02, -6.01193309e-03, -2.08506435e-01,\n",
              "          3.25743854e-03,  4.35870886e-02, -2.18008906e-01,\n",
              "          7.41460323e-02,  2.06823111e-01,  3.48800123e-02,\n",
              "         -2.29438588e-01],\n",
              "        [-9.39033329e-02, -1.94520816e-01, -2.15581253e-01,\n",
              "          2.31720775e-01,  4.78077829e-02, -9.72571522e-02,\n",
              "          4.86515462e-02,  1.24623805e-01, -9.35902894e-02,\n",
              "         -1.89988643e-01],\n",
              "        [ 4.97026145e-02,  2.86206305e-02,  1.76280469e-01,\n",
              "         -2.26591364e-01, -8.89355540e-02,  1.62493646e-01,\n",
              "         -9.65872854e-02, -2.83876508e-02, -8.52282643e-02,\n",
              "          1.63746059e-01],\n",
              "        [-1.71807557e-02,  6.89062476e-02,  9.49358046e-02,\n",
              "         -1.18166402e-01, -1.46100745e-01, -1.05862334e-01,\n",
              "          5.99337816e-02, -6.66615218e-02,  2.00667828e-01,\n",
              "          1.81510091e-01],\n",
              "        [ 2.00234473e-01, -7.07887709e-02, -6.35243654e-02,\n",
              "          1.03686750e-01, -2.96504796e-02,  9.43435133e-02,\n",
              "         -1.97082326e-01, -1.15299866e-01,  1.86757147e-02,\n",
              "         -1.81193084e-01],\n",
              "        [-1.72310755e-01, -2.31570676e-01,  1.98531866e-01,\n",
              "          1.64806873e-01,  2.33503520e-01,  2.12177098e-01,\n",
              "         -1.42330751e-01, -1.64691210e-01, -2.31387362e-01,\n",
              "         -5.65885007e-03],\n",
              "        [ 1.44147277e-01,  8.98826122e-02,  9.74176824e-02,\n",
              "          1.30930036e-01, -2.16206610e-02, -5.34531623e-02,\n",
              "         -2.07588121e-01,  1.54039145e-01,  1.50470763e-01,\n",
              "          4.97445464e-02],\n",
              "        [-2.03786343e-01,  1.47426933e-01,  1.55575454e-01,\n",
              "         -5.27132004e-02,  1.78025514e-01,  1.13365412e-01,\n",
              "         -5.51065505e-02, -2.23963097e-01, -1.17385738e-01,\n",
              "         -1.17602199e-02],\n",
              "        [ 2.05774218e-01, -4.27135527e-02, -6.40961677e-02,\n",
              "         -9.97937769e-02,  2.15186298e-01, -2.18386814e-01,\n",
              "         -1.13874227e-02,  1.91149235e-01, -1.27571866e-01,\n",
              "         -2.42147446e-02],\n",
              "        [-2.89790481e-02, -1.45154476e-01, -2.13945568e-01,\n",
              "         -1.56931013e-01, -7.95633942e-02, -3.60174477e-02,\n",
              "          2.06854999e-01,  1.92436397e-01,  7.97965527e-02,\n",
              "          6.79996312e-02],\n",
              "        [ 9.58039463e-02,  1.92683905e-01,  5.59886694e-02,\n",
              "          2.28509396e-01, -1.34623557e-01,  5.68524003e-04,\n",
              "          2.06891268e-01,  2.26344705e-01,  1.27893656e-01,\n",
              "         -1.94022402e-01],\n",
              "        [ 8.70986879e-02, -2.23161757e-01, -9.15560871e-02,\n",
              "          1.70926929e-01,  9.95437503e-02,  2.25526035e-01,\n",
              "         -1.13304704e-01,  2.03483492e-01, -5.31126112e-02,\n",
              "          1.92965150e-01],\n",
              "        [-2.18052447e-01,  1.91403866e-01,  5.81178069e-02,\n",
              "         -1.95635974e-01,  5.68514764e-02,  1.15498990e-01,\n",
              "          1.02224529e-01,  6.92015290e-02, -2.10625947e-01,\n",
              "          1.03071034e-01],\n",
              "        [-5.36069572e-02, -1.02513418e-01, -1.77827626e-01,\n",
              "          2.42180824e-02,  5.00399470e-02,  8.15000832e-02,\n",
              "          8.50051343e-02,  8.74921083e-02, -1.28106534e-01,\n",
              "          3.46423686e-02],\n",
              "        [ 1.01205260e-02,  9.57936943e-02,  7.66578317e-02,\n",
              "          3.79304886e-02,  1.90431774e-01, -5.67528009e-02,\n",
              "         -2.09247574e-01, -1.30825073e-01, -4.29749340e-02,\n",
              "          1.00122958e-01],\n",
              "        [ 1.79823905e-01, -3.41057777e-04,  2.47726142e-02,\n",
              "          8.94471705e-02,  1.88210130e-01, -6.29531145e-02,\n",
              "          9.60530639e-02,  1.42076552e-01, -2.43499875e-02,\n",
              "          3.43667269e-02],\n",
              "        [ 1.87708825e-01, -2.29751244e-01, -1.10038027e-01,\n",
              "          1.48321301e-01, -1.02057323e-01, -1.88906178e-01,\n",
              "         -1.52472854e-02,  3.17797065e-03,  1.06796980e-01,\n",
              "         -1.92062154e-01],\n",
              "        [-8.05064887e-02,  3.64514291e-02, -4.33784574e-02,\n",
              "         -1.09744303e-01,  7.21362233e-02, -8.00516754e-02,\n",
              "         -1.17203444e-02,  1.10857338e-02,  1.03907585e-01,\n",
              "         -1.94781348e-01],\n",
              "        [-1.42451972e-01, -7.15385377e-02,  5.27506769e-02,\n",
              "         -1.98092967e-01, -8.64001662e-02, -1.34646714e-01,\n",
              "         -9.43765044e-04,  7.90224969e-03, -1.13224387e-02,\n",
              "          5.09544611e-02],\n",
              "        [ 6.67715371e-02, -7.17208982e-02, -1.09101340e-01,\n",
              "          2.07293838e-01,  9.21519995e-02, -7.41187483e-02,\n",
              "          1.21791005e-01,  1.45712018e-01, -5.63180894e-02,\n",
              "          1.46553278e-01],\n",
              "        [ 2.26644874e-02, -9.10019875e-02, -1.48194641e-01,\n",
              "          1.68496668e-02,  1.31747454e-01,  6.05780184e-02,\n",
              "         -1.18588701e-01, -3.91159505e-02, -2.22143993e-01,\n",
              "         -1.77238673e-01],\n",
              "        [ 1.45286322e-01,  1.61784232e-01, -1.91740021e-01,\n",
              "         -7.76204467e-03,  1.30164623e-01,  1.64054990e-01,\n",
              "          1.90813422e-01, -1.27538502e-01,  4.10779417e-02,\n",
              "          1.41132474e-01],\n",
              "        [ 1.65237516e-01,  1.39478624e-01, -1.81567490e-01,\n",
              "          1.87304676e-01,  5.32596111e-02, -1.29055738e-01,\n",
              "         -2.14159667e-01,  1.03666335e-01, -2.72807926e-02,\n",
              "          2.14179873e-01],\n",
              "        [-1.98494107e-01, -1.85492501e-01,  1.82217568e-01,\n",
              "          1.85909778e-01, -2.22209096e-01, -1.62796438e-01,\n",
              "          1.68965518e-01,  1.36681825e-01, -1.61525756e-01,\n",
              "          2.92319059e-02],\n",
              "        [ 4.85488772e-02, -6.86192662e-02, -1.93734854e-01,\n",
              "         -2.24034205e-01,  1.21558130e-01,  1.77070498e-04,\n",
              "         -1.15297362e-01, -1.04233563e-01, -1.25361040e-01,\n",
              "          1.15201771e-02],\n",
              "        [-1.21860445e-01,  1.92234606e-01, -1.93085313e-01,\n",
              "         -2.29590878e-01, -7.23751038e-02,  7.01866746e-02,\n",
              "          7.70724416e-02, -2.26603389e-01,  1.15691483e-01,\n",
              "         -1.33395538e-01],\n",
              "        [ 1.56599760e-01, -8.00734460e-02, -1.17048129e-01,\n",
              "         -4.64355499e-02, -2.24533007e-01, -7.35913217e-02,\n",
              "         -1.36756152e-01, -1.54602528e-01, -2.01063290e-01,\n",
              "          2.03070313e-01],\n",
              "        [ 1.74569756e-01,  1.28280640e-01, -2.30137259e-02,\n",
              "          1.36423290e-01,  1.76281542e-01,  2.15684205e-01,\n",
              "         -5.79138100e-03,  1.84855431e-01, -5.17010689e-04,\n",
              "          7.87337124e-02],\n",
              "        [ 1.21387303e-01, -2.40138322e-02, -9.73156691e-02,\n",
              "          7.08881617e-02,  5.03596663e-02, -4.10872251e-02,\n",
              "          9.88075733e-02, -6.82390630e-02, -6.38779998e-02,\n",
              "         -2.03376457e-01],\n",
              "        [ 4.17790413e-02,  1.15414113e-01, -2.31764004e-01,\n",
              "          1.12429261e-04, -6.90198988e-02,  1.34804130e-01,\n",
              "         -2.67861634e-02,  8.45074654e-02,  1.60599202e-02,\n",
              "          1.14030033e-01],\n",
              "        [-1.67928040e-02, -2.04459280e-02,  3.81728709e-02,\n",
              "          5.40432930e-02, -5.92809618e-02,  1.34012789e-01,\n",
              "          6.84144199e-02, -1.52855545e-01, -1.74495250e-01,\n",
              "          1.20009154e-01],\n",
              "        [ 1.91020727e-01, -1.51802480e-01, -1.84045359e-01,\n",
              "         -1.67326555e-01, -1.34424940e-01, -1.16786644e-01,\n",
              "         -3.44425142e-02, -1.54425651e-02,  8.62206519e-02,\n",
              "         -1.47956476e-01],\n",
              "        [-3.61595452e-02, -1.81772515e-01,  8.03834200e-03,\n",
              "          4.11021411e-02,  2.14006662e-01, -1.15746327e-01,\n",
              "          2.24519014e-01, -4.19034809e-02,  5.39152622e-02,\n",
              "          1.45840973e-01],\n",
              "        [ 1.45333111e-01, -2.60800570e-02, -6.60546124e-03,\n",
              "         -1.95905268e-02, -1.81978136e-01, -2.05406040e-01,\n",
              "          2.20055401e-01, -5.26968837e-02,  1.17312670e-01,\n",
              "         -1.59844160e-02],\n",
              "        [ 2.01499969e-01, -5.07110208e-02,  1.85907334e-01,\n",
              "          7.94736445e-02, -1.03622228e-01, -8.58853757e-03,\n",
              "          1.20641828e-01,  4.29707766e-03, -1.73599422e-02,\n",
              "         -1.50320366e-01],\n",
              "        [ 2.55778432e-03,  1.10237479e-01, -6.73521459e-02,\n",
              "          1.42453134e-01, -1.33070737e-01,  1.75549746e-01,\n",
              "         -2.15282068e-01, -1.41719356e-01, -2.06906736e-01,\n",
              "          2.11893827e-01],\n",
              "        [-1.28643364e-01,  2.24513620e-01,  4.67554927e-02,\n",
              "          1.65619284e-01,  4.16572094e-02,  1.00632638e-01,\n",
              "         -8.04188550e-02, -1.80151820e-01, -7.06635416e-02,\n",
              "          5.65186143e-02],\n",
              "        [ 4.81510162e-03, -1.58801720e-01,  1.67440802e-01,\n",
              "          1.25399023e-01, -1.36073232e-02,  1.94594204e-01,\n",
              "         -2.18489274e-01,  2.17439383e-01,  1.33391857e-01,\n",
              "         -8.26438665e-02],\n",
              "        [ 2.31746674e-01,  1.72171056e-01,  2.05938071e-01,\n",
              "         -8.91688615e-02,  2.05388963e-02, -7.18529224e-02,\n",
              "          6.60557449e-02,  4.00230885e-02, -1.52312189e-01,\n",
              "         -8.30994695e-02],\n",
              "        [-2.22331703e-01,  2.21752167e-01,  3.84988189e-02,\n",
              "         -1.53412044e-01, -1.06573910e-01,  1.93431050e-01,\n",
              "          3.71754766e-02, -2.17334971e-01, -1.07571632e-01,\n",
              "          1.66523278e-01],\n",
              "        [-1.94572270e-01,  3.49579155e-02,  6.32825792e-02,\n",
              "          1.95888221e-01, -2.42829025e-02, -2.23743424e-01,\n",
              "         -1.26071051e-01,  2.17281282e-01, -5.71674109e-02,\n",
              "         -1.27230749e-01],\n",
              "        [ 1.38257563e-01, -5.43134660e-02, -5.15815020e-02,\n",
              "          1.07928962e-02,  2.07512438e-01,  1.75836682e-01,\n",
              "          1.73441172e-02,  2.08636969e-01,  1.13867313e-01,\n",
              "         -1.25404581e-01],\n",
              "        [ 1.59538388e-02, -1.42167270e-01,  2.05017149e-01,\n",
              "          1.48074418e-01, -1.21969752e-01, -1.73817918e-01,\n",
              "          2.08483487e-01, -1.98667169e-01, -2.49351114e-02,\n",
              "          1.03288859e-01],\n",
              "        [ 2.02739775e-01, -7.07349181e-02, -2.25067005e-01,\n",
              "          1.80999249e-01,  1.82422400e-02, -1.52822465e-01,\n",
              "          1.71820194e-01, -1.53951883e-01,  2.43238211e-02,\n",
              "         -5.38334697e-02],\n",
              "        [-3.41693908e-02,  1.16289735e-01, -4.66001481e-02,\n",
              "          2.23080695e-01, -9.79635417e-02,  8.73170793e-02,\n",
              "          1.61315411e-01, -2.18234301e-01, -3.32711190e-02,\n",
              "         -2.19267219e-01]], dtype=float32)>,\n",
              " <tf.Variable 'dense_2/bias:0' shape=(10,) dtype=float32, numpy=array([0., 0., 0., 0., 0., 0., 0., 0., 0., 0.], dtype=float32)>]"
            ]
          },
          "execution_count": 36,
          "metadata": {},
          "output_type": "execute_result"
        }
      ],
      "source": [
        "# TODO your code here\n",
        "model.weights"
      ]
    },
    {
      "cell_type": "markdown",
      "id": "3e5b069b-f680-41aa-90b8-aaaee02faa84",
      "metadata": {
        "id": "3e5b069b-f680-41aa-90b8-aaaee02faa84"
      },
      "source": [
        "Notice that the Dense layer initialized the connection weights randomly, and the biases were initialized to zeros, which is fine. If you ever want to use a different initialization method, you can set kernel_initializer (kernel is another name for the matrix of connection weights) or bias_initializer when creating the layer. We will discuss initializers later, but if you want the full list, see https://keras.io/initializers/."
      ]
    },
    {
      "cell_type": "markdown",
      "id": "0f4fd1cc-1a13-4897-ab63-0ab1f64b80b5",
      "metadata": {
        "id": "0f4fd1cc-1a13-4897-ab63-0ab1f64b80b5"
      },
      "source": [
        "### Printing the model summary\n",
        "The model’s summary() method displays all the model’s layers, including each layer’s\n",
        "name (which is automatically generated unless you set it when creating the layer), its output shape (None means the batch size can be anything), and its number of parameters. The summary ends with the total number of parameters, including trainable and non-trainable parameters. Here we only have trainable parameters (we will see examples of non-trainable parameters later when doing some transfer learning):"
      ]
    },
    {
      "cell_type": "code",
      "execution_count": 37,
      "id": "5efbd125-a21a-46b2-ba34-4b62f402749d",
      "metadata": {
        "id": "5efbd125-a21a-46b2-ba34-4b62f402749d"
      },
      "outputs": [
        {
          "name": "stdout",
          "output_type": "stream",
          "text": [
            "Model: \"sequential\"\n",
            "_________________________________________________________________\n",
            " Layer (type)                Output Shape              Param #   \n",
            "=================================================================\n",
            " flatten (Flatten)           (None, 784)               0         \n",
            "                                                                 \n",
            " dense (Dense)               (None, 300)               235500    \n",
            "                                                                 \n",
            " dense_1 (Dense)             (None, 100)               30100     \n",
            "                                                                 \n",
            " dense_2 (Dense)             (None, 10)                1010      \n",
            "                                                                 \n",
            "=================================================================\n",
            "Total params: 266,610\n",
            "Trainable params: 266,610\n",
            "Non-trainable params: 0\n",
            "_________________________________________________________________\n"
          ]
        }
      ],
      "source": [
        "model.summary()"
      ]
    },
    {
      "cell_type": "markdown",
      "id": "377a5391-1926-470c-b7b5-7c18d4c938f8",
      "metadata": {
        "id": "377a5391-1926-470c-b7b5-7c18d4c938f8"
      },
      "source": [
        "You can use the utility function `keras.utils.plot_model` to visualize a graph of the network you just created:"
      ]
    },
    {
      "cell_type": "code",
      "execution_count": 38,
      "id": "25b4d060-d3d2-4ca3-8a76-1a312896d920",
      "metadata": {
        "id": "25b4d060-d3d2-4ca3-8a76-1a312896d920"
      },
      "outputs": [
        {
          "name": "stdout",
          "output_type": "stream",
          "text": [
            "You must install pydot (`pip install pydot`) and install graphviz (see instructions at https://graphviz.gitlab.io/download/) for plot_model to work.\n"
          ]
        }
      ],
      "source": [
        "keras.utils.plot_model(model, \"my_fashion_mnist_model.png\", show_shapes=True)"
      ]
    },
    {
      "cell_type": "markdown",
      "id": "a2d2f73e-8eac-4d11-b87b-f5cc1ce5c3b6",
      "metadata": {
        "id": "a2d2f73e-8eac-4d11-b87b-f5cc1ce5c3b6"
      },
      "source": [
        "## Compile the model\n",
        "\n",
        "After a model is created, you must call its compile() method to specify the loss function and the optimizer to use. Optionally, you can specify a list of extra metrics to compute during training and evaluation:"
      ]
    },
    {
      "cell_type": "code",
      "execution_count": 39,
      "id": "9956f792-08c8-424f-983e-62b6d1662614",
      "metadata": {
        "id": "9956f792-08c8-424f-983e-62b6d1662614"
      },
      "outputs": [],
      "source": [
        "model.compile(loss=\"sparse_categorical_crossentropy\",\n",
        "              optimizer=\"sgd\",\n",
        "              metrics=[\"accuracy\"])"
      ]
    },
    {
      "cell_type": "markdown",
      "id": "4591dca0-442a-4f9c-a6bd-41b88ff6ded3",
      "metadata": {
        "id": "4591dca0-442a-4f9c-a6bd-41b88ff6ded3"
      },
      "source": [
        "This is equivalent to:"
      ]
    },
    {
      "cell_type": "markdown",
      "id": "c2aeff70-c6b0-448b-b3c9-ca4bfbc82403",
      "metadata": {
        "id": "c2aeff70-c6b0-448b-b3c9-ca4bfbc82403"
      },
      "source": [
        "```python\n",
        "model.compile(loss=keras.losses.sparse_categorical_crossentropy,\n",
        "              optimizer=keras.optimizers.SGD(),\n",
        "              metrics=[keras.metrics.sparse_categorical_accuracy])\n",
        "```"
      ]
    },
    {
      "cell_type": "markdown",
      "id": "fc452ed2-a0b7-4a93-b204-ab702342bc88",
      "metadata": {
        "id": "fc452ed2-a0b7-4a93-b204-ab702342bc88"
      },
      "source": [
        "We need to use the `sparse` version of the categorical cross entropy because our labels are not one-hot encoded:"
      ]
    },
    {
      "cell_type": "code",
      "execution_count": 40,
      "id": "475b733a-f4ff-444c-bdc9-1f68fafdbc8f",
      "metadata": {
        "id": "475b733a-f4ff-444c-bdc9-1f68fafdbc8f"
      },
      "outputs": [
        {
          "data": {
            "text/plain": [
              "array([9, 0, 0, 3, 0, 2, 7, 2, 5, 5], dtype=uint8)"
            ]
          },
          "execution_count": 40,
          "metadata": {},
          "output_type": "execute_result"
        }
      ],
      "source": [
        "y_train[:10]"
      ]
    },
    {
      "cell_type": "markdown",
      "id": "deeca30e-578e-4292-a947-438c5ba1b549",
      "metadata": {
        "id": "deeca30e-578e-4292-a947-438c5ba1b549"
      },
      "source": [
        "If they were already encoded, we would use `categorical_crossentropy` directly."
      ]
    },
    {
      "cell_type": "markdown",
      "id": "734c61ea-a454-466a-a507-e80474e3d421",
      "metadata": {
        "id": "734c61ea-a454-466a-a507-e80474e3d421"
      },
      "source": [
        "You can change set SGD's learning rate during the call to compile:\n",
        "```python\n",
        "model.compile(loss=keras.losses.sparse_categorical_crossentropy,\n",
        "              optimizer=keras.optimizers.SGD(lr=0.01),\n",
        "              metrics=[keras.metrics.sparse_categorical_accuracy])\n",
        "```"
      ]
    },
    {
      "cell_type": "markdown",
      "id": "904f35bd-3f04-47ca-ac63-6f2feb39d4d9",
      "metadata": {
        "id": "904f35bd-3f04-47ca-ac63-6f2feb39d4d9"
      },
      "source": [
        "Or you can change it later by acessing `model.optimizer`:"
      ]
    },
    {
      "cell_type": "code",
      "execution_count": 41,
      "id": "d2ca10f7-7a0d-4dfb-a9db-53ce8f278f2e",
      "metadata": {
        "id": "d2ca10f7-7a0d-4dfb-a9db-53ce8f278f2e"
      },
      "outputs": [],
      "source": [
        "model.optimizer.learning_rate = 0.01"
      ]
    },
    {
      "cell_type": "markdown",
      "id": "ccd596f9-3cfe-4d58-b1eb-5d9cc4825a31",
      "metadata": {
        "id": "ccd596f9-3cfe-4d58-b1eb-5d9cc4825a31"
      },
      "source": [
        "## Training the model"
      ]
    },
    {
      "cell_type": "markdown",
      "id": "04b13251-71d1-47ab-8d81-a7f7ff7099bd",
      "metadata": {
        "id": "04b13251-71d1-47ab-8d81-a7f7ff7099bd"
      },
      "source": [
        "Now the model is ready to be trained. For this we simply need to call its fit() method.\n",
        "\n",
        "As arguments, we provide the training samples and labels. We can also set some keyword arguments adjust the training procedure:"
      ]
    },
    {
      "cell_type": "code",
      "execution_count": 42,
      "id": "3a3a96a8-6558-4a6e-90fd-738ecea69f32",
      "metadata": {
        "id": "3a3a96a8-6558-4a6e-90fd-738ecea69f32",
        "tags": []
      },
      "outputs": [
        {
          "name": "stdout",
          "output_type": "stream",
          "text": [
            "Epoch 1/3\n",
            "1719/1719 [==============================] - 3s 2ms/step - loss: 0.7253 - accuracy: 0.7635 - val_loss: 0.5044 - val_accuracy: 0.8266\n",
            "Epoch 2/3\n",
            "1719/1719 [==============================] - 2s 1ms/step - loss: 0.4890 - accuracy: 0.8296 - val_loss: 0.4698 - val_accuracy: 0.8302\n",
            "Epoch 3/3\n",
            "1719/1719 [==============================] - 2s 1ms/step - loss: 0.4419 - accuracy: 0.8450 - val_loss: 0.4246 - val_accuracy: 0.8500\n"
          ]
        }
      ],
      "source": [
        "history = model.fit(X_train, y_train, epochs=3,\n",
        "                    validation_data=(X_valid, y_valid))"
      ]
    },
    {
      "cell_type": "code",
      "execution_count": 43,
      "id": "bVywAI5u20Gi",
      "metadata": {
        "id": "bVywAI5u20Gi"
      },
      "outputs": [
        {
          "name": "stdout",
          "output_type": "stream",
          "text": [
            "\u001b[0;31mSignature:\u001b[0m\n",
            "\u001b[0mmodel\u001b[0m\u001b[0;34m.\u001b[0m\u001b[0mfit\u001b[0m\u001b[0;34m(\u001b[0m\u001b[0;34m\u001b[0m\n",
            "\u001b[0;34m\u001b[0m    \u001b[0mx\u001b[0m\u001b[0;34m=\u001b[0m\u001b[0;32mNone\u001b[0m\u001b[0;34m,\u001b[0m\u001b[0;34m\u001b[0m\n",
            "\u001b[0;34m\u001b[0m    \u001b[0my\u001b[0m\u001b[0;34m=\u001b[0m\u001b[0;32mNone\u001b[0m\u001b[0;34m,\u001b[0m\u001b[0;34m\u001b[0m\n",
            "\u001b[0;34m\u001b[0m    \u001b[0mbatch_size\u001b[0m\u001b[0;34m=\u001b[0m\u001b[0;32mNone\u001b[0m\u001b[0;34m,\u001b[0m\u001b[0;34m\u001b[0m\n",
            "\u001b[0;34m\u001b[0m    \u001b[0mepochs\u001b[0m\u001b[0;34m=\u001b[0m\u001b[0;36m1\u001b[0m\u001b[0;34m,\u001b[0m\u001b[0;34m\u001b[0m\n",
            "\u001b[0;34m\u001b[0m    \u001b[0mverbose\u001b[0m\u001b[0;34m=\u001b[0m\u001b[0;34m'auto'\u001b[0m\u001b[0;34m,\u001b[0m\u001b[0;34m\u001b[0m\n",
            "\u001b[0;34m\u001b[0m    \u001b[0mcallbacks\u001b[0m\u001b[0;34m=\u001b[0m\u001b[0;32mNone\u001b[0m\u001b[0;34m,\u001b[0m\u001b[0;34m\u001b[0m\n",
            "\u001b[0;34m\u001b[0m    \u001b[0mvalidation_split\u001b[0m\u001b[0;34m=\u001b[0m\u001b[0;36m0.0\u001b[0m\u001b[0;34m,\u001b[0m\u001b[0;34m\u001b[0m\n",
            "\u001b[0;34m\u001b[0m    \u001b[0mvalidation_data\u001b[0m\u001b[0;34m=\u001b[0m\u001b[0;32mNone\u001b[0m\u001b[0;34m,\u001b[0m\u001b[0;34m\u001b[0m\n",
            "\u001b[0;34m\u001b[0m    \u001b[0mshuffle\u001b[0m\u001b[0;34m=\u001b[0m\u001b[0;32mTrue\u001b[0m\u001b[0;34m,\u001b[0m\u001b[0;34m\u001b[0m\n",
            "\u001b[0;34m\u001b[0m    \u001b[0mclass_weight\u001b[0m\u001b[0;34m=\u001b[0m\u001b[0;32mNone\u001b[0m\u001b[0;34m,\u001b[0m\u001b[0;34m\u001b[0m\n",
            "\u001b[0;34m\u001b[0m    \u001b[0msample_weight\u001b[0m\u001b[0;34m=\u001b[0m\u001b[0;32mNone\u001b[0m\u001b[0;34m,\u001b[0m\u001b[0;34m\u001b[0m\n",
            "\u001b[0;34m\u001b[0m    \u001b[0minitial_epoch\u001b[0m\u001b[0;34m=\u001b[0m\u001b[0;36m0\u001b[0m\u001b[0;34m,\u001b[0m\u001b[0;34m\u001b[0m\n",
            "\u001b[0;34m\u001b[0m    \u001b[0msteps_per_epoch\u001b[0m\u001b[0;34m=\u001b[0m\u001b[0;32mNone\u001b[0m\u001b[0;34m,\u001b[0m\u001b[0;34m\u001b[0m\n",
            "\u001b[0;34m\u001b[0m    \u001b[0mvalidation_steps\u001b[0m\u001b[0;34m=\u001b[0m\u001b[0;32mNone\u001b[0m\u001b[0;34m,\u001b[0m\u001b[0;34m\u001b[0m\n",
            "\u001b[0;34m\u001b[0m    \u001b[0mvalidation_batch_size\u001b[0m\u001b[0;34m=\u001b[0m\u001b[0;32mNone\u001b[0m\u001b[0;34m,\u001b[0m\u001b[0;34m\u001b[0m\n",
            "\u001b[0;34m\u001b[0m    \u001b[0mvalidation_freq\u001b[0m\u001b[0;34m=\u001b[0m\u001b[0;36m1\u001b[0m\u001b[0;34m,\u001b[0m\u001b[0;34m\u001b[0m\n",
            "\u001b[0;34m\u001b[0m    \u001b[0mmax_queue_size\u001b[0m\u001b[0;34m=\u001b[0m\u001b[0;36m10\u001b[0m\u001b[0;34m,\u001b[0m\u001b[0;34m\u001b[0m\n",
            "\u001b[0;34m\u001b[0m    \u001b[0mworkers\u001b[0m\u001b[0;34m=\u001b[0m\u001b[0;36m1\u001b[0m\u001b[0;34m,\u001b[0m\u001b[0;34m\u001b[0m\n",
            "\u001b[0;34m\u001b[0m    \u001b[0muse_multiprocessing\u001b[0m\u001b[0;34m=\u001b[0m\u001b[0;32mFalse\u001b[0m\u001b[0;34m,\u001b[0m\u001b[0;34m\u001b[0m\n",
            "\u001b[0;34m\u001b[0m\u001b[0;34m)\u001b[0m\u001b[0;34m\u001b[0m\u001b[0;34m\u001b[0m\u001b[0m\n",
            "\u001b[0;31mDocstring:\u001b[0m\n",
            "Trains the model for a fixed number of epochs (iterations on a dataset).\n",
            "\n",
            "Args:\n",
            "    x: Input data. It could be:\n",
            "      - A Numpy array (or array-like), or a list of arrays\n",
            "        (in case the model has multiple inputs).\n",
            "      - A TensorFlow tensor, or a list of tensors\n",
            "        (in case the model has multiple inputs).\n",
            "      - A dict mapping input names to the corresponding array/tensors,\n",
            "        if the model has named inputs.\n",
            "      - A `tf.data` dataset. Should return a tuple\n",
            "        of either `(inputs, targets)` or\n",
            "        `(inputs, targets, sample_weights)`.\n",
            "      - A generator or `keras.utils.Sequence` returning `(inputs,\n",
            "        targets)` or `(inputs, targets, sample_weights)`.\n",
            "      - A `tf.keras.utils.experimental.DatasetCreator`, which wraps a\n",
            "        callable that takes a single argument of type\n",
            "        `tf.distribute.InputContext`, and returns a `tf.data.Dataset`.\n",
            "        `DatasetCreator` should be used when users prefer to specify the\n",
            "        per-replica batching and sharding logic for the `Dataset`.\n",
            "        See `tf.keras.utils.experimental.DatasetCreator` doc for more\n",
            "        information.\n",
            "      A more detailed description of unpacking behavior for iterator\n",
            "      types (Dataset, generator, Sequence) is given below. If these\n",
            "      include `sample_weights` as a third component, note that sample\n",
            "      weighting applies to the `weighted_metrics` argument but not the\n",
            "      `metrics` argument in `compile()`. If using\n",
            "      `tf.distribute.experimental.ParameterServerStrategy`, only\n",
            "      `DatasetCreator` type is supported for `x`.\n",
            "    y: Target data. Like the input data `x`,\n",
            "      it could be either Numpy array(s) or TensorFlow tensor(s).\n",
            "      It should be consistent with `x` (you cannot have Numpy inputs and\n",
            "      tensor targets, or inversely). If `x` is a dataset, generator,\n",
            "      or `keras.utils.Sequence` instance, `y` should\n",
            "      not be specified (since targets will be obtained from `x`).\n",
            "    batch_size: Integer or `None`.\n",
            "        Number of samples per gradient update.\n",
            "        If unspecified, `batch_size` will default to 32.\n",
            "        Do not specify the `batch_size` if your data is in the\n",
            "        form of datasets, generators, or `keras.utils.Sequence`\n",
            "        instances (since they generate batches).\n",
            "    epochs: Integer. Number of epochs to train the model.\n",
            "        An epoch is an iteration over the entire `x` and `y`\n",
            "        data provided\n",
            "        (unless the `steps_per_epoch` flag is set to\n",
            "        something other than None).\n",
            "        Note that in conjunction with `initial_epoch`,\n",
            "        `epochs` is to be understood as \"final epoch\".\n",
            "        The model is not trained for a number of iterations\n",
            "        given by `epochs`, but merely until the epoch\n",
            "        of index `epochs` is reached.\n",
            "    verbose: 'auto', 0, 1, or 2. Verbosity mode.\n",
            "        0 = silent, 1 = progress bar, 2 = one line per epoch.\n",
            "        'auto' defaults to 1 for most cases, but 2 when used with\n",
            "        `ParameterServerStrategy`. Note that the progress bar is not\n",
            "        particularly useful when logged to a file, so verbose=2 is\n",
            "        recommended when not running interactively (eg, in a production\n",
            "        environment).\n",
            "    callbacks: List of `keras.callbacks.Callback` instances.\n",
            "        List of callbacks to apply during training.\n",
            "        See `tf.keras.callbacks`. Note\n",
            "        `tf.keras.callbacks.ProgbarLogger` and\n",
            "        `tf.keras.callbacks.History` callbacks are created automatically\n",
            "        and need not be passed into `model.fit`.\n",
            "        `tf.keras.callbacks.ProgbarLogger` is created or not based on\n",
            "        `verbose` argument to `model.fit`.\n",
            "        Callbacks with batch-level calls are currently unsupported with\n",
            "        `tf.distribute.experimental.ParameterServerStrategy`, and users\n",
            "        are advised to implement epoch-level calls instead with an\n",
            "        appropriate `steps_per_epoch` value.\n",
            "    validation_split: Float between 0 and 1.\n",
            "        Fraction of the training data to be used as validation data.\n",
            "        The model will set apart this fraction of the training data,\n",
            "        will not train on it, and will evaluate\n",
            "        the loss and any model metrics\n",
            "        on this data at the end of each epoch.\n",
            "        The validation data is selected from the last samples\n",
            "        in the `x` and `y` data provided, before shuffling. This\n",
            "        argument is not supported when `x` is a dataset, generator or\n",
            "        `keras.utils.Sequence` instance.\n",
            "        If both `validation_data` and `validation_split` are provided,\n",
            "        `validation_data` will override `validation_split`.\n",
            "        `validation_split` is not yet supported with\n",
            "        `tf.distribute.experimental.ParameterServerStrategy`.\n",
            "    validation_data: Data on which to evaluate\n",
            "        the loss and any model metrics at the end of each epoch.\n",
            "        The model will not be trained on this data. Thus, note the fact\n",
            "        that the validation loss of data provided using\n",
            "        `validation_split` or `validation_data` is not affected by\n",
            "        regularization layers like noise and dropout.\n",
            "        `validation_data` will override `validation_split`.\n",
            "        `validation_data` could be:\n",
            "          - A tuple `(x_val, y_val)` of Numpy arrays or tensors.\n",
            "          - A tuple `(x_val, y_val, val_sample_weights)` of NumPy\n",
            "            arrays.\n",
            "          - A `tf.data.Dataset`.\n",
            "          - A Python generator or `keras.utils.Sequence` returning\n",
            "          `(inputs, targets)` or `(inputs, targets, sample_weights)`.\n",
            "        `validation_data` is not yet supported with\n",
            "        `tf.distribute.experimental.ParameterServerStrategy`.\n",
            "    shuffle: Boolean (whether to shuffle the training data\n",
            "        before each epoch) or str (for 'batch'). This argument is\n",
            "        ignored when `x` is a generator or an object of tf.data.Dataset.\n",
            "        'batch' is a special option for dealing\n",
            "        with the limitations of HDF5 data; it shuffles in batch-sized\n",
            "        chunks. Has no effect when `steps_per_epoch` is not `None`.\n",
            "    class_weight: Optional dictionary mapping class indices (integers)\n",
            "        to a weight (float) value, used for weighting the loss function\n",
            "        (during training only).\n",
            "        This can be useful to tell the model to\n",
            "        \"pay more attention\" to samples from\n",
            "        an under-represented class.\n",
            "    sample_weight: Optional Numpy array of weights for\n",
            "        the training samples, used for weighting the loss function\n",
            "        (during training only). You can either pass a flat (1D)\n",
            "        Numpy array with the same length as the input samples\n",
            "        (1:1 mapping between weights and samples),\n",
            "        or in the case of temporal data,\n",
            "        you can pass a 2D array with shape\n",
            "        `(samples, sequence_length)`,\n",
            "        to apply a different weight to every timestep of every sample.\n",
            "        This argument is not supported when `x` is a dataset, generator,\n",
            "        or `keras.utils.Sequence` instance, instead provide the\n",
            "        sample_weights as the third element of `x`.\n",
            "        Note that sample weighting does not apply to metrics specified\n",
            "        via the `metrics` argument in `compile()`. To apply sample\n",
            "        weighting to your metrics, you can specify them via the\n",
            "        `weighted_metrics` in `compile()` instead.\n",
            "    initial_epoch: Integer.\n",
            "        Epoch at which to start training\n",
            "        (useful for resuming a previous training run).\n",
            "    steps_per_epoch: Integer or `None`.\n",
            "        Total number of steps (batches of samples)\n",
            "        before declaring one epoch finished and starting the\n",
            "        next epoch. When training with input tensors such as\n",
            "        TensorFlow data tensors, the default `None` is equal to\n",
            "        the number of samples in your dataset divided by\n",
            "        the batch size, or 1 if that cannot be determined. If x is a\n",
            "        `tf.data` dataset, and 'steps_per_epoch'\n",
            "        is None, the epoch will run until the input dataset is\n",
            "        exhausted.  When passing an infinitely repeating dataset, you\n",
            "        must specify the `steps_per_epoch` argument. If\n",
            "        `steps_per_epoch=-1` the training will run indefinitely with an\n",
            "        infinitely repeating dataset.  This argument is not supported\n",
            "        with array inputs.\n",
            "        When using `tf.distribute.experimental.ParameterServerStrategy`:\n",
            "          * `steps_per_epoch=None` is not supported.\n",
            "    validation_steps: Only relevant if `validation_data` is provided and\n",
            "        is a `tf.data` dataset. Total number of steps (batches of\n",
            "        samples) to draw before stopping when performing validation\n",
            "        at the end of every epoch. If 'validation_steps' is None,\n",
            "        validation will run until the `validation_data` dataset is\n",
            "        exhausted. In the case of an infinitely repeated dataset, it\n",
            "        will run into an infinite loop. If 'validation_steps' is\n",
            "        specified and only part of the dataset will be consumed, the\n",
            "        evaluation will start from the beginning of the dataset at each\n",
            "        epoch. This ensures that the same validation samples are used\n",
            "        every time.\n",
            "    validation_batch_size: Integer or `None`.\n",
            "        Number of samples per validation batch.\n",
            "        If unspecified, will default to `batch_size`.\n",
            "        Do not specify the `validation_batch_size` if your data is in\n",
            "        the form of datasets, generators, or `keras.utils.Sequence`\n",
            "        instances (since they generate batches).\n",
            "    validation_freq: Only relevant if validation data is provided.\n",
            "      Integer or `collections.abc.Container` instance (e.g. list, tuple,\n",
            "      etc.).  If an integer, specifies how many training epochs to run\n",
            "      before a new validation run is performed, e.g. `validation_freq=2`\n",
            "      runs validation every 2 epochs. If a Container, specifies the\n",
            "      epochs on which to run validation, e.g.\n",
            "      `validation_freq=[1, 2, 10]` runs validation at the end of the\n",
            "      1st, 2nd, and 10th epochs.\n",
            "    max_queue_size: Integer. Used for generator or\n",
            "      `keras.utils.Sequence` input only. Maximum size for the generator\n",
            "      queue.  If unspecified, `max_queue_size` will default to 10.\n",
            "    workers: Integer. Used for generator or `keras.utils.Sequence` input\n",
            "        only. Maximum number of processes to spin up\n",
            "        when using process-based threading. If unspecified, `workers`\n",
            "        will default to 1.\n",
            "    use_multiprocessing: Boolean. Used for generator or\n",
            "        `keras.utils.Sequence` input only. If `True`, use process-based\n",
            "        threading. If unspecified, `use_multiprocessing` will default to\n",
            "        `False`. Note that because this implementation relies on\n",
            "        multiprocessing, you should not pass non-picklable arguments to\n",
            "        the generator as they can't be passed easily to children\n",
            "        processes.\n",
            "\n",
            "Unpacking behavior for iterator-like inputs:\n",
            "    A common pattern is to pass a tf.data.Dataset, generator, or\n",
            "  tf.keras.utils.Sequence to the `x` argument of fit, which will in fact\n",
            "  yield not only features (x) but optionally targets (y) and sample\n",
            "  weights.  Keras requires that the output of such iterator-likes be\n",
            "  unambiguous. The iterator should return a tuple of length 1, 2, or 3,\n",
            "  where the optional second and third elements will be used for y and\n",
            "  sample_weight respectively. Any other type provided will be wrapped in\n",
            "  a length one tuple, effectively treating everything as 'x'. When\n",
            "  yielding dicts, they should still adhere to the top-level tuple\n",
            "  structure.\n",
            "  e.g. `({\"x0\": x0, \"x1\": x1}, y)`. Keras will not attempt to separate\n",
            "  features, targets, and weights from the keys of a single dict.\n",
            "    A notable unsupported data type is the namedtuple. The reason is\n",
            "  that it behaves like both an ordered datatype (tuple) and a mapping\n",
            "  datatype (dict). So given a namedtuple of the form:\n",
            "      `namedtuple(\"example_tuple\", [\"y\", \"x\"])`\n",
            "  it is ambiguous whether to reverse the order of the elements when\n",
            "  interpreting the value. Even worse is a tuple of the form:\n",
            "      `namedtuple(\"other_tuple\", [\"x\", \"y\", \"z\"])`\n",
            "  where it is unclear if the tuple was intended to be unpacked into x,\n",
            "  y, and sample_weight or passed through as a single element to `x`. As\n",
            "  a result the data processing code will simply raise a ValueError if it\n",
            "  encounters a namedtuple. (Along with instructions to remedy the\n",
            "  issue.)\n",
            "\n",
            "Returns:\n",
            "    A `History` object. Its `History.history` attribute is\n",
            "    a record of training loss values and metrics values\n",
            "    at successive epochs, as well as validation loss values\n",
            "    and validation metrics values (if applicable).\n",
            "\n",
            "Raises:\n",
            "    RuntimeError: 1. If the model was never compiled or,\n",
            "    2. If `model.fit` is  wrapped in `tf.function`.\n",
            "\n",
            "    ValueError: In case of mismatch between the provided input data\n",
            "        and what the model expects or when the input data is empty.\n",
            "\u001b[0;31mFile:\u001b[0m      ~/.local/lib/python3.10/site-packages/keras/engine/training.py\n",
            "\u001b[0;31mType:\u001b[0m      method\n"
          ]
        }
      ],
      "source": [
        "?model.fit"
      ]
    },
    {
      "cell_type": "markdown",
      "id": "56f05326-710b-416c-9bcd-db5bc1834f66",
      "metadata": {
        "id": "56f05326-710b-416c-9bcd-db5bc1834f66"
      },
      "source": [
        "### Plotting learning curves\n",
        "`model.fit` returns a history object that logs loss values for training and validation sets, as well as accuracy values (because we set it as a metric during the `compile` step)."
      ]
    },
    {
      "cell_type": "code",
      "execution_count": 44,
      "id": "67f345e8-dc68-457c-a84c-678baccc96d8",
      "metadata": {
        "id": "67f345e8-dc68-457c-a84c-678baccc96d8"
      },
      "outputs": [
        {
          "data": {
            "text/plain": [
              "{'verbose': 1, 'epochs': 3, 'steps': 1719}"
            ]
          },
          "execution_count": 44,
          "metadata": {},
          "output_type": "execute_result"
        }
      ],
      "source": [
        "history.params"
      ]
    },
    {
      "cell_type": "code",
      "execution_count": 45,
      "id": "da92dde3-45ce-4d13-8864-f050423d6d3f",
      "metadata": {
        "id": "da92dde3-45ce-4d13-8864-f050423d6d3f"
      },
      "outputs": [
        {
          "data": {
            "text/plain": [
              "[0, 1, 2]"
            ]
          },
          "execution_count": 45,
          "metadata": {},
          "output_type": "execute_result"
        }
      ],
      "source": [
        "history.epoch"
      ]
    },
    {
      "cell_type": "code",
      "execution_count": 46,
      "id": "9162d327-9f60-4c9a-9672-f97b6df5bf66",
      "metadata": {
        "id": "9162d327-9f60-4c9a-9672-f97b6df5bf66"
      },
      "outputs": [
        {
          "data": {
            "text/plain": [
              "dict_keys(['loss', 'accuracy', 'val_loss', 'val_accuracy'])"
            ]
          },
          "execution_count": 46,
          "metadata": {},
          "output_type": "execute_result"
        }
      ],
      "source": [
        "history.history.keys()"
      ]
    },
    {
      "cell_type": "code",
      "execution_count": 47,
      "id": "RLNQI0L8ZXbw",
      "metadata": {
        "id": "RLNQI0L8ZXbw"
      },
      "outputs": [],
      "source": [
        "def plot_learning_curves(history):\n",
        "    df = pd.DataFrame(history.history, index=np.array(history.epoch)+1)\n",
        "    df.plot(figsize=(8, 5), fontsize=12)\n",
        "    plt.grid(True)\n",
        "    plt.gca().set_ylim(0, 1)\n",
        "    plt.xlabel('epochs', fontsize=12)\n",
        "    plt.title ('learning curves', fontsize=12)\n",
        "    plt.legend(fontsize=12)\n",
        "    plt.show()"
      ]
    },
    {
      "cell_type": "code",
      "execution_count": 48,
      "id": "6e0be8d2-911a-4761-b630-1ad26dcdde32",
      "metadata": {
        "id": "6e0be8d2-911a-4761-b630-1ad26dcdde32"
      },
      "outputs": [
        {
          "data": {
            "image/png": "[encoded data removed]",
            "text/plain": [
              "<Figure size 576x360 with 1 Axes>"
            ]
          },
          "metadata": {
            "needs_background": "light"
          },
          "output_type": "display_data"
        }
      ],
      "source": [
        "plot_learning_curves(history)"
      ]
    },
    {
      "cell_type": "markdown",
      "id": "78666f23-fb35-44f8-8e80-dd8c420d088d",
      "metadata": {
        "id": "78666f23-fb35-44f8-8e80-dd8c420d088d"
      },
      "source": [
        "## Evaluating and making predictions on the test set\n",
        "\n",
        "You can use the methods `model.evaluate` and `model.predict` on the test set:"
      ]
    },
    {
      "cell_type": "code",
      "execution_count": 49,
      "id": "e8289124-d4df-4fc1-ae74-7da77b8e5872",
      "metadata": {
        "id": "e8289124-d4df-4fc1-ae74-7da77b8e5872"
      },
      "outputs": [
        {
          "name": "stdout",
          "output_type": "stream",
          "text": [
            "313/313 [==============================] - 0s 886us/step - loss: 0.4591 - accuracy: 0.8390\n"
          ]
        },
        {
          "data": {
            "text/plain": [
              "[0.4591194689273834, 0.8389999866485596]"
            ]
          },
          "execution_count": 49,
          "metadata": {},
          "output_type": "execute_result"
        }
      ],
      "source": [
        "model.evaluate(X_test, y_test)"
      ]
    },
    {
      "cell_type": "code",
      "execution_count": 50,
      "id": "4a1d0832-83e1-436f-a46e-2eb1cb3ba237",
      "metadata": {
        "id": "4a1d0832-83e1-436f-a46e-2eb1cb3ba237"
      },
      "outputs": [
        {
          "name": "stdout",
          "output_type": "stream",
          "text": [
            "313/313 [==============================] - 0s 747us/step\n"
          ]
        }
      ],
      "source": [
        "y_proba = model.predict(X_test)"
      ]
    },
    {
      "cell_type": "markdown",
      "id": "236cedec",
      "metadata": {
        "id": "236cedec"
      },
      "source": [
        "Let's see the predictions for the first 3 images:"
      ]
    },
    {
      "cell_type": "code",
      "execution_count": 51,
      "id": "7ab398e4",
      "metadata": {
        "id": "7ab398e4"
      },
      "outputs": [
        {
          "data": {
            "text/plain": [
              "array([[0.  , 0.  , 0.  , 0.  , 0.  , 0.16, 0.  , 0.19, 0.  , 0.65],\n",
              "       [0.  , 0.  , 0.84, 0.  , 0.03, 0.  , 0.13, 0.  , 0.  , 0.  ],\n",
              "       [0.  , 1.  , 0.  , 0.  , 0.  , 0.  , 0.  , 0.  , 0.  , 0.  ]],\n",
              "      dtype=float32)"
            ]
          },
          "execution_count": 51,
          "metadata": {},
          "output_type": "execute_result"
        }
      ],
      "source": [
        "y_proba.round(2)[:3,:]"
      ]
    },
    {
      "cell_type": "code",
      "execution_count": 52,
      "id": "9432ec2d-7522-4581-b227-aa49788001f6",
      "metadata": {
        "id": "9432ec2d-7522-4581-b227-aa49788001f6"
      },
      "outputs": [
        {
          "data": {
            "image/png": "[encoded data removed]",
            "text/plain": [
              "<Figure size 518.4x172.8 with 3 Axes>"
            ]
          },
          "metadata": {
            "needs_background": "light"
          },
          "output_type": "display_data"
        }
      ],
      "source": [
        "# First 3 images\n",
        "plt.figure(figsize=(7.2, 2.4))\n",
        "for index, image in enumerate(X_test[:3]):\n",
        "    plt.subplot(1, 3, index + 1)\n",
        "    plt.imshow(image, cmap=\"binary\", interpolation=\"nearest\")\n",
        "    plt.axis('off')\n",
        "    plt.title(class_names[y_test[index]], fontsize=12)\n",
        "plt.subplots_adjust(wspace=0.2, hspace=0.5)\n",
        "plt.show()"
      ]
    },
    {
      "cell_type": "markdown",
      "id": "1891f54f-4fc5-4ac3-bf57-ea678a2059e3",
      "metadata": {
        "id": "1891f54f-4fc5-4ac3-bf57-ea678a2059e3"
      },
      "source": [
        "The model outputs a vector per sample, containing the predicted class distributions. You can obtain most likely class id by finding the one with the highest probability:"
      ]
    },
    {
      "cell_type": "code",
      "execution_count": 53,
      "id": "a2392578-b263-4f3f-94d6-1069eb242ee2",
      "metadata": {
        "id": "a2392578-b263-4f3f-94d6-1069eb242ee2"
      },
      "outputs": [
        {
          "name": "stdout",
          "output_type": "stream",
          "text": [
            "313/313 [==============================] - 0s 759us/step\n"
          ]
        },
        {
          "data": {
            "text/plain": [
              "array([9, 2, 1])"
            ]
          },
          "execution_count": 53,
          "metadata": {},
          "output_type": "execute_result"
        }
      ],
      "source": [
        "y_pred = np.argmax(model.predict(X_test), axis=-1)\n",
        "y_pred[:3]"
      ]
    },
    {
      "cell_type": "markdown",
      "id": "Hg6qOEaEP1Se",
      "metadata": {
        "id": "Hg6qOEaEP1Se"
      },
      "source": [
        "### TODO: Check your predicitons\n",
        "Print the corresponding labels for these predictions and check if they are correct"
      ]
    },
    {
      "cell_type": "code",
      "execution_count": 54,
      "id": "f9a91a07-8026-4779-a45c-b00539504271",
      "metadata": {
        "id": "f9a91a07-8026-4779-a45c-b00539504271"
      },
      "outputs": [
        {
          "name": "stdout",
          "output_type": "stream",
          "text": [
            "Ankle boot\n",
            "Pullover\n",
            "Trouser\n"
          ]
        }
      ],
      "source": [
        "# TODO your code here\n",
        "print(class_names[y_pred[0]])\n",
        "print(class_names[y_pred[1]])\n",
        "print(class_names[y_pred[2]])"
      ]
    },
    {
      "cell_type": "markdown",
      "id": "_K-B1JsGN_mr",
      "metadata": {
        "id": "_K-B1JsGN_mr"
      },
      "source": [
        "### Plotting predicted class distributions\n",
        "\n",
        "Here is some useful plotting code to visualize images alongside their predicted probabilities."
      ]
    },
    {
      "cell_type": "code",
      "execution_count": 55,
      "id": "f753a1f0-a610-431b-8ae1-26221eedb2a9",
      "metadata": {
        "id": "f753a1f0-a610-431b-8ae1-26221eedb2a9"
      },
      "outputs": [],
      "source": [
        "def plot_image(i, predictions, true_label, img):\n",
        "    true_label, img = true_label[i], img[i]\n",
        "    pred_probas = predictions[i]\n",
        "    plt.grid(False)\n",
        "    plt.xticks([])\n",
        "    plt.yticks([])\n",
        "\n",
        "    plt.imshow(img, cmap=plt.cm.binary)\n",
        "\n",
        "    predicted_label = np.argmax(pred_probas)\n",
        "    if predicted_label == true_label:\n",
        "        color = 'blue'\n",
        "    else:\n",
        "        color = 'red'\n",
        "\n",
        "    xlabel = \"{} {:2.0f}% ({})\".format(class_names[predicted_label],\n",
        "                                100*np.max(pred_probas),\n",
        "                                class_names[true_label])\n",
        "    plt.xlabel(xlabel, color=color, fontsize=12)\n",
        "\n",
        "def plot_probas(i, predictions, true_label):\n",
        "    # Color correct predictions in blue and incorrect predictions in red.\n",
        "    true_label = true_label[i]\n",
        "    pred_probas = predictions[i]\n",
        "    plt.grid(False)\n",
        "    plt.xticks(range(10), labels=class_names, rotation=90, fontsize=12)\n",
        "    plt.yticks([])\n",
        "    thisplot = plt.bar(range(10), pred_probas, color=\"#777777\")\n",
        "    plt.ylim([0, 1])\n",
        "    predicted_label = np.argmax(pred_probas)\n",
        "\n",
        "    thisplot[predicted_label].set_color('red')\n",
        "    thisplot[true_label].set_color('blue')\n",
        "\n",
        "def plot_image_with_preds(i, X_test, y_test, y_proba):\n",
        "    plt.figure(figsize=(8,4))\n",
        "    plt.subplot(1,2,1)\n",
        "    plot_image(i, y_proba, y_test, X_test)\n",
        "    plt.subplot(1,2,2)\n",
        "    plot_probas(i, y_proba,  y_test)\n",
        "    "
      ]
    },
    {
      "cell_type": "code",
      "execution_count": 56,
      "id": "f0e71164-6e58-4690-8b0d-5f82b8c86808",
      "metadata": {
        "id": "f0e71164-6e58-4690-8b0d-5f82b8c86808",
        "tags": []
      },
      "outputs": [
        {
          "data": {
            "image/png": "[encoded data removed]",
            "text/plain": [
              "<Figure size 576x288 with 2 Axes>"
            ]
          },
          "metadata": {
            "needs_background": "light"
          },
          "output_type": "display_data"
        }
      ],
      "source": [
        "i = 1\n",
        "plot_image_with_preds(i, X_test, y_test, y_proba)\n",
        "plt.show()"
      ]
    },
    {
      "cell_type": "code",
      "execution_count": 57,
      "id": "912595a4-be19-4970-99f1-974a60e77abf",
      "metadata": {
        "id": "912595a4-be19-4970-99f1-974a60e77abf"
      },
      "outputs": [
        {
          "data": {
            "image/png": "[encoded data removed]",
            "text/plain": [
              "<Figure size 576x288 with 2 Axes>"
            ]
          },
          "metadata": {
            "needs_background": "light"
          },
          "output_type": "display_data"
        }
      ],
      "source": [
        "i = 12\n",
        "plot_image_with_preds(i, X_test, y_test, y_proba)\n",
        "plt.show()"
      ]
    },
    {
      "cell_type": "markdown",
      "id": "a0a49060-7863-4731-8e74-e0b424b194b8",
      "metadata": {
        "id": "a0a49060-7863-4731-8e74-e0b424b194b8"
      },
      "source": [
        "Let's plot several images with their predictions. Note that the model can be wrong even when very confident."
      ]
    },
    {
      "cell_type": "code",
      "execution_count": 58,
      "id": "ad3ad800-2477-44c4-ac7d-218eb2b0f869",
      "metadata": {
        "id": "ad3ad800-2477-44c4-ac7d-218eb2b0f869"
      },
      "outputs": [
        {
          "data": {
            "image/png": "[encoded data removed]",
            "text/plain": [
              "<Figure size 864x1080 with 20 Axes>"
            ]
          },
          "metadata": {
            "needs_background": "light"
          },
          "output_type": "display_data"
        }
      ],
      "source": [
        "# Plot the first X test images, their predicted labels, and the true labels.\n",
        "num_rows = 5\n",
        "num_cols = 2\n",
        "num_images = num_rows*num_cols\n",
        "plt.figure(figsize=(2*3*num_cols, 3*num_rows))\n",
        "for i in range(num_images):\n",
        "    plt.subplot(num_rows, 2*num_cols, 2*i+1)\n",
        "    plot_image(i, y_proba, y_test, X_test)\n",
        "    plt.subplot(num_rows, 2*num_cols, 2*i+2)\n",
        "    plot_probas(i, y_proba, y_test)\n",
        "plt.tight_layout()\n",
        "plt.show()"
      ]
    },
    {
      "cell_type": "markdown",
      "id": "e800149f-cc23-4394-b577-c8cbaf347489",
      "metadata": {
        "id": "e800149f-cc23-4394-b577-c8cbaf347489"
      },
      "source": [
        "## Using Callbacks during Training\n",
        "The `fit()` method accepts a `callbacks` argument that lets you specify a list of objects that Keras will call at the start and end of training, at the start and end of each epoch, and even before and after processing each batch. For example, the `ModelCheckpoint` callback saves checkpoints of your model at regular intervals during training, by default at the end of each epoch:"
      ]
    },
    {
      "cell_type": "code",
      "execution_count": 59,
      "id": "DfMdErwxSXR2",
      "metadata": {
        "id": "DfMdErwxSXR2"
      },
      "outputs": [],
      "source": [
        "checkpoint_cb = keras.callbacks.ModelCheckpoint(\"my_keras_model.h5\", save_best_only=True)"
      ]
    },
    {
      "cell_type": "markdown",
      "id": "cKEuL4H1TubP",
      "metadata": {
        "id": "cKEuL4H1TubP"
      },
      "source": [
        "With the `save_best_only` parameter set, only the weights corresponding to the best model on validaiton are kept. This allows us to easily rollback to the best model after some epochs of training:\n",
        "``` python\n",
        "history = model.fit(X_train, y_train, epochs=10,\n",
        "                    validation_data=(X_valid, y_valid),\n",
        "                    callbacks=[checkpoint_cb])\n",
        "model = keras.models.load_model(\"my_keras_model.h5\") # rollback to best model\n",
        "acc_test = model.evaluate(X_test, y_test)\n",
        "```"
      ]
    },
    {
      "cell_type": "markdown",
      "id": "ccB83lghUcl2",
      "metadata": {
        "id": "ccB83lghUcl2"
      },
      "source": [
        "Callbacks can be used to implement early stopping and learning rate decay schedules. It is also possible to sub-class `keras.callbacks.Callback` and implement your own custom callback. You can check a list of the available callbacks in the [tf.keras docs](https://www.tensorflow.org/api_docs/python/tf/keras/callbacks) or in the [keras.io docs](https://keras.io/api/callbacks/)."
      ]
    },
    {
      "cell_type": "code",
      "execution_count": 60,
      "id": "CbpjNnlLVWOR",
      "metadata": {
        "id": "CbpjNnlLVWOR"
      },
      "outputs": [],
      "source": [
        "early_stopping_cb = keras.callbacks.EarlyStopping(monitor='val_loss', patience=10, restore_best_weights=True)\n",
        "lr_cb = keras.callbacks.ReduceLROnPlateau(monitor=\"loss\", patience=10)"
      ]
    },
    {
      "cell_type": "markdown",
      "id": "OqWlkibjgjwL",
      "metadata": {
        "id": "OqWlkibjgjwL"
      },
      "source": [
        "We will also use a callback to log metrics for visualization with Tensorboard:"
      ]
    },
    {
      "cell_type": "code",
      "execution_count": 61,
      "id": "iUKbV9SsgwPp",
      "metadata": {
        "id": "iUKbV9SsgwPp"
      },
      "outputs": [],
      "source": [
        "root_logdir = os.path.join(os.curdir, \"my_logs\")\n",
        "def get_run_logdir():\n",
        "    import time\n",
        "    run_id = time.strftime(\"run_%Y.%m.%d_%H:%M:%S\")\n",
        "    return os.path.join(root_logdir, run_id)\n",
        "\n",
        "run_logdir = get_run_logdir()\n",
        "run_logdir\n",
        "# callback creation\n",
        "tensorboard_cb = keras.callbacks.TensorBoard(run_logdir)"
      ]
    },
    {
      "cell_type": "markdown",
      "id": "124321f1-b711-4140-a5d0-3ff78716b1bc",
      "metadata": {
        "id": "124321f1-b711-4140-a5d0-3ff78716b1bc"
      },
      "source": [
        "### TensorBoard\n",
        "Tensorboard is a tool allowing visualization of metrics logged during the training of a model. You can use it within colab (or jupyter) by loading the tensorboard extension:"
      ]
    },
    {
      "cell_type": "code",
      "execution_count": 62,
      "id": "dhpOFCIlfcGI",
      "metadata": {
        "id": "dhpOFCIlfcGI"
      },
      "outputs": [],
      "source": [
        "# Load the TensorBoard notebook extension\n",
        "%load_ext tensorboard"
      ]
    },
    {
      "cell_type": "markdown",
      "id": "khmgzj_nfzeX",
      "metadata": {
        "id": "khmgzj_nfzeX"
      },
      "source": [
        "To start TensorBoard within the notebook, use the dedicated magic command (you need to give the same root log directory passed to the tensorboard callback):"
      ]
    },
    {
      "cell_type": "code",
      "execution_count": 63,
      "id": "E7XOvvFGfo7u",
      "metadata": {
        "id": "E7XOvvFGfo7u"
      },
      "outputs": [
        {
          "data": {
            "text/html": [
              "\n",
              "      <iframe id=\"tensorboard-frame-13769424e090cf25\" width=\"100%\" height=\"800\" frameborder=\"0\">\n",
              "      </iframe>\n",
              "      <script>\n",
              "        (function() {\n",
              "          const frame = document.getElementById(\"tensorboard-frame-13769424e090cf25\");\n",
              "          const url = new URL(\"/\", window.location);\n",
              "          const port = 6006;\n",
              "          if (port) {\n",
              "            url.port = port;\n",
              "          }\n",
              "          frame.src = url;\n",
              "        })();\n",
              "      </script>\n",
              "    "
            ],
            "text/plain": [
              "<IPython.core.display.HTML object>"
            ]
          },
          "metadata": {},
          "output_type": "display_data"
        }
      ],
      "source": [
        "%tensorboard --logdir my_logs"
      ]
    },
    {
      "cell_type": "markdown",
      "id": "4IJA52Qif6kI",
      "metadata": {
        "id": "4IJA52Qif6kI"
      },
      "source": [
        "You can now view dashboards such as scalars, graphs, histograms, and others. If you launch new runs using the tensorboard callback (which is linked to this log directory `my_logs`) they should apear in the interface imediately, allowing you live monitoring the evolution of your training.\n"
      ]
    },
    {
      "cell_type": "markdown",
      "id": "QP-oLPDSV6dk",
      "metadata": {
        "id": "QP-oLPDSV6dk"
      },
      "source": [
        "### TODO: retrain model with callbacks\n",
        "Let's train our model for a longer number of epochs using all the previous callbacks. \n",
        "You can set a large number of epochs since early stopping is in place. Plot the learning curves and decide if your model is underfitting or overfitting."
      ]
    },
    {
      "cell_type": "code",
      "execution_count": 64,
      "id": "OvG58PTGTq5x",
      "metadata": {
        "id": "OvG58PTGTq5x"
      },
      "outputs": [
        {
          "name": "stdout",
          "output_type": "stream",
          "text": [
            "Epoch 1/20\n",
            "1719/1719 [==============================] - 4s 2ms/step - loss: 0.4149 - accuracy: 0.8547 - val_loss: 0.4147 - val_accuracy: 0.8514 - lr: 0.0100\n",
            "Epoch 2/20\n",
            "1719/1719 [==============================] - 3s 2ms/step - loss: 0.3953 - accuracy: 0.8617 - val_loss: 0.4038 - val_accuracy: 0.8554 - lr: 0.0100\n",
            "Epoch 3/20\n",
            "1719/1719 [==============================] - 3s 1ms/step - loss: 0.3776 - accuracy: 0.8672 - val_loss: 0.3832 - val_accuracy: 0.8648 - lr: 0.0100\n",
            "Epoch 4/20\n",
            "1719/1719 [==============================] - 2s 1ms/step - loss: 0.3663 - accuracy: 0.8717 - val_loss: 0.3628 - val_accuracy: 0.8700 - lr: 0.0100\n",
            "Epoch 5/20\n",
            "1719/1719 [==============================] - 2s 1ms/step - loss: 0.3534 - accuracy: 0.8753 - val_loss: 0.3625 - val_accuracy: 0.8668 - lr: 0.0100\n",
            "Epoch 6/20\n",
            "1719/1719 [==============================] - 2s 1ms/step - loss: 0.3428 - accuracy: 0.8781 - val_loss: 0.3722 - val_accuracy: 0.8706 - lr: 0.0100\n",
            "Epoch 7/20\n",
            "1719/1719 [==============================] - 2s 1ms/step - loss: 0.3343 - accuracy: 0.8806 - val_loss: 0.3505 - val_accuracy: 0.8764 - lr: 0.0100\n",
            "Epoch 8/20\n",
            "1719/1719 [==============================] - 2s 1ms/step - loss: 0.3258 - accuracy: 0.8833 - val_loss: 0.3494 - val_accuracy: 0.8746 - lr: 0.0100\n",
            "Epoch 9/20\n",
            "1719/1719 [==============================] - 2s 1ms/step - loss: 0.3177 - accuracy: 0.8866 - val_loss: 0.3343 - val_accuracy: 0.8812 - lr: 0.0100\n",
            "Epoch 10/20\n",
            "1719/1719 [==============================] - 2s 1ms/step - loss: 0.3099 - accuracy: 0.8892 - val_loss: 0.3396 - val_accuracy: 0.8782 - lr: 0.0100\n",
            "Epoch 11/20\n",
            "1719/1719 [==============================] - 3s 1ms/step - loss: 0.3030 - accuracy: 0.8918 - val_loss: 0.3545 - val_accuracy: 0.8716 - lr: 0.0100\n",
            "Epoch 12/20\n",
            "1719/1719 [==============================] - 2s 1ms/step - loss: 0.2966 - accuracy: 0.8925 - val_loss: 0.3374 - val_accuracy: 0.8760 - lr: 0.0100\n",
            "Epoch 13/20\n",
            "1719/1719 [==============================] - 2s 1ms/step - loss: 0.2904 - accuracy: 0.8974 - val_loss: 0.3206 - val_accuracy: 0.8828 - lr: 0.0100\n",
            "Epoch 14/20\n",
            "1719/1719 [==============================] - 2s 1ms/step - loss: 0.2847 - accuracy: 0.8969 - val_loss: 0.3278 - val_accuracy: 0.8818 - lr: 0.0100\n",
            "Epoch 15/20\n",
            "1719/1719 [==============================] - 2s 1ms/step - loss: 0.2793 - accuracy: 0.9007 - val_loss: 0.3267 - val_accuracy: 0.8856 - lr: 0.0100\n",
            "Epoch 16/20\n",
            "1719/1719 [==============================] - 2s 1ms/step - loss: 0.2731 - accuracy: 0.9015 - val_loss: 0.3240 - val_accuracy: 0.8818 - lr: 0.0100\n",
            "Epoch 17/20\n",
            "1719/1719 [==============================] - 2s 1ms/step - loss: 0.2684 - accuracy: 0.9038 - val_loss: 0.3287 - val_accuracy: 0.8766 - lr: 0.0100\n",
            "Epoch 18/20\n",
            "1719/1719 [==============================] - 2s 1ms/step - loss: 0.2629 - accuracy: 0.9054 - val_loss: 0.3171 - val_accuracy: 0.8840 - lr: 0.0100\n",
            "Epoch 19/20\n",
            "1719/1719 [==============================] - 2s 1ms/step - loss: 0.2588 - accuracy: 0.9076 - val_loss: 0.3435 - val_accuracy: 0.8716 - lr: 0.0100\n",
            "Epoch 20/20\n",
            "1719/1719 [==============================] - 2s 1ms/step - loss: 0.2544 - accuracy: 0.9089 - val_loss: 0.3141 - val_accuracy: 0.8858 - lr: 0.0100\n",
            "313/313 [==============================] - 0s 869us/step - loss: 0.3376 - accuracy: 0.8802\n"
          ]
        }
      ],
      "source": [
        "history = model.fit(\n",
        "    # TODO your code here\n",
        "    X_train, y_train, epochs=20,\n",
        "    validation_data=(X_valid, y_valid),\n",
        "    callbacks=[checkpoint_cb,early_stopping_cb,lr_cb,tensorboard_cb]\n",
        ")\n",
        "model = keras.models.load_model(\"my_keras_model.h5\") # rollback to best model\n",
        "\n",
        "acc_test = model.evaluate(X_test, y_test)"
      ]
    },
    {
      "cell_type": "code",
      "execution_count": 65,
      "id": "h8Bx2A3WeoNC",
      "metadata": {
        "id": "h8Bx2A3WeoNC"
      },
      "outputs": [
        {
          "data": {
            "image/png": "[encoded data removed]",
            "text/plain": [
              "<Figure size 576x360 with 1 Axes>"
            ]
          },
          "metadata": {
            "needs_background": "light"
          },
          "output_type": "display_data"
        }
      ],
      "source": [
        "plot_learning_curves(history)"
      ]
    },
    {
      "cell_type": "markdown",
      "id": "ebd99c7e-4acf-4b4d-8b32-75c9a7b47d31",
      "metadata": {
        "id": "ebd99c7e-4acf-4b4d-8b32-75c9a7b47d31"
      },
      "source": [
        "### TODO: check your model quality on out-of-set images\n",
        "Now we test our model on a clothing item image from the web.\n",
        "\n"
      ]
    },
    {
      "cell_type": "code",
      "execution_count": 66,
      "id": "509905f2-bf16-4c0d-aefa-6a8003af1799",
      "metadata": {
        "id": "509905f2-bf16-4c0d-aefa-6a8003af1799"
      },
      "outputs": [
        {
          "data": {
            "text/plain": [
              "<matplotlib.colorbar.Colorbar at 0x7f902cfacc40>"
            ]
          },
          "execution_count": 66,
          "metadata": {},
          "output_type": "execute_result"
        },
        {
          "data": {
            "image/png": "[encoded data removed]",
            "text/plain": [
              "<Figure size 432x288 with 2 Axes>"
            ]
          },
          "metadata": {
            "needs_background": "light"
          },
          "output_type": "display_data"
        }
      ],
      "source": [
        "import urllib\n",
        "from skimage.io import imread\n",
        "from skimage.transform import resize\n",
        "\n",
        "# insert the URL to an image file here\n",
        "img_src = 'https://i.pinimg.com/736x/b5/b7/3e/b5b73ef74c015829bcaddfeb86081817--tee-shirt-dresses-tee-shirts.jpg'\n",
        "\n",
        "# Download image\n",
        "urllib.request.urlretrieve(img_src, 't-shirt-dress.jpg')\n",
        "\n",
        "# Open file and display\n",
        "image = imread('t-shirt-dress.jpg', as_gray=True) \n",
        "\n",
        "# Plot the image\n",
        "plt.imshow(image, cmap='binary')\n",
        "plt.colorbar()"
      ]
    },
    {
      "cell_type": "markdown",
      "id": "_Tzz0rJAl2HL",
      "metadata": {
        "id": "_Tzz0rJAl2HL"
      },
      "source": [
        "\n",
        "**Important**: remember your model takes in grayscale images of 28 by 28 pixels. Remember as well that pixel values were rescaled to be between 0 and 1: ensure the new image pixel values are scaled to the same range."
      ]
    },
    {
      "cell_type": "code",
      "execution_count": 67,
      "id": "afe26096-91df-444f-89f3-49897bac49b8",
      "metadata": {
        "id": "afe26096-91df-444f-89f3-49897bac49b8"
      },
      "outputs": [
        {
          "data": {
            "text/plain": [
              "<matplotlib.colorbar.Colorbar at 0x7f905054ec50>"
            ]
          },
          "execution_count": 67,
          "metadata": {},
          "output_type": "execute_result"
        },
        {
          "data": {
            "image/png": "[encoded data removed]",
            "text/plain": [
              "<Figure size 432x288 with 2 Axes>"
            ]
          },
          "metadata": {
            "needs_background": "light"
          },
          "output_type": "display_data"
        }
      ],
      "source": [
        "# TODO apply MinMax scaling to the image\n",
        "image = (image-np.min(image))/(np.max(image)-np.min(image)) # TODO your code here\n",
        "\n",
        "# TODO Resize image so it is 28 x 28 pixels\n",
        "image = resize(image,(28,28)) # TODO your code here\n",
        "\n",
        "# Plot the transformed image\n",
        "plt.imshow(image, cmap='binary')\n",
        "plt.colorbar()"
      ]
    },
    {
      "cell_type": "markdown",
      "id": "R613n-uekUsU",
      "metadata": {
        "id": "R613n-uekUsU"
      },
      "source": [
        "In case your image has black instead of white background,  you need to reverse the colors: black should become white and white shouls become black. Complete the code bellow to do that:"
      ]
    },
    {
      "cell_type": "code",
      "execution_count": 68,
      "id": "Vwuww9BpRqtZ",
      "metadata": {
        "id": "Vwuww9BpRqtZ"
      },
      "outputs": [
        {
          "data": {
            "text/plain": [
              "<matplotlib.colorbar.Colorbar at 0x7f9058201ab0>"
            ]
          },
          "execution_count": 68,
          "metadata": {},
          "output_type": "execute_result"
        },
        {
          "data": {
            "image/png": "[encoded data removed]",
            "text/plain": [
              "<Figure size 432x288 with 2 Axes>"
            ]
          },
          "metadata": {
            "needs_background": "light"
          },
          "output_type": "display_data"
        }
      ],
      "source": [
        "# TODO Invert black and white\n",
        "image = 1-image # TODO your code here\n",
        "\n",
        "# now the image has white background\n",
        "plt.imshow(image, cmap='binary')\n",
        "plt.colorbar()"
      ]
    },
    {
      "cell_type": "markdown",
      "id": "ikw0gDBpiJdm",
      "metadata": {
        "id": "ikw0gDBpiJdm"
      },
      "source": [
        "Checking the class_names array again:"
      ]
    },
    {
      "cell_type": "code",
      "execution_count": 69,
      "id": "f695adc1-9136-4b01-a572-aab748cf5fc7",
      "metadata": {
        "id": "f695adc1-9136-4b01-a572-aab748cf5fc7"
      },
      "outputs": [
        {
          "data": {
            "text/plain": [
              "['T-shirt/top',\n",
              " 'Trouser',\n",
              " 'Pullover',\n",
              " 'Dress',\n",
              " 'Coat',\n",
              " 'Sandal',\n",
              " 'Shirt',\n",
              " 'Sneaker',\n",
              " 'Bag',\n",
              " 'Ankle boot']"
            ]
          },
          "execution_count": 69,
          "metadata": {},
          "output_type": "execute_result"
        }
      ],
      "source": [
        "class_names "
      ]
    },
    {
      "cell_type": "markdown",
      "id": "UUW5WW3biMyS",
      "metadata": {
        "id": "UUW5WW3biMyS"
      },
      "source": [
        "We can say the predicted class id should be 3:"
      ]
    },
    {
      "cell_type": "code",
      "execution_count": 70,
      "id": "b5e5f797-46f2-4b11-b177-ea088b8d5901",
      "metadata": {
        "id": "b5e5f797-46f2-4b11-b177-ea088b8d5901"
      },
      "outputs": [],
      "source": [
        "true_label = [3]"
      ]
    },
    {
      "cell_type": "markdown",
      "id": "ailDys5Qi33_",
      "metadata": {
        "id": "ailDys5Qi33_"
      },
      "source": [
        "Let's see if the model gets it right:"
      ]
    },
    {
      "cell_type": "code",
      "execution_count": 71,
      "id": "c8784889-d2ea-4a26-8ec4-700ba685a7eb",
      "metadata": {
        "id": "c8784889-d2ea-4a26-8ec4-700ba685a7eb",
        "tags": []
      },
      "outputs": [
        {
          "name": "stdout",
          "output_type": "stream",
          "text": [
            "1/1 [==============================] - 0s 37ms/step\n"
          ]
        },
        {
          "data": {
            "text/plain": [
              "array([[0.13 , 0.007, 0.014, 0.748, 0.004, 0.004, 0.074, 0.01 , 0.009,\n",
              "        0.001]], dtype=float32)"
            ]
          },
          "execution_count": 71,
          "metadata": {},
          "output_type": "execute_result"
        }
      ],
      "source": [
        "# load model weights\n",
        "model = keras.models.load_model(\"my_keras_model.h5\") # rollback to best model\n",
        "# add batch dimension to image\n",
        "image = image.reshape((1, 28, 28))\n",
        "# compute predictions\n",
        "y_proba = model.predict(image)\n",
        "y_proba.round(3)"
      ]
    },
    {
      "cell_type": "code",
      "execution_count": 72,
      "id": "pNJn59QoiaL0",
      "metadata": {
        "id": "pNJn59QoiaL0"
      },
      "outputs": [
        {
          "name": "stdout",
          "output_type": "stream",
          "text": [
            "Predicted class was Dress (id 3)\n"
          ]
        }
      ],
      "source": [
        "pred_label = y_proba.argmax()\n",
        "print(f\"Predicted class was {class_names[pred_label]} (id {pred_label})\")"
      ]
    },
    {
      "cell_type": "markdown",
      "id": "wcVpEV3oiSTG",
      "metadata": {
        "id": "wcVpEV3oiSTG"
      },
      "source": [
        "Let us now plot the image along with its predicted probabilities:"
      ]
    },
    {
      "cell_type": "code",
      "execution_count": 73,
      "id": "71a542e8-7ffa-4a0e-9d4a-70b5029ac89a",
      "metadata": {
        "id": "71a542e8-7ffa-4a0e-9d4a-70b5029ac89a"
      },
      "outputs": [
        {
          "data": {
            "image/png": "[encoded data removed]",
            "text/plain": [
              "<Figure size 576x288 with 2 Axes>"
            ]
          },
          "metadata": {
            "needs_background": "light"
          },
          "output_type": "display_data"
        }
      ],
      "source": [
        "plot_image_with_preds(0, image, true_label, y_proba)\n",
        "plt.show()"
      ]
    },
    {
      "cell_type": "markdown",
      "id": "VmHBdOqnlczl",
      "metadata": {
        "id": "VmHBdOqnlczl"
      },
      "source": [
        "### TODO Your turn testing on downloaded images\n",
        "Search online for other clothing item images that you can download and submit to your model. How well does it perform?\n"
      ]
    },
    {
      "cell_type": "markdown",
      "id": "NzqXXjzL4O6-",
      "metadata": {
        "id": "NzqXXjzL4O6-"
      },
      "source": [
        "## Exercise: training an NN on MNIST\n",
        "Train a similar MLP on the MNIST dataset (you can load it using `keras.datasets.mnist.load_data()`. See if you can get over 98% precision. \n",
        "\n",
        "- Try searching for the optimal learning rate by using the approach presented in class (i.e., by growing the learning rate exponentially, plotting the loss, and finding the point where the loss shoots up). \n",
        "\n",
        "  - Create a custom callback that will raise the learning rate by a factor (say, 5%) after each iteration (i.e. after each batch is processed). Check the documentation [here](https://keras.io/guides/writing_your_own_callbacks/) to see examples of how to create your own callback.\n",
        "\n",
        "- Try adding all the bells and whistles: save checkpoints, use early stopping, and plot learning curves using TensorBoard.\n",
        "\n",
        "- Visualize predictions for the test set and explore the mistakes your model makes."
      ]
    },
    {
      "cell_type": "code",
      "execution_count": 74,
      "id": "YLspgp1xi_yc",
      "metadata": {
        "id": "YLspgp1xi_yc"
      },
      "outputs": [],
      "source": [
        "(X_train_full, y_train_full), (X_test, y_test) = keras.datasets.mnist.load_data()"
      ]
    },
    {
      "cell_type": "code",
      "execution_count": 75,
      "id": "daf3b79f",
      "metadata": {},
      "outputs": [
        {
          "data": {
            "text/plain": [
              "(60000, 28, 28)"
            ]
          },
          "execution_count": 75,
          "metadata": {},
          "output_type": "execute_result"
        }
      ],
      "source": [
        "X_train_full.shape"
      ]
    },
    {
      "cell_type": "code",
      "execution_count": 76,
      "id": "60037ff5",
      "metadata": {},
      "outputs": [
        {
          "data": {
            "image/png": "[encoded data removed]",
            "text/plain": [
              "<Figure size 432x288 with 2 Axes>"
            ]
          },
          "metadata": {
            "needs_background": "light"
          },
          "output_type": "display_data"
        }
      ],
      "source": [
        "plt.figure()\n",
        "plt.imshow(X_train_full[0])\n",
        "plt.colorbar()\n",
        "plt.grid(False)\n",
        "plt.show()"
      ]
    },
    {
      "cell_type": "code",
      "execution_count": 77,
      "id": "df175553",
      "metadata": {},
      "outputs": [],
      "source": [
        "X_train_full = (X_train_full-np.min(X_train_full))/(np.max(X_train_full)-np.min(X_train_full))\n",
        "X_test = (X_test-np.min(X_test))/(np.max(X_test)-np.min(X_test))"
      ]
    },
    {
      "cell_type": "code",
      "execution_count": 78,
      "id": "c9cbf478",
      "metadata": {},
      "outputs": [
        {
          "data": {
            "image/png": "[encoded data removed]",
            "text/plain": [
              "<Figure size 432x288 with 2 Axes>"
            ]
          },
          "metadata": {
            "needs_background": "light"
          },
          "output_type": "display_data"
        }
      ],
      "source": [
        "plt.figure()\n",
        "plt.imshow(X_train_full[0])\n",
        "plt.colorbar()\n",
        "plt.grid(False)\n",
        "plt.show()"
      ]
    },
    {
      "cell_type": "code",
      "execution_count": 79,
      "id": "04023420",
      "metadata": {},
      "outputs": [],
      "source": [
        "X_train, X_valid = X_train_full[:55000], X_train_full[55000:]\n",
        "y_train, y_valid = y_train_full[:55000], y_train_full[55000:]"
      ]
    },
    {
      "cell_type": "code",
      "execution_count": 80,
      "id": "b26b9c91",
      "metadata": {},
      "outputs": [
        {
          "data": {
            "image/png": "[encoded data removed]",
            "text/plain": [
              "<Figure size 864x345.6 with 40 Axes>"
            ]
          },
          "metadata": {
            "needs_background": "light"
          },
          "output_type": "display_data"
        }
      ],
      "source": [
        "n_rows = 4\n",
        "n_cols = 10\n",
        "plt.figure(figsize=(n_cols * 1.2, n_rows * 1.2))\n",
        "for row in range(n_rows):\n",
        "    for col in range(n_cols):\n",
        "        index = n_cols * row + col\n",
        "        plt.subplot(n_rows, n_cols, index + 1)\n",
        "        plt.imshow(X_train[index], cmap=\"binary\", interpolation=\"nearest\")\n",
        "        plt.axis('off')\n",
        "        plt.title(y_train[index], fontsize=12)\n",
        "plt.subplots_adjust(wspace=0.2, hspace=0.5)"
      ]
    },
    {
      "cell_type": "code",
      "execution_count": 81,
      "id": "0da4aa7d",
      "metadata": {},
      "outputs": [
        {
          "data": {
            "text/plain": [
              "<keras.engine.sequential.Sequential at 0x7f902c1b3790>"
            ]
          },
          "execution_count": 81,
          "metadata": {},
          "output_type": "execute_result"
        }
      ],
      "source": [
        "keras.backend.clear_session()  # type: ignore\n",
        "np.random.seed(42)\n",
        "tf.random.set_seed(42)\n",
        "model = keras.models.Sequential()  # type: ignore\n",
        "model"
      ]
    },
    {
      "cell_type": "code",
      "execution_count": 82,
      "id": "658d8044",
      "metadata": {},
      "outputs": [],
      "source": [
        "model.add(keras.layers.Flatten(input_shape=[28, 28]))\n",
        "model.add(keras.layers.Dense(300, activation=\"relu\"))\n",
        "model.add(keras.layers.Dense(250, activation=\"relu\"))\n",
        "model.add(keras.layers.Dense(200, activation=\"relu\"))\n",
        "model.add(keras.layers.Dense(150, activation=\"relu\"))\n",
        "model.add(keras.layers.Dense(100, activation=\"relu\"))\n",
        "model.add(keras.layers.Dense(50, activation=\"relu\"))\n",
        "model.add(keras.layers.Dense(10, activation=\"softmax\"))"
      ]
    },
    {
      "cell_type": "code",
      "execution_count": 83,
      "id": "6e8aceea",
      "metadata": {},
      "outputs": [
        {
          "name": "stdout",
          "output_type": "stream",
          "text": [
            "Model: \"sequential\"\n",
            "_________________________________________________________________\n",
            " Layer (type)                Output Shape              Param #   \n",
            "=================================================================\n",
            " flatten (Flatten)           (None, 784)               0         \n",
            "                                                                 \n",
            " dense (Dense)               (None, 300)               235500    \n",
            "                                                                 \n",
            " dense_1 (Dense)             (None, 250)               75250     \n",
            "                                                                 \n",
            " dense_2 (Dense)             (None, 200)               50200     \n",
            "                                                                 \n",
            " dense_3 (Dense)             (None, 150)               30150     \n",
            "                                                                 \n",
            " dense_4 (Dense)             (None, 100)               15100     \n",
            "                                                                 \n",
            " dense_5 (Dense)             (None, 50)                5050      \n",
            "                                                                 \n",
            " dense_6 (Dense)             (None, 10)                510       \n",
            "                                                                 \n",
            "=================================================================\n",
            "Total params: 411,760\n",
            "Trainable params: 411,760\n",
            "Non-trainable params: 0\n",
            "_________________________________________________________________\n"
          ]
        }
      ],
      "source": [
        "model.summary()"
      ]
    },
    {
      "cell_type": "code",
      "execution_count": 84,
      "id": "5e81b251",
      "metadata": {},
      "outputs": [
        {
          "name": "stdout",
          "output_type": "stream",
          "text": [
            "You must install pydot (`pip install pydot`) and install graphviz (see instructions at https://graphviz.gitlab.io/download/) for plot_model to work.\n"
          ]
        }
      ],
      "source": [
        "keras.utils.plot_model(model, \"my_numbers_mnist_model.png\", show_shapes=True)"
      ]
    },
    {
      "cell_type": "code",
      "execution_count": 85,
      "id": "e068d9b0",
      "metadata": {},
      "outputs": [],
      "source": [
        "model.compile(loss=\"sparse_categorical_crossentropy\",\n",
        "              optimizer=\"sgd\",\n",
        "              metrics=[\"accuracy\"])"
      ]
    },
    {
      "cell_type": "code",
      "execution_count": 86,
      "id": "26be615b",
      "metadata": {},
      "outputs": [],
      "source": [
        "model.optimizer.learning_rate = 0.01"
      ]
    },
    {
      "cell_type": "code",
      "execution_count": null,
      "id": "c5bd1931",
      "metadata": {},
      "outputs": [],
      "source": [
        "history = model.fit(X_train, y_train, epochs=30,\n",
        "                    validation_data=(X_valid, y_valid))"
      ]
    },
    {
      "cell_type": "code",
      "execution_count": null,
      "id": "442d36f1",
      "metadata": {},
      "outputs": [],
      "source": [
        "plot_learning_curves(history)"
      ]
    }
  ],
  "metadata": {
    "accelerator": "GPU",
    "colab": {
      "collapsed_sections": [
        "d41488ec-9ab7-4062-8efc-ce35608dd689"
      ],
      "include_colab_link": true,
      "name": "LabAssignement2_complet.ipynb",
      "provenance": [],
      "toc_visible": true
    },
    "kernelspec": {
      "display_name": "Python 3.10.4 64-bit",
      "language": "python",
      "name": "python3"
    },
    "language_info": {
      "codemirror_mode": {
        "name": "ipython",
        "version": 3
      },
      "file_extension": ".py",
      "mimetype": "text/x-python",
      "name": "python",
      "nbconvert_exporter": "python",
      "pygments_lexer": "ipython3",
      "version": "3.10.4"
    },
    "toc-autonumbering": true,
    "vscode": {
      "interpreter": {
        "hash": "916dbcbb3f70747c44a77c7bcd40155683ae19c65e1c03b4aa3499c5328201f1"
      }
    }
  },
  "nbformat": 4,
  "nbformat_minor": 5
}
