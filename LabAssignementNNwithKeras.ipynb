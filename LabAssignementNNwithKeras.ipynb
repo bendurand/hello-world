{
  "cells": [
    {
      "cell_type": "markdown",
      "metadata": {
        "colab_type": "text",
        "id": "view-in-github"
      },
      "source": [
        "<a href=\"https://colab.research.google.com/github/bendurand/hello-world/blob/main/LabAssignementNNwithKeras.ipynb\" target=\"_parent\"><img src=\"https://colab.research.google.com/assets/colab-badge.svg\" alt=\"Open In Colab\"/></a>"
      ]
    },
    {
      "cell_type": "markdown",
      "id": "4731bb59-074b-450c-9ee0-f851f550fc01",
      "metadata": {
        "id": "4731bb59-074b-450c-9ee0-f851f550fc01"
      },
      "source": [
        "# Lab: NN with Keras\n",
        "\n",
        "This Notebook is adapted from A. Géron's \"Hands-on ML\" book and from Tensorflow official tutorials."
      ]
    },
    {
      "cell_type": "markdown",
      "id": "633fc7d2-7a34-4214-9801-fe71f2ed131e",
      "metadata": {
        "id": "633fc7d2-7a34-4214-9801-fe71f2ed131e"
      },
      "source": [
        "# Classifying images with a neural network"
      ]
    },
    {
      "cell_type": "code",
      "execution_count": 110,
      "id": "cd6d1578-487c-4d9d-83d8-9a5a25c128a8",
      "metadata": {
        "id": "cd6d1578-487c-4d9d-83d8-9a5a25c128a8"
      },
      "outputs": [],
      "source": [
        "# import the necessary libraries\n",
        "import numpy as np\n",
        "import pandas as pd\n",
        "\n",
        "%matplotlib inline\n",
        "import matplotlib as mpl\n",
        "import matplotlib.cm as cm\n",
        "import matplotlib.pyplot as plt\n",
        "\n",
        "import seaborn as sns\n",
        "import os"
      ]
    },
    {
      "cell_type": "markdown",
      "id": "96c76678-80c3-41fc-8562-96132089c354",
      "metadata": {
        "id": "96c76678-80c3-41fc-8562-96132089c354"
      },
      "source": [
        "## Importing tensorflow and keras"
      ]
    },
    {
      "cell_type": "markdown",
      "id": "21646372-5e74-461b-b909-3b03102f2325",
      "metadata": {
        "id": "21646372-5e74-461b-b909-3b03102f2325",
        "tags": []
      },
      "source": [
        "First let's import TensorFlow and Keras."
      ]
    },
    {
      "cell_type": "code",
      "execution_count": 111,
      "id": "d8ef415b-4077-484b-ab38-6162a0098020",
      "metadata": {
        "id": "d8ef415b-4077-484b-ab38-6162a0098020"
      },
      "outputs": [],
      "source": [
        "import tensorflow as tf\n",
        "from tensorflow import keras"
      ]
    },
    {
      "cell_type": "code",
      "execution_count": 112,
      "id": "143c9bd5-06aa-4c5c-b0ba-8a0cad7fc7e2",
      "metadata": {
        "id": "143c9bd5-06aa-4c5c-b0ba-8a0cad7fc7e2"
      },
      "outputs": [
        {
          "data": {
            "text/plain": [
              "'2.10.0'"
            ]
          },
          "execution_count": 112,
          "metadata": {},
          "output_type": "execute_result"
        }
      ],
      "source": [
        "tf.__version__"
      ]
    },
    {
      "cell_type": "code",
      "execution_count": 113,
      "id": "c2ce41a0-d841-41e3-a953-24579e10e80d",
      "metadata": {
        "id": "c2ce41a0-d841-41e3-a953-24579e10e80d"
      },
      "outputs": [
        {
          "data": {
            "text/plain": [
              "'2.10.0'"
            ]
          },
          "execution_count": 113,
          "metadata": {},
          "output_type": "execute_result"
        }
      ],
      "source": [
        "keras.__version__"
      ]
    },
    {
      "cell_type": "markdown",
      "id": "0cee40a2-c753-4508-bf6c-d990394416d5",
      "metadata": {
        "id": "0cee40a2-c753-4508-bf6c-d990394416d5"
      },
      "source": [
        "## Tensors and Variables in Tensorflow"
      ]
    },
    {
      "cell_type": "markdown",
      "id": "d8e163b0-f0a0-47c1-ba5d-8edab6c4bedf",
      "metadata": {
        "id": "d8e163b0-f0a0-47c1-ba5d-8edab6c4bedf"
      },
      "source": [
        "Tensors are the analogous of Numpy's `ndarrays` and represent multi-dimensional arrays of arbitrary shape."
      ]
    },
    {
      "cell_type": "code",
      "execution_count": 114,
      "id": "260ec06a-3a8c-46fb-9842-87a8a71a0827",
      "metadata": {
        "id": "260ec06a-3a8c-46fb-9842-87a8a71a0827"
      },
      "outputs": [
        {
          "data": {
            "text/plain": [
              "<tf.Tensor: shape=(3,), dtype=int32, numpy=array([1, 2, 3])>"
            ]
          },
          "execution_count": 114,
          "metadata": {},
          "output_type": "execute_result"
        }
      ],
      "source": [
        "t = tf.constant([1,2,3])\n",
        "t"
      ]
    },
    {
      "cell_type": "markdown",
      "id": "4ce0cd83-a519-4e9c-bc34-cbe3f1f448e3",
      "metadata": {
        "id": "4ce0cd83-a519-4e9c-bc34-cbe3f1f448e3"
      },
      "source": [
        "They can be exported to numpy using the dedicated method:"
      ]
    },
    {
      "cell_type": "code",
      "execution_count": 115,
      "id": "a05475d5-c407-430f-a8af-70372b65fbdd",
      "metadata": {
        "id": "a05475d5-c407-430f-a8af-70372b65fbdd"
      },
      "outputs": [
        {
          "data": {
            "text/plain": [
              "array([1, 2, 3])"
            ]
          },
          "execution_count": 115,
          "metadata": {},
          "output_type": "execute_result"
        }
      ],
      "source": [
        "t.numpy()"
      ]
    },
    {
      "cell_type": "markdown",
      "id": "47c7dd84-e01a-497e-a512-4074ebd56138",
      "metadata": {
        "id": "47c7dd84-e01a-497e-a512-4074ebd56138"
      },
      "source": [
        "Tensorflow variables are a special type of tensor. They are used to represent values that are changed by your program (like the parameters of a network)."
      ]
    },
    {
      "cell_type": "code",
      "execution_count": 116,
      "id": "d16dcf7c-3f38-46ae-a042-b79061128808",
      "metadata": {
        "id": "d16dcf7c-3f38-46ae-a042-b79061128808",
        "tags": []
      },
      "outputs": [],
      "source": [
        "my_tensor = tf.constant([[1.0, 2.0], [3.0, 4.0]])\n",
        "my_variable = tf.Variable(my_tensor)"
      ]
    },
    {
      "cell_type": "markdown",
      "id": "waYNRzPPcKS-",
      "metadata": {
        "id": "waYNRzPPcKS-"
      },
      "source": [
        "Normally you won't need to explicitly create tensors and variables, but they are the underlying data structures used within keras layers."
      ]
    },
    {
      "cell_type": "markdown",
      "id": "9d961644-2521-459e-8d98-f31f710acc5f",
      "metadata": {
        "id": "9d961644-2521-459e-8d98-f31f710acc5f"
      },
      "source": [
        "## The data: Fashion MNIST"
      ]
    },
    {
      "cell_type": "markdown",
      "id": "6d54f5e7-491d-47fa-997d-496cb9a768e1",
      "metadata": {
        "id": "6d54f5e7-491d-47fa-997d-496cb9a768e1"
      },
      "source": [
        "We will use [Fashion MNIST](https://github.com/zalandoresearch/fashion-mnist) dataset which contains 70,000 grayscale images in 10 categories. The images show individual articles of clothing at low resolution (28 by 28 pixels), as seen here:\n",
        "\n",
        "<table>\n",
        "  <tr><td>\n",
        "    <img src=\"https://tensorflow.org/images/fashion-mnist-sprite.png\"\n",
        "         alt=\"Fashion MNIST sprite\"  width=\"600\">\n",
        "  </td></tr>\n",
        "  <tr><td align=\"center\">\n",
        "    <b>Figure 1.</b> <a href=\"https://github.com/zalandoresearch/fashion-mnist\">Fashion-MNIST samples</a> (by Zalando, MIT License).<br/>&nbsp;\n",
        "  </td></tr>\n",
        "</table>\n",
        "\n",
        "Fashion MNIST is intended as a drop-in replacement for the classic [MNIST](http://yann.lecun.com/exdb/mnist/) dataset—often used as the \"Hello, World\" of machine learning programs for computer vision. The MNIST dataset contains images of handwritten digits (0, 1, 2, etc.) in a format identical to that of the articles of clothing you'll use here.\n",
        "\n",
        "This guide uses Fashion MNIST for variety, and because it's a slightly more challenging problem than regular MNIST. Both datasets are relatively small and are used to verify that an algorithm works as expected. They're good starting points to test and debug code.\n",
        "\n",
        "Here, 60,000 images are used to train the network and 10,000 images to evaluate how accurately the network learned to classify images. You can access the Fashion MNIST directly from TensorFlow. "
      ]
    },
    {
      "cell_type": "markdown",
      "id": "d41488ec-9ab7-4062-8efc-ce35608dd689",
      "metadata": {
        "id": "d41488ec-9ab7-4062-8efc-ce35608dd689"
      },
      "source": [
        "### Import and load the dataset"
      ]
    },
    {
      "cell_type": "markdown",
      "id": "36d74ddf-0066-490c-bc20-068dd5810812",
      "metadata": {
        "id": "36d74ddf-0066-490c-bc20-068dd5810812"
      },
      "source": [
        "Keras has a number of functions to load popular datasets in `keras.datasets`. \n",
        "We can use this module to import and [load the Fashion MNIST data](https://www.tensorflow.org/api_docs/python/tf/keras/datasets/fashion_mnist/load_data).\n"
      ]
    },
    {
      "cell_type": "code",
      "execution_count": 117,
      "id": "73b3126f-0a6b-433e-8cb3-5c9b320e9b70",
      "metadata": {
        "id": "73b3126f-0a6b-433e-8cb3-5c9b320e9b70"
      },
      "outputs": [],
      "source": [
        "fashion_mnist = keras.datasets.fashion_mnist  # type: ignore\n",
        "(X_train_full, y_train_full), (X_test, y_test) = fashion_mnist.load_data()"
      ]
    },
    {
      "cell_type": "markdown",
      "id": "af5b724c-3ed9-4431-acd4-669713cbfb60",
      "metadata": {
        "id": "af5b724c-3ed9-4431-acd4-669713cbfb60"
      },
      "source": [
        "Loading the dataset returns four NumPy arrays:\n",
        "\n",
        "* The first pair `X_train_full` and `y_train_full` arrays are the *training set*\n",
        "* The second pair  the `X_test` and `y_test` are the *test set*"
      ]
    },
    {
      "cell_type": "markdown",
      "id": "47c050d3-c86e-4947-922e-ba9f242d5637",
      "metadata": {
        "id": "47c050d3-c86e-4947-922e-ba9f242d5637"
      },
      "source": [
        "### TODO: check the quantity of images in each set and their shape"
      ]
    },
    {
      "cell_type": "markdown",
      "id": "f115bdd0-b77a-4a50-9604-5e69f3d213c1",
      "metadata": {
        "id": "f115bdd0-b77a-4a50-9604-5e69f3d213c1"
      },
      "source": [
        "The training set contains 60,000 grayscale images, each 28x28 pixels:"
      ]
    },
    {
      "cell_type": "code",
      "execution_count": 118,
      "id": "085b51b3-17db-4c91-91c3-f23e388702e5",
      "metadata": {
        "id": "085b51b3-17db-4c91-91c3-f23e388702e5",
        "tags": []
      },
      "outputs": [
        {
          "data": {
            "text/plain": [
              "(60000, 28, 28)"
            ]
          },
          "execution_count": 118,
          "metadata": {},
          "output_type": "execute_result"
        }
      ],
      "source": [
        "# TODO your code here\n",
        "X_train_full.shape"
      ]
    },
    {
      "cell_type": "code",
      "execution_count": 119,
      "id": "4b7194b2-2193-4a5e-a47d-cb3dc0da1ad5",
      "metadata": {
        "id": "4b7194b2-2193-4a5e-a47d-cb3dc0da1ad5",
        "tags": []
      },
      "outputs": [
        {
          "data": {
            "text/plain": [
              "(60000,)"
            ]
          },
          "execution_count": 119,
          "metadata": {},
          "output_type": "execute_result"
        }
      ],
      "source": [
        "y_train_full.shape"
      ]
    },
    {
      "cell_type": "markdown",
      "id": "9a784f04-fd07-4f43-ad03-c071d83a43bd",
      "metadata": {
        "id": "9a784f04-fd07-4f43-ad03-c071d83a43bd",
        "tags": []
      },
      "source": [
        "### Preprocess the data"
      ]
    },
    {
      "cell_type": "markdown",
      "id": "b840559c-b006-4f10-a319-df2e8c3c8b27",
      "metadata": {
        "id": "b840559c-b006-4f10-a319-df2e8c3c8b27"
      },
      "source": [
        "Images are in grayscale. Each pixel intensity is represented as a byte (0 to 255):"
      ]
    },
    {
      "cell_type": "code",
      "execution_count": 120,
      "id": "87377ac1-a84e-4512-9a48-6d4661c706eb",
      "metadata": {
        "id": "87377ac1-a84e-4512-9a48-6d4661c706eb",
        "tags": []
      },
      "outputs": [
        {
          "data": {
            "text/plain": [
              "dtype('uint8')"
            ]
          },
          "execution_count": 120,
          "metadata": {},
          "output_type": "execute_result"
        }
      ],
      "source": [
        "X_train_full.dtype"
      ]
    },
    {
      "cell_type": "markdown",
      "id": "2ce96a63-7824-4f43-93e4-29fc43403ccd",
      "metadata": {
        "id": "2ce96a63-7824-4f43-93e4-29fc43403ccd"
      },
      "source": [
        "You can visualize it by plotting one of the training images:"
      ]
    },
    {
      "cell_type": "code",
      "execution_count": 121,
      "id": "0fbeb31a-9cfc-4e23-9ff7-5880a2504a47",
      "metadata": {
        "id": "0fbeb31a-9cfc-4e23-9ff7-5880a2504a47"
      },
      "outputs": [
        {
          "data": {
            "image/png": "[encoded data removed]",
            "text/plain": [
              "<Figure size 432x288 with 2 Axes>"
            ]
          },
          "metadata": {
            "needs_background": "light"
          },
          "output_type": "display_data"
        }
      ],
      "source": [
        "plt.figure()\n",
        "plt.imshow(X_train_full[0])\n",
        "plt.colorbar()\n",
        "plt.grid(False)\n",
        "plt.show()"
      ]
    },
    {
      "cell_type": "markdown",
      "id": "a9daf8bf-3ec5-4c8f-a51b-4b6af35f3dd2",
      "metadata": {
        "id": "a9daf8bf-3ec5-4c8f-a51b-4b6af35f3dd2"
      },
      "source": [
        "#### TODO: rescaling pixel values"
      ]
    },
    {
      "cell_type": "markdown",
      "id": "261b18b2-0e22-4ba2-8ac8-0badcf19326c",
      "metadata": {
        "id": "261b18b2-0e22-4ba2-8ac8-0badcf19326c"
      },
      "source": [
        "As seen in class, gradient terms for weights in the first layer include a product with the network inputs. This means the scaling of the inputs can influence the optimization convergence:\n",
        "- large inputs will incurr in large gradients which incurr in large steps during optimization. Too large steps can bring instability.\n",
        "- Features with un-even variation range lead to a poorly conditioned loss function (analogous to a very elongated quadratic form).\n",
        "\n",
        "Therefore it is good practice to rescale neural network features. It is common to use MinMax scaling, so that features range between 0 and 1. Standardization is also a valid possibility (if you can assume your features have a Gaussian distribution)\n",
        "\n",
        "In the case of image pixels, MinMax scaling can be done with a simple division, which you are going to do just bellow.\n",
        "\n",
        "**Important**: *training set* and the *testing set* should be preprocessed in the same way."
      ]
    },
    {
      "cell_type": "code",
      "execution_count": 122,
      "id": "edb9a4a3-a37a-48eb-b93e-28d0a0a206e0",
      "metadata": {
        "id": "edb9a4a3-a37a-48eb-b93e-28d0a0a206e0",
        "tags": []
      },
      "outputs": [],
      "source": [
        "# TODO your code here\n",
        "X_train_full = X_train_full/255"
      ]
    },
    {
      "cell_type": "code",
      "execution_count": 123,
      "id": "0ad1846e",
      "metadata": {},
      "outputs": [
        {
          "data": {
            "image/png": "[encoded data removed]",
            "text/plain": [
              "<Figure size 432x288 with 2 Axes>"
            ]
          },
          "metadata": {
            "needs_background": "light"
          },
          "output_type": "display_data"
        }
      ],
      "source": [
        "plt.figure()\n",
        "plt.imshow(X_train_full[0])\n",
        "plt.colorbar()\n",
        "plt.grid(False)\n",
        "plt.show()"
      ]
    },
    {
      "cell_type": "code",
      "execution_count": 124,
      "id": "1c5eeeed",
      "metadata": {},
      "outputs": [],
      "source": [
        "X_test = X_test/255"
      ]
    },
    {
      "cell_type": "markdown",
      "id": "a43ab19c-4be6-4854-a647-30ffbee1a7de",
      "metadata": {
        "id": "a43ab19c-4be6-4854-a647-30ffbee1a7de"
      },
      "source": [
        "### TODO: Creating a validation set\n",
        "The dataset is already split for you between a training set and a test set, but it can be useful to split the training set further to have a validation set.\n",
        "For this we'll split the full training set into a validation set and a (smaller) training set.\n",
        "Separate 5000 images for the validation set."
      ]
    },
    {
      "cell_type": "code",
      "execution_count": 125,
      "id": "f174593c-fcf6-46a5-ac02-fa3176d0f6b3",
      "metadata": {
        "id": "f174593c-fcf6-46a5-ac02-fa3176d0f6b3"
      },
      "outputs": [],
      "source": [
        "# TODO your code here\n",
        "X_train, X_valid = X_train_full[:55000], X_train_full[55000:]\n",
        "y_train, y_valid = y_train_full[:55000], y_train_full[55000:]\n"
      ]
    },
    {
      "cell_type": "code",
      "execution_count": 126,
      "id": "b7fc516f",
      "metadata": {},
      "outputs": [
        {
          "data": {
            "text/plain": [
              "(55000, 28, 28)"
            ]
          },
          "execution_count": 126,
          "metadata": {},
          "output_type": "execute_result"
        }
      ],
      "source": [
        "X_train.shape"
      ]
    },
    {
      "cell_type": "code",
      "execution_count": 127,
      "id": "5e391b2d",
      "metadata": {},
      "outputs": [
        {
          "data": {
            "text/plain": [
              "(5000, 28, 28)"
            ]
          },
          "execution_count": 127,
          "metadata": {},
          "output_type": "execute_result"
        }
      ],
      "source": [
        "X_valid.shape"
      ]
    },
    {
      "cell_type": "markdown",
      "id": "8805389b-6f0d-4962-bca8-1c00a8d94159",
      "metadata": {
        "id": "8805389b-6f0d-4962-bca8-1c00a8d94159"
      },
      "source": [
        "### Visualizing images and labels"
      ]
    },
    {
      "cell_type": "markdown",
      "id": "c752a740-b9b0-42ea-9547-647b09aef994",
      "metadata": {
        "id": "c752a740-b9b0-42ea-9547-647b09aef994"
      },
      "source": [
        "You can plot an image using Matplotlib's `imshow()` function, with a `'binary'`\n",
        " color map:"
      ]
    },
    {
      "cell_type": "code",
      "execution_count": 128,
      "id": "4fc8d75c-58ff-428d-9e61-458aa97a3d94",
      "metadata": {
        "id": "4fc8d75c-58ff-428d-9e61-458aa97a3d94"
      },
      "outputs": [
        {
          "data": {
            "image/png": "[encoded data removed]",
            "text/plain": [
              "<Figure size 432x288 with 1 Axes>"
            ]
          },
          "metadata": {
            "needs_background": "light"
          },
          "output_type": "display_data"
        }
      ],
      "source": [
        "plt.imshow(X_train[0], cmap=\"binary\")\n",
        "plt.axis('off')\n",
        "plt.show()"
      ]
    },
    {
      "cell_type": "markdown",
      "id": "3a4bb31b-30e3-4340-9db0-9090ee3545ca",
      "metadata": {
        "id": "3a4bb31b-30e3-4340-9db0-9090ee3545ca",
        "tags": []
      },
      "source": [
        "The labels are the class IDs, stored in an array of integers (represented as uint8), ranging from 0 to 9:"
      ]
    },
    {
      "cell_type": "code",
      "execution_count": 129,
      "id": "bfb805dc-7ab8-4f4d-9061-5a0fb29b43ea",
      "metadata": {
        "id": "bfb805dc-7ab8-4f4d-9061-5a0fb29b43ea"
      },
      "outputs": [
        {
          "data": {
            "text/plain": [
              "array([9, 0, 0, ..., 9, 0, 2], dtype=uint8)"
            ]
          },
          "execution_count": 129,
          "metadata": {},
          "output_type": "execute_result"
        }
      ],
      "source": [
        "y_train"
      ]
    },
    {
      "cell_type": "markdown",
      "id": "7287a910-bcd7-4144-8cb6-bc520c27b5ff",
      "metadata": {
        "id": "7287a910-bcd7-4144-8cb6-bc520c27b5ff"
      },
      "source": [
        "These correspond to the *class* of clothing the image represents:\n",
        "\n",
        "<table>\n",
        "  <tr>\n",
        "    <th>Label</th>\n",
        "    <th>Class</th>\n",
        "  </tr>\n",
        "  <tr>\n",
        "    <td>0</td>\n",
        "    <td>T-shirt/top</td>\n",
        "  </tr>\n",
        "  <tr>\n",
        "    <td>1</td>\n",
        "    <td>Trouser</td>\n",
        "  </tr>\n",
        "    <tr>\n",
        "    <td>2</td>\n",
        "    <td>Pullover</td>\n",
        "  </tr>\n",
        "    <tr>\n",
        "    <td>3</td>\n",
        "    <td>Dress</td>\n",
        "  </tr>\n",
        "    <tr>\n",
        "    <td>4</td>\n",
        "    <td>Coat</td>\n",
        "  </tr>\n",
        "    <tr>\n",
        "    <td>5</td>\n",
        "    <td>Sandal</td>\n",
        "  </tr>\n",
        "    <tr>\n",
        "    <td>6</td>\n",
        "    <td>Shirt</td>\n",
        "  </tr>\n",
        "    <tr>\n",
        "    <td>7</td>\n",
        "    <td>Sneaker</td>\n",
        "  </tr>\n",
        "    <tr>\n",
        "    <td>8</td>\n",
        "    <td>Bag</td>\n",
        "  </tr>\n",
        "    <tr>\n",
        "    <td>9</td>\n",
        "    <td>Ankle boot</td>\n",
        "  </tr>\n",
        "</table>\n",
        "\n",
        "Each image is mapped to a single label. Since the *class names* are not included with the dataset, store them here to use later when plotting the images:"
      ]
    },
    {
      "cell_type": "code",
      "execution_count": 130,
      "id": "2a95a5c3-14d9-403b-aefd-cb8293e68a48",
      "metadata": {
        "id": "2a95a5c3-14d9-403b-aefd-cb8293e68a48",
        "tags": []
      },
      "outputs": [],
      "source": [
        "class_names = [\"T-shirt/top\", \"Trouser\", \"Pullover\", \"Dress\", \"Coat\",\n",
        "               \"Sandal\", \"Shirt\", \"Sneaker\", \"Bag\", \"Ankle boot\"]"
      ]
    },
    {
      "cell_type": "markdown",
      "id": "ebe09d7a-381a-4dce-bf07-e26a9c3018d5",
      "metadata": {
        "id": "ebe09d7a-381a-4dce-bf07-e26a9c3018d5"
      },
      "source": [
        "So the first image in the training set is a coat:"
      ]
    },
    {
      "cell_type": "code",
      "execution_count": 131,
      "id": "b8350875-7cae-4f6d-bff5-db8c80e0c610",
      "metadata": {
        "id": "b8350875-7cae-4f6d-bff5-db8c80e0c610"
      },
      "outputs": [
        {
          "data": {
            "text/plain": [
              "'Ankle boot'"
            ]
          },
          "execution_count": 131,
          "metadata": {},
          "output_type": "execute_result"
        }
      ],
      "source": [
        "class_names[y_train[0]]"
      ]
    },
    {
      "cell_type": "markdown",
      "id": "43e2af01-d379-4baf-8ee1-069745e5b7a5",
      "metadata": {
        "id": "43e2af01-d379-4baf-8ee1-069745e5b7a5"
      },
      "source": [
        "Let's take a look at a sample of the images in the dataset:"
      ]
    },
    {
      "cell_type": "code",
      "execution_count": 132,
      "id": "5e865a15-7347-47a6-9c84-9c3f3914d849",
      "metadata": {
        "id": "5e865a15-7347-47a6-9c84-9c3f3914d849"
      },
      "outputs": [
        {
          "data": {
            "image/png": "[encoded data removed]",
            "text/plain": [
              "<Figure size 864x345.6 with 40 Axes>"
            ]
          },
          "metadata": {
            "needs_background": "light"
          },
          "output_type": "display_data"
        }
      ],
      "source": [
        "n_rows = 4\n",
        "n_cols = 10\n",
        "plt.figure(figsize=(n_cols * 1.2, n_rows * 1.2))\n",
        "for row in range(n_rows):\n",
        "    for col in range(n_cols):\n",
        "        index = n_cols * row + col\n",
        "        plt.subplot(n_rows, n_cols, index + 1)\n",
        "        plt.imshow(X_train[index], cmap=\"binary\", interpolation=\"nearest\")\n",
        "        plt.axis('off')\n",
        "        plt.title(class_names[y_train[index]], fontsize=12)\n",
        "plt.subplots_adjust(wspace=0.2, hspace=0.5)"
      ]
    },
    {
      "cell_type": "markdown",
      "id": "bcb2b0f5-c717-4082-8e78-b3c4e1b9ae5b",
      "metadata": {
        "id": "bcb2b0f5-c717-4082-8e78-b3c4e1b9ae5b"
      },
      "source": [
        "## Building models with tf.keras.Sequential"
      ]
    },
    {
      "cell_type": "markdown",
      "id": "bac0885b-9909-4ce5-9a1e-de1c0c7960c1",
      "metadata": {
        "id": "bac0885b-9909-4ce5-9a1e-de1c0c7960c1"
      },
      "source": [
        "`tf.keras` offers you a high level API to implement neural networks easily.\n",
        "Most models can be represented using the `tf.keras.Sequential` API.\n",
        "For more complex models, we can use `tf.keras.functional` and/or sub-class `tf.keras.Model`."
      ]
    },
    {
      "cell_type": "markdown",
      "id": "bfc7ab08-b31f-486b-96d2-67f0c1afc2da",
      "metadata": {
        "id": "bfc7ab08-b31f-486b-96d2-67f0c1afc2da"
      },
      "source": [
        "Before creating our model, let's set our random states to control random initialization."
      ]
    },
    {
      "cell_type": "code",
      "execution_count": 133,
      "id": "e65f93dc-d15e-4caf-ac91-c639851fd611",
      "metadata": {
        "id": "e65f93dc-d15e-4caf-ac91-c639851fd611"
      },
      "outputs": [],
      "source": [
        "keras.backend.clear_session()  # type: ignore\n",
        "np.random.seed(42)\n",
        "tf.random.set_seed(42)"
      ]
    },
    {
      "cell_type": "markdown",
      "id": "3eef6c5d-b17c-4b54-bed9-e4be81fcfded",
      "metadata": {
        "id": "3eef6c5d-b17c-4b54-bed9-e4be81fcfded"
      },
      "source": [
        "Let's start with an empty sequential model:"
      ]
    },
    {
      "cell_type": "code",
      "execution_count": 134,
      "id": "41e7c7be-d8d3-4c11-a4f7-51099b987775",
      "metadata": {
        "id": "41e7c7be-d8d3-4c11-a4f7-51099b987775"
      },
      "outputs": [
        {
          "data": {
            "text/plain": [
              "<keras.engine.sequential.Sequential at 0x168a4e6f670>"
            ]
          },
          "execution_count": 134,
          "metadata": {},
          "output_type": "execute_result"
        }
      ],
      "source": [
        "model = keras.models.Sequential()  # type: ignore\n",
        "model"
      ]
    },
    {
      "cell_type": "markdown",
      "id": "e248cbf0-e209-418e-b4af-9b3d57164f4b",
      "metadata": {
        "id": "e248cbf0-e209-418e-b4af-9b3d57164f4b"
      },
      "source": [
        "We can add the layers we wish to add to our model one by one using `model.add`.\n",
        "First let us add a layer to vectorize the image inputs (2D into 1D):"
      ]
    },
    {
      "cell_type": "code",
      "execution_count": 135,
      "id": "ece24f05-f1c8-45cb-8f3a-2f7be5db0f32",
      "metadata": {
        "id": "ece24f05-f1c8-45cb-8f3a-2f7be5db0f32"
      },
      "outputs": [],
      "source": [
        "model.add(keras.layers.Flatten(input_shape=[28, 28]))"
      ]
    },
    {
      "cell_type": "markdown",
      "id": "8b75e942-6482-4f3e-ad92-e8ad5fa5b55a",
      "metadata": {
        "id": "8b75e942-6482-4f3e-ad92-e8ad5fa5b55a"
      },
      "source": [
        "Layers of the type `tf.keras.layers.Flatten` transform the format of the images from a two-dimensional array (of 28 by 28 pixels) to a one-dimensional array (of 28 * 28 = 784 pixels). Think of this layer as unstacking rows of pixels in the image and lining them up. This layer has no parameters to learn; it only reformats the data."
      ]
    },
    {
      "cell_type": "markdown",
      "id": "22274380-965a-4cb4-99f2-923fb19867b5",
      "metadata": {
        "id": "22274380-965a-4cb4-99f2-923fb19867b5"
      },
      "source": [
        "### Hidden layers\n",
        "We can add typical MLP layers using `keras.layers.Dense`."
      ]
    },
    {
      "cell_type": "code",
      "execution_count": 136,
      "id": "16cc2593-1b9b-4a56-8a3b-0c22f4c99d03",
      "metadata": {
        "id": "16cc2593-1b9b-4a56-8a3b-0c22f4c99d03"
      },
      "outputs": [],
      "source": [
        "model.add(keras.layers.Dense(300, activation=\"relu\"))"
      ]
    },
    {
      "cell_type": "markdown",
      "id": "a44dff9a-14dd-4927-99a2-affe528838d9",
      "metadata": {
        "id": "a44dff9a-14dd-4927-99a2-affe528838d9"
      },
      "source": [
        "The first argument defines the number of neurons in the layer. The activation parameter needs to be set to the desired activation function, otherwise you will simply have a linear layer."
      ]
    },
    {
      "cell_type": "markdown",
      "id": "mw6ATSHs9Owv",
      "metadata": {
        "id": "mw6ATSHs9Owv"
      },
      "source": [
        "#### TODO: Add another hidden layer\n",
        "Add a second hidden layer with 100 units"
      ]
    },
    {
      "cell_type": "code",
      "execution_count": 137,
      "id": "Gp4lGa9g9PQd",
      "metadata": {
        "id": "Gp4lGa9g9PQd"
      },
      "outputs": [],
      "source": [
        "# TODO your code here\n",
        "model.add(keras.layers.Dense(100, activation=\"relu\"))  # type: ignore"
      ]
    },
    {
      "cell_type": "markdown",
      "id": "1b389489-d9ff-4eb3-8508-fcb26b9799cb",
      "metadata": {
        "id": "1b389489-d9ff-4eb3-8508-fcb26b9799cb"
      },
      "source": [
        "### Output layer\n",
        "For the output layer, the number of units is determined by the number of classes. Each unit computes a score that indicates the current image belongs to one of the 10 classes. \n",
        "By usiing softmax as the activation function, we obtain normalized probabilities as scores (as in the multinomial logistic regression)."
      ]
    },
    {
      "cell_type": "code",
      "execution_count": 138,
      "id": "a7f646d1-307f-4ab1-a313-f5945f6f86df",
      "metadata": {
        "id": "a7f646d1-307f-4ab1-a313-f5945f6f86df",
        "tags": []
      },
      "outputs": [],
      "source": [
        "model.add(keras.layers.Dense(10, activation=\"softmax\"))"
      ]
    },
    {
      "cell_type": "markdown",
      "id": "d584173c-8630-4d5e-9602-418a3c41cca8",
      "metadata": {
        "id": "d584173c-8630-4d5e-9602-418a3c41cca8"
      },
      "source": [
        "You can also create the same model by giving a list of these layers as argument to `keras.Sequential`:\n",
        "``` python\n",
        "keras.models.Sequential([\n",
        "    keras.layers.Flatten(input_shape=[28, 28]),\n",
        "    keras.layers.Dense(300, activation=\"relu\"),\n",
        "    keras.layers.Dense(100, activation=\"relu\"),\n",
        "    keras.layers.Dense(10, activation=\"softmax\")\n",
        "])\n",
        "```"
      ]
    },
    {
      "cell_type": "markdown",
      "id": "81892ffb-8209-49f4-8c4d-0dcfd18b8e65",
      "metadata": {
        "id": "81892ffb-8209-49f4-8c4d-0dcfd18b8e65",
        "tags": []
      },
      "source": [
        "### Layers and weights\n",
        "In any case, `model.layers` will contain a list of `keras.layers` at the end:"
      ]
    },
    {
      "cell_type": "code",
      "execution_count": 139,
      "id": "7889a98a-b91a-4813-9799-a04facac9d58",
      "metadata": {
        "id": "7889a98a-b91a-4813-9799-a04facac9d58",
        "tags": []
      },
      "outputs": [
        {
          "data": {
            "text/plain": [
              "[<keras.layers.reshaping.flatten.Flatten at 0x168a686cd00>,\n",
              " <keras.layers.core.dense.Dense at 0x168a6642ad0>,\n",
              " <keras.layers.core.dense.Dense at 0x168a4e6e860>,\n",
              " <keras.layers.core.dense.Dense at 0x168a6642d10>]"
            ]
          },
          "execution_count": 139,
          "metadata": {},
          "output_type": "execute_result"
        }
      ],
      "source": [
        "model.layers"
      ]
    },
    {
      "cell_type": "markdown",
      "id": "2f2245dc-b693-4e8e-a0e2-ce07617af899",
      "metadata": {
        "id": "2f2245dc-b693-4e8e-a0e2-ce07617af899"
      },
      "source": [
        "Each layer has a name. You can attribute one during its creation. If you don't, a standard one will be created for you:"
      ]
    },
    {
      "cell_type": "code",
      "execution_count": 140,
      "id": "6652bcf9-11dc-47ab-b2bc-b18d128ca83a",
      "metadata": {
        "id": "6652bcf9-11dc-47ab-b2bc-b18d128ca83a"
      },
      "outputs": [
        {
          "name": "stdout",
          "output_type": "stream",
          "text": [
            "flatten\n",
            "dense\n",
            "dense_1\n",
            "dense_2\n"
          ]
        }
      ],
      "source": [
        "for layer in model.layers:\n",
        "    print(layer.name)"
      ]
    },
    {
      "cell_type": "markdown",
      "id": "f4da3021-ed10-4bb8-94f3-7188d91f964e",
      "metadata": {
        "id": "f4da3021-ed10-4bb8-94f3-7188d91f964e"
      },
      "source": [
        "You can access your model's layers by indexing `model.layers` or by their name (using `model.get_layer`)"
      ]
    },
    {
      "cell_type": "code",
      "execution_count": 141,
      "id": "52d141d4-2ed8-4036-9ee0-39a55d5cfd32",
      "metadata": {
        "id": "52d141d4-2ed8-4036-9ee0-39a55d5cfd32"
      },
      "outputs": [
        {
          "data": {
            "text/plain": [
              "'dense'"
            ]
          },
          "execution_count": 141,
          "metadata": {},
          "output_type": "execute_result"
        }
      ],
      "source": [
        "hidden1 = model.layers[1]\n",
        "hidden1.name"
      ]
    },
    {
      "cell_type": "code",
      "execution_count": 142,
      "id": "820f0e22-547f-44d0-9fd4-e293dc6a1b6e",
      "metadata": {
        "id": "820f0e22-547f-44d0-9fd4-e293dc6a1b6e"
      },
      "outputs": [
        {
          "data": {
            "text/plain": [
              "True"
            ]
          },
          "execution_count": 142,
          "metadata": {},
          "output_type": "execute_result"
        }
      ],
      "source": [
        "model.get_layer(hidden1.name) is hidden1"
      ]
    },
    {
      "cell_type": "markdown",
      "id": "3d228f42-1009-42d0-8f28-0fd41944cd03",
      "metadata": {
        "id": "3d228f42-1009-42d0-8f28-0fd41944cd03"
      },
      "source": [
        "All the parameters of a layer can be accessed using its get_weights() and set_weights() methods. For a Dense layer, this includes both the connection weights and the bias terms:"
      ]
    },
    {
      "cell_type": "code",
      "execution_count": 143,
      "id": "b98d1145-10d4-41f2-9c32-3f8f69e1dfba",
      "metadata": {
        "id": "b98d1145-10d4-41f2-9c32-3f8f69e1dfba"
      },
      "outputs": [],
      "source": [
        "weights, biases = hidden1.get_weights()"
      ]
    },
    {
      "cell_type": "markdown",
      "id": "7MPtfKdOXtLz",
      "metadata": {
        "id": "7MPtfKdOXtLz"
      },
      "source": [
        "We can save this initial weights for later using `model.save_weights`, in case we want to reset our model to its initial state:"
      ]
    },
    {
      "cell_type": "code",
      "execution_count": 144,
      "id": "NNxOyFgPYMPs",
      "metadata": {
        "id": "NNxOyFgPYMPs"
      },
      "outputs": [],
      "source": [
        "model.save_weights('init.h5')"
      ]
    },
    {
      "cell_type": "markdown",
      "id": "AjV1xvr3YdNs",
      "metadata": {
        "id": "AjV1xvr3YdNs"
      },
      "source": [
        "`h5` is the extension corresponding to the default keras format, HDF5. To load back the weights, just call \n",
        "```python \n",
        "model.load_weights('init.h5')\n",
        "```\n"
      ]
    },
    {
      "cell_type": "markdown",
      "id": "yhN0mjUuMKwW",
      "metadata": {
        "id": "yhN0mjUuMKwW"
      },
      "source": [
        "### TODO: Check weights and biases values and shape"
      ]
    },
    {
      "cell_type": "code",
      "execution_count": 145,
      "id": "ea7c4733-600a-440f-bd12-7cf440e2e504",
      "metadata": {
        "id": "ea7c4733-600a-440f-bd12-7cf440e2e504"
      },
      "outputs": [
        {
          "data": {
            "text/plain": [
              "[<tf.Variable 'dense/kernel:0' shape=(784, 300) dtype=float32, numpy=\n",
              " array([[-0.06945505,  0.06689866, -0.02009083, ..., -0.01686785,\n",
              "          0.01967293,  0.00433163],\n",
              "        [ 0.02376333, -0.07191547, -0.0611531 , ..., -0.0526388 ,\n",
              "          0.03364949, -0.01438962],\n",
              "        [ 0.00374629, -0.067774  , -0.00332278, ...,  0.0684094 ,\n",
              "         -0.03297802, -0.0268416 ],\n",
              "        ...,\n",
              "        [ 0.00963185, -0.05044621, -0.04066337, ...,  0.05064453,\n",
              "          0.02372117,  0.00701151],\n",
              "        [-0.05863306, -0.00258642, -0.07016473, ..., -0.02409127,\n",
              "          0.07372378,  0.04499045],\n",
              "        [-0.04026056, -0.02436844, -0.02017511, ..., -0.06098356,\n",
              "         -0.02690652,  0.01042669]], dtype=float32)>,\n",
              " <tf.Variable 'dense/bias:0' shape=(300,) dtype=float32, numpy=\n",
              " array([0., 0., 0., 0., 0., 0., 0., 0., 0., 0., 0., 0., 0., 0., 0., 0., 0.,\n",
              "        0., 0., 0., 0., 0., 0., 0., 0., 0., 0., 0., 0., 0., 0., 0., 0., 0.,\n",
              "        0., 0., 0., 0., 0., 0., 0., 0., 0., 0., 0., 0., 0., 0., 0., 0., 0.,\n",
              "        0., 0., 0., 0., 0., 0., 0., 0., 0., 0., 0., 0., 0., 0., 0., 0., 0.,\n",
              "        0., 0., 0., 0., 0., 0., 0., 0., 0., 0., 0., 0., 0., 0., 0., 0., 0.,\n",
              "        0., 0., 0., 0., 0., 0., 0., 0., 0., 0., 0., 0., 0., 0., 0., 0., 0.,\n",
              "        0., 0., 0., 0., 0., 0., 0., 0., 0., 0., 0., 0., 0., 0., 0., 0., 0.,\n",
              "        0., 0., 0., 0., 0., 0., 0., 0., 0., 0., 0., 0., 0., 0., 0., 0., 0.,\n",
              "        0., 0., 0., 0., 0., 0., 0., 0., 0., 0., 0., 0., 0., 0., 0., 0., 0.,\n",
              "        0., 0., 0., 0., 0., 0., 0., 0., 0., 0., 0., 0., 0., 0., 0., 0., 0.,\n",
              "        0., 0., 0., 0., 0., 0., 0., 0., 0., 0., 0., 0., 0., 0., 0., 0., 0.,\n",
              "        0., 0., 0., 0., 0., 0., 0., 0., 0., 0., 0., 0., 0., 0., 0., 0., 0.,\n",
              "        0., 0., 0., 0., 0., 0., 0., 0., 0., 0., 0., 0., 0., 0., 0., 0., 0.,\n",
              "        0., 0., 0., 0., 0., 0., 0., 0., 0., 0., 0., 0., 0., 0., 0., 0., 0.,\n",
              "        0., 0., 0., 0., 0., 0., 0., 0., 0., 0., 0., 0., 0., 0., 0., 0., 0.,\n",
              "        0., 0., 0., 0., 0., 0., 0., 0., 0., 0., 0., 0., 0., 0., 0., 0., 0.,\n",
              "        0., 0., 0., 0., 0., 0., 0., 0., 0., 0., 0., 0., 0., 0., 0., 0., 0.,\n",
              "        0., 0., 0., 0., 0., 0., 0., 0., 0., 0., 0.], dtype=float32)>,\n",
              " <tf.Variable 'dense_1/kernel:0' shape=(300, 100) dtype=float32, numpy=\n",
              " array([[-0.07873555, -0.09646412, -0.03769494, ...,  0.08959367,\n",
              "         -0.00313377,  0.09436325],\n",
              "        [-0.10289129, -0.00671663,  0.07590321, ...,  0.02498237,\n",
              "          0.06838075,  0.01853622],\n",
              "        [-0.12220065,  0.0338973 , -0.0868219 , ..., -0.01657841,\n",
              "          0.08433237,  0.11690406],\n",
              "        ...,\n",
              "        [-0.06703687, -0.08742581, -0.11208762, ..., -0.04296753,\n",
              "          0.05415205,  0.08377964],\n",
              "        [ 0.07426006,  0.05640409,  0.05183186, ..., -0.06244268,\n",
              "         -0.09982217, -0.05676891],\n",
              "        [-0.10486346, -0.01865965,  0.11281418, ..., -0.00266157,\n",
              "          0.10463656,  0.08923479]], dtype=float32)>,\n",
              " <tf.Variable 'dense_1/bias:0' shape=(100,) dtype=float32, numpy=\n",
              " array([0., 0., 0., 0., 0., 0., 0., 0., 0., 0., 0., 0., 0., 0., 0., 0., 0.,\n",
              "        0., 0., 0., 0., 0., 0., 0., 0., 0., 0., 0., 0., 0., 0., 0., 0., 0.,\n",
              "        0., 0., 0., 0., 0., 0., 0., 0., 0., 0., 0., 0., 0., 0., 0., 0., 0.,\n",
              "        0., 0., 0., 0., 0., 0., 0., 0., 0., 0., 0., 0., 0., 0., 0., 0., 0.,\n",
              "        0., 0., 0., 0., 0., 0., 0., 0., 0., 0., 0., 0., 0., 0., 0., 0., 0.,\n",
              "        0., 0., 0., 0., 0., 0., 0., 0., 0., 0., 0., 0., 0., 0., 0.],\n",
              "       dtype=float32)>,\n",
              " <tf.Variable 'dense_2/kernel:0' shape=(100, 10) dtype=float32, numpy=\n",
              " array([[ 1.01434350e-01, -2.35116333e-02,  2.19732106e-01,\n",
              "          1.82033896e-01,  1.70706928e-01,  1.33113116e-01,\n",
              "         -1.75986752e-01, -5.55493981e-02,  1.18688494e-01,\n",
              "         -1.66194752e-01],\n",
              "        [ 2.04468668e-01,  2.33201712e-01,  4.18310463e-02,\n",
              "         -2.17930779e-01, -7.18348175e-02,  1.56389982e-01,\n",
              "          8.58684480e-02, -2.02249616e-01,  2.17620403e-01,\n",
              "          8.20304155e-02],\n",
              "        [-1.41975731e-01, -1.33240014e-01,  2.03527182e-01,\n",
              "         -3.58913243e-02,  1.17007256e-01, -2.03138411e-01,\n",
              "         -1.07303679e-01, -8.63594562e-02,  1.82878971e-01,\n",
              "         -7.78875202e-02],\n",
              "        [-6.56908602e-02,  1.88136876e-01, -2.20168322e-01,\n",
              "         -2.84857005e-02,  8.10682178e-02,  1.53803647e-01,\n",
              "         -3.38235497e-02,  9.15392637e-02, -6.26950860e-02,\n",
              "         -1.84779704e-01],\n",
              "        [ 1.24694645e-01,  2.15551287e-01, -1.70088977e-01,\n",
              "         -5.12754172e-02,  2.19862342e-01, -4.20151800e-02,\n",
              "          8.05387795e-02,  1.37902886e-01, -2.23722875e-01,\n",
              "          1.23841524e-01],\n",
              "        [ 7.63095915e-02,  5.03321588e-02,  3.48181427e-02,\n",
              "          4.71191108e-02, -2.31056497e-01, -1.25289097e-01,\n",
              "          2.01011896e-01,  4.04411554e-02,  1.25149399e-01,\n",
              "          1.32593274e-01],\n",
              "        [ 9.77921486e-02,  1.19460791e-01, -2.47584283e-02,\n",
              "         -1.57536551e-01,  1.07341886e-01,  2.21219659e-02,\n",
              "          2.13953257e-01,  2.82596350e-02, -8.07449222e-04,\n",
              "         -1.38847917e-01],\n",
              "        [ 5.42300344e-02,  1.22570187e-01,  5.29578626e-02,\n",
              "         -5.42402267e-05, -1.99357122e-01,  6.19028211e-02,\n",
              "          1.84516996e-01,  7.54832029e-02,  1.34429842e-01,\n",
              "         -1.84384584e-02],\n",
              "        [ 2.25108266e-01,  1.33182049e-01,  7.20724165e-02,\n",
              "          2.04952508e-01, -5.34781814e-03,  6.78245127e-02,\n",
              "         -2.79119015e-02,  9.47774947e-02, -7.49762058e-02,\n",
              "          2.19649315e-01],\n",
              "        [-1.74019158e-01, -2.25654289e-01, -1.63532510e-01,\n",
              "         -9.37334448e-02,  1.21772736e-02, -1.65319473e-01,\n",
              "         -3.50011885e-02, -1.45188391e-01,  1.51862234e-01,\n",
              "          2.12642670e-01],\n",
              "        [ 3.89193892e-02, -2.01762676e-01, -7.36191720e-02,\n",
              "          3.68604660e-02, -2.10835427e-01, -1.10766694e-01,\n",
              "          1.71683818e-01, -4.12048846e-02,  2.06336558e-01,\n",
              "          2.30084717e-01],\n",
              "        [-1.33652449e-01,  2.30155379e-01,  1.15822881e-01,\n",
              "         -7.87270367e-02,  8.39683414e-02,  2.71624625e-02,\n",
              "          1.07327104e-02, -6.94696456e-02,  1.28997564e-02,\n",
              "         -1.21371493e-01],\n",
              "        [ 1.01665825e-01,  2.12863147e-01,  1.45601034e-01,\n",
              "          2.54129171e-02,  8.98959637e-02, -1.27097994e-01,\n",
              "         -2.84069777e-03,  2.03158587e-01,  1.85295999e-01,\n",
              "          1.05340749e-01],\n",
              "        [ 1.45865083e-01, -2.26299763e-01,  1.37492150e-01,\n",
              "         -1.37361854e-01,  6.12508357e-02,  1.55595958e-01,\n",
              "          9.99407470e-03, -2.06987530e-01, -2.05982909e-01,\n",
              "         -2.23005012e-01],\n",
              "        [ 1.97523654e-01, -1.93207040e-01, -2.28080377e-01,\n",
              "         -2.01011628e-01,  1.02829069e-01,  1.57501698e-01,\n",
              "         -1.89127341e-01, -6.57956302e-03,  1.26658171e-01,\n",
              "         -1.51187956e-01],\n",
              "        [ 2.24334985e-01,  1.84935510e-01,  1.41030014e-01,\n",
              "          1.68308020e-01,  4.22166884e-02, -1.33550614e-01,\n",
              "         -2.16838568e-02,  6.02300167e-02, -1.35789335e-01,\n",
              "         -1.96683019e-01],\n",
              "        [ 5.15738130e-02, -7.42338002e-02, -1.85211018e-01,\n",
              "          1.20640278e-01,  1.38395667e-01,  1.78174376e-02,\n",
              "         -2.19303742e-01, -1.13286942e-01,  1.29681945e-01,\n",
              "         -1.90029681e-01],\n",
              "        [-2.52727121e-02,  8.94522965e-02,  1.11020952e-01,\n",
              "         -1.86515436e-01, -1.19728021e-01, -4.27003056e-02,\n",
              "          1.45836860e-01,  1.45224750e-01,  6.15167320e-02,\n",
              "          1.99979097e-01],\n",
              "        [-1.75047606e-01, -4.63242978e-02, -2.38251239e-02,\n",
              "         -1.08810008e-01,  5.28713465e-02,  3.23219001e-02,\n",
              "         -4.34771776e-02,  1.57055408e-01,  9.05123055e-02,\n",
              "         -3.26567292e-02],\n",
              "        [ 1.80879235e-03,  1.38206065e-01,  2.13779479e-01,\n",
              "          1.21107399e-01,  2.24827230e-01,  1.61602378e-01,\n",
              "          1.94237173e-01, -1.93628892e-01,  1.12231880e-01,\n",
              "         -5.14337271e-02],\n",
              "        [ 2.28292912e-01, -8.76051933e-02,  2.14872867e-01,\n",
              "          8.51454735e-02, -4.59439158e-02, -2.44080126e-02,\n",
              "         -2.31311858e-01,  1.97780818e-01, -1.25555649e-01,\n",
              "          2.14949131e-01],\n",
              "        [ 9.20471549e-03,  2.22811967e-01, -1.55589893e-01,\n",
              "          1.01663023e-02,  5.28208315e-02,  2.16163576e-01,\n",
              "          5.21297455e-02, -1.14201136e-01, -8.44068378e-02,\n",
              "         -1.64020807e-02],\n",
              "        [ 1.66580349e-01,  1.79672956e-01, -1.99276492e-01,\n",
              "         -1.97070092e-02,  2.07627654e-01,  1.99818343e-01,\n",
              "         -7.72257298e-02,  1.21043414e-01, -7.85463005e-02,\n",
              "         -2.02804714e-01],\n",
              "        [ 2.22159475e-01,  7.08715618e-02,  5.89867830e-02,\n",
              "         -2.78480351e-03, -1.47627056e-01,  7.19985962e-02,\n",
              "          1.16407722e-02,  1.32106215e-01,  9.56304371e-02,\n",
              "          1.15105420e-01],\n",
              "        [-2.27317408e-01,  4.97675836e-02, -1.19240798e-01,\n",
              "         -1.09358758e-01, -9.42682773e-02,  1.69018805e-02,\n",
              "         -9.36338902e-02, -2.31934503e-01,  5.72046638e-02,\n",
              "          1.68602139e-01],\n",
              "        [-1.89478427e-01,  2.00312853e-01, -4.47218567e-02,\n",
              "         -6.91701323e-02,  5.27943969e-02,  1.79014325e-01,\n",
              "         -1.03177547e-01,  5.18627465e-03,  1.84809446e-01,\n",
              "         -8.66103023e-02],\n",
              "        [-1.25452965e-01,  1.41884804e-01,  1.19129092e-01,\n",
              "         -1.76933587e-01, -2.04823315e-01,  1.94492817e-01,\n",
              "         -1.56583339e-02,  1.18780643e-01,  1.54419154e-01,\n",
              "          1.09316558e-02],\n",
              "        [-2.28655860e-01, -7.86298811e-02,  1.62751794e-01,\n",
              "         -3.59620899e-02,  1.65456504e-01, -1.79014221e-01,\n",
              "          7.04067349e-02,  5.38828075e-02,  1.73094869e-02,\n",
              "         -8.23427439e-02],\n",
              "        [ 1.92883521e-01,  1.42950058e-01,  2.04151779e-01,\n",
              "         -4.39214259e-02,  9.46298838e-02, -2.10155487e-01,\n",
              "         -6.12022281e-02,  1.98470056e-02, -5.27976155e-02,\n",
              "         -1.44624323e-01],\n",
              "        [-1.39395744e-02,  8.72125030e-02, -9.69716161e-02,\n",
              "         -5.26283979e-02, -1.89721137e-02, -2.24380434e-01,\n",
              "          3.83847952e-03, -1.28058642e-01, -1.39326453e-01,\n",
              "          9.75720882e-02],\n",
              "        [ 4.53720093e-02, -1.49509579e-01, -1.55754238e-02,\n",
              "          2.20476687e-01,  2.05303133e-01, -2.02999547e-01,\n",
              "         -1.55140132e-01, -1.45656228e-01,  2.04513609e-01,\n",
              "          1.43747538e-01],\n",
              "        [-4.29638475e-02, -1.97282672e-01,  2.32798308e-01,\n",
              "          1.59415334e-01,  1.03908032e-01, -5.07470965e-02,\n",
              "          2.27260232e-01, -2.32728362e-01, -1.63412511e-01,\n",
              "          1.09707266e-01],\n",
              "        [ 1.89177185e-01,  2.08419412e-01, -9.10950899e-02,\n",
              "          4.00019288e-02,  2.13167012e-01,  1.97124541e-01,\n",
              "         -1.80379897e-02, -4.31276113e-02, -6.94845617e-03,\n",
              "          4.72638309e-02],\n",
              "        [ 6.27778769e-02, -1.00471988e-01,  1.27400517e-01,\n",
              "          1.44035131e-01, -2.08334267e-01, -1.48826018e-01,\n",
              "         -5.73258102e-03,  1.45433992e-01,  1.76816702e-01,\n",
              "         -1.56604379e-01],\n",
              "        [-7.16138780e-02,  9.92330909e-03, -1.75019771e-01,\n",
              "         -2.09701657e-02, -4.00628448e-02,  1.03297889e-01,\n",
              "          2.13027537e-01,  5.93554080e-02,  1.78687692e-01,\n",
              "          2.31261641e-01],\n",
              "        [-3.04756314e-02, -8.46464932e-02, -1.24702320e-01,\n",
              "         -1.75685182e-01, -8.50109309e-02, -3.07825059e-02,\n",
              "         -1.17169462e-01,  2.32591450e-01,  1.62345320e-02,\n",
              "         -2.27823675e-01],\n",
              "        [ 9.15230215e-02, -5.14699221e-02,  8.11339915e-02,\n",
              "         -1.60193622e-01, -1.65459737e-01, -5.64977825e-02,\n",
              "          2.05640137e-01, -1.02920577e-01, -1.05396166e-01,\n",
              "         -2.15182006e-02],\n",
              "        [ 2.21636295e-01,  1.10387266e-01,  8.29130411e-02,\n",
              "          5.40544689e-02,  1.17070019e-01,  5.89169562e-02,\n",
              "          9.81984138e-02, -1.26208514e-02, -1.99865460e-01,\n",
              "         -4.99802977e-02],\n",
              "        [ 1.18380398e-01,  2.15254068e-01,  2.18436599e-01,\n",
              "         -1.36205226e-01,  9.42821503e-02,  1.55809999e-01,\n",
              "         -4.51138616e-02,  4.63847518e-02,  1.10990524e-01,\n",
              "          5.46693802e-02],\n",
              "        [ 5.47941029e-02, -9.74245816e-02,  2.45659947e-02,\n",
              "         -1.41720191e-01,  1.23249441e-01,  1.28449589e-01,\n",
              "         -2.27443144e-01,  1.97756261e-01,  1.16601348e-01,\n",
              "         -1.54155955e-01],\n",
              "        [-1.11153238e-01, -3.73254269e-02, -1.02682248e-01,\n",
              "          8.90587270e-03,  1.97162449e-01,  7.56100416e-02,\n",
              "         -1.34160846e-01, -4.67370152e-02, -6.76756054e-02,\n",
              "         -1.73607886e-01],\n",
              "        [ 1.09383255e-01, -6.37382418e-02,  1.43707901e-01,\n",
              "         -3.34640145e-02, -6.07014149e-02,  1.86885297e-02,\n",
              "          1.45882219e-02, -8.07855725e-02,  1.73206121e-01,\n",
              "         -2.37563103e-02],\n",
              "        [-1.77004337e-02,  1.44929469e-01, -1.97835103e-01,\n",
              "          9.63523090e-02,  8.84076357e-02, -2.42619663e-02,\n",
              "         -7.73860365e-02,  6.87885880e-02,  3.82329524e-02,\n",
              "         -1.68898806e-01],\n",
              "        [-7.15615302e-02,  5.57498336e-02, -2.70868540e-02,\n",
              "         -1.06420159e-01, -1.92241967e-02,  1.53455585e-01,\n",
              "         -3.27360183e-02, -4.06445563e-02,  1.34546161e-01,\n",
              "          1.87355310e-01],\n",
              "        [ 7.85410702e-02, -1.87315375e-01, -3.54031026e-02,\n",
              "         -1.11919545e-01,  3.34578156e-02, -1.63868815e-02,\n",
              "         -1.03940010e-01, -2.23281711e-01,  6.57566786e-02,\n",
              "         -7.70220459e-02],\n",
              "        [ 2.20134407e-01,  1.00452870e-01, -1.90769255e-01,\n",
              "          1.91188604e-01,  1.68892056e-01,  1.70723587e-01,\n",
              "         -1.32306218e-01,  2.42699683e-02,  1.71832055e-01,\n",
              "          1.25623077e-01],\n",
              "        [-1.82743162e-01, -1.91289663e-01, -1.72663003e-01,\n",
              "         -7.71199316e-02,  1.41271800e-02, -1.80517137e-01,\n",
              "          1.13881350e-01,  1.57435030e-01,  4.69762087e-02,\n",
              "          2.84569263e-02],\n",
              "        [ 1.54217541e-01,  1.02541149e-02,  1.27999783e-02,\n",
              "          6.49054050e-02, -2.09044009e-01,  1.46356076e-02,\n",
              "         -7.00404495e-02,  1.03539824e-01,  2.03764081e-01,\n",
              "         -1.87056392e-01],\n",
              "        [ 1.28974348e-01, -5.37637025e-02,  3.10529470e-02,\n",
              "         -1.13436617e-01,  1.53170139e-01, -1.30785137e-01,\n",
              "         -1.59223512e-01,  7.08055198e-02,  7.56585002e-02,\n",
              "         -9.90830958e-02],\n",
              "        [-2.21332863e-01, -2.16062680e-01, -2.32716173e-01,\n",
              "          7.83446729e-02,  5.60019314e-02, -1.78949386e-02,\n",
              "         -9.23621505e-02,  4.51870263e-03, -1.51886046e-03,\n",
              "          1.93012029e-01],\n",
              "        [-2.31683210e-01,  2.21701384e-01,  1.91471070e-01,\n",
              "         -2.29184672e-01,  1.46491259e-01,  5.05268574e-04,\n",
              "         -1.89554766e-01, -1.12884790e-02, -1.38692841e-01,\n",
              "          7.03671873e-02],\n",
              "        [ 2.00952649e-01,  1.72288716e-01,  1.82593495e-01,\n",
              "          1.30524099e-01, -1.82915732e-01, -2.17296556e-01,\n",
              "         -9.71633196e-02,  1.97437465e-01,  1.33331120e-01,\n",
              "          1.44574583e-01],\n",
              "        [ 1.13820255e-01, -2.66156048e-02,  1.01751357e-01,\n",
              "          9.35409367e-02, -1.13994777e-01,  2.19797641e-01,\n",
              "          1.49760544e-01, -1.37327164e-02,  1.10962540e-02,\n",
              "         -4.76500392e-02],\n",
              "        [-5.13924658e-02, -1.07268661e-01, -3.43853384e-02,\n",
              "         -4.45279777e-02, -1.79349646e-01, -1.50538087e-01,\n",
              "          1.07876390e-01,  1.85968637e-01, -7.61125237e-02,\n",
              "          4.68082726e-02],\n",
              "        [ 1.31155431e-01, -6.28918707e-02, -1.58798993e-02,\n",
              "          4.35925722e-02,  9.11282897e-02, -6.62761331e-02,\n",
              "          2.00158358e-02, -2.34538913e-02, -1.29929900e-01,\n",
              "         -1.91610068e-01],\n",
              "        [-1.61986083e-01, -1.23651810e-01, -1.45303935e-01,\n",
              "          2.85658836e-02, -1.53269649e-01, -2.15660378e-01,\n",
              "         -6.41881526e-02,  2.36870348e-02, -1.94230095e-01,\n",
              "          2.14766115e-01],\n",
              "        [ 3.14896107e-02,  6.46368861e-02, -2.98723727e-02,\n",
              "         -2.29708418e-01,  1.57609165e-01,  1.29420191e-01,\n",
              "         -6.23965710e-02, -1.89885631e-01, -4.71174866e-02,\n",
              "         -7.19309300e-02],\n",
              "        [-1.48181438e-01,  1.99163258e-02,  2.07624495e-01,\n",
              "          9.32027400e-02,  2.20997781e-01, -6.07037544e-02,\n",
              "          9.92107689e-02,  1.90016329e-01, -2.03612000e-01,\n",
              "         -1.06439769e-01],\n",
              "        [-8.81507993e-04,  7.92369246e-02,  1.26385093e-01,\n",
              "          4.70986664e-02,  7.08439052e-02,  9.86829102e-02,\n",
              "          1.09030902e-01, -2.19778433e-01,  8.79846215e-02,\n",
              "         -2.10065216e-01],\n",
              "        [ 1.17620170e-01,  8.09202194e-02, -4.31453735e-02,\n",
              "         -1.65808260e-01,  2.16060847e-01,  4.46013510e-02,\n",
              "         -2.07233652e-01, -1.12028345e-01, -1.29609853e-01,\n",
              "         -2.02190474e-01],\n",
              "        [-6.59686029e-02, -6.94640279e-02,  1.41102672e-01,\n",
              "          2.65888274e-02,  7.39257634e-02, -9.36662853e-02,\n",
              "          1.74936414e-01,  1.30529433e-01, -1.93147346e-01,\n",
              "          8.96222889e-03],\n",
              "        [ 5.49221933e-02,  1.90354139e-01, -9.24019665e-02,\n",
              "          2.39930153e-02,  1.32456124e-02,  2.16640770e-01,\n",
              "         -3.50198895e-02,  6.14206493e-03, -1.64362848e-01,\n",
              "         -6.39092922e-02],\n",
              "        [ 1.26557708e-01, -1.28293961e-01,  2.83610821e-02,\n",
              "         -1.09568901e-01,  2.25430429e-02,  6.46090508e-03,\n",
              "          2.03291476e-01, -8.14673007e-02, -1.21052764e-01,\n",
              "         -3.51428390e-02],\n",
              "        [-1.77072123e-01,  2.14242518e-01, -8.31931233e-02,\n",
              "          2.10788697e-01, -8.06492120e-02,  9.73527133e-02,\n",
              "         -9.47005898e-02,  1.24026120e-01,  5.83875179e-02,\n",
              "          1.39723718e-02],\n",
              "        [-6.25153333e-02,  2.10885972e-01,  1.04956537e-01,\n",
              "         -1.01208717e-01,  2.14598775e-01, -1.15301907e-02,\n",
              "         -1.53213084e-01, -1.08947933e-01, -9.72419977e-02,\n",
              "         -5.35503328e-02],\n",
              "        [-1.16162725e-01,  2.36896574e-02, -1.32639855e-02,\n",
              "          2.13689268e-01,  1.35674298e-01, -1.50316536e-01,\n",
              "         -1.90132201e-01,  5.12485206e-02, -7.06521720e-02,\n",
              "          6.91955090e-02],\n",
              "        [-1.07581094e-01, -7.12067187e-02,  1.51348144e-01,\n",
              "          9.32430625e-02,  1.88589692e-02, -2.02750027e-01,\n",
              "         -1.04313865e-01, -2.14265198e-01,  1.87799662e-01,\n",
              "          1.25927448e-01],\n",
              "        [-1.06565163e-01,  9.43412185e-02,  1.39646918e-01,\n",
              "          1.33204222e-01, -9.29980427e-02, -5.45449257e-02,\n",
              "         -4.72171605e-02, -1.85871810e-01,  4.33439314e-02,\n",
              "          1.65380120e-01],\n",
              "        [ 2.28459895e-01, -3.88916731e-02,  1.23592407e-01,\n",
              "          1.01428777e-01,  1.97279096e-01,  2.18857497e-01,\n",
              "          3.51037383e-02, -6.23767972e-02, -1.58019960e-02,\n",
              "          1.88020051e-01],\n",
              "        [-1.90536559e-01, -1.79873511e-01,  1.70913905e-01,\n",
              "         -2.27313787e-01, -1.07327908e-01, -8.36789459e-02,\n",
              "         -1.15899123e-01,  1.00788653e-01,  7.68673718e-02,\n",
              "         -1.85376614e-01],\n",
              "        [ 1.90912634e-01,  6.52951300e-02,  1.66478395e-01,\n",
              "          1.92489862e-01,  1.27471805e-01,  3.32942307e-02,\n",
              "          8.58171582e-02,  4.77744341e-02,  9.23575759e-02,\n",
              "          2.17382699e-01],\n",
              "        [ 2.11408794e-01,  1.10749304e-01,  1.44569576e-01,\n",
              "         -1.27334267e-01, -2.05299571e-01, -2.32584253e-01,\n",
              "         -2.94900537e-02, -6.39827400e-02,  1.33353621e-02,\n",
              "          3.10244560e-02],\n",
              "        [ 7.54351914e-02,  4.17551994e-02,  1.49248749e-01,\n",
              "         -1.10373236e-01,  6.28286004e-02,  1.43878788e-01,\n",
              "          5.97116053e-02,  5.17929792e-02,  1.96533352e-01,\n",
              "          2.13592321e-01],\n",
              "        [ 7.15523958e-04,  1.69937164e-01,  1.41977161e-01,\n",
              "          9.09754932e-02, -2.31403515e-01,  7.49704838e-02,\n",
              "         -7.08617717e-02, -7.81948864e-02,  1.43091381e-02,\n",
              "         -5.60998172e-02],\n",
              "        [-6.23171628e-02, -2.18242541e-01, -2.34971642e-02,\n",
              "         -2.07640231e-03,  3.90480161e-02, -1.09541282e-01,\n",
              "          1.34292185e-01, -2.25676328e-01, -3.94466519e-03,\n",
              "         -1.92098171e-02],\n",
              "        [ 2.31772691e-01,  6.25065863e-02,  1.29089534e-01,\n",
              "          1.26886845e-01,  7.38866031e-02, -2.30914235e-01,\n",
              "         -3.33857685e-02, -7.89662004e-02, -1.26746416e-01,\n",
              "         -3.13839316e-02],\n",
              "        [-1.68347329e-01, -6.76159561e-03, -1.52557805e-01,\n",
              "          1.44526094e-01,  1.76266611e-01, -1.11829452e-01,\n",
              "          2.64387727e-02, -1.40096843e-02,  3.58478427e-02,\n",
              "         -3.94578427e-02],\n",
              "        [-2.30255231e-01,  1.08040422e-02, -7.76273161e-02,\n",
              "         -1.44676939e-01, -1.62271082e-01, -2.12696940e-01,\n",
              "         -1.42067999e-01, -6.36239797e-02, -1.92850828e-03,\n",
              "         -1.09094709e-01],\n",
              "        [ 4.19608951e-02, -4.35594320e-02,  1.22329891e-01,\n",
              "         -1.27609894e-01,  2.00602859e-01, -1.74814910e-02,\n",
              "          7.12065399e-02, -1.27549917e-02, -1.91707730e-01,\n",
              "          5.47894239e-02],\n",
              "        [-5.22733629e-02, -4.75337654e-02,  1.60469413e-02,\n",
              "          3.57461572e-02,  1.62888318e-01, -2.05553040e-01,\n",
              "         -1.43397510e-01, -2.10820884e-02, -1.89504474e-02,\n",
              "          1.97034389e-01],\n",
              "        [ 1.25956833e-01, -2.92031169e-02, -2.25832418e-01,\n",
              "         -6.45625144e-02, -5.75437248e-02,  1.55934066e-01,\n",
              "         -2.00748354e-01,  1.94846153e-01, -2.31733710e-01,\n",
              "         -6.70821518e-02],\n",
              "        [ 2.22924054e-01,  3.52069736e-02,  3.14342678e-02,\n",
              "         -1.70709819e-01, -2.02982277e-01, -6.92688525e-02,\n",
              "          1.33256614e-01, -3.71259749e-02,  5.08580208e-02,\n",
              "          1.59249395e-01],\n",
              "        [ 1.61513984e-02,  1.16243899e-01, -5.73364645e-02,\n",
              "          8.12351704e-04, -2.14109570e-02,  5.79514205e-02,\n",
              "          1.40592188e-01, -2.99426466e-02, -1.19602628e-01,\n",
              "          3.10179293e-02],\n",
              "        [ 4.30598557e-02,  1.82422400e-02, -1.82127208e-02,\n",
              "          1.36823297e-01,  2.11495936e-01,  3.41000557e-02,\n",
              "         -8.93757790e-02,  7.28729367e-03, -9.57959294e-02,\n",
              "          9.61647630e-02],\n",
              "        [ 1.54532909e-01,  9.61186588e-02, -1.80538803e-01,\n",
              "         -1.26568630e-01, -4.03357893e-02,  1.62256151e-01,\n",
              "         -8.83439779e-02,  1.47363633e-01,  1.48062617e-01,\n",
              "         -1.16842054e-01],\n",
              "        [ 1.14739537e-02,  4.22606170e-02,  1.23653531e-01,\n",
              "          1.42020702e-01, -1.95398256e-01, -9.51798558e-02,\n",
              "         -4.72604334e-02,  8.25885832e-02,  1.76383823e-01,\n",
              "          1.60726339e-01],\n",
              "        [ 1.08582705e-01,  1.86786830e-01, -2.66634971e-02,\n",
              "          9.15528536e-02, -6.98627084e-02, -1.96281105e-01,\n",
              "          2.94739604e-02, -9.48740393e-02,  1.35264754e-01,\n",
              "          2.11825460e-01],\n",
              "        [ 1.89776450e-01, -1.09920591e-01, -2.22530931e-01,\n",
              "         -2.33358860e-01,  2.04102159e-01, -1.04340479e-01,\n",
              "         -1.14125133e-01, -1.30164772e-01,  1.04714334e-01,\n",
              "         -1.71042025e-01],\n",
              "        [ 1.09529644e-01, -2.22031578e-01,  4.11642492e-02,\n",
              "         -1.38588324e-01, -1.92703784e-01,  1.38429731e-01,\n",
              "         -1.48600787e-01,  1.96995854e-01,  1.99856371e-01,\n",
              "          1.84161365e-02],\n",
              "        [ 1.47411525e-01,  1.14999801e-01, -1.58611119e-01,\n",
              "         -2.98841745e-02,  6.42252862e-02, -8.88901800e-02,\n",
              "         -1.18736655e-01, -2.93084234e-02, -5.98647892e-02,\n",
              "          1.18487984e-01],\n",
              "        [ 9.12660360e-02,  2.20580608e-01, -1.92822829e-01,\n",
              "          3.91806066e-02,  8.51671696e-02, -1.52547002e-01,\n",
              "         -2.16580480e-01,  1.51451737e-01,  2.29872197e-01,\n",
              "         -7.21393973e-02],\n",
              "        [-1.31818205e-01,  1.31344020e-01,  7.78522193e-02,\n",
              "         -5.24763316e-02, -1.40178174e-01,  2.16898263e-01,\n",
              "         -3.56720388e-02, -8.59338194e-02, -1.36733770e-01,\n",
              "         -9.01844651e-02],\n",
              "        [ 7.92400539e-02, -2.25497261e-01, -7.39525259e-03,\n",
              "         -1.83898076e-01,  1.64020360e-02,  2.08629370e-02,\n",
              "          9.20840204e-02, -1.66054264e-01,  1.24502689e-01,\n",
              "          9.39576924e-02],\n",
              "        [-1.82619438e-01, -1.13443851e-01,  2.06013858e-01,\n",
              "          1.92966700e-01, -2.82197595e-02,  5.85646033e-02,\n",
              "          7.11464584e-02, -2.27055594e-01, -1.80917829e-01,\n",
              "         -1.60066605e-01],\n",
              "        [-1.28631830e-01, -1.84861451e-01,  7.10660219e-03,\n",
              "          1.98178262e-01,  5.60794473e-02, -1.72831163e-01,\n",
              "          3.01620364e-02, -4.41909730e-02, -2.00977936e-01,\n",
              "         -2.17397004e-01],\n",
              "        [ 1.08608365e-01,  9.43546891e-02,  2.05965370e-01,\n",
              "         -9.46989208e-02,  1.64264619e-01, -1.15917385e-01,\n",
              "         -1.55670732e-01,  3.49886119e-02,  1.67741776e-01,\n",
              "          1.72605217e-01],\n",
              "        [-1.60696656e-02, -1.19531907e-01, -4.47566658e-02,\n",
              "         -9.33702290e-02,  1.42020613e-01,  1.82173133e-01,\n",
              "         -2.22926289e-02, -1.09778322e-01, -1.64540365e-01,\n",
              "         -6.61112070e-02],\n",
              "        [ 8.21057558e-02,  1.99469328e-01,  9.59108472e-02,\n",
              "          4.22892570e-02,  3.68917584e-02,  3.89937460e-02,\n",
              "         -1.53892189e-02, -2.07486153e-02, -6.09585643e-02,\n",
              "         -1.00832865e-01],\n",
              "        [-1.07298642e-02,  1.62721604e-01,  6.09954298e-02,\n",
              "         -1.66462690e-01, -1.96655959e-01, -2.19092533e-01,\n",
              "          1.86316758e-01,  6.74383044e-02,  7.26833045e-02,\n",
              "          2.06515580e-01],\n",
              "        [-9.97303426e-03, -7.55981356e-02, -4.62148786e-02,\n",
              "          4.44360971e-02,  2.26710916e-01, -1.11057021e-01,\n",
              "         -1.38689056e-01,  1.61901504e-01, -2.10178584e-01,\n",
              "         -2.59632319e-02]], dtype=float32)>,\n",
              " <tf.Variable 'dense_2/bias:0' shape=(10,) dtype=float32, numpy=array([0., 0., 0., 0., 0., 0., 0., 0., 0., 0.], dtype=float32)>]"
            ]
          },
          "execution_count": 145,
          "metadata": {},
          "output_type": "execute_result"
        }
      ],
      "source": [
        "# TODO your code here\n",
        "model.weights"
      ]
    },
    {
      "cell_type": "markdown",
      "id": "3e5b069b-f680-41aa-90b8-aaaee02faa84",
      "metadata": {
        "id": "3e5b069b-f680-41aa-90b8-aaaee02faa84"
      },
      "source": [
        "Notice that the Dense layer initialized the connection weights randomly, and the biases were initialized to zeros, which is fine. If you ever want to use a different initialization method, you can set kernel_initializer (kernel is another name for the matrix of connection weights) or bias_initializer when creating the layer. We will discuss initializers later, but if you want the full list, see https://keras.io/initializers/."
      ]
    },
    {
      "cell_type": "markdown",
      "id": "0f4fd1cc-1a13-4897-ab63-0ab1f64b80b5",
      "metadata": {
        "id": "0f4fd1cc-1a13-4897-ab63-0ab1f64b80b5"
      },
      "source": [
        "### Printing the model summary\n",
        "The model’s summary() method displays all the model’s layers, including each layer’s\n",
        "name (which is automatically generated unless you set it when creating the layer), its output shape (None means the batch size can be anything), and its number of parameters. The summary ends with the total number of parameters, including trainable and non-trainable parameters. Here we only have trainable parameters (we will see examples of non-trainable parameters later when doing some transfer learning):"
      ]
    },
    {
      "cell_type": "code",
      "execution_count": 146,
      "id": "5efbd125-a21a-46b2-ba34-4b62f402749d",
      "metadata": {
        "id": "5efbd125-a21a-46b2-ba34-4b62f402749d"
      },
      "outputs": [
        {
          "name": "stdout",
          "output_type": "stream",
          "text": [
            "Model: \"sequential\"\n",
            "_________________________________________________________________\n",
            " Layer (type)                Output Shape              Param #   \n",
            "=================================================================\n",
            " flatten (Flatten)           (None, 784)               0         \n",
            "                                                                 \n",
            " dense (Dense)               (None, 300)               235500    \n",
            "                                                                 \n",
            " dense_1 (Dense)             (None, 100)               30100     \n",
            "                                                                 \n",
            " dense_2 (Dense)             (None, 10)                1010      \n",
            "                                                                 \n",
            "=================================================================\n",
            "Total params: 266,610\n",
            "Trainable params: 266,610\n",
            "Non-trainable params: 0\n",
            "_________________________________________________________________\n"
          ]
        }
      ],
      "source": [
        "model.summary()"
      ]
    },
    {
      "cell_type": "markdown",
      "id": "377a5391-1926-470c-b7b5-7c18d4c938f8",
      "metadata": {
        "id": "377a5391-1926-470c-b7b5-7c18d4c938f8"
      },
      "source": [
        "You can use the utility function `keras.utils.plot_model` to visualize a graph of the network you just created:"
      ]
    },
    {
      "cell_type": "code",
      "execution_count": 147,
      "id": "25b4d060-d3d2-4ca3-8a76-1a312896d920",
      "metadata": {
        "id": "25b4d060-d3d2-4ca3-8a76-1a312896d920"
      },
      "outputs": [
        {
          "name": "stdout",
          "output_type": "stream",
          "text": [
            "You must install pydot (`pip install pydot`) and install graphviz (see instructions at https://graphviz.gitlab.io/download/) for plot_model to work.\n"
          ]
        }
      ],
      "source": [
        "keras.utils.plot_model(model, \"my_fashion_mnist_model.png\", show_shapes=True)"
      ]
    },
    {
      "cell_type": "markdown",
      "id": "a2d2f73e-8eac-4d11-b87b-f5cc1ce5c3b6",
      "metadata": {
        "id": "a2d2f73e-8eac-4d11-b87b-f5cc1ce5c3b6"
      },
      "source": [
        "## Compile the model\n",
        "\n",
        "After a model is created, you must call its compile() method to specify the loss function and the optimizer to use. Optionally, you can specify a list of extra metrics to compute during training and evaluation:"
      ]
    },
    {
      "cell_type": "code",
      "execution_count": 148,
      "id": "9956f792-08c8-424f-983e-62b6d1662614",
      "metadata": {
        "id": "9956f792-08c8-424f-983e-62b6d1662614"
      },
      "outputs": [],
      "source": [
        "model.compile(loss=\"sparse_categorical_crossentropy\",\n",
        "              optimizer=\"sgd\",\n",
        "              metrics=[\"accuracy\"])"
      ]
    },
    {
      "cell_type": "markdown",
      "id": "4591dca0-442a-4f9c-a6bd-41b88ff6ded3",
      "metadata": {
        "id": "4591dca0-442a-4f9c-a6bd-41b88ff6ded3"
      },
      "source": [
        "This is equivalent to:"
      ]
    },
    {
      "cell_type": "markdown",
      "id": "c2aeff70-c6b0-448b-b3c9-ca4bfbc82403",
      "metadata": {
        "id": "c2aeff70-c6b0-448b-b3c9-ca4bfbc82403"
      },
      "source": [
        "```python\n",
        "model.compile(loss=keras.losses.sparse_categorical_crossentropy,\n",
        "              optimizer=keras.optimizers.SGD(),\n",
        "              metrics=[keras.metrics.sparse_categorical_accuracy])\n",
        "```"
      ]
    },
    {
      "cell_type": "markdown",
      "id": "fc452ed2-a0b7-4a93-b204-ab702342bc88",
      "metadata": {
        "id": "fc452ed2-a0b7-4a93-b204-ab702342bc88"
      },
      "source": [
        "We need to use the `sparse` version of the categorical cross entropy because our labels are not one-hot encoded:"
      ]
    },
    {
      "cell_type": "code",
      "execution_count": 149,
      "id": "475b733a-f4ff-444c-bdc9-1f68fafdbc8f",
      "metadata": {
        "id": "475b733a-f4ff-444c-bdc9-1f68fafdbc8f"
      },
      "outputs": [
        {
          "data": {
            "text/plain": [
              "array([9, 0, 0, 3, 0, 2, 7, 2, 5, 5], dtype=uint8)"
            ]
          },
          "execution_count": 149,
          "metadata": {},
          "output_type": "execute_result"
        }
      ],
      "source": [
        "y_train[:10]"
      ]
    },
    {
      "cell_type": "markdown",
      "id": "deeca30e-578e-4292-a947-438c5ba1b549",
      "metadata": {
        "id": "deeca30e-578e-4292-a947-438c5ba1b549"
      },
      "source": [
        "If they were already encoded, we would use `categorical_crossentropy` directly."
      ]
    },
    {
      "cell_type": "markdown",
      "id": "734c61ea-a454-466a-a507-e80474e3d421",
      "metadata": {
        "id": "734c61ea-a454-466a-a507-e80474e3d421"
      },
      "source": [
        "You can change set SGD's learning rate during the call to compile:\n",
        "```python\n",
        "model.compile(loss=keras.losses.sparse_categorical_crossentropy,\n",
        "              optimizer=keras.optimizers.SGD(lr=0.01),\n",
        "              metrics=[keras.metrics.sparse_categorical_accuracy])\n",
        "```"
      ]
    },
    {
      "cell_type": "markdown",
      "id": "904f35bd-3f04-47ca-ac63-6f2feb39d4d9",
      "metadata": {
        "id": "904f35bd-3f04-47ca-ac63-6f2feb39d4d9"
      },
      "source": [
        "Or you can change it later by acessing `model.optimizer`:"
      ]
    },
    {
      "cell_type": "code",
      "execution_count": 150,
      "id": "d2ca10f7-7a0d-4dfb-a9db-53ce8f278f2e",
      "metadata": {
        "id": "d2ca10f7-7a0d-4dfb-a9db-53ce8f278f2e"
      },
      "outputs": [],
      "source": [
        "model.optimizer.learning_rate = 0.01"
      ]
    },
    {
      "cell_type": "markdown",
      "id": "ccd596f9-3cfe-4d58-b1eb-5d9cc4825a31",
      "metadata": {
        "id": "ccd596f9-3cfe-4d58-b1eb-5d9cc4825a31"
      },
      "source": [
        "## Training the model"
      ]
    },
    {
      "cell_type": "markdown",
      "id": "04b13251-71d1-47ab-8d81-a7f7ff7099bd",
      "metadata": {
        "id": "04b13251-71d1-47ab-8d81-a7f7ff7099bd"
      },
      "source": [
        "Now the model is ready to be trained. For this we simply need to call its fit() method.\n",
        "\n",
        "As arguments, we provide the training samples and labels. We can also set some keyword arguments adjust the training procedure:"
      ]
    },
    {
      "cell_type": "code",
      "execution_count": 151,
      "id": "3a3a96a8-6558-4a6e-90fd-738ecea69f32",
      "metadata": {
        "id": "3a3a96a8-6558-4a6e-90fd-738ecea69f32",
        "tags": []
      },
      "outputs": [
        {
          "name": "stdout",
          "output_type": "stream",
          "text": [
            "Epoch 1/3\n",
            "1719/1719 [==============================] - 6s 3ms/step - loss: 0.7138 - accuracy: 0.7666 - val_loss: 0.5054 - val_accuracy: 0.8320\n",
            "Epoch 2/3\n",
            "1719/1719 [==============================] - 6s 3ms/step - loss: 0.4849 - accuracy: 0.8323 - val_loss: 0.4560 - val_accuracy: 0.8360\n",
            "Epoch 3/3\n",
            "1719/1719 [==============================] - 6s 3ms/step - loss: 0.4402 - accuracy: 0.8468 - val_loss: 0.4222 - val_accuracy: 0.8514\n"
          ]
        }
      ],
      "source": [
        "history = model.fit(X_train, y_train, epochs=3,\n",
        "                    validation_data=(X_valid, y_valid))"
      ]
    },
    {
      "cell_type": "code",
      "execution_count": 152,
      "id": "bVywAI5u20Gi",
      "metadata": {
        "id": "bVywAI5u20Gi"
      },
      "outputs": [
        {
          "name": "stdout",
          "output_type": "stream",
          "text": [
            "\u001b[1;31mSignature:\u001b[0m\n",
            "\u001b[0mmodel\u001b[0m\u001b[1;33m.\u001b[0m\u001b[0mfit\u001b[0m\u001b[1;33m(\u001b[0m\u001b[1;33m\n",
            "\u001b[0m    \u001b[0mx\u001b[0m\u001b[1;33m=\u001b[0m\u001b[1;32mNone\u001b[0m\u001b[1;33m,\u001b[0m\u001b[1;33m\n",
            "\u001b[0m    \u001b[0my\u001b[0m\u001b[1;33m=\u001b[0m\u001b[1;32mNone\u001b[0m\u001b[1;33m,\u001b[0m\u001b[1;33m\n",
            "\u001b[0m    \u001b[0mbatch_size\u001b[0m\u001b[1;33m=\u001b[0m\u001b[1;32mNone\u001b[0m\u001b[1;33m,\u001b[0m\u001b[1;33m\n",
            "\u001b[0m    \u001b[0mepochs\u001b[0m\u001b[1;33m=\u001b[0m\u001b[1;36m1\u001b[0m\u001b[1;33m,\u001b[0m\u001b[1;33m\n",
            "\u001b[0m    \u001b[0mverbose\u001b[0m\u001b[1;33m=\u001b[0m\u001b[1;34m'auto'\u001b[0m\u001b[1;33m,\u001b[0m\u001b[1;33m\n",
            "\u001b[0m    \u001b[0mcallbacks\u001b[0m\u001b[1;33m=\u001b[0m\u001b[1;32mNone\u001b[0m\u001b[1;33m,\u001b[0m\u001b[1;33m\n",
            "\u001b[0m    \u001b[0mvalidation_split\u001b[0m\u001b[1;33m=\u001b[0m\u001b[1;36m0.0\u001b[0m\u001b[1;33m,\u001b[0m\u001b[1;33m\n",
            "\u001b[0m    \u001b[0mvalidation_data\u001b[0m\u001b[1;33m=\u001b[0m\u001b[1;32mNone\u001b[0m\u001b[1;33m,\u001b[0m\u001b[1;33m\n",
            "\u001b[0m    \u001b[0mshuffle\u001b[0m\u001b[1;33m=\u001b[0m\u001b[1;32mTrue\u001b[0m\u001b[1;33m,\u001b[0m\u001b[1;33m\n",
            "\u001b[0m    \u001b[0mclass_weight\u001b[0m\u001b[1;33m=\u001b[0m\u001b[1;32mNone\u001b[0m\u001b[1;33m,\u001b[0m\u001b[1;33m\n",
            "\u001b[0m    \u001b[0msample_weight\u001b[0m\u001b[1;33m=\u001b[0m\u001b[1;32mNone\u001b[0m\u001b[1;33m,\u001b[0m\u001b[1;33m\n",
            "\u001b[0m    \u001b[0minitial_epoch\u001b[0m\u001b[1;33m=\u001b[0m\u001b[1;36m0\u001b[0m\u001b[1;33m,\u001b[0m\u001b[1;33m\n",
            "\u001b[0m    \u001b[0msteps_per_epoch\u001b[0m\u001b[1;33m=\u001b[0m\u001b[1;32mNone\u001b[0m\u001b[1;33m,\u001b[0m\u001b[1;33m\n",
            "\u001b[0m    \u001b[0mvalidation_steps\u001b[0m\u001b[1;33m=\u001b[0m\u001b[1;32mNone\u001b[0m\u001b[1;33m,\u001b[0m\u001b[1;33m\n",
            "\u001b[0m    \u001b[0mvalidation_batch_size\u001b[0m\u001b[1;33m=\u001b[0m\u001b[1;32mNone\u001b[0m\u001b[1;33m,\u001b[0m\u001b[1;33m\n",
            "\u001b[0m    \u001b[0mvalidation_freq\u001b[0m\u001b[1;33m=\u001b[0m\u001b[1;36m1\u001b[0m\u001b[1;33m,\u001b[0m\u001b[1;33m\n",
            "\u001b[0m    \u001b[0mmax_queue_size\u001b[0m\u001b[1;33m=\u001b[0m\u001b[1;36m10\u001b[0m\u001b[1;33m,\u001b[0m\u001b[1;33m\n",
            "\u001b[0m    \u001b[0mworkers\u001b[0m\u001b[1;33m=\u001b[0m\u001b[1;36m1\u001b[0m\u001b[1;33m,\u001b[0m\u001b[1;33m\n",
            "\u001b[0m    \u001b[0muse_multiprocessing\u001b[0m\u001b[1;33m=\u001b[0m\u001b[1;32mFalse\u001b[0m\u001b[1;33m,\u001b[0m\u001b[1;33m\n",
            "\u001b[0m\u001b[1;33m)\u001b[0m\u001b[1;33m\u001b[0m\u001b[1;33m\u001b[0m\u001b[0m\n",
            "\u001b[1;31mDocstring:\u001b[0m\n",
            "Trains the model for a fixed number of epochs (iterations on a dataset).\n",
            "\n",
            "Args:\n",
            "    x: Input data. It could be:\n",
            "      - A Numpy array (or array-like), or a list of arrays\n",
            "        (in case the model has multiple inputs).\n",
            "      - A TensorFlow tensor, or a list of tensors\n",
            "        (in case the model has multiple inputs).\n",
            "      - A dict mapping input names to the corresponding array/tensors,\n",
            "        if the model has named inputs.\n",
            "      - A `tf.data` dataset. Should return a tuple\n",
            "        of either `(inputs, targets)` or\n",
            "        `(inputs, targets, sample_weights)`.\n",
            "      - A generator or `keras.utils.Sequence` returning `(inputs,\n",
            "        targets)` or `(inputs, targets, sample_weights)`.\n",
            "      - A `tf.keras.utils.experimental.DatasetCreator`, which wraps a\n",
            "        callable that takes a single argument of type\n",
            "        `tf.distribute.InputContext`, and returns a `tf.data.Dataset`.\n",
            "        `DatasetCreator` should be used when users prefer to specify the\n",
            "        per-replica batching and sharding logic for the `Dataset`.\n",
            "        See `tf.keras.utils.experimental.DatasetCreator` doc for more\n",
            "        information.\n",
            "      A more detailed description of unpacking behavior for iterator\n",
            "      types (Dataset, generator, Sequence) is given below. If these\n",
            "      include `sample_weights` as a third component, note that sample\n",
            "      weighting applies to the `weighted_metrics` argument but not the\n",
            "      `metrics` argument in `compile()`. If using\n",
            "      `tf.distribute.experimental.ParameterServerStrategy`, only\n",
            "      `DatasetCreator` type is supported for `x`.\n",
            "    y: Target data. Like the input data `x`,\n",
            "      it could be either Numpy array(s) or TensorFlow tensor(s).\n",
            "      It should be consistent with `x` (you cannot have Numpy inputs and\n",
            "      tensor targets, or inversely). If `x` is a dataset, generator,\n",
            "      or `keras.utils.Sequence` instance, `y` should\n",
            "      not be specified (since targets will be obtained from `x`).\n",
            "    batch_size: Integer or `None`.\n",
            "        Number of samples per gradient update.\n",
            "        If unspecified, `batch_size` will default to 32.\n",
            "        Do not specify the `batch_size` if your data is in the\n",
            "        form of datasets, generators, or `keras.utils.Sequence`\n",
            "        instances (since they generate batches).\n",
            "    epochs: Integer. Number of epochs to train the model.\n",
            "        An epoch is an iteration over the entire `x` and `y`\n",
            "        data provided\n",
            "        (unless the `steps_per_epoch` flag is set to\n",
            "        something other than None).\n",
            "        Note that in conjunction with `initial_epoch`,\n",
            "        `epochs` is to be understood as \"final epoch\".\n",
            "        The model is not trained for a number of iterations\n",
            "        given by `epochs`, but merely until the epoch\n",
            "        of index `epochs` is reached.\n",
            "    verbose: 'auto', 0, 1, or 2. Verbosity mode.\n",
            "        0 = silent, 1 = progress bar, 2 = one line per epoch.\n",
            "        'auto' defaults to 1 for most cases, but 2 when used with\n",
            "        `ParameterServerStrategy`. Note that the progress bar is not\n",
            "        particularly useful when logged to a file, so verbose=2 is\n",
            "        recommended when not running interactively (eg, in a production\n",
            "        environment).\n",
            "    callbacks: List of `keras.callbacks.Callback` instances.\n",
            "        List of callbacks to apply during training.\n",
            "        See `tf.keras.callbacks`. Note\n",
            "        `tf.keras.callbacks.ProgbarLogger` and\n",
            "        `tf.keras.callbacks.History` callbacks are created automatically\n",
            "        and need not be passed into `model.fit`.\n",
            "        `tf.keras.callbacks.ProgbarLogger` is created or not based on\n",
            "        `verbose` argument to `model.fit`.\n",
            "        Callbacks with batch-level calls are currently unsupported with\n",
            "        `tf.distribute.experimental.ParameterServerStrategy`, and users\n",
            "        are advised to implement epoch-level calls instead with an\n",
            "        appropriate `steps_per_epoch` value.\n",
            "    validation_split: Float between 0 and 1.\n",
            "        Fraction of the training data to be used as validation data.\n",
            "        The model will set apart this fraction of the training data,\n",
            "        will not train on it, and will evaluate\n",
            "        the loss and any model metrics\n",
            "        on this data at the end of each epoch.\n",
            "        The validation data is selected from the last samples\n",
            "        in the `x` and `y` data provided, before shuffling. This\n",
            "        argument is not supported when `x` is a dataset, generator or\n",
            "        `keras.utils.Sequence` instance.\n",
            "        If both `validation_data` and `validation_split` are provided,\n",
            "        `validation_data` will override `validation_split`.\n",
            "        `validation_split` is not yet supported with\n",
            "        `tf.distribute.experimental.ParameterServerStrategy`.\n",
            "    validation_data: Data on which to evaluate\n",
            "        the loss and any model metrics at the end of each epoch.\n",
            "        The model will not be trained on this data. Thus, note the fact\n",
            "        that the validation loss of data provided using\n",
            "        `validation_split` or `validation_data` is not affected by\n",
            "        regularization layers like noise and dropout.\n",
            "        `validation_data` will override `validation_split`.\n",
            "        `validation_data` could be:\n",
            "          - A tuple `(x_val, y_val)` of Numpy arrays or tensors.\n",
            "          - A tuple `(x_val, y_val, val_sample_weights)` of NumPy\n",
            "            arrays.\n",
            "          - A `tf.data.Dataset`.\n",
            "          - A Python generator or `keras.utils.Sequence` returning\n",
            "          `(inputs, targets)` or `(inputs, targets, sample_weights)`.\n",
            "        `validation_data` is not yet supported with\n",
            "        `tf.distribute.experimental.ParameterServerStrategy`.\n",
            "    shuffle: Boolean (whether to shuffle the training data\n",
            "        before each epoch) or str (for 'batch'). This argument is\n",
            "        ignored when `x` is a generator or an object of tf.data.Dataset.\n",
            "        'batch' is a special option for dealing\n",
            "        with the limitations of HDF5 data; it shuffles in batch-sized\n",
            "        chunks. Has no effect when `steps_per_epoch` is not `None`.\n",
            "    class_weight: Optional dictionary mapping class indices (integers)\n",
            "        to a weight (float) value, used for weighting the loss function\n",
            "        (during training only).\n",
            "        This can be useful to tell the model to\n",
            "        \"pay more attention\" to samples from\n",
            "        an under-represented class.\n",
            "    sample_weight: Optional Numpy array of weights for\n",
            "        the training samples, used for weighting the loss function\n",
            "        (during training only). You can either pass a flat (1D)\n",
            "        Numpy array with the same length as the input samples\n",
            "        (1:1 mapping between weights and samples),\n",
            "        or in the case of temporal data,\n",
            "        you can pass a 2D array with shape\n",
            "        `(samples, sequence_length)`,\n",
            "        to apply a different weight to every timestep of every sample.\n",
            "        This argument is not supported when `x` is a dataset, generator,\n",
            "        or `keras.utils.Sequence` instance, instead provide the\n",
            "        sample_weights as the third element of `x`.\n",
            "        Note that sample weighting does not apply to metrics specified\n",
            "        via the `metrics` argument in `compile()`. To apply sample\n",
            "        weighting to your metrics, you can specify them via the\n",
            "        `weighted_metrics` in `compile()` instead.\n",
            "    initial_epoch: Integer.\n",
            "        Epoch at which to start training\n",
            "        (useful for resuming a previous training run).\n",
            "    steps_per_epoch: Integer or `None`.\n",
            "        Total number of steps (batches of samples)\n",
            "        before declaring one epoch finished and starting the\n",
            "        next epoch. When training with input tensors such as\n",
            "        TensorFlow data tensors, the default `None` is equal to\n",
            "        the number of samples in your dataset divided by\n",
            "        the batch size, or 1 if that cannot be determined. If x is a\n",
            "        `tf.data` dataset, and 'steps_per_epoch'\n",
            "        is None, the epoch will run until the input dataset is\n",
            "        exhausted.  When passing an infinitely repeating dataset, you\n",
            "        must specify the `steps_per_epoch` argument. If\n",
            "        `steps_per_epoch=-1` the training will run indefinitely with an\n",
            "        infinitely repeating dataset.  This argument is not supported\n",
            "        with array inputs.\n",
            "        When using `tf.distribute.experimental.ParameterServerStrategy`:\n",
            "          * `steps_per_epoch=None` is not supported.\n",
            "    validation_steps: Only relevant if `validation_data` is provided and\n",
            "        is a `tf.data` dataset. Total number of steps (batches of\n",
            "        samples) to draw before stopping when performing validation\n",
            "        at the end of every epoch. If 'validation_steps' is None,\n",
            "        validation will run until the `validation_data` dataset is\n",
            "        exhausted. In the case of an infinitely repeated dataset, it\n",
            "        will run into an infinite loop. If 'validation_steps' is\n",
            "        specified and only part of the dataset will be consumed, the\n",
            "        evaluation will start from the beginning of the dataset at each\n",
            "        epoch. This ensures that the same validation samples are used\n",
            "        every time.\n",
            "    validation_batch_size: Integer or `None`.\n",
            "        Number of samples per validation batch.\n",
            "        If unspecified, will default to `batch_size`.\n",
            "        Do not specify the `validation_batch_size` if your data is in\n",
            "        the form of datasets, generators, or `keras.utils.Sequence`\n",
            "        instances (since they generate batches).\n",
            "    validation_freq: Only relevant if validation data is provided.\n",
            "      Integer or `collections.abc.Container` instance (e.g. list, tuple,\n",
            "      etc.).  If an integer, specifies how many training epochs to run\n",
            "      before a new validation run is performed, e.g. `validation_freq=2`\n",
            "      runs validation every 2 epochs. If a Container, specifies the\n",
            "      epochs on which to run validation, e.g.\n",
            "      `validation_freq=[1, 2, 10]` runs validation at the end of the\n",
            "      1st, 2nd, and 10th epochs.\n",
            "    max_queue_size: Integer. Used for generator or\n",
            "      `keras.utils.Sequence` input only. Maximum size for the generator\n",
            "      queue.  If unspecified, `max_queue_size` will default to 10.\n",
            "    workers: Integer. Used for generator or `keras.utils.Sequence` input\n",
            "        only. Maximum number of processes to spin up\n",
            "        when using process-based threading. If unspecified, `workers`\n",
            "        will default to 1.\n",
            "    use_multiprocessing: Boolean. Used for generator or\n",
            "        `keras.utils.Sequence` input only. If `True`, use process-based\n",
            "        threading. If unspecified, `use_multiprocessing` will default to\n",
            "        `False`. Note that because this implementation relies on\n",
            "        multiprocessing, you should not pass non-picklable arguments to\n",
            "        the generator as they can't be passed easily to children\n",
            "        processes.\n",
            "\n",
            "Unpacking behavior for iterator-like inputs:\n",
            "    A common pattern is to pass a tf.data.Dataset, generator, or\n",
            "  tf.keras.utils.Sequence to the `x` argument of fit, which will in fact\n",
            "  yield not only features (x) but optionally targets (y) and sample\n",
            "  weights.  Keras requires that the output of such iterator-likes be\n",
            "  unambiguous. The iterator should return a tuple of length 1, 2, or 3,\n",
            "  where the optional second and third elements will be used for y and\n",
            "  sample_weight respectively. Any other type provided will be wrapped in\n",
            "  a length one tuple, effectively treating everything as 'x'. When\n",
            "  yielding dicts, they should still adhere to the top-level tuple\n",
            "  structure.\n",
            "  e.g. `({\"x0\": x0, \"x1\": x1}, y)`. Keras will not attempt to separate\n",
            "  features, targets, and weights from the keys of a single dict.\n",
            "    A notable unsupported data type is the namedtuple. The reason is\n",
            "  that it behaves like both an ordered datatype (tuple) and a mapping\n",
            "  datatype (dict). So given a namedtuple of the form:\n",
            "      `namedtuple(\"example_tuple\", [\"y\", \"x\"])`\n",
            "  it is ambiguous whether to reverse the order of the elements when\n",
            "  interpreting the value. Even worse is a tuple of the form:\n",
            "      `namedtuple(\"other_tuple\", [\"x\", \"y\", \"z\"])`\n",
            "  where it is unclear if the tuple was intended to be unpacked into x,\n",
            "  y, and sample_weight or passed through as a single element to `x`. As\n",
            "  a result the data processing code will simply raise a ValueError if it\n",
            "  encounters a namedtuple. (Along with instructions to remedy the\n",
            "  issue.)\n",
            "\n",
            "Returns:\n",
            "    A `History` object. Its `History.history` attribute is\n",
            "    a record of training loss values and metrics values\n",
            "    at successive epochs, as well as validation loss values\n",
            "    and validation metrics values (if applicable).\n",
            "\n",
            "Raises:\n",
            "    RuntimeError: 1. If the model was never compiled or,\n",
            "    2. If `model.fit` is  wrapped in `tf.function`.\n",
            "\n",
            "    ValueError: In case of mismatch between the provided input data\n",
            "        and what the model expects or when the input data is empty.\n",
            "\u001b[1;31mFile:\u001b[0m      c:\\users\\benji\\appdata\\local\\programs\\python\\python310\\lib\\site-packages\\keras\\engine\\training.py\n",
            "\u001b[1;31mType:\u001b[0m      method\n"
          ]
        }
      ],
      "source": [
        "?model.fit"
      ]
    },
    {
      "cell_type": "markdown",
      "id": "56f05326-710b-416c-9bcd-db5bc1834f66",
      "metadata": {
        "id": "56f05326-710b-416c-9bcd-db5bc1834f66"
      },
      "source": [
        "### Plotting learning curves\n",
        "`model.fit` returns a history object that logs loss values for training and validation sets, as well as accuracy values (because we set it as a metric during the `compile` step)."
      ]
    },
    {
      "cell_type": "code",
      "execution_count": 153,
      "id": "67f345e8-dc68-457c-a84c-678baccc96d8",
      "metadata": {
        "id": "67f345e8-dc68-457c-a84c-678baccc96d8"
      },
      "outputs": [
        {
          "data": {
            "text/plain": [
              "{'verbose': 1, 'epochs': 3, 'steps': 1719}"
            ]
          },
          "execution_count": 153,
          "metadata": {},
          "output_type": "execute_result"
        }
      ],
      "source": [
        "history.params"
      ]
    },
    {
      "cell_type": "code",
      "execution_count": 154,
      "id": "da92dde3-45ce-4d13-8864-f050423d6d3f",
      "metadata": {
        "id": "da92dde3-45ce-4d13-8864-f050423d6d3f"
      },
      "outputs": [
        {
          "data": {
            "text/plain": [
              "[0, 1, 2]"
            ]
          },
          "execution_count": 154,
          "metadata": {},
          "output_type": "execute_result"
        }
      ],
      "source": [
        "history.epoch"
      ]
    },
    {
      "cell_type": "code",
      "execution_count": 155,
      "id": "9162d327-9f60-4c9a-9672-f97b6df5bf66",
      "metadata": {
        "id": "9162d327-9f60-4c9a-9672-f97b6df5bf66"
      },
      "outputs": [
        {
          "data": {
            "text/plain": [
              "dict_keys(['loss', 'accuracy', 'val_loss', 'val_accuracy'])"
            ]
          },
          "execution_count": 155,
          "metadata": {},
          "output_type": "execute_result"
        }
      ],
      "source": [
        "history.history.keys()"
      ]
    },
    {
      "cell_type": "code",
      "execution_count": 156,
      "id": "RLNQI0L8ZXbw",
      "metadata": {
        "id": "RLNQI0L8ZXbw"
      },
      "outputs": [],
      "source": [
        "def plot_learning_curves(history):\n",
        "    df = pd.DataFrame(history.history, index=np.array(history.epoch)+1)\n",
        "    df.plot(figsize=(8, 5), fontsize=12)\n",
        "    plt.grid(True)\n",
        "    plt.gca().set_ylim(0, 1)\n",
        "    plt.xlabel('epochs', fontsize=12)\n",
        "    plt.title ('learning curves', fontsize=12)\n",
        "    plt.legend(fontsize=12)\n",
        "    plt.show()"
      ]
    },
    {
      "cell_type": "code",
      "execution_count": 157,
      "id": "6e0be8d2-911a-4761-b630-1ad26dcdde32",
      "metadata": {
        "id": "6e0be8d2-911a-4761-b630-1ad26dcdde32"
      },
      "outputs": [
        {
          "data": {
            "image/png": "[encoded data removed]",
            "text/plain": [
              "<Figure size 576x360 with 1 Axes>"
            ]
          },
          "metadata": {
            "needs_background": "light"
          },
          "output_type": "display_data"
        }
      ],
      "source": [
        "plot_learning_curves(history)"
      ]
    },
    {
      "cell_type": "markdown",
      "id": "78666f23-fb35-44f8-8e80-dd8c420d088d",
      "metadata": {
        "id": "78666f23-fb35-44f8-8e80-dd8c420d088d"
      },
      "source": [
        "## Evaluating and making predictions on the test set\n",
        "\n",
        "You can use the methods `model.evaluate` and `model.predict` on the test set:"
      ]
    },
    {
      "cell_type": "code",
      "execution_count": 158,
      "id": "e8289124-d4df-4fc1-ae74-7da77b8e5872",
      "metadata": {
        "id": "e8289124-d4df-4fc1-ae74-7da77b8e5872"
      },
      "outputs": [
        {
          "name": "stdout",
          "output_type": "stream",
          "text": [
            "313/313 [==============================] - 1s 2ms/step - loss: 0.4558 - accuracy: 0.8406\n"
          ]
        },
        {
          "data": {
            "text/plain": [
              "[0.4558153450489044, 0.8406000137329102]"
            ]
          },
          "execution_count": 158,
          "metadata": {},
          "output_type": "execute_result"
        }
      ],
      "source": [
        "model.evaluate(X_test, y_test)"
      ]
    },
    {
      "cell_type": "code",
      "execution_count": 159,
      "id": "4a1d0832-83e1-436f-a46e-2eb1cb3ba237",
      "metadata": {
        "id": "4a1d0832-83e1-436f-a46e-2eb1cb3ba237"
      },
      "outputs": [
        {
          "name": "stdout",
          "output_type": "stream",
          "text": [
            "313/313 [==============================] - 1s 2ms/step\n"
          ]
        }
      ],
      "source": [
        "y_proba = model.predict(X_test)"
      ]
    },
    {
      "cell_type": "markdown",
      "id": "236cedec",
      "metadata": {
        "id": "236cedec"
      },
      "source": [
        "Let's see the predictions for the first 3 images:"
      ]
    },
    {
      "cell_type": "code",
      "execution_count": 160,
      "id": "7ab398e4",
      "metadata": {
        "id": "7ab398e4"
      },
      "outputs": [
        {
          "data": {
            "text/plain": [
              "array([[0.  , 0.  , 0.  , 0.  , 0.  , 0.11, 0.  , 0.22, 0.  , 0.67],\n",
              "       [0.  , 0.  , 0.9 , 0.  , 0.02, 0.  , 0.08, 0.  , 0.  , 0.  ],\n",
              "       [0.  , 1.  , 0.  , 0.  , 0.  , 0.  , 0.  , 0.  , 0.  , 0.  ]],\n",
              "      dtype=float32)"
            ]
          },
          "execution_count": 160,
          "metadata": {},
          "output_type": "execute_result"
        }
      ],
      "source": [
        "y_proba.round(2)[:3,:]"
      ]
    },
    {
      "cell_type": "code",
      "execution_count": 161,
      "id": "9432ec2d-7522-4581-b227-aa49788001f6",
      "metadata": {
        "id": "9432ec2d-7522-4581-b227-aa49788001f6"
      },
      "outputs": [
        {
          "data": {
            "image/png": "[encoded data removed]",
            "text/plain": [
              "<Figure size 518.4x172.8 with 3 Axes>"
            ]
          },
          "metadata": {
            "needs_background": "light"
          },
          "output_type": "display_data"
        }
      ],
      "source": [
        "# First 3 images\n",
        "plt.figure(figsize=(7.2, 2.4))\n",
        "for index, image in enumerate(X_test[:3]):\n",
        "    plt.subplot(1, 3, index + 1)\n",
        "    plt.imshow(image, cmap=\"binary\", interpolation=\"nearest\")\n",
        "    plt.axis('off')\n",
        "    plt.title(class_names[y_test[index]], fontsize=12)\n",
        "plt.subplots_adjust(wspace=0.2, hspace=0.5)\n",
        "plt.show()"
      ]
    },
    {
      "cell_type": "markdown",
      "id": "1891f54f-4fc5-4ac3-bf57-ea678a2059e3",
      "metadata": {
        "id": "1891f54f-4fc5-4ac3-bf57-ea678a2059e3"
      },
      "source": [
        "The model outputs a vector per sample, containing the predicted class distributions. You can obtain most likely class id by finding the one with the highest probability:"
      ]
    },
    {
      "cell_type": "code",
      "execution_count": 162,
      "id": "a2392578-b263-4f3f-94d6-1069eb242ee2",
      "metadata": {
        "id": "a2392578-b263-4f3f-94d6-1069eb242ee2"
      },
      "outputs": [
        {
          "name": "stdout",
          "output_type": "stream",
          "text": [
            "313/313 [==============================] - 1s 2ms/step\n"
          ]
        },
        {
          "data": {
            "text/plain": [
              "array([9, 2, 1], dtype=int64)"
            ]
          },
          "execution_count": 162,
          "metadata": {},
          "output_type": "execute_result"
        }
      ],
      "source": [
        "y_pred = np.argmax(model.predict(X_test), axis=-1)\n",
        "y_pred[:3]"
      ]
    },
    {
      "cell_type": "markdown",
      "id": "Hg6qOEaEP1Se",
      "metadata": {
        "id": "Hg6qOEaEP1Se"
      },
      "source": [
        "### TODO: Check your predicitons\n",
        "Print the corresponding labels for these predictions and check if they are correct"
      ]
    },
    {
      "cell_type": "code",
      "execution_count": 163,
      "id": "f9a91a07-8026-4779-a45c-b00539504271",
      "metadata": {
        "id": "f9a91a07-8026-4779-a45c-b00539504271"
      },
      "outputs": [
        {
          "name": "stdout",
          "output_type": "stream",
          "text": [
            "Ankle boot\n",
            "Pullover\n",
            "Trouser\n"
          ]
        }
      ],
      "source": [
        "# TODO your code here\n",
        "print(class_names[y_pred[0]])\n",
        "print(class_names[y_pred[1]])\n",
        "print(class_names[y_pred[2]])"
      ]
    },
    {
      "cell_type": "markdown",
      "id": "_K-B1JsGN_mr",
      "metadata": {
        "id": "_K-B1JsGN_mr"
      },
      "source": [
        "### Plotting predicted class distributions\n",
        "\n",
        "Here is some useful plotting code to visualize images alongside their predicted probabilities."
      ]
    },
    {
      "cell_type": "code",
      "execution_count": 164,
      "id": "f753a1f0-a610-431b-8ae1-26221eedb2a9",
      "metadata": {
        "id": "f753a1f0-a610-431b-8ae1-26221eedb2a9"
      },
      "outputs": [],
      "source": [
        "def plot_image(i, predictions, true_label, img):\n",
        "    true_label, img = true_label[i], img[i]\n",
        "    pred_probas = predictions[i]\n",
        "    plt.grid(False)\n",
        "    plt.xticks([])\n",
        "    plt.yticks([])\n",
        "\n",
        "    plt.imshow(img, cmap=plt.cm.binary)\n",
        "\n",
        "    predicted_label = np.argmax(pred_probas)\n",
        "    if predicted_label == true_label:\n",
        "        color = 'blue'\n",
        "    else:\n",
        "        color = 'red'\n",
        "\n",
        "    xlabel = \"{} {:2.0f}% ({})\".format(class_names[predicted_label],\n",
        "                                100*np.max(pred_probas),\n",
        "                                class_names[true_label])\n",
        "    plt.xlabel(xlabel, color=color, fontsize=12)\n",
        "\n",
        "def plot_probas(i, predictions, true_label):\n",
        "    # Color correct predictions in blue and incorrect predictions in red.\n",
        "    true_label = true_label[i]\n",
        "    pred_probas = predictions[i]\n",
        "    plt.grid(False)\n",
        "    plt.xticks(range(10), labels=class_names, rotation=90, fontsize=12)\n",
        "    plt.yticks([])\n",
        "    thisplot = plt.bar(range(10), pred_probas, color=\"#777777\")\n",
        "    plt.ylim([0, 1])\n",
        "    predicted_label = np.argmax(pred_probas)\n",
        "\n",
        "    thisplot[predicted_label].set_color('red')\n",
        "    thisplot[true_label].set_color('blue')\n",
        "\n",
        "def plot_image_with_preds(i, X_test, y_test, y_proba):\n",
        "    plt.figure(figsize=(8,4))\n",
        "    plt.subplot(1,2,1)\n",
        "    plot_image(i, y_proba, y_test, X_test)\n",
        "    plt.subplot(1,2,2)\n",
        "    plot_probas(i, y_proba,  y_test)\n",
        "    "
      ]
    },
    {
      "cell_type": "code",
      "execution_count": 165,
      "id": "f0e71164-6e58-4690-8b0d-5f82b8c86808",
      "metadata": {
        "id": "f0e71164-6e58-4690-8b0d-5f82b8c86808",
        "tags": []
      },
      "outputs": [
        {
          "data": {
            "image/png": "[encoded data removed]",
            "text/plain": [
              "<Figure size 576x288 with 2 Axes>"
            ]
          },
          "metadata": {
            "needs_background": "light"
          },
          "output_type": "display_data"
        }
      ],
      "source": [
        "i = 1\n",
        "plot_image_with_preds(i, X_test, y_test, y_proba)\n",
        "plt.show()"
      ]
    },
    {
      "cell_type": "code",
      "execution_count": 166,
      "id": "912595a4-be19-4970-99f1-974a60e77abf",
      "metadata": {
        "id": "912595a4-be19-4970-99f1-974a60e77abf"
      },
      "outputs": [
        {
          "data": {
            "image/png": "[encoded data removed]",
            "text/plain": [
              "<Figure size 576x288 with 2 Axes>"
            ]
          },
          "metadata": {
            "needs_background": "light"
          },
          "output_type": "display_data"
        }
      ],
      "source": [
        "i = 12\n",
        "plot_image_with_preds(i, X_test, y_test, y_proba)\n",
        "plt.show()"
      ]
    },
    {
      "cell_type": "markdown",
      "id": "a0a49060-7863-4731-8e74-e0b424b194b8",
      "metadata": {
        "id": "a0a49060-7863-4731-8e74-e0b424b194b8"
      },
      "source": [
        "Let's plot several images with their predictions. Note that the model can be wrong even when very confident."
      ]
    },
    {
      "cell_type": "code",
      "execution_count": 167,
      "id": "ad3ad800-2477-44c4-ac7d-218eb2b0f869",
      "metadata": {
        "id": "ad3ad800-2477-44c4-ac7d-218eb2b0f869"
      },
      "outputs": [
        {
          "data": {
            "image/png": "[encoded data removed]",
            "text/plain": [
              "<Figure size 864x1080 with 20 Axes>"
            ]
          },
          "metadata": {
            "needs_background": "light"
          },
          "output_type": "display_data"
        }
      ],
      "source": [
        "# Plot the first X test images, their predicted labels, and the true labels.\n",
        "num_rows = 5\n",
        "num_cols = 2\n",
        "num_images = num_rows*num_cols\n",
        "plt.figure(figsize=(2*3*num_cols, 3*num_rows))\n",
        "for i in range(num_images):\n",
        "    plt.subplot(num_rows, 2*num_cols, 2*i+1)\n",
        "    plot_image(i, y_proba, y_test, X_test)\n",
        "    plt.subplot(num_rows, 2*num_cols, 2*i+2)\n",
        "    plot_probas(i, y_proba, y_test)\n",
        "plt.tight_layout()\n",
        "plt.show()"
      ]
    },
    {
      "cell_type": "markdown",
      "id": "e800149f-cc23-4394-b577-c8cbaf347489",
      "metadata": {
        "id": "e800149f-cc23-4394-b577-c8cbaf347489"
      },
      "source": [
        "## Using Callbacks during Training\n",
        "The `fit()` method accepts a `callbacks` argument that lets you specify a list of objects that Keras will call at the start and end of training, at the start and end of each epoch, and even before and after processing each batch. For example, the `ModelCheckpoint` callback saves checkpoints of your model at regular intervals during training, by default at the end of each epoch:"
      ]
    },
    {
      "cell_type": "code",
      "execution_count": 168,
      "id": "DfMdErwxSXR2",
      "metadata": {
        "id": "DfMdErwxSXR2"
      },
      "outputs": [],
      "source": [
        "checkpoint_cb = keras.callbacks.ModelCheckpoint(\"my_keras_model.h5\", save_best_only=True)"
      ]
    },
    {
      "cell_type": "markdown",
      "id": "cKEuL4H1TubP",
      "metadata": {
        "id": "cKEuL4H1TubP"
      },
      "source": [
        "With the `save_best_only` parameter set, only the weights corresponding to the best model on validaiton are kept. This allows us to easily rollback to the best model after some epochs of training:\n",
        "``` python\n",
        "history = model.fit(X_train, y_train, epochs=10,\n",
        "                    validation_data=(X_valid, y_valid),\n",
        "                    callbacks=[checkpoint_cb])\n",
        "model = keras.models.load_model(\"my_keras_model.h5\") # rollback to best model\n",
        "acc_test = model.evaluate(X_test, y_test)\n",
        "```"
      ]
    },
    {
      "cell_type": "markdown",
      "id": "ccB83lghUcl2",
      "metadata": {
        "id": "ccB83lghUcl2"
      },
      "source": [
        "Callbacks can be used to implement early stopping and learning rate decay schedules. It is also possible to sub-class `keras.callbacks.Callback` and implement your own custom callback. You can check a list of the available callbacks in the [tf.keras docs](https://www.tensorflow.org/api_docs/python/tf/keras/callbacks) or in the [keras.io docs](https://keras.io/api/callbacks/)."
      ]
    },
    {
      "cell_type": "code",
      "execution_count": 169,
      "id": "CbpjNnlLVWOR",
      "metadata": {
        "id": "CbpjNnlLVWOR"
      },
      "outputs": [],
      "source": [
        "early_stopping_cb = keras.callbacks.EarlyStopping(monitor='val_loss', patience=10, restore_best_weights=True)\n",
        "lr_cb = keras.callbacks.ReduceLROnPlateau(monitor=\"loss\", patience=10)"
      ]
    },
    {
      "cell_type": "markdown",
      "id": "OqWlkibjgjwL",
      "metadata": {
        "id": "OqWlkibjgjwL"
      },
      "source": [
        "We will also use a callback to log metrics for visualization with Tensorboard:"
      ]
    },
    {
      "cell_type": "code",
      "execution_count": 170,
      "id": "iUKbV9SsgwPp",
      "metadata": {
        "id": "iUKbV9SsgwPp"
      },
      "outputs": [],
      "source": [
        "root_logdir = os.path.join(os.curdir, \"my_logs\")\n",
        "def get_run_logdir():\n",
        "    import time\n",
        "    run_id = time.strftime(\"run_%Y.%m.%d_%H:%M:%S\")\n",
        "    return os.path.join(root_logdir, run_id)\n",
        "\n",
        "run_logdir = get_run_logdir()\n",
        "run_logdir\n",
        "# callback creation\n",
        "tensorboard_cb = keras.callbacks.TensorBoard(run_logdir)"
      ]
    },
    {
      "cell_type": "markdown",
      "id": "124321f1-b711-4140-a5d0-3ff78716b1bc",
      "metadata": {
        "id": "124321f1-b711-4140-a5d0-3ff78716b1bc"
      },
      "source": [
        "### TensorBoard\n",
        "Tensorboard is a tool allowing visualization of metrics logged during the training of a model. You can use it within colab (or jupyter) by loading the tensorboard extension:"
      ]
    },
    {
      "cell_type": "code",
      "execution_count": 171,
      "id": "dhpOFCIlfcGI",
      "metadata": {
        "id": "dhpOFCIlfcGI"
      },
      "outputs": [
        {
          "name": "stdout",
          "output_type": "stream",
          "text": [
            "The tensorboard extension is already loaded. To reload it, use:\n",
            "  %reload_ext tensorboard\n"
          ]
        }
      ],
      "source": [
        "# Load the TensorBoard notebook extension\n",
        "%load_ext tensorboard"
      ]
    },
    {
      "cell_type": "markdown",
      "id": "khmgzj_nfzeX",
      "metadata": {
        "id": "khmgzj_nfzeX"
      },
      "source": [
        "To start TensorBoard within the notebook, use the dedicated magic command (you need to give the same root log directory passed to the tensorboard callback):"
      ]
    },
    {
      "cell_type": "code",
      "execution_count": 172,
      "id": "E7XOvvFGfo7u",
      "metadata": {
        "id": "E7XOvvFGfo7u"
      },
      "outputs": [
        {
          "data": {
            "text/plain": [
              "Reusing TensorBoard on port 6006 (pid 16828), started 0:31:20 ago. (Use '!kill 16828' to kill it.)"
            ]
          },
          "metadata": {},
          "output_type": "display_data"
        },
        {
          "data": {
            "text/html": [
              "\n",
              "      <iframe id=\"tensorboard-frame-a86f0b60e8c49e2e\" width=\"100%\" height=\"800\" frameborder=\"0\">\n",
              "      </iframe>\n",
              "      <script>\n",
              "        (function() {\n",
              "          const frame = document.getElementById(\"tensorboard-frame-a86f0b60e8c49e2e\");\n",
              "          const url = new URL(\"http://localhost\");\n",
              "          const port = 6006;\n",
              "          if (port) {\n",
              "            url.port = port;\n",
              "          }\n",
              "          frame.src = url;\n",
              "        })();\n",
              "      </script>\n",
              "    "
            ],
            "text/plain": [
              "<IPython.core.display.HTML object>"
            ]
          },
          "metadata": {},
          "output_type": "display_data"
        }
      ],
      "source": [
        "%tensorboard --logdir my_logs"
      ]
    },
    {
      "cell_type": "markdown",
      "id": "4IJA52Qif6kI",
      "metadata": {
        "id": "4IJA52Qif6kI"
      },
      "source": [
        "You can now view dashboards such as scalars, graphs, histograms, and others. If you launch new runs using the tensorboard callback (which is linked to this log directory `my_logs`) they should apear in the interface imediately, allowing you live monitoring the evolution of your training.\n"
      ]
    },
    {
      "cell_type": "markdown",
      "id": "QP-oLPDSV6dk",
      "metadata": {
        "id": "QP-oLPDSV6dk"
      },
      "source": [
        "### TODO: retrain model with callbacks\n",
        "Let's train our model for a longer number of epochs using all the previous callbacks. \n",
        "You can set a large number of epochs since early stopping is in place. Plot the learning curves and decide if your model is underfitting or overfitting."
      ]
    },
    {
      "cell_type": "code",
      "execution_count": 182,
      "id": "OvG58PTGTq5x",
      "metadata": {
        "id": "OvG58PTGTq5x"
      },
      "outputs": [
        {
          "ename": "InvalidArgumentError",
          "evalue": "{{function_node __wrapped__CreateSummaryFileWriter_device_/job:localhost/replica:0/task:0/device:CPU:0}} Failed to create a directory: ./my_logs/run_2022.10.17_11:33:42; Invalid argument [Op:CreateSummaryFileWriter]",
          "output_type": "error",
          "traceback": [
            "\u001b[1;31m---------------------------------------------------------------------------\u001b[0m",
            "\u001b[1;31mInvalidArgumentError\u001b[0m                      Traceback (most recent call last)",
            "\u001b[1;32mc:\\Users\\benji\\Desktop\\hello-world\\LabAssignementNNwithKeras.ipynb Cellule 138\u001b[0m in \u001b[0;36m<cell line: 1>\u001b[1;34m()\u001b[0m\n\u001b[1;32m----> <a href='vscode-notebook-cell:/c%3A/Users/benji/Desktop/hello-world/LabAssignementNNwithKeras.ipynb#Y252sZmlsZQ%3D%3D?line=0'>1</a>\u001b[0m history \u001b[39m=\u001b[39m model\u001b[39m.\u001b[39;49mfit(\n\u001b[0;32m      <a href='vscode-notebook-cell:/c%3A/Users/benji/Desktop/hello-world/LabAssignementNNwithKeras.ipynb#Y252sZmlsZQ%3D%3D?line=1'>2</a>\u001b[0m     \u001b[39m# TODO your code here\u001b[39;49;00m\n\u001b[0;32m      <a href='vscode-notebook-cell:/c%3A/Users/benji/Desktop/hello-world/LabAssignementNNwithKeras.ipynb#Y252sZmlsZQ%3D%3D?line=2'>3</a>\u001b[0m     X_train, y_train, epochs\u001b[39m=\u001b[39;49m\u001b[39m20\u001b[39;49m,\n\u001b[0;32m      <a href='vscode-notebook-cell:/c%3A/Users/benji/Desktop/hello-world/LabAssignementNNwithKeras.ipynb#Y252sZmlsZQ%3D%3D?line=3'>4</a>\u001b[0m     validation_data\u001b[39m=\u001b[39;49m(X_valid, y_valid),\n\u001b[0;32m      <a href='vscode-notebook-cell:/c%3A/Users/benji/Desktop/hello-world/LabAssignementNNwithKeras.ipynb#Y252sZmlsZQ%3D%3D?line=4'>5</a>\u001b[0m     callbacks\u001b[39m=\u001b[39;49m[checkpoint_cb,early_stopping_cb,lr_cb,tensorboard_cb]\n\u001b[0;32m      <a href='vscode-notebook-cell:/c%3A/Users/benji/Desktop/hello-world/LabAssignementNNwithKeras.ipynb#Y252sZmlsZQ%3D%3D?line=5'>6</a>\u001b[0m )\n\u001b[0;32m      <a href='vscode-notebook-cell:/c%3A/Users/benji/Desktop/hello-world/LabAssignementNNwithKeras.ipynb#Y252sZmlsZQ%3D%3D?line=6'>7</a>\u001b[0m model \u001b[39m=\u001b[39m keras\u001b[39m.\u001b[39mmodels\u001b[39m.\u001b[39mload_model(\u001b[39m\"\u001b[39m\u001b[39mmy_keras_model.h5\u001b[39m\u001b[39m\"\u001b[39m) \u001b[39m# rollback to best model\u001b[39;00m\n\u001b[0;32m      <a href='vscode-notebook-cell:/c%3A/Users/benji/Desktop/hello-world/LabAssignementNNwithKeras.ipynb#Y252sZmlsZQ%3D%3D?line=8'>9</a>\u001b[0m acc_test \u001b[39m=\u001b[39m model\u001b[39m.\u001b[39mevaluate(X_test, y_test)\n",
            "File \u001b[1;32mc:\\Users\\benji\\AppData\\Local\\Programs\\Python\\Python310\\lib\\site-packages\\keras\\utils\\traceback_utils.py:70\u001b[0m, in \u001b[0;36mfilter_traceback.<locals>.error_handler\u001b[1;34m(*args, **kwargs)\u001b[0m\n\u001b[0;32m     67\u001b[0m     filtered_tb \u001b[39m=\u001b[39m _process_traceback_frames(e\u001b[39m.\u001b[39m__traceback__)\n\u001b[0;32m     68\u001b[0m     \u001b[39m# To get the full stack trace, call:\u001b[39;00m\n\u001b[0;32m     69\u001b[0m     \u001b[39m# `tf.debugging.disable_traceback_filtering()`\u001b[39;00m\n\u001b[1;32m---> 70\u001b[0m     \u001b[39mraise\u001b[39;00m e\u001b[39m.\u001b[39mwith_traceback(filtered_tb) \u001b[39mfrom\u001b[39;00m \u001b[39mNone\u001b[39m\n\u001b[0;32m     71\u001b[0m \u001b[39mfinally\u001b[39;00m:\n\u001b[0;32m     72\u001b[0m     \u001b[39mdel\u001b[39;00m filtered_tb\n",
            "File \u001b[1;32mc:\\Users\\benji\\AppData\\Local\\Programs\\Python\\Python310\\lib\\site-packages\\tensorflow\\python\\framework\\ops.py:7209\u001b[0m, in \u001b[0;36mraise_from_not_ok_status\u001b[1;34m(e, name)\u001b[0m\n\u001b[0;32m   7207\u001b[0m \u001b[39mdef\u001b[39;00m \u001b[39mraise_from_not_ok_status\u001b[39m(e, name):\n\u001b[0;32m   7208\u001b[0m   e\u001b[39m.\u001b[39mmessage \u001b[39m+\u001b[39m\u001b[39m=\u001b[39m (\u001b[39m\"\u001b[39m\u001b[39m name: \u001b[39m\u001b[39m\"\u001b[39m \u001b[39m+\u001b[39m name \u001b[39mif\u001b[39;00m name \u001b[39mis\u001b[39;00m \u001b[39mnot\u001b[39;00m \u001b[39mNone\u001b[39;00m \u001b[39melse\u001b[39;00m \u001b[39m\"\u001b[39m\u001b[39m\"\u001b[39m)\n\u001b[1;32m-> 7209\u001b[0m   \u001b[39mraise\u001b[39;00m core\u001b[39m.\u001b[39m_status_to_exception(e) \u001b[39mfrom\u001b[39;00m \u001b[39mNone\u001b[39m\n",
            "\u001b[1;31mInvalidArgumentError\u001b[0m: {{function_node __wrapped__CreateSummaryFileWriter_device_/job:localhost/replica:0/task:0/device:CPU:0}} Failed to create a directory: ./my_logs/run_2022.10.17_11:33:42; Invalid argument [Op:CreateSummaryFileWriter]"
          ]
        }
      ],
      "source": [
        "history = model.fit(\n",
        "    # TODO your code here\n",
        "    X_train, y_train, epochs=20,\n",
        "    validation_data=(X_valid, y_valid),\n",
        "    callbacks=[checkpoint_cb,early_stopping_cb,lr_cb,tensorboard_cb]\n",
        ")\n",
        "model = keras.models.load_model(\"my_keras_model.h5\") # rollback to best model\n",
        "\n",
        "acc_test = model.evaluate(X_test, y_test)"
      ]
    },
    {
      "cell_type": "code",
      "execution_count": 179,
      "id": "h8Bx2A3WeoNC",
      "metadata": {
        "id": "h8Bx2A3WeoNC"
      },
      "outputs": [
        {
          "data": {
            "image/png": "[encoded data removed]",
            "text/plain": [
              "<Figure size 576x360 with 1 Axes>"
            ]
          },
          "metadata": {
            "needs_background": "light"
          },
          "output_type": "display_data"
        }
      ],
      "source": [
        "plot_learning_curves(history)"
      ]
    },
    {
      "cell_type": "markdown",
      "id": "ebd99c7e-4acf-4b4d-8b32-75c9a7b47d31",
      "metadata": {
        "id": "ebd99c7e-4acf-4b4d-8b32-75c9a7b47d31"
      },
      "source": [
        "### TODO: check your model quality on out-of-set images\n",
        "Now we test our model on a clothing item image from the web.\n",
        "\n"
      ]
    },
    {
      "cell_type": "code",
      "execution_count": 181,
      "id": "509905f2-bf16-4c0d-aefa-6a8003af1799",
      "metadata": {
        "id": "509905f2-bf16-4c0d-aefa-6a8003af1799"
      },
      "outputs": [
        {
          "data": {
            "text/plain": [
              "<matplotlib.colorbar.Colorbar at 0x168acfd2fe0>"
            ]
          },
          "execution_count": 181,
          "metadata": {},
          "output_type": "execute_result"
        },
        {
          "data": {
            "image/png": "[encoded data removed]",
            "text/plain": [
              "<Figure size 432x288 with 2 Axes>"
            ]
          },
          "metadata": {
            "needs_background": "light"
          },
          "output_type": "display_data"
        }
      ],
      "source": [
        "import urllib\n",
        "from skimage.io import imread\n",
        "from skimage.transform import resize\n",
        "\n",
        "# insert the URL to an image file here\n",
        "img_src = 'https://i.pinimg.com/736x/b5/b7/3e/b5b73ef74c015829bcaddfeb86081817--tee-shirt-dresses-tee-shirts.jpg'\n",
        "\n",
        "# Download image\n",
        "urllib.request.urlretrieve(img_src, 't-shirt-dress.jpg')\n",
        "\n",
        "# Open file and display\n",
        "image = imread('t-shirt-dress.jpg', as_gray=True) \n",
        "\n",
        "# Plot the image\n",
        "plt.imshow(image, cmap='binary')\n",
        "plt.colorbar()"
      ]
    },
    {
      "cell_type": "markdown",
      "id": "_Tzz0rJAl2HL",
      "metadata": {
        "id": "_Tzz0rJAl2HL"
      },
      "source": [
        "\n",
        "**Important**: remember your model takes in grayscale images of 28 by 28 pixels. Remember as well that pixel values were rescaled to be between 0 and 1: ensure the new image pixel values are scaled to the same range."
      ]
    },
    {
      "cell_type": "code",
      "execution_count": null,
      "id": "afe26096-91df-444f-89f3-49897bac49b8",
      "metadata": {
        "id": "afe26096-91df-444f-89f3-49897bac49b8"
      },
      "outputs": [],
      "source": [
        "# TODO apply MinMax scaling to the image\n",
        "image = ... # TODO your code here\n",
        "\n",
        "# TODO Resize image so it is 28 x 28 pixels\n",
        "image = resize(...) # TODO your code here\n",
        "\n",
        "# Plot the transformed image\n",
        "plt.imshow(image, cmap='binary')\n",
        "plt.colorbar()"
      ]
    },
    {
      "cell_type": "markdown",
      "id": "R613n-uekUsU",
      "metadata": {
        "id": "R613n-uekUsU"
      },
      "source": [
        "In case your image has black instead of white background,  you need to reverse the colors: black should become white and white shouls become black. Complete the code bellow to do that:"
      ]
    },
    {
      "cell_type": "code",
      "execution_count": null,
      "id": "Vwuww9BpRqtZ",
      "metadata": {
        "id": "Vwuww9BpRqtZ"
      },
      "outputs": [],
      "source": [
        "# TODO Invert black and white\n",
        "image = ... # TODO your code here\n",
        "\n",
        "# now the image has white background\n",
        "plt.imshow(image, cmap='binary')\n",
        "plt.colorbar()"
      ]
    },
    {
      "cell_type": "markdown",
      "id": "ikw0gDBpiJdm",
      "metadata": {
        "id": "ikw0gDBpiJdm"
      },
      "source": [
        "Checking the class_names array again:"
      ]
    },
    {
      "cell_type": "code",
      "execution_count": null,
      "id": "f695adc1-9136-4b01-a572-aab748cf5fc7",
      "metadata": {
        "id": "f695adc1-9136-4b01-a572-aab748cf5fc7"
      },
      "outputs": [],
      "source": [
        "class_names "
      ]
    },
    {
      "cell_type": "markdown",
      "id": "UUW5WW3biMyS",
      "metadata": {
        "id": "UUW5WW3biMyS"
      },
      "source": [
        "We can say the predicted class id should be 3:"
      ]
    },
    {
      "cell_type": "code",
      "execution_count": null,
      "id": "b5e5f797-46f2-4b11-b177-ea088b8d5901",
      "metadata": {
        "id": "b5e5f797-46f2-4b11-b177-ea088b8d5901"
      },
      "outputs": [],
      "source": [
        "true_label = [3]"
      ]
    },
    {
      "cell_type": "markdown",
      "id": "ailDys5Qi33_",
      "metadata": {
        "id": "ailDys5Qi33_"
      },
      "source": [
        "Let's see if the model gets it right:"
      ]
    },
    {
      "cell_type": "code",
      "execution_count": null,
      "id": "c8784889-d2ea-4a26-8ec4-700ba685a7eb",
      "metadata": {
        "id": "c8784889-d2ea-4a26-8ec4-700ba685a7eb",
        "tags": []
      },
      "outputs": [],
      "source": [
        "# load model weights\n",
        "model = keras.models.load_model(\"my_keras_model.h5\") # rollback to best model\n",
        "# add batch dimension to image\n",
        "image = image.reshape((1, 28, 28))\n",
        "# compute predictions\n",
        "y_proba = model.predict(image)\n",
        "y_proba.round(3)"
      ]
    },
    {
      "cell_type": "code",
      "execution_count": null,
      "id": "pNJn59QoiaL0",
      "metadata": {
        "id": "pNJn59QoiaL0"
      },
      "outputs": [],
      "source": [
        "pred_label = y_proba.argmax()\n",
        "print(f\"Predicted class was {class_names[pred_label]} (id {pred_label})\")"
      ]
    },
    {
      "cell_type": "markdown",
      "id": "wcVpEV3oiSTG",
      "metadata": {
        "id": "wcVpEV3oiSTG"
      },
      "source": [
        "Let us now plot the image along with its predicted probabilities:"
      ]
    },
    {
      "cell_type": "code",
      "execution_count": null,
      "id": "71a542e8-7ffa-4a0e-9d4a-70b5029ac89a",
      "metadata": {
        "id": "71a542e8-7ffa-4a0e-9d4a-70b5029ac89a"
      },
      "outputs": [],
      "source": [
        "plot_image_with_preds(0, image, true_label, y_proba)\n",
        "plt.show()"
      ]
    },
    {
      "cell_type": "markdown",
      "id": "VmHBdOqnlczl",
      "metadata": {
        "id": "VmHBdOqnlczl"
      },
      "source": [
        "### TODO Your turn testing on downloaded images\n",
        "Search online for other clothing item images that you can download and submit to your model. How well does it perform?\n"
      ]
    },
    {
      "cell_type": "markdown",
      "id": "NzqXXjzL4O6-",
      "metadata": {
        "id": "NzqXXjzL4O6-"
      },
      "source": [
        "## Exercise: training an NN on MNIST\n",
        "Train a similar MLP on the MNIST dataset (you can load it using `keras.datasets.mnist.load_data()`. See if you can get over 98% precision. \n",
        "\n",
        "- Try searching for the optimal learning rate by using the approach presented in class (i.e., by growing the learning rate exponentially, plotting the loss, and finding the point where the loss shoots up). \n",
        "\n",
        "  - Create a custom callback that will raise the learning rate by a factor (say, 5%) after each iteration (i.e. after each batch is processed). Check the documentation [here](https://keras.io/guides/writing_your_own_callbacks/) to see examples of how to create your own callback.\n",
        "\n",
        "- Try adding all the bells and whistles: save checkpoints, use early stopping, and plot learning curves using TensorBoard.\n",
        "\n",
        "- Visualize predictions for the test set and explore the mistakes your model makes."
      ]
    },
    {
      "cell_type": "code",
      "execution_count": null,
      "id": "YLspgp1xi_yc",
      "metadata": {
        "id": "YLspgp1xi_yc"
      },
      "outputs": [],
      "source": []
    }
  ],
  "metadata": {
    "accelerator": "GPU",
    "colab": {
      "collapsed_sections": [
        "d41488ec-9ab7-4062-8efc-ce35608dd689"
      ],
      "include_colab_link": true,
      "name": "LabAssignement2_complet.ipynb",
      "provenance": [],
      "toc_visible": true
    },
    "kernelspec": {
      "display_name": "Python 3.10.2 64-bit",
      "language": "python",
      "name": "python3"
    },
    "language_info": {
      "codemirror_mode": {
        "name": "ipython",
        "version": 3
      },
      "file_extension": ".py",
      "mimetype": "text/x-python",
      "name": "python",
      "nbconvert_exporter": "python",
      "pygments_lexer": "ipython3",
      "version": "3.10.2"
    },
    "toc-autonumbering": true,
    "vscode": {
      "interpreter": {
        "hash": "cd6d1acce2750b7268c59f1cdcb59eca0ffea8d1cd19b57032d5d19935850d22"
      }
    }
  },
  "nbformat": 4,
  "nbformat_minor": 5
}
