{
  "cells": [
    {
      "cell_type": "markdown",
      "metadata": {
        "colab_type": "text",
        "id": "view-in-github"
      },
      "source": [
        "<a href=\"https://colab.research.google.com/github/bendurand/hello-world/blob/main/LabAssignementNNwithKeras.ipynb\" target=\"_parent\"><img src=\"https://colab.research.google.com/assets/colab-badge.svg\" alt=\"Open In Colab\"/></a>"
      ]
    },
    {
      "cell_type": "markdown",
      "id": "4731bb59-074b-450c-9ee0-f851f550fc01",
      "metadata": {
        "id": "4731bb59-074b-450c-9ee0-f851f550fc01"
      },
      "source": [
        "# Lab: NN with Keras\n",
        "\n",
        "This Notebook is adapted from A. Géron's \"Hands-on ML\" book and from Tensorflow official tutorials."
      ]
    },
    {
      "cell_type": "markdown",
      "id": "633fc7d2-7a34-4214-9801-fe71f2ed131e",
      "metadata": {
        "id": "633fc7d2-7a34-4214-9801-fe71f2ed131e"
      },
      "source": [
        "# Classifying images with a neural network"
      ]
    },
    {
      "cell_type": "code",
      "execution_count": 3,
      "id": "cd6d1578-487c-4d9d-83d8-9a5a25c128a8",
      "metadata": {
        "id": "cd6d1578-487c-4d9d-83d8-9a5a25c128a8"
      },
      "outputs": [],
      "source": [
        "# import the necessary libraries\n",
        "import numpy as np\n",
        "import pandas as pd\n",
        "\n",
        "%matplotlib inline\n",
        "import matplotlib as mpl\n",
        "import matplotlib.cm as cm\n",
        "import matplotlib.pyplot as plt\n",
        "\n",
        "import seaborn as sns\n",
        "import os"
      ]
    },
    {
      "cell_type": "markdown",
      "id": "96c76678-80c3-41fc-8562-96132089c354",
      "metadata": {
        "id": "96c76678-80c3-41fc-8562-96132089c354"
      },
      "source": [
        "## Importing tensorflow and keras"
      ]
    },
    {
      "cell_type": "markdown",
      "id": "21646372-5e74-461b-b909-3b03102f2325",
      "metadata": {
        "id": "21646372-5e74-461b-b909-3b03102f2325",
        "tags": []
      },
      "source": [
        "First let's import TensorFlow and Keras."
      ]
    },
    {
      "cell_type": "code",
      "execution_count": 4,
      "id": "d8ef415b-4077-484b-ab38-6162a0098020",
      "metadata": {
        "id": "d8ef415b-4077-484b-ab38-6162a0098020"
      },
      "outputs": [
        {
          "name": "stderr",
          "output_type": "stream",
          "text": [
            "2022-10-17 12:12:14.898862: I tensorflow/core/platform/cpu_feature_guard.cc:193] This TensorFlow binary is optimized with oneAPI Deep Neural Network Library (oneDNN) to use the following CPU instructions in performance-critical operations:  AVX2 AVX512F AVX512_VNNI FMA\n",
            "To enable them in other operations, rebuild TensorFlow with the appropriate compiler flags.\n",
            "2022-10-17 12:12:15.071657: I tensorflow/core/util/util.cc:169] oneDNN custom operations are on. You may see slightly different numerical results due to floating-point round-off errors from different computation orders. To turn them off, set the environment variable `TF_ENABLE_ONEDNN_OPTS=0`.\n",
            "2022-10-17 12:12:15.077283: W tensorflow/stream_executor/platform/default/dso_loader.cc:64] Could not load dynamic library 'libcudart.so.11.0'; dlerror: libcudart.so.11.0: cannot open shared object file: No such file or directory\n",
            "2022-10-17 12:12:15.077303: I tensorflow/stream_executor/cuda/cudart_stub.cc:29] Ignore above cudart dlerror if you do not have a GPU set up on your machine.\n",
            "2022-10-17 12:12:15.104031: E tensorflow/stream_executor/cuda/cuda_blas.cc:2981] Unable to register cuBLAS factory: Attempting to register factory for plugin cuBLAS when one has already been registered\n",
            "2022-10-17 12:12:15.840675: W tensorflow/stream_executor/platform/default/dso_loader.cc:64] Could not load dynamic library 'libnvinfer.so.7'; dlerror: libnvinfer.so.7: cannot open shared object file: No such file or directory\n",
            "2022-10-17 12:12:15.840778: W tensorflow/stream_executor/platform/default/dso_loader.cc:64] Could not load dynamic library 'libnvinfer_plugin.so.7'; dlerror: libnvinfer_plugin.so.7: cannot open shared object file: No such file or directory\n",
            "2022-10-17 12:12:15.840787: W tensorflow/compiler/tf2tensorrt/utils/py_utils.cc:38] TF-TRT Warning: Cannot dlopen some TensorRT libraries. If you would like to use Nvidia GPU with TensorRT, please make sure the missing libraries mentioned above are installed properly.\n"
          ]
        }
      ],
      "source": [
        "import tensorflow as tf\n",
        "from tensorflow import keras"
      ]
    },
    {
      "cell_type": "code",
      "execution_count": 5,
      "id": "143c9bd5-06aa-4c5c-b0ba-8a0cad7fc7e2",
      "metadata": {
        "id": "143c9bd5-06aa-4c5c-b0ba-8a0cad7fc7e2"
      },
      "outputs": [
        {
          "data": {
            "text/plain": [
              "'2.10.0'"
            ]
          },
          "execution_count": 5,
          "metadata": {},
          "output_type": "execute_result"
        }
      ],
      "source": [
        "tf.__version__"
      ]
    },
    {
      "cell_type": "code",
      "execution_count": 6,
      "id": "c2ce41a0-d841-41e3-a953-24579e10e80d",
      "metadata": {
        "id": "c2ce41a0-d841-41e3-a953-24579e10e80d"
      },
      "outputs": [
        {
          "data": {
            "text/plain": [
              "'2.10.0'"
            ]
          },
          "execution_count": 6,
          "metadata": {},
          "output_type": "execute_result"
        }
      ],
      "source": [
        "keras.__version__"
      ]
    },
    {
      "cell_type": "markdown",
      "id": "0cee40a2-c753-4508-bf6c-d990394416d5",
      "metadata": {
        "id": "0cee40a2-c753-4508-bf6c-d990394416d5"
      },
      "source": [
        "## Tensors and Variables in Tensorflow"
      ]
    },
    {
      "cell_type": "markdown",
      "id": "d8e163b0-f0a0-47c1-ba5d-8edab6c4bedf",
      "metadata": {
        "id": "d8e163b0-f0a0-47c1-ba5d-8edab6c4bedf"
      },
      "source": [
        "Tensors are the analogous of Numpy's `ndarrays` and represent multi-dimensional arrays of arbitrary shape."
      ]
    },
    {
      "cell_type": "code",
      "execution_count": 7,
      "id": "260ec06a-3a8c-46fb-9842-87a8a71a0827",
      "metadata": {
        "id": "260ec06a-3a8c-46fb-9842-87a8a71a0827"
      },
      "outputs": [
        {
          "name": "stderr",
          "output_type": "stream",
          "text": [
            "2022-10-17 12:12:20.684170: E tensorflow/stream_executor/cuda/cuda_driver.cc:265] failed call to cuInit: CUDA_ERROR_NO_DEVICE: no CUDA-capable device is detected\n",
            "2022-10-17 12:12:20.684226: I tensorflow/stream_executor/cuda/cuda_diagnostics.cc:156] kernel driver does not appear to be running on this host (bdurand-Swift-SF314-57G): /proc/driver/nvidia/version does not exist\n",
            "2022-10-17 12:12:20.684979: I tensorflow/core/platform/cpu_feature_guard.cc:193] This TensorFlow binary is optimized with oneAPI Deep Neural Network Library (oneDNN) to use the following CPU instructions in performance-critical operations:  AVX2 AVX512F AVX512_VNNI FMA\n",
            "To enable them in other operations, rebuild TensorFlow with the appropriate compiler flags.\n"
          ]
        },
        {
          "data": {
            "text/plain": [
              "<tf.Tensor: shape=(3,), dtype=int32, numpy=array([1, 2, 3], dtype=int32)>"
            ]
          },
          "execution_count": 7,
          "metadata": {},
          "output_type": "execute_result"
        }
      ],
      "source": [
        "t = tf.constant([1,2,3])\n",
        "t"
      ]
    },
    {
      "cell_type": "markdown",
      "id": "4ce0cd83-a519-4e9c-bc34-cbe3f1f448e3",
      "metadata": {
        "id": "4ce0cd83-a519-4e9c-bc34-cbe3f1f448e3"
      },
      "source": [
        "They can be exported to numpy using the dedicated method:"
      ]
    },
    {
      "cell_type": "code",
      "execution_count": 8,
      "id": "a05475d5-c407-430f-a8af-70372b65fbdd",
      "metadata": {
        "id": "a05475d5-c407-430f-a8af-70372b65fbdd"
      },
      "outputs": [
        {
          "data": {
            "text/plain": [
              "array([1, 2, 3], dtype=int32)"
            ]
          },
          "execution_count": 8,
          "metadata": {},
          "output_type": "execute_result"
        }
      ],
      "source": [
        "t.numpy()"
      ]
    },
    {
      "cell_type": "markdown",
      "id": "47c7dd84-e01a-497e-a512-4074ebd56138",
      "metadata": {
        "id": "47c7dd84-e01a-497e-a512-4074ebd56138"
      },
      "source": [
        "Tensorflow variables are a special type of tensor. They are used to represent values that are changed by your program (like the parameters of a network)."
      ]
    },
    {
      "cell_type": "code",
      "execution_count": 9,
      "id": "d16dcf7c-3f38-46ae-a042-b79061128808",
      "metadata": {
        "id": "d16dcf7c-3f38-46ae-a042-b79061128808",
        "tags": []
      },
      "outputs": [],
      "source": [
        "my_tensor = tf.constant([[1.0, 2.0], [3.0, 4.0]])\n",
        "my_variable = tf.Variable(my_tensor)"
      ]
    },
    {
      "cell_type": "markdown",
      "id": "waYNRzPPcKS-",
      "metadata": {
        "id": "waYNRzPPcKS-"
      },
      "source": [
        "Normally you won't need to explicitly create tensors and variables, but they are the underlying data structures used within keras layers."
      ]
    },
    {
      "cell_type": "markdown",
      "id": "9d961644-2521-459e-8d98-f31f710acc5f",
      "metadata": {
        "id": "9d961644-2521-459e-8d98-f31f710acc5f"
      },
      "source": [
        "## The data: Fashion MNIST"
      ]
    },
    {
      "cell_type": "markdown",
      "id": "6d54f5e7-491d-47fa-997d-496cb9a768e1",
      "metadata": {
        "id": "6d54f5e7-491d-47fa-997d-496cb9a768e1"
      },
      "source": [
        "We will use [Fashion MNIST](https://github.com/zalandoresearch/fashion-mnist) dataset which contains 70,000 grayscale images in 10 categories. The images show individual articles of clothing at low resolution (28 by 28 pixels), as seen here:\n",
        "\n",
        "<table>\n",
        "  <tr><td>\n",
        "    <img src=\"https://tensorflow.org/images/fashion-mnist-sprite.png\"\n",
        "         alt=\"Fashion MNIST sprite\"  width=\"600\">\n",
        "  </td></tr>\n",
        "  <tr><td align=\"center\">\n",
        "    <b>Figure 1.</b> <a href=\"https://github.com/zalandoresearch/fashion-mnist\">Fashion-MNIST samples</a> (by Zalando, MIT License).<br/>&nbsp;\n",
        "  </td></tr>\n",
        "</table>\n",
        "\n",
        "Fashion MNIST is intended as a drop-in replacement for the classic [MNIST](http://yann.lecun.com/exdb/mnist/) dataset—often used as the \"Hello, World\" of machine learning programs for computer vision. The MNIST dataset contains images of handwritten digits (0, 1, 2, etc.) in a format identical to that of the articles of clothing you'll use here.\n",
        "\n",
        "This guide uses Fashion MNIST for variety, and because it's a slightly more challenging problem than regular MNIST. Both datasets are relatively small and are used to verify that an algorithm works as expected. They're good starting points to test and debug code.\n",
        "\n",
        "Here, 60,000 images are used to train the network and 10,000 images to evaluate how accurately the network learned to classify images. You can access the Fashion MNIST directly from TensorFlow. "
      ]
    },
    {
      "cell_type": "markdown",
      "id": "d41488ec-9ab7-4062-8efc-ce35608dd689",
      "metadata": {
        "id": "d41488ec-9ab7-4062-8efc-ce35608dd689"
      },
      "source": [
        "### Import and load the dataset"
      ]
    },
    {
      "cell_type": "markdown",
      "id": "36d74ddf-0066-490c-bc20-068dd5810812",
      "metadata": {
        "id": "36d74ddf-0066-490c-bc20-068dd5810812"
      },
      "source": [
        "Keras has a number of functions to load popular datasets in `keras.datasets`. \n",
        "We can use this module to import and [load the Fashion MNIST data](https://www.tensorflow.org/api_docs/python/tf/keras/datasets/fashion_mnist/load_data).\n"
      ]
    },
    {
      "cell_type": "code",
      "execution_count": 10,
      "id": "73b3126f-0a6b-433e-8cb3-5c9b320e9b70",
      "metadata": {
        "id": "73b3126f-0a6b-433e-8cb3-5c9b320e9b70"
      },
      "outputs": [
        {
          "name": "stdout",
          "output_type": "stream",
          "text": [
            "Downloading data from https://storage.googleapis.com/tensorflow/tf-keras-datasets/train-labels-idx1-ubyte.gz\n",
            "29515/29515 [==============================] - 0s 3us/step\n",
            "Downloading data from https://storage.googleapis.com/tensorflow/tf-keras-datasets/train-images-idx3-ubyte.gz\n",
            "26421880/26421880 [==============================] - 7s 0us/step\n",
            "Downloading data from https://storage.googleapis.com/tensorflow/tf-keras-datasets/t10k-labels-idx1-ubyte.gz\n",
            "5148/5148 [==============================] - 0s 0us/step\n",
            "Downloading data from https://storage.googleapis.com/tensorflow/tf-keras-datasets/t10k-images-idx3-ubyte.gz\n",
            "4422102/4422102 [==============================] - 1s 0us/step\n"
          ]
        }
      ],
      "source": [
        "fashion_mnist = keras.datasets.fashion_mnist  # type: ignore\n",
        "(X_train_full, y_train_full), (X_test, y_test) = fashion_mnist.load_data()"
      ]
    },
    {
      "cell_type": "markdown",
      "id": "af5b724c-3ed9-4431-acd4-669713cbfb60",
      "metadata": {
        "id": "af5b724c-3ed9-4431-acd4-669713cbfb60"
      },
      "source": [
        "Loading the dataset returns four NumPy arrays:\n",
        "\n",
        "* The first pair `X_train_full` and `y_train_full` arrays are the *training set*\n",
        "* The second pair  the `X_test` and `y_test` are the *test set*"
      ]
    },
    {
      "cell_type": "markdown",
      "id": "47c050d3-c86e-4947-922e-ba9f242d5637",
      "metadata": {
        "id": "47c050d3-c86e-4947-922e-ba9f242d5637"
      },
      "source": [
        "### TODO: check the quantity of images in each set and their shape"
      ]
    },
    {
      "cell_type": "markdown",
      "id": "f115bdd0-b77a-4a50-9604-5e69f3d213c1",
      "metadata": {
        "id": "f115bdd0-b77a-4a50-9604-5e69f3d213c1"
      },
      "source": [
        "The training set contains 60,000 grayscale images, each 28x28 pixels:"
      ]
    },
    {
      "cell_type": "code",
      "execution_count": 11,
      "id": "085b51b3-17db-4c91-91c3-f23e388702e5",
      "metadata": {
        "id": "085b51b3-17db-4c91-91c3-f23e388702e5",
        "tags": []
      },
      "outputs": [
        {
          "data": {
            "text/plain": [
              "(60000, 28, 28)"
            ]
          },
          "execution_count": 11,
          "metadata": {},
          "output_type": "execute_result"
        }
      ],
      "source": [
        "# TODO your code here\n",
        "X_train_full.shape"
      ]
    },
    {
      "cell_type": "code",
      "execution_count": 12,
      "id": "4b7194b2-2193-4a5e-a47d-cb3dc0da1ad5",
      "metadata": {
        "id": "4b7194b2-2193-4a5e-a47d-cb3dc0da1ad5",
        "tags": []
      },
      "outputs": [
        {
          "data": {
            "text/plain": [
              "(60000,)"
            ]
          },
          "execution_count": 12,
          "metadata": {},
          "output_type": "execute_result"
        }
      ],
      "source": [
        "y_train_full.shape"
      ]
    },
    {
      "cell_type": "markdown",
      "id": "9a784f04-fd07-4f43-ad03-c071d83a43bd",
      "metadata": {
        "id": "9a784f04-fd07-4f43-ad03-c071d83a43bd",
        "tags": []
      },
      "source": [
        "### Preprocess the data"
      ]
    },
    {
      "cell_type": "markdown",
      "id": "b840559c-b006-4f10-a319-df2e8c3c8b27",
      "metadata": {
        "id": "b840559c-b006-4f10-a319-df2e8c3c8b27"
      },
      "source": [
        "Images are in grayscale. Each pixel intensity is represented as a byte (0 to 255):"
      ]
    },
    {
      "cell_type": "code",
      "execution_count": 13,
      "id": "87377ac1-a84e-4512-9a48-6d4661c706eb",
      "metadata": {
        "id": "87377ac1-a84e-4512-9a48-6d4661c706eb",
        "tags": []
      },
      "outputs": [
        {
          "data": {
            "text/plain": [
              "dtype('uint8')"
            ]
          },
          "execution_count": 13,
          "metadata": {},
          "output_type": "execute_result"
        }
      ],
      "source": [
        "X_train_full.dtype"
      ]
    },
    {
      "cell_type": "markdown",
      "id": "2ce96a63-7824-4f43-93e4-29fc43403ccd",
      "metadata": {
        "id": "2ce96a63-7824-4f43-93e4-29fc43403ccd"
      },
      "source": [
        "You can visualize it by plotting one of the training images:"
      ]
    },
    {
      "cell_type": "code",
      "execution_count": 14,
      "id": "0fbeb31a-9cfc-4e23-9ff7-5880a2504a47",
      "metadata": {
        "id": "0fbeb31a-9cfc-4e23-9ff7-5880a2504a47"
      },
      "outputs": [
        {
          "data": {
            "image/png": "[encoded data removed]",
            "text/plain": [
              "<Figure size 432x288 with 2 Axes>"
            ]
          },
          "metadata": {
            "needs_background": "light"
          },
          "output_type": "display_data"
        }
      ],
      "source": [
        "plt.figure()\n",
        "plt.imshow(X_train_full[0])\n",
        "plt.colorbar()\n",
        "plt.grid(False)\n",
        "plt.show()"
      ]
    },
    {
      "cell_type": "markdown",
      "id": "a9daf8bf-3ec5-4c8f-a51b-4b6af35f3dd2",
      "metadata": {
        "id": "a9daf8bf-3ec5-4c8f-a51b-4b6af35f3dd2"
      },
      "source": [
        "#### TODO: rescaling pixel values"
      ]
    },
    {
      "cell_type": "markdown",
      "id": "261b18b2-0e22-4ba2-8ac8-0badcf19326c",
      "metadata": {
        "id": "261b18b2-0e22-4ba2-8ac8-0badcf19326c"
      },
      "source": [
        "As seen in class, gradient terms for weights in the first layer include a product with the network inputs. This means the scaling of the inputs can influence the optimization convergence:\n",
        "- large inputs will incurr in large gradients which incurr in large steps during optimization. Too large steps can bring instability.\n",
        "- Features with un-even variation range lead to a poorly conditioned loss function (analogous to a very elongated quadratic form).\n",
        "\n",
        "Therefore it is good practice to rescale neural network features. It is common to use MinMax scaling, so that features range between 0 and 1. Standardization is also a valid possibility (if you can assume your features have a Gaussian distribution)\n",
        "\n",
        "In the case of image pixels, MinMax scaling can be done with a simple division, which you are going to do just bellow.\n",
        "\n",
        "**Important**: *training set* and the *testing set* should be preprocessed in the same way."
      ]
    },
    {
      "cell_type": "code",
      "execution_count": 15,
      "id": "edb9a4a3-a37a-48eb-b93e-28d0a0a206e0",
      "metadata": {
        "id": "edb9a4a3-a37a-48eb-b93e-28d0a0a206e0",
        "tags": []
      },
      "outputs": [],
      "source": [
        "# TODO your code here\n",
        "X_train_full = X_train_full/255"
      ]
    },
    {
      "cell_type": "code",
      "execution_count": 16,
      "id": "0ad1846e",
      "metadata": {},
      "outputs": [
        {
          "data": {
            "image/png": "[encoded data removed]",
            "text/plain": [
              "<Figure size 432x288 with 2 Axes>"
            ]
          },
          "metadata": {
            "needs_background": "light"
          },
          "output_type": "display_data"
        }
      ],
      "source": [
        "plt.figure()\n",
        "plt.imshow(X_train_full[0])\n",
        "plt.colorbar()\n",
        "plt.grid(False)\n",
        "plt.show()"
      ]
    },
    {
      "cell_type": "code",
      "execution_count": 17,
      "id": "1c5eeeed",
      "metadata": {},
      "outputs": [],
      "source": [
        "X_test = X_test/255"
      ]
    },
    {
      "cell_type": "markdown",
      "id": "a43ab19c-4be6-4854-a647-30ffbee1a7de",
      "metadata": {
        "id": "a43ab19c-4be6-4854-a647-30ffbee1a7de"
      },
      "source": [
        "### TODO: Creating a validation set\n",
        "The dataset is already split for you between a training set and a test set, but it can be useful to split the training set further to have a validation set.\n",
        "For this we'll split the full training set into a validation set and a (smaller) training set.\n",
        "Separate 5000 images for the validation set."
      ]
    },
    {
      "cell_type": "code",
      "execution_count": 18,
      "id": "f174593c-fcf6-46a5-ac02-fa3176d0f6b3",
      "metadata": {
        "id": "f174593c-fcf6-46a5-ac02-fa3176d0f6b3"
      },
      "outputs": [],
      "source": [
        "# TODO your code here\n",
        "X_train, X_valid = X_train_full[:55000], X_train_full[55000:]\n",
        "y_train, y_valid = y_train_full[:55000], y_train_full[55000:]\n"
      ]
    },
    {
      "cell_type": "code",
      "execution_count": 19,
      "id": "b7fc516f",
      "metadata": {},
      "outputs": [
        {
          "data": {
            "text/plain": [
              "(55000, 28, 28)"
            ]
          },
          "execution_count": 19,
          "metadata": {},
          "output_type": "execute_result"
        }
      ],
      "source": [
        "X_train.shape"
      ]
    },
    {
      "cell_type": "code",
      "execution_count": 20,
      "id": "5e391b2d",
      "metadata": {},
      "outputs": [
        {
          "data": {
            "text/plain": [
              "(5000, 28, 28)"
            ]
          },
          "execution_count": 20,
          "metadata": {},
          "output_type": "execute_result"
        }
      ],
      "source": [
        "X_valid.shape"
      ]
    },
    {
      "cell_type": "markdown",
      "id": "8805389b-6f0d-4962-bca8-1c00a8d94159",
      "metadata": {
        "id": "8805389b-6f0d-4962-bca8-1c00a8d94159"
      },
      "source": [
        "### Visualizing images and labels"
      ]
    },
    {
      "cell_type": "markdown",
      "id": "c752a740-b9b0-42ea-9547-647b09aef994",
      "metadata": {
        "id": "c752a740-b9b0-42ea-9547-647b09aef994"
      },
      "source": [
        "You can plot an image using Matplotlib's `imshow()` function, with a `'binary'`\n",
        " color map:"
      ]
    },
    {
      "cell_type": "code",
      "execution_count": 21,
      "id": "4fc8d75c-58ff-428d-9e61-458aa97a3d94",
      "metadata": {
        "id": "4fc8d75c-58ff-428d-9e61-458aa97a3d94"
      },
      "outputs": [
        {
          "data": {
            "image/png": "[encoded data removed]",
            "text/plain": [
              "<Figure size 432x288 with 1 Axes>"
            ]
          },
          "metadata": {
            "needs_background": "light"
          },
          "output_type": "display_data"
        }
      ],
      "source": [
        "plt.imshow(X_train[0], cmap=\"binary\")\n",
        "plt.axis('off')\n",
        "plt.show()"
      ]
    },
    {
      "cell_type": "markdown",
      "id": "3a4bb31b-30e3-4340-9db0-9090ee3545ca",
      "metadata": {
        "id": "3a4bb31b-30e3-4340-9db0-9090ee3545ca",
        "tags": []
      },
      "source": [
        "The labels are the class IDs, stored in an array of integers (represented as uint8), ranging from 0 to 9:"
      ]
    },
    {
      "cell_type": "code",
      "execution_count": 22,
      "id": "bfb805dc-7ab8-4f4d-9061-5a0fb29b43ea",
      "metadata": {
        "id": "bfb805dc-7ab8-4f4d-9061-5a0fb29b43ea"
      },
      "outputs": [
        {
          "data": {
            "text/plain": [
              "array([9, 0, 0, ..., 9, 0, 2], dtype=uint8)"
            ]
          },
          "execution_count": 22,
          "metadata": {},
          "output_type": "execute_result"
        }
      ],
      "source": [
        "y_train"
      ]
    },
    {
      "cell_type": "markdown",
      "id": "7287a910-bcd7-4144-8cb6-bc520c27b5ff",
      "metadata": {
        "id": "7287a910-bcd7-4144-8cb6-bc520c27b5ff"
      },
      "source": [
        "These correspond to the *class* of clothing the image represents:\n",
        "\n",
        "<table>\n",
        "  <tr>\n",
        "    <th>Label</th>\n",
        "    <th>Class</th>\n",
        "  </tr>\n",
        "  <tr>\n",
        "    <td>0</td>\n",
        "    <td>T-shirt/top</td>\n",
        "  </tr>\n",
        "  <tr>\n",
        "    <td>1</td>\n",
        "    <td>Trouser</td>\n",
        "  </tr>\n",
        "    <tr>\n",
        "    <td>2</td>\n",
        "    <td>Pullover</td>\n",
        "  </tr>\n",
        "    <tr>\n",
        "    <td>3</td>\n",
        "    <td>Dress</td>\n",
        "  </tr>\n",
        "    <tr>\n",
        "    <td>4</td>\n",
        "    <td>Coat</td>\n",
        "  </tr>\n",
        "    <tr>\n",
        "    <td>5</td>\n",
        "    <td>Sandal</td>\n",
        "  </tr>\n",
        "    <tr>\n",
        "    <td>6</td>\n",
        "    <td>Shirt</td>\n",
        "  </tr>\n",
        "    <tr>\n",
        "    <td>7</td>\n",
        "    <td>Sneaker</td>\n",
        "  </tr>\n",
        "    <tr>\n",
        "    <td>8</td>\n",
        "    <td>Bag</td>\n",
        "  </tr>\n",
        "    <tr>\n",
        "    <td>9</td>\n",
        "    <td>Ankle boot</td>\n",
        "  </tr>\n",
        "</table>\n",
        "\n",
        "Each image is mapped to a single label. Since the *class names* are not included with the dataset, store them here to use later when plotting the images:"
      ]
    },
    {
      "cell_type": "code",
      "execution_count": 23,
      "id": "2a95a5c3-14d9-403b-aefd-cb8293e68a48",
      "metadata": {
        "id": "2a95a5c3-14d9-403b-aefd-cb8293e68a48",
        "tags": []
      },
      "outputs": [],
      "source": [
        "class_names = [\"T-shirt/top\", \"Trouser\", \"Pullover\", \"Dress\", \"Coat\",\n",
        "               \"Sandal\", \"Shirt\", \"Sneaker\", \"Bag\", \"Ankle boot\"]"
      ]
    },
    {
      "cell_type": "markdown",
      "id": "ebe09d7a-381a-4dce-bf07-e26a9c3018d5",
      "metadata": {
        "id": "ebe09d7a-381a-4dce-bf07-e26a9c3018d5"
      },
      "source": [
        "So the first image in the training set is a coat:"
      ]
    },
    {
      "cell_type": "code",
      "execution_count": 24,
      "id": "b8350875-7cae-4f6d-bff5-db8c80e0c610",
      "metadata": {
        "id": "b8350875-7cae-4f6d-bff5-db8c80e0c610"
      },
      "outputs": [
        {
          "data": {
            "text/plain": [
              "'Ankle boot'"
            ]
          },
          "execution_count": 24,
          "metadata": {},
          "output_type": "execute_result"
        }
      ],
      "source": [
        "class_names[y_train[0]]"
      ]
    },
    {
      "cell_type": "markdown",
      "id": "43e2af01-d379-4baf-8ee1-069745e5b7a5",
      "metadata": {
        "id": "43e2af01-d379-4baf-8ee1-069745e5b7a5"
      },
      "source": [
        "Let's take a look at a sample of the images in the dataset:"
      ]
    },
    {
      "cell_type": "code",
      "execution_count": 25,
      "id": "5e865a15-7347-47a6-9c84-9c3f3914d849",
      "metadata": {
        "id": "5e865a15-7347-47a6-9c84-9c3f3914d849"
      },
      "outputs": [
        {
          "data": {
            "image/png": "[encoded data removed]",
            "text/plain": [
              "<Figure size 864x345.6 with 40 Axes>"
            ]
          },
          "metadata": {
            "needs_background": "light"
          },
          "output_type": "display_data"
        }
      ],
      "source": [
        "n_rows = 4\n",
        "n_cols = 10\n",
        "plt.figure(figsize=(n_cols * 1.2, n_rows * 1.2))\n",
        "for row in range(n_rows):\n",
        "    for col in range(n_cols):\n",
        "        index = n_cols * row + col\n",
        "        plt.subplot(n_rows, n_cols, index + 1)\n",
        "        plt.imshow(X_train[index], cmap=\"binary\", interpolation=\"nearest\")\n",
        "        plt.axis('off')\n",
        "        plt.title(class_names[y_train[index]], fontsize=12)\n",
        "plt.subplots_adjust(wspace=0.2, hspace=0.5)"
      ]
    },
    {
      "cell_type": "markdown",
      "id": "bcb2b0f5-c717-4082-8e78-b3c4e1b9ae5b",
      "metadata": {
        "id": "bcb2b0f5-c717-4082-8e78-b3c4e1b9ae5b"
      },
      "source": [
        "## Building models with tf.keras.Sequential"
      ]
    },
    {
      "cell_type": "markdown",
      "id": "bac0885b-9909-4ce5-9a1e-de1c0c7960c1",
      "metadata": {
        "id": "bac0885b-9909-4ce5-9a1e-de1c0c7960c1"
      },
      "source": [
        "`tf.keras` offers you a high level API to implement neural networks easily.\n",
        "Most models can be represented using the `tf.keras.Sequential` API.\n",
        "For more complex models, we can use `tf.keras.functional` and/or sub-class `tf.keras.Model`."
      ]
    },
    {
      "cell_type": "markdown",
      "id": "bfc7ab08-b31f-486b-96d2-67f0c1afc2da",
      "metadata": {
        "id": "bfc7ab08-b31f-486b-96d2-67f0c1afc2da"
      },
      "source": [
        "Before creating our model, let's set our random states to control random initialization."
      ]
    },
    {
      "cell_type": "code",
      "execution_count": 26,
      "id": "e65f93dc-d15e-4caf-ac91-c639851fd611",
      "metadata": {
        "id": "e65f93dc-d15e-4caf-ac91-c639851fd611"
      },
      "outputs": [],
      "source": [
        "keras.backend.clear_session()  # type: ignore\n",
        "np.random.seed(42)\n",
        "tf.random.set_seed(42)"
      ]
    },
    {
      "cell_type": "markdown",
      "id": "3eef6c5d-b17c-4b54-bed9-e4be81fcfded",
      "metadata": {
        "id": "3eef6c5d-b17c-4b54-bed9-e4be81fcfded"
      },
      "source": [
        "Let's start with an empty sequential model:"
      ]
    },
    {
      "cell_type": "code",
      "execution_count": 27,
      "id": "41e7c7be-d8d3-4c11-a4f7-51099b987775",
      "metadata": {
        "id": "41e7c7be-d8d3-4c11-a4f7-51099b987775"
      },
      "outputs": [
        {
          "data": {
            "text/plain": [
              "<keras.engine.sequential.Sequential at 0x7f43f5f75b40>"
            ]
          },
          "execution_count": 27,
          "metadata": {},
          "output_type": "execute_result"
        }
      ],
      "source": [
        "model = keras.models.Sequential()  # type: ignore\n",
        "model"
      ]
    },
    {
      "cell_type": "markdown",
      "id": "e248cbf0-e209-418e-b4af-9b3d57164f4b",
      "metadata": {
        "id": "e248cbf0-e209-418e-b4af-9b3d57164f4b"
      },
      "source": [
        "We can add the layers we wish to add to our model one by one using `model.add`.\n",
        "First let us add a layer to vectorize the image inputs (2D into 1D):"
      ]
    },
    {
      "cell_type": "code",
      "execution_count": 28,
      "id": "ece24f05-f1c8-45cb-8f3a-2f7be5db0f32",
      "metadata": {
        "id": "ece24f05-f1c8-45cb-8f3a-2f7be5db0f32"
      },
      "outputs": [],
      "source": [
        "model.add(keras.layers.Flatten(input_shape=[28, 28]))"
      ]
    },
    {
      "cell_type": "markdown",
      "id": "8b75e942-6482-4f3e-ad92-e8ad5fa5b55a",
      "metadata": {
        "id": "8b75e942-6482-4f3e-ad92-e8ad5fa5b55a"
      },
      "source": [
        "Layers of the type `tf.keras.layers.Flatten` transform the format of the images from a two-dimensional array (of 28 by 28 pixels) to a one-dimensional array (of 28 * 28 = 784 pixels). Think of this layer as unstacking rows of pixels in the image and lining them up. This layer has no parameters to learn; it only reformats the data."
      ]
    },
    {
      "cell_type": "markdown",
      "id": "22274380-965a-4cb4-99f2-923fb19867b5",
      "metadata": {
        "id": "22274380-965a-4cb4-99f2-923fb19867b5"
      },
      "source": [
        "### Hidden layers\n",
        "We can add typical MLP layers using `keras.layers.Dense`."
      ]
    },
    {
      "cell_type": "code",
      "execution_count": 29,
      "id": "16cc2593-1b9b-4a56-8a3b-0c22f4c99d03",
      "metadata": {
        "id": "16cc2593-1b9b-4a56-8a3b-0c22f4c99d03"
      },
      "outputs": [],
      "source": [
        "model.add(keras.layers.Dense(300, activation=\"relu\"))"
      ]
    },
    {
      "cell_type": "markdown",
      "id": "a44dff9a-14dd-4927-99a2-affe528838d9",
      "metadata": {
        "id": "a44dff9a-14dd-4927-99a2-affe528838d9"
      },
      "source": [
        "The first argument defines the number of neurons in the layer. The activation parameter needs to be set to the desired activation function, otherwise you will simply have a linear layer."
      ]
    },
    {
      "cell_type": "markdown",
      "id": "mw6ATSHs9Owv",
      "metadata": {
        "id": "mw6ATSHs9Owv"
      },
      "source": [
        "#### TODO: Add another hidden layer\n",
        "Add a second hidden layer with 100 units"
      ]
    },
    {
      "cell_type": "code",
      "execution_count": 30,
      "id": "Gp4lGa9g9PQd",
      "metadata": {
        "id": "Gp4lGa9g9PQd"
      },
      "outputs": [],
      "source": [
        "# TODO your code here\n",
        "model.add(keras.layers.Dense(100, activation=\"relu\"))  # type: ignore"
      ]
    },
    {
      "cell_type": "markdown",
      "id": "1b389489-d9ff-4eb3-8508-fcb26b9799cb",
      "metadata": {
        "id": "1b389489-d9ff-4eb3-8508-fcb26b9799cb"
      },
      "source": [
        "### Output layer\n",
        "For the output layer, the number of units is determined by the number of classes. Each unit computes a score that indicates the current image belongs to one of the 10 classes. \n",
        "By usiing softmax as the activation function, we obtain normalized probabilities as scores (as in the multinomial logistic regression)."
      ]
    },
    {
      "cell_type": "code",
      "execution_count": 31,
      "id": "a7f646d1-307f-4ab1-a313-f5945f6f86df",
      "metadata": {
        "id": "a7f646d1-307f-4ab1-a313-f5945f6f86df",
        "tags": []
      },
      "outputs": [],
      "source": [
        "model.add(keras.layers.Dense(10, activation=\"softmax\"))"
      ]
    },
    {
      "cell_type": "markdown",
      "id": "d584173c-8630-4d5e-9602-418a3c41cca8",
      "metadata": {
        "id": "d584173c-8630-4d5e-9602-418a3c41cca8"
      },
      "source": [
        "You can also create the same model by giving a list of these layers as argument to `keras.Sequential`:\n",
        "``` python\n",
        "keras.models.Sequential([\n",
        "    keras.layers.Flatten(input_shape=[28, 28]),\n",
        "    keras.layers.Dense(300, activation=\"relu\"),\n",
        "    keras.layers.Dense(100, activation=\"relu\"),\n",
        "    keras.layers.Dense(10, activation=\"softmax\")\n",
        "])\n",
        "```"
      ]
    },
    {
      "cell_type": "markdown",
      "id": "81892ffb-8209-49f4-8c4d-0dcfd18b8e65",
      "metadata": {
        "id": "81892ffb-8209-49f4-8c4d-0dcfd18b8e65",
        "tags": []
      },
      "source": [
        "### Layers and weights\n",
        "In any case, `model.layers` will contain a list of `keras.layers` at the end:"
      ]
    },
    {
      "cell_type": "code",
      "execution_count": 32,
      "id": "7889a98a-b91a-4813-9799-a04facac9d58",
      "metadata": {
        "id": "7889a98a-b91a-4813-9799-a04facac9d58",
        "tags": []
      },
      "outputs": [
        {
          "data": {
            "text/plain": [
              "[<keras.layers.reshaping.flatten.Flatten at 0x7f43f5f74dc0>,\n",
              " <keras.layers.core.dense.Dense at 0x7f43f5f76980>,\n",
              " <keras.layers.core.dense.Dense at 0x7f43f5f77be0>,\n",
              " <keras.layers.core.dense.Dense at 0x7f43f5f76f20>]"
            ]
          },
          "execution_count": 32,
          "metadata": {},
          "output_type": "execute_result"
        }
      ],
      "source": [
        "model.layers"
      ]
    },
    {
      "cell_type": "markdown",
      "id": "2f2245dc-b693-4e8e-a0e2-ce07617af899",
      "metadata": {
        "id": "2f2245dc-b693-4e8e-a0e2-ce07617af899"
      },
      "source": [
        "Each layer has a name. You can attribute one during its creation. If you don't, a standard one will be created for you:"
      ]
    },
    {
      "cell_type": "code",
      "execution_count": 33,
      "id": "6652bcf9-11dc-47ab-b2bc-b18d128ca83a",
      "metadata": {
        "id": "6652bcf9-11dc-47ab-b2bc-b18d128ca83a"
      },
      "outputs": [
        {
          "name": "stdout",
          "output_type": "stream",
          "text": [
            "flatten\n",
            "dense\n",
            "dense_1\n",
            "dense_2\n"
          ]
        }
      ],
      "source": [
        "for layer in model.layers:\n",
        "    print(layer.name)"
      ]
    },
    {
      "cell_type": "markdown",
      "id": "f4da3021-ed10-4bb8-94f3-7188d91f964e",
      "metadata": {
        "id": "f4da3021-ed10-4bb8-94f3-7188d91f964e"
      },
      "source": [
        "You can access your model's layers by indexing `model.layers` or by their name (using `model.get_layer`)"
      ]
    },
    {
      "cell_type": "code",
      "execution_count": 34,
      "id": "52d141d4-2ed8-4036-9ee0-39a55d5cfd32",
      "metadata": {
        "id": "52d141d4-2ed8-4036-9ee0-39a55d5cfd32"
      },
      "outputs": [
        {
          "data": {
            "text/plain": [
              "'dense'"
            ]
          },
          "execution_count": 34,
          "metadata": {},
          "output_type": "execute_result"
        }
      ],
      "source": [
        "hidden1 = model.layers[1]\n",
        "hidden1.name"
      ]
    },
    {
      "cell_type": "code",
      "execution_count": 35,
      "id": "820f0e22-547f-44d0-9fd4-e293dc6a1b6e",
      "metadata": {
        "id": "820f0e22-547f-44d0-9fd4-e293dc6a1b6e"
      },
      "outputs": [
        {
          "data": {
            "text/plain": [
              "True"
            ]
          },
          "execution_count": 35,
          "metadata": {},
          "output_type": "execute_result"
        }
      ],
      "source": [
        "model.get_layer(hidden1.name) is hidden1"
      ]
    },
    {
      "cell_type": "markdown",
      "id": "3d228f42-1009-42d0-8f28-0fd41944cd03",
      "metadata": {
        "id": "3d228f42-1009-42d0-8f28-0fd41944cd03"
      },
      "source": [
        "All the parameters of a layer can be accessed using its get_weights() and set_weights() methods. For a Dense layer, this includes both the connection weights and the bias terms:"
      ]
    },
    {
      "cell_type": "code",
      "execution_count": 36,
      "id": "b98d1145-10d4-41f2-9c32-3f8f69e1dfba",
      "metadata": {
        "id": "b98d1145-10d4-41f2-9c32-3f8f69e1dfba"
      },
      "outputs": [],
      "source": [
        "weights, biases = hidden1.get_weights()"
      ]
    },
    {
      "cell_type": "markdown",
      "id": "7MPtfKdOXtLz",
      "metadata": {
        "id": "7MPtfKdOXtLz"
      },
      "source": [
        "We can save this initial weights for later using `model.save_weights`, in case we want to reset our model to its initial state:"
      ]
    },
    {
      "cell_type": "code",
      "execution_count": 37,
      "id": "NNxOyFgPYMPs",
      "metadata": {
        "id": "NNxOyFgPYMPs"
      },
      "outputs": [],
      "source": [
        "model.save_weights('init.h5')"
      ]
    },
    {
      "cell_type": "markdown",
      "id": "AjV1xvr3YdNs",
      "metadata": {
        "id": "AjV1xvr3YdNs"
      },
      "source": [
        "`h5` is the extension corresponding to the default keras format, HDF5. To load back the weights, just call \n",
        "```python \n",
        "model.load_weights('init.h5')\n",
        "```\n"
      ]
    },
    {
      "cell_type": "markdown",
      "id": "yhN0mjUuMKwW",
      "metadata": {
        "id": "yhN0mjUuMKwW"
      },
      "source": [
        "### TODO: Check weights and biases values and shape"
      ]
    },
    {
      "cell_type": "code",
      "execution_count": 38,
      "id": "ea7c4733-600a-440f-bd12-7cf440e2e504",
      "metadata": {
        "id": "ea7c4733-600a-440f-bd12-7cf440e2e504"
      },
      "outputs": [
        {
          "data": {
            "text/plain": [
              "[<tf.Variable 'dense/kernel:0' shape=(784, 300) dtype=float32, numpy=\n",
              " array([[ 9.0772063e-03, -2.7762294e-02, -6.9023415e-02, ...,\n",
              "         -2.5981434e-02,  5.7675660e-02, -9.4684809e-03],\n",
              "        [ 7.3113486e-02,  1.7750785e-02, -7.0341803e-02, ...,\n",
              "          7.7888370e-05,  6.3322753e-02,  5.3106248e-03],\n",
              "        [ 9.8270923e-04,  5.7575375e-02, -3.9577674e-02, ...,\n",
              "         -5.0750837e-02, -5.0738901e-02, -3.0530784e-02],\n",
              "        ...,\n",
              "        [-6.3321374e-02, -1.6761050e-02,  3.3827543e-02, ...,\n",
              "          2.3739882e-02,  1.2663424e-02, -2.9620975e-02],\n",
              "        [ 1.5629500e-02, -2.3165777e-02, -7.0213400e-02, ...,\n",
              "         -6.7144535e-02,  2.6532941e-02,  1.7796725e-02],\n",
              "        [-2.5566474e-02, -6.2226504e-04,  4.4477507e-03, ...,\n",
              "          2.2275656e-02,  3.3301599e-02, -6.9107421e-02]], dtype=float32)>,\n",
              " <tf.Variable 'dense/bias:0' shape=(300,) dtype=float32, numpy=\n",
              " array([0., 0., 0., 0., 0., 0., 0., 0., 0., 0., 0., 0., 0., 0., 0., 0., 0.,\n",
              "        0., 0., 0., 0., 0., 0., 0., 0., 0., 0., 0., 0., 0., 0., 0., 0., 0.,\n",
              "        0., 0., 0., 0., 0., 0., 0., 0., 0., 0., 0., 0., 0., 0., 0., 0., 0.,\n",
              "        0., 0., 0., 0., 0., 0., 0., 0., 0., 0., 0., 0., 0., 0., 0., 0., 0.,\n",
              "        0., 0., 0., 0., 0., 0., 0., 0., 0., 0., 0., 0., 0., 0., 0., 0., 0.,\n",
              "        0., 0., 0., 0., 0., 0., 0., 0., 0., 0., 0., 0., 0., 0., 0., 0., 0.,\n",
              "        0., 0., 0., 0., 0., 0., 0., 0., 0., 0., 0., 0., 0., 0., 0., 0., 0.,\n",
              "        0., 0., 0., 0., 0., 0., 0., 0., 0., 0., 0., 0., 0., 0., 0., 0., 0.,\n",
              "        0., 0., 0., 0., 0., 0., 0., 0., 0., 0., 0., 0., 0., 0., 0., 0., 0.,\n",
              "        0., 0., 0., 0., 0., 0., 0., 0., 0., 0., 0., 0., 0., 0., 0., 0., 0.,\n",
              "        0., 0., 0., 0., 0., 0., 0., 0., 0., 0., 0., 0., 0., 0., 0., 0., 0.,\n",
              "        0., 0., 0., 0., 0., 0., 0., 0., 0., 0., 0., 0., 0., 0., 0., 0., 0.,\n",
              "        0., 0., 0., 0., 0., 0., 0., 0., 0., 0., 0., 0., 0., 0., 0., 0., 0.,\n",
              "        0., 0., 0., 0., 0., 0., 0., 0., 0., 0., 0., 0., 0., 0., 0., 0., 0.,\n",
              "        0., 0., 0., 0., 0., 0., 0., 0., 0., 0., 0., 0., 0., 0., 0., 0., 0.,\n",
              "        0., 0., 0., 0., 0., 0., 0., 0., 0., 0., 0., 0., 0., 0., 0., 0., 0.,\n",
              "        0., 0., 0., 0., 0., 0., 0., 0., 0., 0., 0., 0., 0., 0., 0., 0., 0.,\n",
              "        0., 0., 0., 0., 0., 0., 0., 0., 0., 0., 0.], dtype=float32)>,\n",
              " <tf.Variable 'dense_1/kernel:0' shape=(300, 100) dtype=float32, numpy=\n",
              " array([[ 0.02020972,  0.07569873,  0.09573292, ..., -0.06315362,\n",
              "         -0.04248926, -0.0997574 ],\n",
              "        [ 0.08458609, -0.08115589,  0.0744781 , ..., -0.05005766,\n",
              "          0.11182544, -0.07412039],\n",
              "        [ 0.04265114, -0.10828926,  0.09211043, ..., -0.00202988,\n",
              "         -0.05800049, -0.04446898],\n",
              "        ...,\n",
              "        [ 0.07335255, -0.04230273, -0.05672576, ..., -0.05839396,\n",
              "          0.05423342,  0.09282326],\n",
              "        [ 0.00912254,  0.08359521,  0.01027616, ...,  0.05913547,\n",
              "         -0.04253434,  0.0935858 ],\n",
              "        [-0.10807858, -0.1169859 ,  0.10343827, ...,  0.06351317,\n",
              "         -0.08204842,  0.08497833]], dtype=float32)>,\n",
              " <tf.Variable 'dense_1/bias:0' shape=(100,) dtype=float32, numpy=\n",
              " array([0., 0., 0., 0., 0., 0., 0., 0., 0., 0., 0., 0., 0., 0., 0., 0., 0.,\n",
              "        0., 0., 0., 0., 0., 0., 0., 0., 0., 0., 0., 0., 0., 0., 0., 0., 0.,\n",
              "        0., 0., 0., 0., 0., 0., 0., 0., 0., 0., 0., 0., 0., 0., 0., 0., 0.,\n",
              "        0., 0., 0., 0., 0., 0., 0., 0., 0., 0., 0., 0., 0., 0., 0., 0., 0.,\n",
              "        0., 0., 0., 0., 0., 0., 0., 0., 0., 0., 0., 0., 0., 0., 0., 0., 0.,\n",
              "        0., 0., 0., 0., 0., 0., 0., 0., 0., 0., 0., 0., 0., 0., 0.],\n",
              "       dtype=float32)>,\n",
              " <tf.Variable 'dense_2/kernel:0' shape=(100, 10) dtype=float32, numpy=\n",
              " array([[-2.28847116e-02,  6.56225383e-02, -5.00868112e-02,\n",
              "          3.02589238e-02, -6.73211962e-02, -1.58767700e-02,\n",
              "         -3.86213809e-02,  8.82101655e-02,  1.24125838e-01,\n",
              "         -2.82686055e-02],\n",
              "        [ 7.87689686e-02,  5.78365624e-02,  1.01915330e-01,\n",
              "         -4.23872471e-03, -5.45749962e-02, -3.44313234e-02,\n",
              "          1.16373867e-01,  1.98100805e-02,  8.69484246e-02,\n",
              "         -1.42866075e-01],\n",
              "        [-3.88024151e-02, -7.22718239e-02, -1.67837739e-03,\n",
              "         -6.36160225e-02, -2.50037014e-03,  8.37009549e-02,\n",
              "          6.57394528e-03, -2.04888463e-01,  1.35899931e-01,\n",
              "         -1.07084349e-01],\n",
              "        [ 4.97690439e-02, -1.83329448e-01, -2.33384192e-01,\n",
              "          1.14405036e-01,  1.72727197e-01,  1.61514699e-01,\n",
              "          1.46361738e-02,  4.27771509e-02, -6.40027821e-02,\n",
              "          2.04905868e-04],\n",
              "        [-1.17721058e-01,  1.05787784e-01, -9.18547213e-02,\n",
              "         -6.78744465e-02, -1.30466297e-01,  2.80713141e-02,\n",
              "          1.94700569e-01,  2.28419602e-01,  2.07277358e-01,\n",
              "          5.51136136e-02],\n",
              "        [-4.79802936e-02, -1.31133765e-01, -1.48466527e-02,\n",
              "          1.20266020e-01,  6.62168860e-02,  1.80034608e-01,\n",
              "         -1.50943249e-02,  7.18944669e-02,  1.03582591e-01,\n",
              "          5.78103960e-02],\n",
              "        [ 1.22865111e-01,  1.39779478e-01,  7.19232559e-02,\n",
              "          1.13201410e-01,  1.35598183e-01,  1.11733615e-01,\n",
              "          1.61709964e-01,  1.15701228e-01,  9.09402966e-04,\n",
              "          2.32991695e-01],\n",
              "        [-2.52393633e-02, -8.13669562e-02, -9.65889543e-02,\n",
              "          9.33187306e-02, -2.08496258e-01, -1.66480958e-01,\n",
              "         -7.69305229e-03,  2.94444561e-02, -3.78416628e-02,\n",
              "         -1.86351627e-01],\n",
              "        [-3.84322852e-02,  5.76340854e-02,  6.76510632e-02,\n",
              "          2.09637731e-01,  1.96366131e-01,  1.34739757e-01,\n",
              "          8.41716826e-02, -6.81549311e-04, -5.14897406e-02,\n",
              "          8.54684114e-02],\n",
              "        [ 1.21290982e-01,  1.44177407e-01, -1.71508700e-01,\n",
              "         -1.18923247e-01, -3.31406295e-03, -2.29387358e-01,\n",
              "          2.21927851e-01,  1.97716892e-01, -2.03030780e-01,\n",
              "         -8.58442187e-02],\n",
              "        [ 2.12906927e-01,  2.24293500e-01, -1.70589268e-01,\n",
              "          1.02454782e-01, -1.00083873e-01,  1.49914384e-01,\n",
              "         -2.00909108e-01, -1.37426794e-01,  4.62897718e-02,\n",
              "          5.87866008e-02],\n",
              "        [ 2.14091301e-01,  1.04441553e-01,  2.02944964e-01,\n",
              "          1.24501348e-01,  2.32894182e-01, -1.21568330e-01,\n",
              "         -1.74228743e-01,  1.52776241e-02, -2.30503008e-01,\n",
              "          1.29703850e-01],\n",
              "        [-1.23335533e-01, -1.34369195e-01, -9.27293152e-02,\n",
              "         -7.62457699e-02,  2.01219589e-01, -2.22119167e-01,\n",
              "         -1.04850635e-01,  6.23089671e-02, -4.55895066e-03,\n",
              "         -4.29131240e-02],\n",
              "        [ 2.02494860e-03,  1.28543258e-01,  1.79702997e-01,\n",
              "          1.68641955e-01, -6.28004819e-02,  3.88174951e-02,\n",
              "         -1.32687807e-01,  1.41670525e-01,  1.79947019e-01,\n",
              "         -1.71712667e-01],\n",
              "        [-1.09331921e-01, -1.66908056e-02,  1.61465138e-01,\n",
              "          2.44063437e-02, -6.84799999e-02,  4.43239510e-02,\n",
              "         -1.75310329e-01,  7.58329928e-02,  2.31644511e-03,\n",
              "         -9.94629115e-02],\n",
              "        [ 1.00752354e-01, -8.20227861e-02, -1.88845754e-01,\n",
              "         -1.20858878e-01, -3.28740478e-02,  2.24955231e-01,\n",
              "         -1.96452886e-01,  4.08485234e-02, -1.95960104e-01,\n",
              "         -2.23600104e-01],\n",
              "        [ 1.47035420e-01,  6.64083362e-02,  2.01452285e-01,\n",
              "          2.20393270e-01, -1.06662497e-01, -5.05920798e-02,\n",
              "          1.72514498e-01,  2.23829448e-02,  2.22647637e-01,\n",
              "         -1.04671508e-01],\n",
              "        [-2.42910832e-02, -5.98358959e-02,  2.31307834e-01,\n",
              "         -1.06766969e-02, -4.12618518e-02,  1.28158927e-01,\n",
              "         -1.93229198e-01,  4.25657034e-02,  1.34685576e-01,\n",
              "          1.63524747e-02],\n",
              "        [-1.12824723e-01,  1.32746488e-01, -6.81896657e-02,\n",
              "          1.46508008e-01,  1.07874095e-01,  2.28893906e-01,\n",
              "         -3.78559679e-02, -6.41501844e-02, -5.08400947e-02,\n",
              "          1.68146819e-01],\n",
              "        [-1.67827532e-01,  1.95127249e-01,  2.05477148e-01,\n",
              "          1.24997646e-01,  1.90555036e-01,  3.67893279e-02,\n",
              "         -4.43098098e-02, -1.33729905e-01,  1.36799365e-01,\n",
              "          1.99936569e-01],\n",
              "        [ 1.00483745e-02, -1.15493923e-01,  6.55694604e-02,\n",
              "         -2.12741494e-01, -2.25322306e-01, -1.93864197e-01,\n",
              "         -1.35506898e-01, -1.26220673e-01, -5.15129119e-02,\n",
              "         -1.79249763e-01],\n",
              "        [ 3.85310650e-02, -2.04316497e-01,  1.44660443e-01,\n",
              "         -7.65305310e-02, -1.29346251e-02,  1.71841979e-02,\n",
              "          2.23287284e-01, -9.09716934e-02, -1.68699920e-01,\n",
              "          1.77319676e-01],\n",
              "        [-1.53109789e-01,  1.55807287e-01, -1.30269125e-01,\n",
              "         -4.47269231e-02, -4.70125824e-02,  9.74068940e-02,\n",
              "         -1.27824217e-01,  4.26049232e-02,  1.22413188e-02,\n",
              "         -1.89161643e-01],\n",
              "        [-3.50221694e-02,  2.01742947e-01,  1.88924164e-01,\n",
              "          1.76133543e-01, -1.70146823e-01,  1.08771473e-01,\n",
              "          2.06240326e-01,  1.71961069e-01, -1.09458096e-01,\n",
              "         -1.69962168e-01],\n",
              "        [-3.40397060e-02,  4.97784913e-02, -9.90357697e-02,\n",
              "          2.29826301e-01, -1.54039025e-01,  1.45984977e-01,\n",
              "          2.03645080e-01,  5.66779673e-02, -2.10570097e-01,\n",
              "          6.63068295e-02],\n",
              "        [-4.72241789e-02, -6.73903972e-02,  1.49054080e-01,\n",
              "          1.71591997e-01, -1.81777686e-01, -1.07599184e-01,\n",
              "         -2.91863531e-02,  1.80040956e-01,  1.10064924e-01,\n",
              "         -1.81878537e-01],\n",
              "        [ 1.44217789e-01, -2.34814584e-02,  1.75363958e-01,\n",
              "         -6.30682707e-03, -1.89319834e-01,  5.01140952e-04,\n",
              "         -9.07230377e-03,  9.11702216e-03, -1.29596204e-01,\n",
              "         -1.06768683e-01],\n",
              "        [-1.62292570e-01,  9.81972516e-02, -2.30108619e-01,\n",
              "         -1.25656545e-01, -3.52993011e-02,  7.55099952e-02,\n",
              "          2.29778647e-01,  1.15473419e-01, -1.39774084e-01,\n",
              "          6.14610910e-02],\n",
              "        [-1.08332917e-01,  1.38647228e-01, -9.05965120e-02,\n",
              "         -1.84839010e-01, -1.95517585e-01, -2.30860993e-01,\n",
              "          1.07588232e-01, -7.87974894e-02, -7.81217217e-02,\n",
              "          1.88631505e-01],\n",
              "        [-5.03335446e-02, -1.15701675e-01,  2.06949055e-01,\n",
              "          2.00640053e-01, -2.27326483e-01, -9.57535505e-02,\n",
              "          2.11339921e-01,  2.20955163e-01, -6.05217963e-02,\n",
              "         -1.26855791e-01],\n",
              "        [ 8.05292726e-02, -8.26448202e-02, -1.28139213e-01,\n",
              "         -1.61054015e-01,  1.41584337e-01,  7.23663568e-02,\n",
              "         -1.65282220e-01, -1.72789738e-01,  5.01717925e-02,\n",
              "          2.47107446e-03],\n",
              "        [-1.33858025e-01,  7.67633319e-04, -2.31415704e-01,\n",
              "          2.92004049e-02, -3.34297121e-02, -2.32229233e-01,\n",
              "          1.37817025e-01,  2.64832377e-02, -8.07721019e-02,\n",
              "          1.29715711e-01],\n",
              "        [ 1.48252875e-01,  2.06879795e-01, -1.55945644e-01,\n",
              "         -8.75314623e-02, -1.34406954e-01, -1.62463933e-02,\n",
              "          2.03212351e-01,  1.17322206e-01, -1.11100063e-01,\n",
              "         -1.16040945e-01],\n",
              "        [ 1.15188658e-01,  7.50650167e-02,  1.15241796e-01,\n",
              "         -1.39744520e-01,  5.78066409e-02, -4.89281267e-02,\n",
              "         -1.53065130e-01,  3.49908769e-02, -1.17192909e-01,\n",
              "          1.06585652e-01],\n",
              "        [-2.26650387e-01,  1.97072297e-01, -1.72070265e-02,\n",
              "          8.41224194e-03,  1.47200078e-01,  1.86097890e-01,\n",
              "          5.60056567e-02,  1.21468425e-01, -3.22525799e-02,\n",
              "          5.99386394e-02],\n",
              "        [ 7.11946189e-03, -1.37442112e-01, -2.03507870e-01,\n",
              "          9.01141763e-02, -1.90925956e-01, -1.85257643e-02,\n",
              "          2.16335654e-02, -1.08834952e-01,  7.68157244e-02,\n",
              "         -2.11741716e-01],\n",
              "        [ 2.18950778e-01, -1.41361356e-02, -1.36881590e-01,\n",
              "         -5.78252524e-02, -7.29162395e-02,  8.02974701e-02,\n",
              "          6.26843274e-02,  7.65222311e-02, -8.16534460e-03,\n",
              "         -1.86145991e-01],\n",
              "        [ 1.82128668e-01,  2.04436868e-01, -1.52855933e-01,\n",
              "         -1.65006042e-01,  1.67757750e-01, -2.12071076e-01,\n",
              "         -1.98021799e-01, -2.32311025e-01,  1.44674718e-01,\n",
              "          1.00720108e-01],\n",
              "        [-2.15765834e-01, -8.55401456e-02,  1.92485958e-01,\n",
              "          1.79506004e-01, -1.20437197e-01,  2.98228264e-02,\n",
              "         -9.39810276e-03, -9.32856947e-02, -2.08376646e-01,\n",
              "         -1.21499397e-01],\n",
              "        [-2.30684981e-01,  2.98174620e-02, -1.24252513e-01,\n",
              "          7.23098516e-02, -2.21718520e-01,  4.76528704e-02,\n",
              "         -2.33139917e-01, -1.77990213e-01,  4.10245359e-02,\n",
              "          1.79772884e-01],\n",
              "        [ 1.61446571e-01,  2.86982059e-02, -6.69356436e-02,\n",
              "          6.32201731e-02,  2.68180072e-02,  6.40603006e-02,\n",
              "         -1.15962490e-01, -2.37899423e-02,  1.12841755e-01,\n",
              "          1.52104199e-02],\n",
              "        [ 2.13305056e-02,  1.71435148e-01, -5.81642985e-02,\n",
              "         -6.81733042e-02,  1.89993501e-01,  1.41852319e-01,\n",
              "         -8.33792686e-02,  9.54416394e-03,  8.44519436e-02,\n",
              "          1.19648516e-01],\n",
              "        [ 2.08054781e-02, -4.92382199e-02,  7.16609359e-02,\n",
              "          1.78551316e-01, -1.13255873e-01,  1.55928880e-01,\n",
              "          6.42274618e-02, -1.47504166e-01,  2.93042958e-02,\n",
              "         -2.22991541e-01],\n",
              "        [-3.49922776e-02, -1.34624839e-02,  2.15103596e-01,\n",
              "         -1.47944778e-01,  1.14248961e-01, -1.71403736e-01,\n",
              "          2.02350467e-01, -1.08524069e-01, -9.22975540e-02,\n",
              "          2.25419700e-02],\n",
              "        [ 5.22855520e-02,  1.60520792e-01, -1.63784206e-01,\n",
              "          1.11125439e-01, -1.70605808e-01,  1.04233056e-01,\n",
              "         -8.41613859e-02,  7.73634315e-02,  2.13064283e-01,\n",
              "          2.21319854e-01],\n",
              "        [-1.81742460e-02, -2.03675196e-01, -1.18844226e-01,\n",
              "          2.23796934e-01,  1.08450919e-01, -8.63213837e-03,\n",
              "          2.35444307e-02, -8.73060524e-02,  7.05792904e-02,\n",
              "          1.38530642e-01],\n",
              "        [ 7.15875328e-02, -7.98326731e-02,  1.55684888e-01,\n",
              "         -4.02583927e-02,  1.43133849e-01,  3.90705168e-02,\n",
              "          1.02559566e-01,  7.60543346e-02, -1.47359610e-01,\n",
              "          1.88907683e-02],\n",
              "        [ 2.27073848e-01,  1.67844355e-01, -8.79295915e-02,\n",
              "         -1.95973739e-01, -1.88533157e-01,  1.36239678e-01,\n",
              "         -5.10188341e-02,  5.42993844e-03,  1.90069675e-02,\n",
              "         -9.94726419e-02],\n",
              "        [ 1.14438832e-01,  3.36247087e-02, -1.52614102e-01,\n",
              "         -2.15434700e-01,  2.14947641e-01, -1.56661212e-01,\n",
              "          9.26016271e-02,  2.20627636e-01,  1.75230920e-01,\n",
              "         -9.12247598e-03],\n",
              "        [ 1.95553124e-01,  5.55018485e-02,  2.29765385e-01,\n",
              "          8.20276141e-03,  6.20566308e-02,  1.35388523e-01,\n",
              "         -1.11852832e-01,  4.69529927e-02,  1.34553134e-01,\n",
              "         -1.65537864e-01],\n",
              "        [-1.43138543e-01,  8.15753341e-02,  1.68890625e-01,\n",
              "         -2.10886598e-02,  1.63056582e-01, -1.87753767e-01,\n",
              "         -1.58869207e-01,  5.85760176e-02,  3.13405097e-02,\n",
              "         -7.40708709e-02],\n",
              "        [-2.18309581e-01, -1.06805265e-01,  8.04615021e-02,\n",
              "         -1.84045807e-01,  2.05463171e-03, -9.66654718e-03,\n",
              "          2.29365200e-01, -1.35243803e-01,  1.03135347e-01,\n",
              "         -2.65095830e-02],\n",
              "        [ 8.11961293e-02, -8.99481922e-02, -3.13384384e-02,\n",
              "          1.47285402e-01,  2.06367970e-02,  1.48574263e-01,\n",
              "          1.44765794e-01,  2.25162148e-01,  8.89376104e-02,\n",
              "         -2.17168033e-03],\n",
              "        [-2.30803639e-01,  2.31100321e-01, -1.68384582e-01,\n",
              "          2.25116432e-01, -1.53808445e-01, -1.85938016e-01,\n",
              "         -1.39145553e-03, -6.56957626e-02, -8.94674957e-02,\n",
              "          1.04502916e-01],\n",
              "        [ 8.65224302e-02, -1.84966743e-01, -2.71558762e-03,\n",
              "         -3.43342721e-02,  1.16607845e-01, -2.15042904e-01,\n",
              "         -1.35340810e-01,  1.96767151e-02,  1.49395764e-01,\n",
              "          1.83570057e-01],\n",
              "        [ 8.86056423e-02,  2.13663429e-01, -9.61405486e-02,\n",
              "          3.05947363e-02,  1.05617613e-01, -1.45319730e-01,\n",
              "         -1.17300652e-01,  2.07386881e-01,  1.70517564e-01,\n",
              "          2.19893634e-01],\n",
              "        [-1.81202993e-01, -2.19065145e-01,  1.93865806e-01,\n",
              "         -8.88631642e-02,  8.62054825e-02,  5.87078333e-02,\n",
              "         -1.97217688e-01, -3.90876681e-02,  4.48088348e-02,\n",
              "         -1.84098482e-01],\n",
              "        [-2.27179378e-02,  1.28248334e-03, -1.39049158e-01,\n",
              "          5.58702350e-02,  5.99077642e-02, -8.64768922e-02,\n",
              "          3.71898711e-03,  1.35328561e-01,  1.14323854e-01,\n",
              "          1.35603547e-03],\n",
              "        [-1.78758413e-01,  1.33901566e-01,  7.24963248e-02,\n",
              "          2.06497759e-01, -1.38793021e-01, -5.28657138e-02,\n",
              "          1.88427418e-01,  6.97163641e-02, -2.26254702e-01,\n",
              "         -2.52307206e-02],\n",
              "        [-1.47524536e-01, -2.30489150e-01, -1.40926048e-01,\n",
              "         -8.11185539e-02,  1.19106770e-02, -1.31252587e-01,\n",
              "          1.47220790e-02,  1.25456750e-01,  1.31714433e-01,\n",
              "         -1.07067034e-01],\n",
              "        [ 3.57757211e-02,  2.05959857e-01,  1.62285715e-02,\n",
              "         -3.08291614e-02, -1.86896250e-01,  1.05223149e-01,\n",
              "          8.11757445e-02,  6.85528219e-02,  7.71370828e-02,\n",
              "          1.24778539e-01],\n",
              "        [-1.89617902e-01, -7.79108554e-02,  7.42262304e-02,\n",
              "          1.42525136e-01,  2.25577891e-01, -4.68185842e-02,\n",
              "         -2.82773972e-02,  7.45923221e-02,  1.76661670e-01,\n",
              "          1.41703933e-01],\n",
              "        [-1.57019764e-01, -9.42799151e-02,  1.75695866e-01,\n",
              "         -2.81982124e-03,  2.24010706e-01, -1.75186649e-01,\n",
              "          1.93126202e-01, -8.65194350e-02, -1.09632492e-01,\n",
              "         -4.00513709e-02],\n",
              "        [-8.03482980e-02,  2.29513526e-01,  1.51097596e-01,\n",
              "          2.45281160e-02,  1.15227133e-01, -1.98059216e-01,\n",
              "          1.64246976e-01,  8.29449892e-02, -2.18396559e-01,\n",
              "         -1.33914441e-01],\n",
              "        [ 1.03777736e-01, -6.72030896e-02,  4.91131842e-03,\n",
              "         -2.02921540e-01, -3.21235061e-02,  7.32749999e-02,\n",
              "         -5.80250919e-02,  7.21553266e-02, -1.73214599e-01,\n",
              "         -9.00194794e-02],\n",
              "        [-2.20036909e-01,  8.12577605e-02,  1.20395839e-01,\n",
              "         -1.66155934e-01,  1.90307260e-01, -1.02586925e-01,\n",
              "          1.25297576e-01, -1.49914563e-01, -2.01131448e-01,\n",
              "         -4.44738418e-02],\n",
              "        [ 2.31319994e-01,  6.83113337e-02, -1.76635787e-01,\n",
              "         -2.33397231e-01,  6.62954748e-02, -4.48023230e-02,\n",
              "         -9.79460031e-02,  5.79341650e-02, -2.01612934e-01,\n",
              "         -3.04692835e-02],\n",
              "        [-4.31129634e-02, -1.52074933e-01, -1.42264426e-01,\n",
              "          1.75187379e-01, -1.52880654e-01,  4.36584353e-02,\n",
              "         -6.99121505e-02, -1.98883653e-01, -1.47104025e-01,\n",
              "         -2.17280239e-01],\n",
              "        [ 2.10028678e-01, -2.14987844e-01,  1.37979001e-01,\n",
              "         -8.49325359e-02, -6.70020133e-02, -2.72273868e-02,\n",
              "          1.41747981e-01,  1.82501346e-01,  1.47832185e-01,\n",
              "         -5.87339401e-02],\n",
              "        [ 9.31147039e-02,  1.35757029e-01,  9.13769603e-02,\n",
              "          1.74457550e-01,  8.69846046e-02, -2.44819671e-02,\n",
              "          2.17231184e-01,  1.42858833e-01,  2.45692134e-02,\n",
              "         -6.28586709e-02],\n",
              "        [ 9.77945924e-02, -2.00553015e-01, -1.58783853e-01,\n",
              "         -5.73876947e-02, -2.05064654e-01, -1.18350439e-01,\n",
              "          1.76304638e-01,  2.23534733e-01,  2.94424593e-02,\n",
              "          3.05344462e-02],\n",
              "        [-2.31808096e-01, -7.27093667e-02, -2.00772971e-01,\n",
              "         -9.30996090e-02,  1.14605397e-01,  3.28654349e-02,\n",
              "          2.06524432e-02,  1.22422576e-02, -1.63462400e-01,\n",
              "         -6.87763393e-02],\n",
              "        [ 1.37368500e-01, -2.29227990e-01, -2.17162862e-01,\n",
              "         -1.43668532e-01, -1.34268031e-01, -2.07871720e-01,\n",
              "         -1.12113044e-01,  2.05666840e-01,  1.76087976e-01,\n",
              "         -5.47454953e-02],\n",
              "        [-1.70319945e-01,  2.09126621e-01, -1.11899167e-01,\n",
              "         -2.23848715e-01,  4.48218584e-02,  1.15018487e-02,\n",
              "          1.26916647e-01, -1.10054679e-01, -2.27052301e-01,\n",
              "         -1.19114794e-01],\n",
              "        [-1.38988197e-02, -2.19794467e-01, -1.58085078e-02,\n",
              "         -1.26044929e-01,  7.41591752e-02, -3.99805903e-02,\n",
              "         -9.94315594e-02,  1.28606737e-01, -1.97367921e-01,\n",
              "          2.07042158e-01],\n",
              "        [-1.14730597e-02, -8.92061144e-02, -1.69546664e-01,\n",
              "         -1.63386226e-01,  2.32729197e-01, -1.34580284e-02,\n",
              "          1.89041764e-01, -9.08655673e-02,  3.01539600e-02,\n",
              "         -1.13799222e-01],\n",
              "        [ 4.02145684e-02,  2.65518427e-02, -1.08189091e-01,\n",
              "         -1.51480287e-01, -3.14983577e-02,  7.29704797e-02,\n",
              "         -2.13140100e-02,  5.65354824e-02, -7.06105828e-02,\n",
              "         -1.28077894e-01],\n",
              "        [ 7.38933086e-02,  2.30373561e-01,  1.72163695e-01,\n",
              "          1.28161818e-01,  9.82851684e-02, -6.25123829e-02,\n",
              "         -1.24253847e-01,  1.88421905e-01, -6.24210089e-02,\n",
              "         -1.37792170e-01],\n",
              "        [ 7.99962282e-02, -4.01024818e-02,  1.08679712e-01,\n",
              "         -9.42175537e-02,  3.03512514e-02, -2.17075661e-01,\n",
              "          1.78849131e-01, -1.17828466e-01, -5.72211444e-02,\n",
              "          1.45263731e-01],\n",
              "        [ 9.70104635e-02,  2.14431792e-01, -1.55490786e-02,\n",
              "          3.40895951e-02, -4.32782918e-02,  3.34833860e-02,\n",
              "         -1.51292980e-01, -5.50374389e-02, -6.78859800e-02,\n",
              "          6.58714473e-02],\n",
              "        [-1.57040700e-01,  1.98562026e-01, -3.19221616e-02,\n",
              "         -1.20181561e-01, -1.65346473e-01,  1.78598046e-01,\n",
              "         -1.89740971e-01,  1.52182907e-01, -1.47270352e-01,\n",
              "         -1.92125797e-01],\n",
              "        [ 9.31642056e-02,  1.07437640e-01, -1.22250110e-01,\n",
              "         -1.92477763e-01, -7.08442330e-02,  8.54919255e-02,\n",
              "         -2.59655118e-02,  1.80718899e-02, -2.25152746e-01,\n",
              "          1.55741632e-01],\n",
              "        [-1.49857402e-02,  1.59402370e-01, -6.36335015e-02,\n",
              "         -1.65391088e-01,  5.70790470e-02,  2.03557760e-01,\n",
              "         -1.14994004e-01, -1.86896920e-01, -2.26565689e-01,\n",
              "         -2.08461225e-01],\n",
              "        [ 1.58909231e-01, -7.36063570e-02,  2.06201345e-01,\n",
              "          6.53607249e-02,  2.02633113e-01, -1.50436461e-02,\n",
              "         -5.80780208e-03, -4.67231423e-02,  1.31929010e-01,\n",
              "          1.53016627e-01],\n",
              "        [ 1.26887351e-01, -2.20660284e-01,  9.62617993e-03,\n",
              "          2.18687892e-01,  1.20683700e-01,  2.33085573e-01,\n",
              "         -2.06096619e-01,  1.94997966e-01, -2.13821799e-01,\n",
              "          1.00195974e-01],\n",
              "        [-1.40678436e-01, -5.77955097e-02,  3.18968296e-02,\n",
              "          4.81612682e-02,  1.22851640e-01, -2.24593371e-01,\n",
              "          1.01040721e-01,  1.90468848e-01, -1.54589444e-01,\n",
              "          1.93879128e-01],\n",
              "        [ 6.18474782e-02,  3.73146236e-02,  5.46820164e-02,\n",
              "          1.29842818e-01,  1.55115098e-01,  1.68087691e-01,\n",
              "          1.70381010e-01,  1.69243038e-01, -9.95859057e-02,\n",
              "         -6.47595078e-02],\n",
              "        [ 2.00011164e-01,  1.28241777e-01,  1.55881166e-01,\n",
              "         -1.96262673e-01,  1.29858583e-01, -1.52295873e-01,\n",
              "         -1.05784208e-01,  2.28369802e-01,  3.29457819e-02,\n",
              "          1.39755487e-01],\n",
              "        [ 2.30840385e-01, -2.44551748e-02, -1.24833949e-01,\n",
              "         -3.28333974e-02,  2.04449892e-03,  1.32108033e-02,\n",
              "          1.82389319e-01,  1.18998706e-01, -9.33619887e-02,\n",
              "          6.39234483e-02],\n",
              "        [-1.25116140e-01, -1.40741616e-02, -1.74751818e-01,\n",
              "         -3.61003578e-02, -7.26840943e-02,  1.26496971e-01,\n",
              "          3.09383571e-02,  5.89784980e-03, -1.58126116e-01,\n",
              "          1.99628979e-01],\n",
              "        [-8.99323821e-03, -1.07435763e-01,  1.00819319e-01,\n",
              "          1.05741680e-01,  5.30930161e-02,  1.71438664e-01,\n",
              "          1.99446678e-02,  1.76716417e-01, -2.18540996e-01,\n",
              "         -6.64070994e-02],\n",
              "        [ 1.90115988e-01,  1.01432830e-01, -9.62781459e-02,\n",
              "         -7.60564506e-02, -3.73608917e-02, -6.91595525e-02,\n",
              "          7.68682957e-02,  8.48155022e-02, -1.36495218e-01,\n",
              "         -1.58923209e-01],\n",
              "        [ 1.15952075e-01,  1.40275002e-01,  2.18692958e-01,\n",
              "          1.09869868e-01, -8.16290081e-03, -1.16813652e-01,\n",
              "         -1.92549929e-01,  6.19448125e-02, -2.16717571e-01,\n",
              "         -3.88058573e-02],\n",
              "        [ 1.70342028e-02, -2.14367926e-01,  6.73691928e-03,\n",
              "         -2.32036904e-01,  2.66134739e-03,  1.49560481e-01,\n",
              "          4.62704897e-03, -1.35841668e-01,  1.43522978e-01,\n",
              "          1.43605471e-03],\n",
              "        [ 1.07817650e-02,  2.27291077e-01, -5.43484092e-03,\n",
              "         -9.12759453e-02, -4.61357534e-02,  1.34853631e-01,\n",
              "          2.22436488e-01, -5.37347496e-02,  1.31563693e-01,\n",
              "          9.02856886e-02],\n",
              "        [ 1.42391443e-01,  5.99991977e-02, -1.75754666e-01,\n",
              "          5.50237000e-02, -1.73391938e-01,  7.51267076e-02,\n",
              "         -1.96884423e-01, -7.29411244e-02, -1.31272808e-01,\n",
              "         -2.01338708e-01],\n",
              "        [ 5.24047613e-02,  1.63842052e-01, -1.75340891e-01,\n",
              "          1.59133315e-01,  7.81512260e-02,  7.22949207e-03,\n",
              "         -1.37733549e-01, -1.63194060e-01,  2.09025174e-01,\n",
              "         -1.39191657e-01],\n",
              "        [ 1.48110509e-01,  5.86864352e-02, -1.23006277e-01,\n",
              "         -3.76074016e-02, -9.23991203e-02,  1.23885125e-01,\n",
              "          2.21654326e-01, -6.30103052e-02,  2.19201624e-01,\n",
              "          2.02163309e-01],\n",
              "        [-1.95484176e-01, -1.66263133e-02, -2.99096256e-02,\n",
              "          1.45863712e-01, -6.42513484e-02, -8.66483301e-02,\n",
              "         -2.05734670e-01, -1.01377770e-01,  1.72614396e-01,\n",
              "          2.51353979e-02],\n",
              "        [-6.18491471e-02,  4.82794046e-02,  9.73716974e-02,\n",
              "          1.96505487e-02, -2.09007472e-01, -1.89953506e-01,\n",
              "         -1.80151373e-01,  6.70923889e-02, -1.70980066e-01,\n",
              "         -1.33576393e-02]], dtype=float32)>,\n",
              " <tf.Variable 'dense_2/bias:0' shape=(10,) dtype=float32, numpy=array([0., 0., 0., 0., 0., 0., 0., 0., 0., 0.], dtype=float32)>]"
            ]
          },
          "execution_count": 38,
          "metadata": {},
          "output_type": "execute_result"
        }
      ],
      "source": [
        "# TODO your code here\n",
        "model.weights"
      ]
    },
    {
      "cell_type": "markdown",
      "id": "3e5b069b-f680-41aa-90b8-aaaee02faa84",
      "metadata": {
        "id": "3e5b069b-f680-41aa-90b8-aaaee02faa84"
      },
      "source": [
        "Notice that the Dense layer initialized the connection weights randomly, and the biases were initialized to zeros, which is fine. If you ever want to use a different initialization method, you can set kernel_initializer (kernel is another name for the matrix of connection weights) or bias_initializer when creating the layer. We will discuss initializers later, but if you want the full list, see https://keras.io/initializers/."
      ]
    },
    {
      "cell_type": "markdown",
      "id": "0f4fd1cc-1a13-4897-ab63-0ab1f64b80b5",
      "metadata": {
        "id": "0f4fd1cc-1a13-4897-ab63-0ab1f64b80b5"
      },
      "source": [
        "### Printing the model summary\n",
        "The model’s summary() method displays all the model’s layers, including each layer’s\n",
        "name (which is automatically generated unless you set it when creating the layer), its output shape (None means the batch size can be anything), and its number of parameters. The summary ends with the total number of parameters, including trainable and non-trainable parameters. Here we only have trainable parameters (we will see examples of non-trainable parameters later when doing some transfer learning):"
      ]
    },
    {
      "cell_type": "code",
      "execution_count": 39,
      "id": "5efbd125-a21a-46b2-ba34-4b62f402749d",
      "metadata": {
        "id": "5efbd125-a21a-46b2-ba34-4b62f402749d"
      },
      "outputs": [
        {
          "name": "stdout",
          "output_type": "stream",
          "text": [
            "Model: \"sequential\"\n",
            "_________________________________________________________________\n",
            " Layer (type)                Output Shape              Param #   \n",
            "=================================================================\n",
            " flatten (Flatten)           (None, 784)               0         \n",
            "                                                                 \n",
            " dense (Dense)               (None, 300)               235500    \n",
            "                                                                 \n",
            " dense_1 (Dense)             (None, 100)               30100     \n",
            "                                                                 \n",
            " dense_2 (Dense)             (None, 10)                1010      \n",
            "                                                                 \n",
            "=================================================================\n",
            "Total params: 266,610\n",
            "Trainable params: 266,610\n",
            "Non-trainable params: 0\n",
            "_________________________________________________________________\n"
          ]
        }
      ],
      "source": [
        "model.summary()"
      ]
    },
    {
      "cell_type": "markdown",
      "id": "377a5391-1926-470c-b7b5-7c18d4c938f8",
      "metadata": {
        "id": "377a5391-1926-470c-b7b5-7c18d4c938f8"
      },
      "source": [
        "You can use the utility function `keras.utils.plot_model` to visualize a graph of the network you just created:"
      ]
    },
    {
      "cell_type": "code",
      "execution_count": 40,
      "id": "25b4d060-d3d2-4ca3-8a76-1a312896d920",
      "metadata": {
        "id": "25b4d060-d3d2-4ca3-8a76-1a312896d920"
      },
      "outputs": [
        {
          "name": "stdout",
          "output_type": "stream",
          "text": [
            "You must install pydot (`pip install pydot`) and install graphviz (see instructions at https://graphviz.gitlab.io/download/) for plot_model to work.\n"
          ]
        }
      ],
      "source": [
        "keras.utils.plot_model(model, \"my_fashion_mnist_model.png\", show_shapes=True)"
      ]
    },
    {
      "cell_type": "markdown",
      "id": "a2d2f73e-8eac-4d11-b87b-f5cc1ce5c3b6",
      "metadata": {
        "id": "a2d2f73e-8eac-4d11-b87b-f5cc1ce5c3b6"
      },
      "source": [
        "## Compile the model\n",
        "\n",
        "After a model is created, you must call its compile() method to specify the loss function and the optimizer to use. Optionally, you can specify a list of extra metrics to compute during training and evaluation:"
      ]
    },
    {
      "cell_type": "code",
      "execution_count": 41,
      "id": "9956f792-08c8-424f-983e-62b6d1662614",
      "metadata": {
        "id": "9956f792-08c8-424f-983e-62b6d1662614"
      },
      "outputs": [],
      "source": [
        "model.compile(loss=\"sparse_categorical_crossentropy\",\n",
        "              optimizer=\"sgd\",\n",
        "              metrics=[\"accuracy\"])"
      ]
    },
    {
      "cell_type": "markdown",
      "id": "4591dca0-442a-4f9c-a6bd-41b88ff6ded3",
      "metadata": {
        "id": "4591dca0-442a-4f9c-a6bd-41b88ff6ded3"
      },
      "source": [
        "This is equivalent to:"
      ]
    },
    {
      "cell_type": "markdown",
      "id": "c2aeff70-c6b0-448b-b3c9-ca4bfbc82403",
      "metadata": {
        "id": "c2aeff70-c6b0-448b-b3c9-ca4bfbc82403"
      },
      "source": [
        "```python\n",
        "model.compile(loss=keras.losses.sparse_categorical_crossentropy,\n",
        "              optimizer=keras.optimizers.SGD(),\n",
        "              metrics=[keras.metrics.sparse_categorical_accuracy])\n",
        "```"
      ]
    },
    {
      "cell_type": "markdown",
      "id": "fc452ed2-a0b7-4a93-b204-ab702342bc88",
      "metadata": {
        "id": "fc452ed2-a0b7-4a93-b204-ab702342bc88"
      },
      "source": [
        "We need to use the `sparse` version of the categorical cross entropy because our labels are not one-hot encoded:"
      ]
    },
    {
      "cell_type": "code",
      "execution_count": 42,
      "id": "475b733a-f4ff-444c-bdc9-1f68fafdbc8f",
      "metadata": {
        "id": "475b733a-f4ff-444c-bdc9-1f68fafdbc8f"
      },
      "outputs": [
        {
          "data": {
            "text/plain": [
              "array([9, 0, 0, 3, 0, 2, 7, 2, 5, 5], dtype=uint8)"
            ]
          },
          "execution_count": 42,
          "metadata": {},
          "output_type": "execute_result"
        }
      ],
      "source": [
        "y_train[:10]"
      ]
    },
    {
      "cell_type": "markdown",
      "id": "deeca30e-578e-4292-a947-438c5ba1b549",
      "metadata": {
        "id": "deeca30e-578e-4292-a947-438c5ba1b549"
      },
      "source": [
        "If they were already encoded, we would use `categorical_crossentropy` directly."
      ]
    },
    {
      "cell_type": "markdown",
      "id": "734c61ea-a454-466a-a507-e80474e3d421",
      "metadata": {
        "id": "734c61ea-a454-466a-a507-e80474e3d421"
      },
      "source": [
        "You can change set SGD's learning rate during the call to compile:\n",
        "```python\n",
        "model.compile(loss=keras.losses.sparse_categorical_crossentropy,\n",
        "              optimizer=keras.optimizers.SGD(lr=0.01),\n",
        "              metrics=[keras.metrics.sparse_categorical_accuracy])\n",
        "```"
      ]
    },
    {
      "cell_type": "markdown",
      "id": "904f35bd-3f04-47ca-ac63-6f2feb39d4d9",
      "metadata": {
        "id": "904f35bd-3f04-47ca-ac63-6f2feb39d4d9"
      },
      "source": [
        "Or you can change it later by acessing `model.optimizer`:"
      ]
    },
    {
      "cell_type": "code",
      "execution_count": 43,
      "id": "d2ca10f7-7a0d-4dfb-a9db-53ce8f278f2e",
      "metadata": {
        "id": "d2ca10f7-7a0d-4dfb-a9db-53ce8f278f2e"
      },
      "outputs": [],
      "source": [
        "model.optimizer.learning_rate = 0.01"
      ]
    },
    {
      "cell_type": "markdown",
      "id": "ccd596f9-3cfe-4d58-b1eb-5d9cc4825a31",
      "metadata": {
        "id": "ccd596f9-3cfe-4d58-b1eb-5d9cc4825a31"
      },
      "source": [
        "## Training the model"
      ]
    },
    {
      "cell_type": "markdown",
      "id": "04b13251-71d1-47ab-8d81-a7f7ff7099bd",
      "metadata": {
        "id": "04b13251-71d1-47ab-8d81-a7f7ff7099bd"
      },
      "source": [
        "Now the model is ready to be trained. For this we simply need to call its fit() method.\n",
        "\n",
        "As arguments, we provide the training samples and labels. We can also set some keyword arguments adjust the training procedure:"
      ]
    },
    {
      "cell_type": "code",
      "execution_count": 44,
      "id": "3a3a96a8-6558-4a6e-90fd-738ecea69f32",
      "metadata": {
        "id": "3a3a96a8-6558-4a6e-90fd-738ecea69f32",
        "tags": []
      },
      "outputs": [
        {
          "name": "stdout",
          "output_type": "stream",
          "text": [
            "Epoch 1/3\n",
            "1719/1719 [==============================] - 3s 1ms/step - loss: 0.7231 - accuracy: 0.7645 - val_loss: 0.5087 - val_accuracy: 0.8266\n",
            "Epoch 2/3\n",
            "1719/1719 [==============================] - 2s 1ms/step - loss: 0.4873 - accuracy: 0.8318 - val_loss: 0.4721 - val_accuracy: 0.8310\n",
            "Epoch 3/3\n",
            "1719/1719 [==============================] - 2s 1ms/step - loss: 0.4412 - accuracy: 0.8454 - val_loss: 0.4292 - val_accuracy: 0.8482\n"
          ]
        }
      ],
      "source": [
        "history = model.fit(X_train, y_train, epochs=3,\n",
        "                    validation_data=(X_valid, y_valid))"
      ]
    },
    {
      "cell_type": "code",
      "execution_count": 45,
      "id": "bVywAI5u20Gi",
      "metadata": {
        "id": "bVywAI5u20Gi"
      },
      "outputs": [
        {
          "name": "stdout",
          "output_type": "stream",
          "text": [
            "\u001b[0;31mSignature:\u001b[0m\n",
            "\u001b[0mmodel\u001b[0m\u001b[0;34m.\u001b[0m\u001b[0mfit\u001b[0m\u001b[0;34m(\u001b[0m\u001b[0;34m\u001b[0m\n",
            "\u001b[0;34m\u001b[0m    \u001b[0mx\u001b[0m\u001b[0;34m=\u001b[0m\u001b[0;32mNone\u001b[0m\u001b[0;34m,\u001b[0m\u001b[0;34m\u001b[0m\n",
            "\u001b[0;34m\u001b[0m    \u001b[0my\u001b[0m\u001b[0;34m=\u001b[0m\u001b[0;32mNone\u001b[0m\u001b[0;34m,\u001b[0m\u001b[0;34m\u001b[0m\n",
            "\u001b[0;34m\u001b[0m    \u001b[0mbatch_size\u001b[0m\u001b[0;34m=\u001b[0m\u001b[0;32mNone\u001b[0m\u001b[0;34m,\u001b[0m\u001b[0;34m\u001b[0m\n",
            "\u001b[0;34m\u001b[0m    \u001b[0mepochs\u001b[0m\u001b[0;34m=\u001b[0m\u001b[0;36m1\u001b[0m\u001b[0;34m,\u001b[0m\u001b[0;34m\u001b[0m\n",
            "\u001b[0;34m\u001b[0m    \u001b[0mverbose\u001b[0m\u001b[0;34m=\u001b[0m\u001b[0;34m'auto'\u001b[0m\u001b[0;34m,\u001b[0m\u001b[0;34m\u001b[0m\n",
            "\u001b[0;34m\u001b[0m    \u001b[0mcallbacks\u001b[0m\u001b[0;34m=\u001b[0m\u001b[0;32mNone\u001b[0m\u001b[0;34m,\u001b[0m\u001b[0;34m\u001b[0m\n",
            "\u001b[0;34m\u001b[0m    \u001b[0mvalidation_split\u001b[0m\u001b[0;34m=\u001b[0m\u001b[0;36m0.0\u001b[0m\u001b[0;34m,\u001b[0m\u001b[0;34m\u001b[0m\n",
            "\u001b[0;34m\u001b[0m    \u001b[0mvalidation_data\u001b[0m\u001b[0;34m=\u001b[0m\u001b[0;32mNone\u001b[0m\u001b[0;34m,\u001b[0m\u001b[0;34m\u001b[0m\n",
            "\u001b[0;34m\u001b[0m    \u001b[0mshuffle\u001b[0m\u001b[0;34m=\u001b[0m\u001b[0;32mTrue\u001b[0m\u001b[0;34m,\u001b[0m\u001b[0;34m\u001b[0m\n",
            "\u001b[0;34m\u001b[0m    \u001b[0mclass_weight\u001b[0m\u001b[0;34m=\u001b[0m\u001b[0;32mNone\u001b[0m\u001b[0;34m,\u001b[0m\u001b[0;34m\u001b[0m\n",
            "\u001b[0;34m\u001b[0m    \u001b[0msample_weight\u001b[0m\u001b[0;34m=\u001b[0m\u001b[0;32mNone\u001b[0m\u001b[0;34m,\u001b[0m\u001b[0;34m\u001b[0m\n",
            "\u001b[0;34m\u001b[0m    \u001b[0minitial_epoch\u001b[0m\u001b[0;34m=\u001b[0m\u001b[0;36m0\u001b[0m\u001b[0;34m,\u001b[0m\u001b[0;34m\u001b[0m\n",
            "\u001b[0;34m\u001b[0m    \u001b[0msteps_per_epoch\u001b[0m\u001b[0;34m=\u001b[0m\u001b[0;32mNone\u001b[0m\u001b[0;34m,\u001b[0m\u001b[0;34m\u001b[0m\n",
            "\u001b[0;34m\u001b[0m    \u001b[0mvalidation_steps\u001b[0m\u001b[0;34m=\u001b[0m\u001b[0;32mNone\u001b[0m\u001b[0;34m,\u001b[0m\u001b[0;34m\u001b[0m\n",
            "\u001b[0;34m\u001b[0m    \u001b[0mvalidation_batch_size\u001b[0m\u001b[0;34m=\u001b[0m\u001b[0;32mNone\u001b[0m\u001b[0;34m,\u001b[0m\u001b[0;34m\u001b[0m\n",
            "\u001b[0;34m\u001b[0m    \u001b[0mvalidation_freq\u001b[0m\u001b[0;34m=\u001b[0m\u001b[0;36m1\u001b[0m\u001b[0;34m,\u001b[0m\u001b[0;34m\u001b[0m\n",
            "\u001b[0;34m\u001b[0m    \u001b[0mmax_queue_size\u001b[0m\u001b[0;34m=\u001b[0m\u001b[0;36m10\u001b[0m\u001b[0;34m,\u001b[0m\u001b[0;34m\u001b[0m\n",
            "\u001b[0;34m\u001b[0m    \u001b[0mworkers\u001b[0m\u001b[0;34m=\u001b[0m\u001b[0;36m1\u001b[0m\u001b[0;34m,\u001b[0m\u001b[0;34m\u001b[0m\n",
            "\u001b[0;34m\u001b[0m    \u001b[0muse_multiprocessing\u001b[0m\u001b[0;34m=\u001b[0m\u001b[0;32mFalse\u001b[0m\u001b[0;34m,\u001b[0m\u001b[0;34m\u001b[0m\n",
            "\u001b[0;34m\u001b[0m\u001b[0;34m)\u001b[0m\u001b[0;34m\u001b[0m\u001b[0;34m\u001b[0m\u001b[0m\n",
            "\u001b[0;31mDocstring:\u001b[0m\n",
            "Trains the model for a fixed number of epochs (iterations on a dataset).\n",
            "\n",
            "Args:\n",
            "    x: Input data. It could be:\n",
            "      - A Numpy array (or array-like), or a list of arrays\n",
            "        (in case the model has multiple inputs).\n",
            "      - A TensorFlow tensor, or a list of tensors\n",
            "        (in case the model has multiple inputs).\n",
            "      - A dict mapping input names to the corresponding array/tensors,\n",
            "        if the model has named inputs.\n",
            "      - A `tf.data` dataset. Should return a tuple\n",
            "        of either `(inputs, targets)` or\n",
            "        `(inputs, targets, sample_weights)`.\n",
            "      - A generator or `keras.utils.Sequence` returning `(inputs,\n",
            "        targets)` or `(inputs, targets, sample_weights)`.\n",
            "      - A `tf.keras.utils.experimental.DatasetCreator`, which wraps a\n",
            "        callable that takes a single argument of type\n",
            "        `tf.distribute.InputContext`, and returns a `tf.data.Dataset`.\n",
            "        `DatasetCreator` should be used when users prefer to specify the\n",
            "        per-replica batching and sharding logic for the `Dataset`.\n",
            "        See `tf.keras.utils.experimental.DatasetCreator` doc for more\n",
            "        information.\n",
            "      A more detailed description of unpacking behavior for iterator\n",
            "      types (Dataset, generator, Sequence) is given below. If these\n",
            "      include `sample_weights` as a third component, note that sample\n",
            "      weighting applies to the `weighted_metrics` argument but not the\n",
            "      `metrics` argument in `compile()`. If using\n",
            "      `tf.distribute.experimental.ParameterServerStrategy`, only\n",
            "      `DatasetCreator` type is supported for `x`.\n",
            "    y: Target data. Like the input data `x`,\n",
            "      it could be either Numpy array(s) or TensorFlow tensor(s).\n",
            "      It should be consistent with `x` (you cannot have Numpy inputs and\n",
            "      tensor targets, or inversely). If `x` is a dataset, generator,\n",
            "      or `keras.utils.Sequence` instance, `y` should\n",
            "      not be specified (since targets will be obtained from `x`).\n",
            "    batch_size: Integer or `None`.\n",
            "        Number of samples per gradient update.\n",
            "        If unspecified, `batch_size` will default to 32.\n",
            "        Do not specify the `batch_size` if your data is in the\n",
            "        form of datasets, generators, or `keras.utils.Sequence`\n",
            "        instances (since they generate batches).\n",
            "    epochs: Integer. Number of epochs to train the model.\n",
            "        An epoch is an iteration over the entire `x` and `y`\n",
            "        data provided\n",
            "        (unless the `steps_per_epoch` flag is set to\n",
            "        something other than None).\n",
            "        Note that in conjunction with `initial_epoch`,\n",
            "        `epochs` is to be understood as \"final epoch\".\n",
            "        The model is not trained for a number of iterations\n",
            "        given by `epochs`, but merely until the epoch\n",
            "        of index `epochs` is reached.\n",
            "    verbose: 'auto', 0, 1, or 2. Verbosity mode.\n",
            "        0 = silent, 1 = progress bar, 2 = one line per epoch.\n",
            "        'auto' defaults to 1 for most cases, but 2 when used with\n",
            "        `ParameterServerStrategy`. Note that the progress bar is not\n",
            "        particularly useful when logged to a file, so verbose=2 is\n",
            "        recommended when not running interactively (eg, in a production\n",
            "        environment).\n",
            "    callbacks: List of `keras.callbacks.Callback` instances.\n",
            "        List of callbacks to apply during training.\n",
            "        See `tf.keras.callbacks`. Note\n",
            "        `tf.keras.callbacks.ProgbarLogger` and\n",
            "        `tf.keras.callbacks.History` callbacks are created automatically\n",
            "        and need not be passed into `model.fit`.\n",
            "        `tf.keras.callbacks.ProgbarLogger` is created or not based on\n",
            "        `verbose` argument to `model.fit`.\n",
            "        Callbacks with batch-level calls are currently unsupported with\n",
            "        `tf.distribute.experimental.ParameterServerStrategy`, and users\n",
            "        are advised to implement epoch-level calls instead with an\n",
            "        appropriate `steps_per_epoch` value.\n",
            "    validation_split: Float between 0 and 1.\n",
            "        Fraction of the training data to be used as validation data.\n",
            "        The model will set apart this fraction of the training data,\n",
            "        will not train on it, and will evaluate\n",
            "        the loss and any model metrics\n",
            "        on this data at the end of each epoch.\n",
            "        The validation data is selected from the last samples\n",
            "        in the `x` and `y` data provided, before shuffling. This\n",
            "        argument is not supported when `x` is a dataset, generator or\n",
            "        `keras.utils.Sequence` instance.\n",
            "        If both `validation_data` and `validation_split` are provided,\n",
            "        `validation_data` will override `validation_split`.\n",
            "        `validation_split` is not yet supported with\n",
            "        `tf.distribute.experimental.ParameterServerStrategy`.\n",
            "    validation_data: Data on which to evaluate\n",
            "        the loss and any model metrics at the end of each epoch.\n",
            "        The model will not be trained on this data. Thus, note the fact\n",
            "        that the validation loss of data provided using\n",
            "        `validation_split` or `validation_data` is not affected by\n",
            "        regularization layers like noise and dropout.\n",
            "        `validation_data` will override `validation_split`.\n",
            "        `validation_data` could be:\n",
            "          - A tuple `(x_val, y_val)` of Numpy arrays or tensors.\n",
            "          - A tuple `(x_val, y_val, val_sample_weights)` of NumPy\n",
            "            arrays.\n",
            "          - A `tf.data.Dataset`.\n",
            "          - A Python generator or `keras.utils.Sequence` returning\n",
            "          `(inputs, targets)` or `(inputs, targets, sample_weights)`.\n",
            "        `validation_data` is not yet supported with\n",
            "        `tf.distribute.experimental.ParameterServerStrategy`.\n",
            "    shuffle: Boolean (whether to shuffle the training data\n",
            "        before each epoch) or str (for 'batch'). This argument is\n",
            "        ignored when `x` is a generator or an object of tf.data.Dataset.\n",
            "        'batch' is a special option for dealing\n",
            "        with the limitations of HDF5 data; it shuffles in batch-sized\n",
            "        chunks. Has no effect when `steps_per_epoch` is not `None`.\n",
            "    class_weight: Optional dictionary mapping class indices (integers)\n",
            "        to a weight (float) value, used for weighting the loss function\n",
            "        (during training only).\n",
            "        This can be useful to tell the model to\n",
            "        \"pay more attention\" to samples from\n",
            "        an under-represented class.\n",
            "    sample_weight: Optional Numpy array of weights for\n",
            "        the training samples, used for weighting the loss function\n",
            "        (during training only). You can either pass a flat (1D)\n",
            "        Numpy array with the same length as the input samples\n",
            "        (1:1 mapping between weights and samples),\n",
            "        or in the case of temporal data,\n",
            "        you can pass a 2D array with shape\n",
            "        `(samples, sequence_length)`,\n",
            "        to apply a different weight to every timestep of every sample.\n",
            "        This argument is not supported when `x` is a dataset, generator,\n",
            "        or `keras.utils.Sequence` instance, instead provide the\n",
            "        sample_weights as the third element of `x`.\n",
            "        Note that sample weighting does not apply to metrics specified\n",
            "        via the `metrics` argument in `compile()`. To apply sample\n",
            "        weighting to your metrics, you can specify them via the\n",
            "        `weighted_metrics` in `compile()` instead.\n",
            "    initial_epoch: Integer.\n",
            "        Epoch at which to start training\n",
            "        (useful for resuming a previous training run).\n",
            "    steps_per_epoch: Integer or `None`.\n",
            "        Total number of steps (batches of samples)\n",
            "        before declaring one epoch finished and starting the\n",
            "        next epoch. When training with input tensors such as\n",
            "        TensorFlow data tensors, the default `None` is equal to\n",
            "        the number of samples in your dataset divided by\n",
            "        the batch size, or 1 if that cannot be determined. If x is a\n",
            "        `tf.data` dataset, and 'steps_per_epoch'\n",
            "        is None, the epoch will run until the input dataset is\n",
            "        exhausted.  When passing an infinitely repeating dataset, you\n",
            "        must specify the `steps_per_epoch` argument. If\n",
            "        `steps_per_epoch=-1` the training will run indefinitely with an\n",
            "        infinitely repeating dataset.  This argument is not supported\n",
            "        with array inputs.\n",
            "        When using `tf.distribute.experimental.ParameterServerStrategy`:\n",
            "          * `steps_per_epoch=None` is not supported.\n",
            "    validation_steps: Only relevant if `validation_data` is provided and\n",
            "        is a `tf.data` dataset. Total number of steps (batches of\n",
            "        samples) to draw before stopping when performing validation\n",
            "        at the end of every epoch. If 'validation_steps' is None,\n",
            "        validation will run until the `validation_data` dataset is\n",
            "        exhausted. In the case of an infinitely repeated dataset, it\n",
            "        will run into an infinite loop. If 'validation_steps' is\n",
            "        specified and only part of the dataset will be consumed, the\n",
            "        evaluation will start from the beginning of the dataset at each\n",
            "        epoch. This ensures that the same validation samples are used\n",
            "        every time.\n",
            "    validation_batch_size: Integer or `None`.\n",
            "        Number of samples per validation batch.\n",
            "        If unspecified, will default to `batch_size`.\n",
            "        Do not specify the `validation_batch_size` if your data is in\n",
            "        the form of datasets, generators, or `keras.utils.Sequence`\n",
            "        instances (since they generate batches).\n",
            "    validation_freq: Only relevant if validation data is provided.\n",
            "      Integer or `collections.abc.Container` instance (e.g. list, tuple,\n",
            "      etc.).  If an integer, specifies how many training epochs to run\n",
            "      before a new validation run is performed, e.g. `validation_freq=2`\n",
            "      runs validation every 2 epochs. If a Container, specifies the\n",
            "      epochs on which to run validation, e.g.\n",
            "      `validation_freq=[1, 2, 10]` runs validation at the end of the\n",
            "      1st, 2nd, and 10th epochs.\n",
            "    max_queue_size: Integer. Used for generator or\n",
            "      `keras.utils.Sequence` input only. Maximum size for the generator\n",
            "      queue.  If unspecified, `max_queue_size` will default to 10.\n",
            "    workers: Integer. Used for generator or `keras.utils.Sequence` input\n",
            "        only. Maximum number of processes to spin up\n",
            "        when using process-based threading. If unspecified, `workers`\n",
            "        will default to 1.\n",
            "    use_multiprocessing: Boolean. Used for generator or\n",
            "        `keras.utils.Sequence` input only. If `True`, use process-based\n",
            "        threading. If unspecified, `use_multiprocessing` will default to\n",
            "        `False`. Note that because this implementation relies on\n",
            "        multiprocessing, you should not pass non-picklable arguments to\n",
            "        the generator as they can't be passed easily to children\n",
            "        processes.\n",
            "\n",
            "Unpacking behavior for iterator-like inputs:\n",
            "    A common pattern is to pass a tf.data.Dataset, generator, or\n",
            "  tf.keras.utils.Sequence to the `x` argument of fit, which will in fact\n",
            "  yield not only features (x) but optionally targets (y) and sample\n",
            "  weights.  Keras requires that the output of such iterator-likes be\n",
            "  unambiguous. The iterator should return a tuple of length 1, 2, or 3,\n",
            "  where the optional second and third elements will be used for y and\n",
            "  sample_weight respectively. Any other type provided will be wrapped in\n",
            "  a length one tuple, effectively treating everything as 'x'. When\n",
            "  yielding dicts, they should still adhere to the top-level tuple\n",
            "  structure.\n",
            "  e.g. `({\"x0\": x0, \"x1\": x1}, y)`. Keras will not attempt to separate\n",
            "  features, targets, and weights from the keys of a single dict.\n",
            "    A notable unsupported data type is the namedtuple. The reason is\n",
            "  that it behaves like both an ordered datatype (tuple) and a mapping\n",
            "  datatype (dict). So given a namedtuple of the form:\n",
            "      `namedtuple(\"example_tuple\", [\"y\", \"x\"])`\n",
            "  it is ambiguous whether to reverse the order of the elements when\n",
            "  interpreting the value. Even worse is a tuple of the form:\n",
            "      `namedtuple(\"other_tuple\", [\"x\", \"y\", \"z\"])`\n",
            "  where it is unclear if the tuple was intended to be unpacked into x,\n",
            "  y, and sample_weight or passed through as a single element to `x`. As\n",
            "  a result the data processing code will simply raise a ValueError if it\n",
            "  encounters a namedtuple. (Along with instructions to remedy the\n",
            "  issue.)\n",
            "\n",
            "Returns:\n",
            "    A `History` object. Its `History.history` attribute is\n",
            "    a record of training loss values and metrics values\n",
            "    at successive epochs, as well as validation loss values\n",
            "    and validation metrics values (if applicable).\n",
            "\n",
            "Raises:\n",
            "    RuntimeError: 1. If the model was never compiled or,\n",
            "    2. If `model.fit` is  wrapped in `tf.function`.\n",
            "\n",
            "    ValueError: In case of mismatch between the provided input data\n",
            "        and what the model expects or when the input data is empty.\n",
            "\u001b[0;31mFile:\u001b[0m      ~/.local/lib/python3.10/site-packages/keras/engine/training.py\n",
            "\u001b[0;31mType:\u001b[0m      method\n"
          ]
        }
      ],
      "source": [
        "?model.fit"
      ]
    },
    {
      "cell_type": "markdown",
      "id": "56f05326-710b-416c-9bcd-db5bc1834f66",
      "metadata": {
        "id": "56f05326-710b-416c-9bcd-db5bc1834f66"
      },
      "source": [
        "### Plotting learning curves\n",
        "`model.fit` returns a history object that logs loss values for training and validation sets, as well as accuracy values (because we set it as a metric during the `compile` step)."
      ]
    },
    {
      "cell_type": "code",
      "execution_count": 46,
      "id": "67f345e8-dc68-457c-a84c-678baccc96d8",
      "metadata": {
        "id": "67f345e8-dc68-457c-a84c-678baccc96d8"
      },
      "outputs": [
        {
          "data": {
            "text/plain": [
              "{'verbose': 1, 'epochs': 3, 'steps': 1719}"
            ]
          },
          "execution_count": 46,
          "metadata": {},
          "output_type": "execute_result"
        }
      ],
      "source": [
        "history.params"
      ]
    },
    {
      "cell_type": "code",
      "execution_count": 47,
      "id": "da92dde3-45ce-4d13-8864-f050423d6d3f",
      "metadata": {
        "id": "da92dde3-45ce-4d13-8864-f050423d6d3f"
      },
      "outputs": [
        {
          "data": {
            "text/plain": [
              "[0, 1, 2]"
            ]
          },
          "execution_count": 47,
          "metadata": {},
          "output_type": "execute_result"
        }
      ],
      "source": [
        "history.epoch"
      ]
    },
    {
      "cell_type": "code",
      "execution_count": 48,
      "id": "9162d327-9f60-4c9a-9672-f97b6df5bf66",
      "metadata": {
        "id": "9162d327-9f60-4c9a-9672-f97b6df5bf66"
      },
      "outputs": [
        {
          "data": {
            "text/plain": [
              "dict_keys(['loss', 'accuracy', 'val_loss', 'val_accuracy'])"
            ]
          },
          "execution_count": 48,
          "metadata": {},
          "output_type": "execute_result"
        }
      ],
      "source": [
        "history.history.keys()"
      ]
    },
    {
      "cell_type": "code",
      "execution_count": 49,
      "id": "RLNQI0L8ZXbw",
      "metadata": {
        "id": "RLNQI0L8ZXbw"
      },
      "outputs": [],
      "source": [
        "def plot_learning_curves(history):\n",
        "    df = pd.DataFrame(history.history, index=np.array(history.epoch)+1)\n",
        "    df.plot(figsize=(8, 5), fontsize=12)\n",
        "    plt.grid(True)\n",
        "    plt.gca().set_ylim(0, 1)\n",
        "    plt.xlabel('epochs', fontsize=12)\n",
        "    plt.title ('learning curves', fontsize=12)\n",
        "    plt.legend(fontsize=12)\n",
        "    plt.show()"
      ]
    },
    {
      "cell_type": "code",
      "execution_count": 50,
      "id": "6e0be8d2-911a-4761-b630-1ad26dcdde32",
      "metadata": {
        "id": "6e0be8d2-911a-4761-b630-1ad26dcdde32"
      },
      "outputs": [
        {
          "data": {
            "image/png": "[encoded data removed]",
            "text/plain": [
              "<Figure size 576x360 with 1 Axes>"
            ]
          },
          "metadata": {
            "needs_background": "light"
          },
          "output_type": "display_data"
        }
      ],
      "source": [
        "plot_learning_curves(history)"
      ]
    },
    {
      "cell_type": "markdown",
      "id": "78666f23-fb35-44f8-8e80-dd8c420d088d",
      "metadata": {
        "id": "78666f23-fb35-44f8-8e80-dd8c420d088d"
      },
      "source": [
        "## Evaluating and making predictions on the test set\n",
        "\n",
        "You can use the methods `model.evaluate` and `model.predict` on the test set:"
      ]
    },
    {
      "cell_type": "code",
      "execution_count": 51,
      "id": "e8289124-d4df-4fc1-ae74-7da77b8e5872",
      "metadata": {
        "id": "e8289124-d4df-4fc1-ae74-7da77b8e5872"
      },
      "outputs": [
        {
          "name": "stdout",
          "output_type": "stream",
          "text": [
            "313/313 [==============================] - 0s 869us/step - loss: 0.4628 - accuracy: 0.8369\n"
          ]
        },
        {
          "data": {
            "text/plain": [
              "[0.46281155943870544, 0.836899995803833]"
            ]
          },
          "execution_count": 51,
          "metadata": {},
          "output_type": "execute_result"
        }
      ],
      "source": [
        "model.evaluate(X_test, y_test)"
      ]
    },
    {
      "cell_type": "code",
      "execution_count": 52,
      "id": "4a1d0832-83e1-436f-a46e-2eb1cb3ba237",
      "metadata": {
        "id": "4a1d0832-83e1-436f-a46e-2eb1cb3ba237"
      },
      "outputs": [
        {
          "name": "stdout",
          "output_type": "stream",
          "text": [
            "313/313 [==============================] - 0s 741us/step\n"
          ]
        }
      ],
      "source": [
        "y_proba = model.predict(X_test)"
      ]
    },
    {
      "cell_type": "markdown",
      "id": "236cedec",
      "metadata": {
        "id": "236cedec"
      },
      "source": [
        "Let's see the predictions for the first 3 images:"
      ]
    },
    {
      "cell_type": "code",
      "execution_count": 53,
      "id": "7ab398e4",
      "metadata": {
        "id": "7ab398e4"
      },
      "outputs": [
        {
          "data": {
            "text/plain": [
              "array([[0.  , 0.  , 0.  , 0.  , 0.  , 0.13, 0.  , 0.25, 0.  , 0.62],\n",
              "       [0.  , 0.  , 0.86, 0.  , 0.02, 0.  , 0.12, 0.  , 0.  , 0.  ],\n",
              "       [0.  , 1.  , 0.  , 0.  , 0.  , 0.  , 0.  , 0.  , 0.  , 0.  ]],\n",
              "      dtype=float32)"
            ]
          },
          "execution_count": 53,
          "metadata": {},
          "output_type": "execute_result"
        }
      ],
      "source": [
        "y_proba.round(2)[:3,:]"
      ]
    },
    {
      "cell_type": "code",
      "execution_count": 54,
      "id": "9432ec2d-7522-4581-b227-aa49788001f6",
      "metadata": {
        "id": "9432ec2d-7522-4581-b227-aa49788001f6"
      },
      "outputs": [
        {
          "data": {
            "image/png": "[encoded data removed]",
            "text/plain": [
              "<Figure size 518.4x172.8 with 3 Axes>"
            ]
          },
          "metadata": {
            "needs_background": "light"
          },
          "output_type": "display_data"
        }
      ],
      "source": [
        "# First 3 images\n",
        "plt.figure(figsize=(7.2, 2.4))\n",
        "for index, image in enumerate(X_test[:3]):\n",
        "    plt.subplot(1, 3, index + 1)\n",
        "    plt.imshow(image, cmap=\"binary\", interpolation=\"nearest\")\n",
        "    plt.axis('off')\n",
        "    plt.title(class_names[y_test[index]], fontsize=12)\n",
        "plt.subplots_adjust(wspace=0.2, hspace=0.5)\n",
        "plt.show()"
      ]
    },
    {
      "cell_type": "markdown",
      "id": "1891f54f-4fc5-4ac3-bf57-ea678a2059e3",
      "metadata": {
        "id": "1891f54f-4fc5-4ac3-bf57-ea678a2059e3"
      },
      "source": [
        "The model outputs a vector per sample, containing the predicted class distributions. You can obtain most likely class id by finding the one with the highest probability:"
      ]
    },
    {
      "cell_type": "code",
      "execution_count": 55,
      "id": "a2392578-b263-4f3f-94d6-1069eb242ee2",
      "metadata": {
        "id": "a2392578-b263-4f3f-94d6-1069eb242ee2"
      },
      "outputs": [
        {
          "name": "stdout",
          "output_type": "stream",
          "text": [
            "313/313 [==============================] - 0s 803us/step\n"
          ]
        },
        {
          "data": {
            "text/plain": [
              "array([9, 2, 1])"
            ]
          },
          "execution_count": 55,
          "metadata": {},
          "output_type": "execute_result"
        }
      ],
      "source": [
        "y_pred = np.argmax(model.predict(X_test), axis=-1)\n",
        "y_pred[:3]"
      ]
    },
    {
      "cell_type": "markdown",
      "id": "Hg6qOEaEP1Se",
      "metadata": {
        "id": "Hg6qOEaEP1Se"
      },
      "source": [
        "### TODO: Check your predicitons\n",
        "Print the corresponding labels for these predictions and check if they are correct"
      ]
    },
    {
      "cell_type": "code",
      "execution_count": 56,
      "id": "f9a91a07-8026-4779-a45c-b00539504271",
      "metadata": {
        "id": "f9a91a07-8026-4779-a45c-b00539504271"
      },
      "outputs": [
        {
          "name": "stdout",
          "output_type": "stream",
          "text": [
            "Ankle boot\n",
            "Pullover\n",
            "Trouser\n"
          ]
        }
      ],
      "source": [
        "# TODO your code here\n",
        "print(class_names[y_pred[0]])\n",
        "print(class_names[y_pred[1]])\n",
        "print(class_names[y_pred[2]])"
      ]
    },
    {
      "cell_type": "markdown",
      "id": "_K-B1JsGN_mr",
      "metadata": {
        "id": "_K-B1JsGN_mr"
      },
      "source": [
        "### Plotting predicted class distributions\n",
        "\n",
        "Here is some useful plotting code to visualize images alongside their predicted probabilities."
      ]
    },
    {
      "cell_type": "code",
      "execution_count": 57,
      "id": "f753a1f0-a610-431b-8ae1-26221eedb2a9",
      "metadata": {
        "id": "f753a1f0-a610-431b-8ae1-26221eedb2a9"
      },
      "outputs": [],
      "source": [
        "def plot_image(i, predictions, true_label, img):\n",
        "    true_label, img = true_label[i], img[i]\n",
        "    pred_probas = predictions[i]\n",
        "    plt.grid(False)\n",
        "    plt.xticks([])\n",
        "    plt.yticks([])\n",
        "\n",
        "    plt.imshow(img, cmap=plt.cm.binary)\n",
        "\n",
        "    predicted_label = np.argmax(pred_probas)\n",
        "    if predicted_label == true_label:\n",
        "        color = 'blue'\n",
        "    else:\n",
        "        color = 'red'\n",
        "\n",
        "    xlabel = \"{} {:2.0f}% ({})\".format(class_names[predicted_label],\n",
        "                                100*np.max(pred_probas),\n",
        "                                class_names[true_label])\n",
        "    plt.xlabel(xlabel, color=color, fontsize=12)\n",
        "\n",
        "def plot_probas(i, predictions, true_label):\n",
        "    # Color correct predictions in blue and incorrect predictions in red.\n",
        "    true_label = true_label[i]\n",
        "    pred_probas = predictions[i]\n",
        "    plt.grid(False)\n",
        "    plt.xticks(range(10), labels=class_names, rotation=90, fontsize=12)\n",
        "    plt.yticks([])\n",
        "    thisplot = plt.bar(range(10), pred_probas, color=\"#777777\")\n",
        "    plt.ylim([0, 1])\n",
        "    predicted_label = np.argmax(pred_probas)\n",
        "\n",
        "    thisplot[predicted_label].set_color('red')\n",
        "    thisplot[true_label].set_color('blue')\n",
        "\n",
        "def plot_image_with_preds(i, X_test, y_test, y_proba):\n",
        "    plt.figure(figsize=(8,4))\n",
        "    plt.subplot(1,2,1)\n",
        "    plot_image(i, y_proba, y_test, X_test)\n",
        "    plt.subplot(1,2,2)\n",
        "    plot_probas(i, y_proba,  y_test)\n",
        "    "
      ]
    },
    {
      "cell_type": "code",
      "execution_count": 58,
      "id": "f0e71164-6e58-4690-8b0d-5f82b8c86808",
      "metadata": {
        "id": "f0e71164-6e58-4690-8b0d-5f82b8c86808",
        "tags": []
      },
      "outputs": [
        {
          "data": {
            "image/png": "[encoded data removed]",
            "text/plain": [
              "<Figure size 576x288 with 2 Axes>"
            ]
          },
          "metadata": {
            "needs_background": "light"
          },
          "output_type": "display_data"
        }
      ],
      "source": [
        "i = 1\n",
        "plot_image_with_preds(i, X_test, y_test, y_proba)\n",
        "plt.show()"
      ]
    },
    {
      "cell_type": "code",
      "execution_count": 59,
      "id": "912595a4-be19-4970-99f1-974a60e77abf",
      "metadata": {
        "id": "912595a4-be19-4970-99f1-974a60e77abf"
      },
      "outputs": [
        {
          "data": {
            "image/png": "[encoded data removed]",
            "text/plain": [
              "<Figure size 576x288 with 2 Axes>"
            ]
          },
          "metadata": {
            "needs_background": "light"
          },
          "output_type": "display_data"
        }
      ],
      "source": [
        "i = 12\n",
        "plot_image_with_preds(i, X_test, y_test, y_proba)\n",
        "plt.show()"
      ]
    },
    {
      "cell_type": "markdown",
      "id": "a0a49060-7863-4731-8e74-e0b424b194b8",
      "metadata": {
        "id": "a0a49060-7863-4731-8e74-e0b424b194b8"
      },
      "source": [
        "Let's plot several images with their predictions. Note that the model can be wrong even when very confident."
      ]
    },
    {
      "cell_type": "code",
      "execution_count": 60,
      "id": "ad3ad800-2477-44c4-ac7d-218eb2b0f869",
      "metadata": {
        "id": "ad3ad800-2477-44c4-ac7d-218eb2b0f869"
      },
      "outputs": [
        {
          "data": {
            "image/png": "[encoded data removed]",
            "text/plain": [
              "<Figure size 864x1080 with 20 Axes>"
            ]
          },
          "metadata": {
            "needs_background": "light"
          },
          "output_type": "display_data"
        }
      ],
      "source": [
        "# Plot the first X test images, their predicted labels, and the true labels.\n",
        "num_rows = 5\n",
        "num_cols = 2\n",
        "num_images = num_rows*num_cols\n",
        "plt.figure(figsize=(2*3*num_cols, 3*num_rows))\n",
        "for i in range(num_images):\n",
        "    plt.subplot(num_rows, 2*num_cols, 2*i+1)\n",
        "    plot_image(i, y_proba, y_test, X_test)\n",
        "    plt.subplot(num_rows, 2*num_cols, 2*i+2)\n",
        "    plot_probas(i, y_proba, y_test)\n",
        "plt.tight_layout()\n",
        "plt.show()"
      ]
    },
    {
      "cell_type": "markdown",
      "id": "e800149f-cc23-4394-b577-c8cbaf347489",
      "metadata": {
        "id": "e800149f-cc23-4394-b577-c8cbaf347489"
      },
      "source": [
        "## Using Callbacks during Training\n",
        "The `fit()` method accepts a `callbacks` argument that lets you specify a list of objects that Keras will call at the start and end of training, at the start and end of each epoch, and even before and after processing each batch. For example, the `ModelCheckpoint` callback saves checkpoints of your model at regular intervals during training, by default at the end of each epoch:"
      ]
    },
    {
      "cell_type": "code",
      "execution_count": 61,
      "id": "DfMdErwxSXR2",
      "metadata": {
        "id": "DfMdErwxSXR2"
      },
      "outputs": [],
      "source": [
        "checkpoint_cb = keras.callbacks.ModelCheckpoint(\"my_keras_model.h5\", save_best_only=True)"
      ]
    },
    {
      "cell_type": "markdown",
      "id": "cKEuL4H1TubP",
      "metadata": {
        "id": "cKEuL4H1TubP"
      },
      "source": [
        "With the `save_best_only` parameter set, only the weights corresponding to the best model on validaiton are kept. This allows us to easily rollback to the best model after some epochs of training:\n",
        "``` python\n",
        "history = model.fit(X_train, y_train, epochs=10,\n",
        "                    validation_data=(X_valid, y_valid),\n",
        "                    callbacks=[checkpoint_cb])\n",
        "model = keras.models.load_model(\"my_keras_model.h5\") # rollback to best model\n",
        "acc_test = model.evaluate(X_test, y_test)\n",
        "```"
      ]
    },
    {
      "cell_type": "markdown",
      "id": "ccB83lghUcl2",
      "metadata": {
        "id": "ccB83lghUcl2"
      },
      "source": [
        "Callbacks can be used to implement early stopping and learning rate decay schedules. It is also possible to sub-class `keras.callbacks.Callback` and implement your own custom callback. You can check a list of the available callbacks in the [tf.keras docs](https://www.tensorflow.org/api_docs/python/tf/keras/callbacks) or in the [keras.io docs](https://keras.io/api/callbacks/)."
      ]
    },
    {
      "cell_type": "code",
      "execution_count": 62,
      "id": "CbpjNnlLVWOR",
      "metadata": {
        "id": "CbpjNnlLVWOR"
      },
      "outputs": [],
      "source": [
        "early_stopping_cb = keras.callbacks.EarlyStopping(monitor='val_loss', patience=10, restore_best_weights=True)\n",
        "lr_cb = keras.callbacks.ReduceLROnPlateau(monitor=\"loss\", patience=10)"
      ]
    },
    {
      "cell_type": "markdown",
      "id": "OqWlkibjgjwL",
      "metadata": {
        "id": "OqWlkibjgjwL"
      },
      "source": [
        "We will also use a callback to log metrics for visualization with Tensorboard:"
      ]
    },
    {
      "cell_type": "code",
      "execution_count": 63,
      "id": "iUKbV9SsgwPp",
      "metadata": {
        "id": "iUKbV9SsgwPp"
      },
      "outputs": [],
      "source": [
        "root_logdir = os.path.join(os.curdir, \"my_logs\")\n",
        "def get_run_logdir():\n",
        "    import time\n",
        "    run_id = time.strftime(\"run_%Y.%m.%d_%H:%M:%S\")\n",
        "    return os.path.join(root_logdir, run_id)\n",
        "\n",
        "run_logdir = get_run_logdir()\n",
        "run_logdir\n",
        "# callback creation\n",
        "tensorboard_cb = keras.callbacks.TensorBoard(run_logdir)"
      ]
    },
    {
      "cell_type": "markdown",
      "id": "124321f1-b711-4140-a5d0-3ff78716b1bc",
      "metadata": {
        "id": "124321f1-b711-4140-a5d0-3ff78716b1bc"
      },
      "source": [
        "### TensorBoard\n",
        "Tensorboard is a tool allowing visualization of metrics logged during the training of a model. You can use it within colab (or jupyter) by loading the tensorboard extension:"
      ]
    },
    {
      "cell_type": "code",
      "execution_count": 64,
      "id": "dhpOFCIlfcGI",
      "metadata": {
        "id": "dhpOFCIlfcGI"
      },
      "outputs": [],
      "source": [
        "# Load the TensorBoard notebook extension\n",
        "%load_ext tensorboard"
      ]
    },
    {
      "cell_type": "markdown",
      "id": "khmgzj_nfzeX",
      "metadata": {
        "id": "khmgzj_nfzeX"
      },
      "source": [
        "To start TensorBoard within the notebook, use the dedicated magic command (you need to give the same root log directory passed to the tensorboard callback):"
      ]
    },
    {
      "cell_type": "code",
      "execution_count": 65,
      "id": "E7XOvvFGfo7u",
      "metadata": {
        "id": "E7XOvvFGfo7u"
      },
      "outputs": [
        {
          "data": {
            "text/html": [
              "\n",
              "      <iframe id=\"tensorboard-frame-2c578636ada139b2\" width=\"100%\" height=\"800\" frameborder=\"0\">\n",
              "      </iframe>\n",
              "      <script>\n",
              "        (function() {\n",
              "          const frame = document.getElementById(\"tensorboard-frame-2c578636ada139b2\");\n",
              "          const url = new URL(\"/\", window.location);\n",
              "          const port = 6006;\n",
              "          if (port) {\n",
              "            url.port = port;\n",
              "          }\n",
              "          frame.src = url;\n",
              "        })();\n",
              "      </script>\n",
              "    "
            ],
            "text/plain": [
              "<IPython.core.display.HTML object>"
            ]
          },
          "metadata": {},
          "output_type": "display_data"
        }
      ],
      "source": [
        "%tensorboard --logdir my_logs"
      ]
    },
    {
      "cell_type": "markdown",
      "id": "4IJA52Qif6kI",
      "metadata": {
        "id": "4IJA52Qif6kI"
      },
      "source": [
        "You can now view dashboards such as scalars, graphs, histograms, and others. If you launch new runs using the tensorboard callback (which is linked to this log directory `my_logs`) they should apear in the interface imediately, allowing you live monitoring the evolution of your training.\n"
      ]
    },
    {
      "cell_type": "markdown",
      "id": "QP-oLPDSV6dk",
      "metadata": {
        "id": "QP-oLPDSV6dk"
      },
      "source": [
        "### TODO: retrain model with callbacks\n",
        "Let's train our model for a longer number of epochs using all the previous callbacks. \n",
        "You can set a large number of epochs since early stopping is in place. Plot the learning curves and decide if your model is underfitting or overfitting."
      ]
    },
    {
      "cell_type": "code",
      "execution_count": 66,
      "id": "OvG58PTGTq5x",
      "metadata": {
        "id": "OvG58PTGTq5x"
      },
      "outputs": [
        {
          "name": "stdout",
          "output_type": "stream",
          "text": [
            "Epoch 1/20\n",
            "1719/1719 [==============================] - 4s 2ms/step - loss: 0.4149 - accuracy: 0.8553 - val_loss: 0.4208 - val_accuracy: 0.8490 - lr: 0.0100\n",
            "Epoch 2/20\n",
            "1719/1719 [==============================] - 3s 2ms/step - loss: 0.3958 - accuracy: 0.8626 - val_loss: 0.4021 - val_accuracy: 0.8556 - lr: 0.0100\n",
            "Epoch 3/20\n",
            "1719/1719 [==============================] - 3s 2ms/step - loss: 0.3786 - accuracy: 0.8667 - val_loss: 0.3880 - val_accuracy: 0.8628 - lr: 0.0100\n",
            "Epoch 4/20\n",
            "1719/1719 [==============================] - 3s 2ms/step - loss: 0.3672 - accuracy: 0.8718 - val_loss: 0.3700 - val_accuracy: 0.8674 - lr: 0.0100\n",
            "Epoch 5/20\n",
            "1719/1719 [==============================] - 3s 2ms/step - loss: 0.3553 - accuracy: 0.8746 - val_loss: 0.3713 - val_accuracy: 0.8656 - lr: 0.0100\n",
            "Epoch 6/20\n",
            "1719/1719 [==============================] - 3s 2ms/step - loss: 0.3445 - accuracy: 0.8781 - val_loss: 0.3753 - val_accuracy: 0.8702 - lr: 0.0100\n",
            "Epoch 7/20\n",
            "1719/1719 [==============================] - 3s 2ms/step - loss: 0.3362 - accuracy: 0.8800 - val_loss: 0.3530 - val_accuracy: 0.8752 - lr: 0.0100\n",
            "Epoch 8/20\n",
            "1719/1719 [==============================] - 3s 2ms/step - loss: 0.3275 - accuracy: 0.8841 - val_loss: 0.3588 - val_accuracy: 0.8704 - lr: 0.0100\n",
            "Epoch 9/20\n",
            "1719/1719 [==============================] - 3s 2ms/step - loss: 0.3194 - accuracy: 0.8865 - val_loss: 0.3348 - val_accuracy: 0.8774 - lr: 0.0100\n",
            "Epoch 10/20\n",
            "1719/1719 [==============================] - 3s 2ms/step - loss: 0.3114 - accuracy: 0.8883 - val_loss: 0.3385 - val_accuracy: 0.8796 - lr: 0.0100\n",
            "Epoch 11/20\n",
            "1719/1719 [==============================] - 3s 2ms/step - loss: 0.3047 - accuracy: 0.8915 - val_loss: 0.3562 - val_accuracy: 0.8674 - lr: 0.0100\n",
            "Epoch 12/20\n",
            "1719/1719 [==============================] - 3s 2ms/step - loss: 0.2981 - accuracy: 0.8934 - val_loss: 0.3385 - val_accuracy: 0.8746 - lr: 0.0100\n",
            "Epoch 13/20\n",
            "1719/1719 [==============================] - 3s 2ms/step - loss: 0.2920 - accuracy: 0.8967 - val_loss: 0.3195 - val_accuracy: 0.8818 - lr: 0.0100\n",
            "Epoch 14/20\n",
            "1719/1719 [==============================] - 3s 2ms/step - loss: 0.2861 - accuracy: 0.8973 - val_loss: 0.3302 - val_accuracy: 0.8820 - lr: 0.0100\n",
            "Epoch 15/20\n",
            "1719/1719 [==============================] - 3s 2ms/step - loss: 0.2809 - accuracy: 0.9005 - val_loss: 0.3300 - val_accuracy: 0.8852 - lr: 0.0100\n",
            "Epoch 16/20\n",
            "1719/1719 [==============================] - 3s 2ms/step - loss: 0.2749 - accuracy: 0.9023 - val_loss: 0.3198 - val_accuracy: 0.8806 - lr: 0.0100\n",
            "Epoch 17/20\n",
            "1719/1719 [==============================] - 3s 2ms/step - loss: 0.2704 - accuracy: 0.9030 - val_loss: 0.3276 - val_accuracy: 0.8804 - lr: 0.0100\n",
            "Epoch 18/20\n",
            "1719/1719 [==============================] - 3s 2ms/step - loss: 0.2651 - accuracy: 0.9047 - val_loss: 0.3210 - val_accuracy: 0.8832 - lr: 0.0100\n",
            "Epoch 19/20\n",
            "1719/1719 [==============================] - 3s 2ms/step - loss: 0.2608 - accuracy: 0.9064 - val_loss: 0.3454 - val_accuracy: 0.8722 - lr: 0.0100\n",
            "Epoch 20/20\n",
            "1719/1719 [==============================] - 3s 2ms/step - loss: 0.2559 - accuracy: 0.9084 - val_loss: 0.3120 - val_accuracy: 0.8848 - lr: 0.0100\n",
            "313/313 [==============================] - 0s 1ms/step - loss: 0.3389 - accuracy: 0.8755\n"
          ]
        }
      ],
      "source": [
        "history = model.fit(\n",
        "    # TODO your code here\n",
        "    X_train, y_train, epochs=20,\n",
        "    validation_data=(X_valid, y_valid),\n",
        "    callbacks=[checkpoint_cb,early_stopping_cb,lr_cb,tensorboard_cb]\n",
        ")\n",
        "model = keras.models.load_model(\"my_keras_model.h5\") # rollback to best model\n",
        "\n",
        "acc_test = model.evaluate(X_test, y_test)"
      ]
    },
    {
      "cell_type": "code",
      "execution_count": 67,
      "id": "h8Bx2A3WeoNC",
      "metadata": {
        "id": "h8Bx2A3WeoNC"
      },
      "outputs": [
        {
          "data": {
            "image/png": "[encoded data removed]",
            "text/plain": [
              "<Figure size 576x360 with 1 Axes>"
            ]
          },
          "metadata": {
            "needs_background": "light"
          },
          "output_type": "display_data"
        }
      ],
      "source": [
        "plot_learning_curves(history)"
      ]
    },
    {
      "cell_type": "markdown",
      "id": "ebd99c7e-4acf-4b4d-8b32-75c9a7b47d31",
      "metadata": {
        "id": "ebd99c7e-4acf-4b4d-8b32-75c9a7b47d31"
      },
      "source": [
        "### TODO: check your model quality on out-of-set images\n",
        "Now we test our model on a clothing item image from the web.\n",
        "\n"
      ]
    },
    {
      "cell_type": "code",
      "execution_count": 69,
      "id": "509905f2-bf16-4c0d-aefa-6a8003af1799",
      "metadata": {
        "id": "509905f2-bf16-4c0d-aefa-6a8003af1799"
      },
      "outputs": [
        {
          "data": {
            "text/plain": [
              "<matplotlib.colorbar.Colorbar at 0x7f43db84e350>"
            ]
          },
          "execution_count": 69,
          "metadata": {},
          "output_type": "execute_result"
        },
        {
          "data": {
            "image/png": "[encoded data removed]",
            "text/plain": [
              "<Figure size 432x288 with 2 Axes>"
            ]
          },
          "metadata": {
            "needs_background": "light"
          },
          "output_type": "display_data"
        }
      ],
      "source": [
        "import urllib\n",
        "from skimage.io import imread\n",
        "from skimage.transform import resize\n",
        "\n",
        "# insert the URL to an image file here\n",
        "img_src = 'https://i.pinimg.com/736x/b5/b7/3e/b5b73ef74c015829bcaddfeb86081817--tee-shirt-dresses-tee-shirts.jpg'\n",
        "\n",
        "# Download image\n",
        "urllib.request.urlretrieve(img_src, 't-shirt-dress.jpg')\n",
        "\n",
        "# Open file and display\n",
        "image = imread('t-shirt-dress.jpg', as_gray=True) \n",
        "\n",
        "# Plot the image\n",
        "plt.imshow(image, cmap='binary')\n",
        "plt.colorbar()"
      ]
    },
    {
      "cell_type": "markdown",
      "id": "_Tzz0rJAl2HL",
      "metadata": {
        "id": "_Tzz0rJAl2HL"
      },
      "source": [
        "\n",
        "**Important**: remember your model takes in grayscale images of 28 by 28 pixels. Remember as well that pixel values were rescaled to be between 0 and 1: ensure the new image pixel values are scaled to the same range."
      ]
    },
    {
      "cell_type": "code",
      "execution_count": 72,
      "id": "afe26096-91df-444f-89f3-49897bac49b8",
      "metadata": {
        "id": "afe26096-91df-444f-89f3-49897bac49b8"
      },
      "outputs": [
        {
          "data": {
            "text/plain": [
              "<matplotlib.colorbar.Colorbar at 0x7f43db78bf10>"
            ]
          },
          "execution_count": 72,
          "metadata": {},
          "output_type": "execute_result"
        },
        {
          "data": {
            "image/png": "[encoded data removed]",
            "text/plain": [
              "<Figure size 432x288 with 2 Axes>"
            ]
          },
          "metadata": {
            "needs_background": "light"
          },
          "output_type": "display_data"
        }
      ],
      "source": [
        "# TODO apply MinMax scaling to the image\n",
        "image = (image-np.min(image))/(np.max(image)-np.min(image)) # TODO your code here\n",
        "\n",
        "# TODO Resize image so it is 28 x 28 pixels\n",
        "image = resize(image,(28,28)) # TODO your code here\n",
        "\n",
        "# Plot the transformed image\n",
        "plt.imshow(image, cmap='binary')\n",
        "plt.colorbar()"
      ]
    },
    {
      "cell_type": "markdown",
      "id": "R613n-uekUsU",
      "metadata": {
        "id": "R613n-uekUsU"
      },
      "source": [
        "In case your image has black instead of white background,  you need to reverse the colors: black should become white and white shouls become black. Complete the code bellow to do that:"
      ]
    },
    {
      "cell_type": "code",
      "execution_count": 73,
      "id": "Vwuww9BpRqtZ",
      "metadata": {
        "id": "Vwuww9BpRqtZ"
      },
      "outputs": [
        {
          "data": {
            "text/plain": [
              "<matplotlib.colorbar.Colorbar at 0x7f43db805de0>"
            ]
          },
          "execution_count": 73,
          "metadata": {},
          "output_type": "execute_result"
        },
        {
          "data": {
            "image/png": "[encoded data removed]",
            "text/plain": [
              "<Figure size 432x288 with 2 Axes>"
            ]
          },
          "metadata": {
            "needs_background": "light"
          },
          "output_type": "display_data"
        }
      ],
      "source": [
        "# TODO Invert black and white\n",
        "image = 1-image # TODO your code here\n",
        "\n",
        "# now the image has white background\n",
        "plt.imshow(image, cmap='binary')\n",
        "plt.colorbar()"
      ]
    },
    {
      "cell_type": "markdown",
      "id": "ikw0gDBpiJdm",
      "metadata": {
        "id": "ikw0gDBpiJdm"
      },
      "source": [
        "Checking the class_names array again:"
      ]
    },
    {
      "cell_type": "code",
      "execution_count": 74,
      "id": "f695adc1-9136-4b01-a572-aab748cf5fc7",
      "metadata": {
        "id": "f695adc1-9136-4b01-a572-aab748cf5fc7"
      },
      "outputs": [
        {
          "data": {
            "text/plain": [
              "['T-shirt/top',\n",
              " 'Trouser',\n",
              " 'Pullover',\n",
              " 'Dress',\n",
              " 'Coat',\n",
              " 'Sandal',\n",
              " 'Shirt',\n",
              " 'Sneaker',\n",
              " 'Bag',\n",
              " 'Ankle boot']"
            ]
          },
          "execution_count": 74,
          "metadata": {},
          "output_type": "execute_result"
        }
      ],
      "source": [
        "class_names "
      ]
    },
    {
      "cell_type": "markdown",
      "id": "UUW5WW3biMyS",
      "metadata": {
        "id": "UUW5WW3biMyS"
      },
      "source": [
        "We can say the predicted class id should be 3:"
      ]
    },
    {
      "cell_type": "code",
      "execution_count": 75,
      "id": "b5e5f797-46f2-4b11-b177-ea088b8d5901",
      "metadata": {
        "id": "b5e5f797-46f2-4b11-b177-ea088b8d5901"
      },
      "outputs": [],
      "source": [
        "true_label = [3]"
      ]
    },
    {
      "cell_type": "markdown",
      "id": "ailDys5Qi33_",
      "metadata": {
        "id": "ailDys5Qi33_"
      },
      "source": [
        "Let's see if the model gets it right:"
      ]
    },
    {
      "cell_type": "code",
      "execution_count": 76,
      "id": "c8784889-d2ea-4a26-8ec4-700ba685a7eb",
      "metadata": {
        "id": "c8784889-d2ea-4a26-8ec4-700ba685a7eb",
        "tags": []
      },
      "outputs": [
        {
          "name": "stdout",
          "output_type": "stream",
          "text": [
            "1/1 [==============================] - 0s 96ms/step\n"
          ]
        },
        {
          "data": {
            "text/plain": [
              "array([[0.179, 0.008, 0.042, 0.676, 0.004, 0.001, 0.071, 0.009, 0.008,\n",
              "        0.   ]], dtype=float32)"
            ]
          },
          "execution_count": 76,
          "metadata": {},
          "output_type": "execute_result"
        }
      ],
      "source": [
        "# load model weights\n",
        "model = keras.models.load_model(\"my_keras_model.h5\") # rollback to best model\n",
        "# add batch dimension to image\n",
        "image = image.reshape((1, 28, 28))\n",
        "# compute predictions\n",
        "y_proba = model.predict(image)\n",
        "y_proba.round(3)"
      ]
    },
    {
      "cell_type": "code",
      "execution_count": 77,
      "id": "pNJn59QoiaL0",
      "metadata": {
        "id": "pNJn59QoiaL0"
      },
      "outputs": [
        {
          "name": "stdout",
          "output_type": "stream",
          "text": [
            "Predicted class was Dress (id 3)\n"
          ]
        }
      ],
      "source": [
        "pred_label = y_proba.argmax()\n",
        "print(f\"Predicted class was {class_names[pred_label]} (id {pred_label})\")"
      ]
    },
    {
      "cell_type": "markdown",
      "id": "wcVpEV3oiSTG",
      "metadata": {
        "id": "wcVpEV3oiSTG"
      },
      "source": [
        "Let us now plot the image along with its predicted probabilities:"
      ]
    },
    {
      "cell_type": "code",
      "execution_count": 78,
      "id": "71a542e8-7ffa-4a0e-9d4a-70b5029ac89a",
      "metadata": {
        "id": "71a542e8-7ffa-4a0e-9d4a-70b5029ac89a"
      },
      "outputs": [
        {
          "data": {
            "image/png": "[encoded data removed]",
            "text/plain": [
              "<Figure size 576x288 with 2 Axes>"
            ]
          },
          "metadata": {
            "needs_background": "light"
          },
          "output_type": "display_data"
        }
      ],
      "source": [
        "plot_image_with_preds(0, image, true_label, y_proba)\n",
        "plt.show()"
      ]
    },
    {
      "cell_type": "markdown",
      "id": "VmHBdOqnlczl",
      "metadata": {
        "id": "VmHBdOqnlczl"
      },
      "source": [
        "### TODO Your turn testing on downloaded images\n",
        "Search online for other clothing item images that you can download and submit to your model. How well does it perform?\n"
      ]
    },
    {
      "cell_type": "markdown",
      "id": "NzqXXjzL4O6-",
      "metadata": {
        "id": "NzqXXjzL4O6-"
      },
      "source": [
        "## Exercise: training an NN on MNIST\n",
        "Train a similar MLP on the MNIST dataset (you can load it using `keras.datasets.mnist.load_data()`. See if you can get over 98% precision. \n",
        "\n",
        "- Try searching for the optimal learning rate by using the approach presented in class (i.e., by growing the learning rate exponentially, plotting the loss, and finding the point where the loss shoots up). \n",
        "\n",
        "  - Create a custom callback that will raise the learning rate by a factor (say, 5%) after each iteration (i.e. after each batch is processed). Check the documentation [here](https://keras.io/guides/writing_your_own_callbacks/) to see examples of how to create your own callback.\n",
        "\n",
        "- Try adding all the bells and whistles: save checkpoints, use early stopping, and plot learning curves using TensorBoard.\n",
        "\n",
        "- Visualize predictions for the test set and explore the mistakes your model makes."
      ]
    },
    {
      "cell_type": "code",
      "execution_count": 86,
      "id": "YLspgp1xi_yc",
      "metadata": {
        "id": "YLspgp1xi_yc"
      },
      "outputs": [],
      "source": [
        "(X_train_full, y_train_full), (X_test, y_test) = keras.datasets.mnist.load_data()"
      ]
    },
    {
      "cell_type": "code",
      "execution_count": 87,
      "id": "daf3b79f",
      "metadata": {},
      "outputs": [
        {
          "data": {
            "text/plain": [
              "(60000, 28, 28)"
            ]
          },
          "execution_count": 87,
          "metadata": {},
          "output_type": "execute_result"
        }
      ],
      "source": [
        "X_train_full.shape"
      ]
    },
    {
      "cell_type": "code",
      "execution_count": 82,
      "id": "60037ff5",
      "metadata": {},
      "outputs": [
        {
          "data": {
            "image/png": "[encoded data removed]",
            "text/plain": [
              "<Figure size 432x288 with 2 Axes>"
            ]
          },
          "metadata": {
            "needs_background": "light"
          },
          "output_type": "display_data"
        }
      ],
      "source": [
        "plt.figure()\n",
        "plt.imshow(X_train_full[0])\n",
        "plt.colorbar()\n",
        "plt.grid(False)\n",
        "plt.show()"
      ]
    },
    {
      "cell_type": "code",
      "execution_count": 88,
      "id": "df175553",
      "metadata": {},
      "outputs": [],
      "source": [
        "X_train_full = (X_train_full-np.min(X_train_full))/(np.max(X_train_full)-np.min(X_train_full))\n",
        "X_test = (X_test-np.min(X_test))/(np.max(X_test)-np.min(X_test))"
      ]
    },
    {
      "cell_type": "code",
      "execution_count": 85,
      "id": "c9cbf478",
      "metadata": {},
      "outputs": [
        {
          "data": {
            "image/png": "[encoded data removed]",
            "text/plain": [
              "<Figure size 432x288 with 2 Axes>"
            ]
          },
          "metadata": {
            "needs_background": "light"
          },
          "output_type": "display_data"
        }
      ],
      "source": [
        "plt.figure()\n",
        "plt.imshow(X_train_full[0])\n",
        "plt.colorbar()\n",
        "plt.grid(False)\n",
        "plt.show()"
      ]
    },
    {
      "cell_type": "code",
      "execution_count": 90,
      "id": "04023420",
      "metadata": {},
      "outputs": [],
      "source": [
        "X_train, X_valid = X_train_full[:55000], X_train_full[55000:]\n",
        "y_train, y_valid = y_train_full[:55000], y_train_full[55000:]"
      ]
    },
    {
      "cell_type": "code",
      "execution_count": 91,
      "id": "b26b9c91",
      "metadata": {},
      "outputs": [
        {
          "data": {
            "image/png": "[encoded data removed]",
            "text/plain": [
              "<Figure size 864x345.6 with 40 Axes>"
            ]
          },
          "metadata": {
            "needs_background": "light"
          },
          "output_type": "display_data"
        }
      ],
      "source": [
        "n_rows = 4\n",
        "n_cols = 10\n",
        "plt.figure(figsize=(n_cols * 1.2, n_rows * 1.2))\n",
        "for row in range(n_rows):\n",
        "    for col in range(n_cols):\n",
        "        index = n_cols * row + col\n",
        "        plt.subplot(n_rows, n_cols, index + 1)\n",
        "        plt.imshow(X_train[index], cmap=\"binary\", interpolation=\"nearest\")\n",
        "        plt.axis('off')\n",
        "        plt.title(y_train[index], fontsize=12)\n",
        "plt.subplots_adjust(wspace=0.2, hspace=0.5)"
      ]
    },
    {
      "cell_type": "code",
      "execution_count": 92,
      "id": "0da4aa7d",
      "metadata": {},
      "outputs": [
        {
          "data": {
            "text/plain": [
              "<keras.engine.sequential.Sequential at 0x7f44312f0bb0>"
            ]
          },
          "execution_count": 92,
          "metadata": {},
          "output_type": "execute_result"
        }
      ],
      "source": [
        "keras.backend.clear_session()  # type: ignore\n",
        "np.random.seed(42)\n",
        "tf.random.set_seed(42)\n",
        "model = keras.models.Sequential()  # type: ignore\n",
        "model"
      ]
    },
    {
      "cell_type": "code",
      "execution_count": 93,
      "id": "658d8044",
      "metadata": {},
      "outputs": [],
      "source": [
        "model.add(keras.layers.Flatten(input_shape=[28, 28]))\n",
        "model.add(keras.layers.Dense(300, activation=\"relu\"))\n",
        "model.add(keras.layers.Dense(250, activation=\"relu\"))\n",
        "model.add(keras.layers.Dense(200, activation=\"relu\"))\n",
        "model.add(keras.layers.Dense(150, activation=\"relu\"))\n",
        "model.add(keras.layers.Dense(100, activation=\"relu\"))\n",
        "model.add(keras.layers.Dense(50, activation=\"relu\"))\n",
        "model.add(keras.layers.Dense(10, activation=\"softmax\"))"
      ]
    },
    {
      "cell_type": "code",
      "execution_count": 95,
      "id": "6e8aceea",
      "metadata": {},
      "outputs": [
        {
          "name": "stdout",
          "output_type": "stream",
          "text": [
            "Model: \"sequential\"\n",
            "_________________________________________________________________\n",
            " Layer (type)                Output Shape              Param #   \n",
            "=================================================================\n",
            " flatten (Flatten)           (None, 784)               0         \n",
            "                                                                 \n",
            " dense (Dense)               (None, 300)               235500    \n",
            "                                                                 \n",
            " dense_1 (Dense)             (None, 250)               75250     \n",
            "                                                                 \n",
            " dense_2 (Dense)             (None, 200)               50200     \n",
            "                                                                 \n",
            " dense_3 (Dense)             (None, 150)               30150     \n",
            "                                                                 \n",
            " dense_4 (Dense)             (None, 100)               15100     \n",
            "                                                                 \n",
            " dense_5 (Dense)             (None, 50)                5050      \n",
            "                                                                 \n",
            " dense_6 (Dense)             (None, 10)                510       \n",
            "                                                                 \n",
            "=================================================================\n",
            "Total params: 411,760\n",
            "Trainable params: 411,760\n",
            "Non-trainable params: 0\n",
            "_________________________________________________________________\n"
          ]
        }
      ],
      "source": [
        "model.summary()"
      ]
    },
    {
      "cell_type": "code",
      "execution_count": 96,
      "id": "5e81b251",
      "metadata": {},
      "outputs": [
        {
          "name": "stdout",
          "output_type": "stream",
          "text": [
            "You must install pydot (`pip install pydot`) and install graphviz (see instructions at https://graphviz.gitlab.io/download/) for plot_model to work.\n"
          ]
        }
      ],
      "source": [
        "keras.utils.plot_model(model, \"my_numbers_mnist_model.png\", show_shapes=True)"
      ]
    }
  ],
  "metadata": {
    "accelerator": "GPU",
    "colab": {
      "collapsed_sections": [
        "d41488ec-9ab7-4062-8efc-ce35608dd689"
      ],
      "include_colab_link": true,
      "name": "LabAssignement2_complet.ipynb",
      "provenance": [],
      "toc_visible": true
    },
    "kernelspec": {
      "display_name": "Python 3.10.4 64-bit",
      "language": "python",
      "name": "python3"
    },
    "language_info": {
      "codemirror_mode": {
        "name": "ipython",
        "version": 3
      },
      "file_extension": ".py",
      "mimetype": "text/x-python",
      "name": "python",
      "nbconvert_exporter": "python",
      "pygments_lexer": "ipython3",
      "version": "3.10.4"
    },
    "toc-autonumbering": true,
    "vscode": {
      "interpreter": {
        "hash": "916dbcbb3f70747c44a77c7bcd40155683ae19c65e1c03b4aa3499c5328201f1"
      }
    }
  },
  "nbformat": 4,
  "nbformat_minor": 5
}
